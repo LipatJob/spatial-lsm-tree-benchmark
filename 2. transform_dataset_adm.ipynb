{
 "cells": [
  {
   "cell_type": "code",
   "execution_count": 59,
   "id": "4492f9c9",
   "metadata": {},
   "outputs": [
    {
     "name": "stdout",
     "output_type": "stream",
     "text": [
      "Requirement already satisfied: duckdb in ./venv/lib/python3.13/site-packages (1.2.2)\n",
      "\n",
      "\u001b[1m[\u001b[0m\u001b[34;49mnotice\u001b[0m\u001b[1;39;49m]\u001b[0m\u001b[39;49m A new release of pip is available: \u001b[0m\u001b[31;49m25.0.1\u001b[0m\u001b[39;49m -> \u001b[0m\u001b[32;49m25.1\u001b[0m\n",
      "\u001b[1m[\u001b[0m\u001b[34;49mnotice\u001b[0m\u001b[1;39;49m]\u001b[0m\u001b[39;49m To update, run: \u001b[0m\u001b[32;49mpip install --upgrade pip\u001b[0m\n",
      "Requirement already satisfied: notebook in ./venv/lib/python3.13/site-packages (7.4.1)\n",
      "Requirement already satisfied: jupyter-server<3,>=2.4.0 in ./venv/lib/python3.13/site-packages (from notebook) (2.15.0)\n",
      "Requirement already satisfied: jupyterlab-server<3,>=2.27.1 in ./venv/lib/python3.13/site-packages (from notebook) (2.27.3)\n",
      "Requirement already satisfied: jupyterlab<4.5,>=4.4.0rc0 in ./venv/lib/python3.13/site-packages (from notebook) (4.4.1)\n",
      "Requirement already satisfied: notebook-shim<0.3,>=0.2 in ./venv/lib/python3.13/site-packages (from notebook) (0.2.4)\n",
      "Requirement already satisfied: tornado>=6.2.0 in ./venv/lib/python3.13/site-packages (from notebook) (6.4.2)\n",
      "Requirement already satisfied: anyio>=3.1.0 in ./venv/lib/python3.13/site-packages (from jupyter-server<3,>=2.4.0->notebook) (4.9.0)\n",
      "Requirement already satisfied: argon2-cffi>=21.1 in ./venv/lib/python3.13/site-packages (from jupyter-server<3,>=2.4.0->notebook) (23.1.0)\n",
      "Requirement already satisfied: jinja2>=3.0.3 in ./venv/lib/python3.13/site-packages (from jupyter-server<3,>=2.4.0->notebook) (3.1.6)\n",
      "Requirement already satisfied: jupyter-client>=7.4.4 in ./venv/lib/python3.13/site-packages (from jupyter-server<3,>=2.4.0->notebook) (8.6.3)\n",
      "Requirement already satisfied: jupyter-core!=5.0.*,>=4.12 in ./venv/lib/python3.13/site-packages (from jupyter-server<3,>=2.4.0->notebook) (5.7.2)\n",
      "Requirement already satisfied: jupyter-events>=0.11.0 in ./venv/lib/python3.13/site-packages (from jupyter-server<3,>=2.4.0->notebook) (0.12.0)\n",
      "Requirement already satisfied: jupyter-server-terminals>=0.4.4 in ./venv/lib/python3.13/site-packages (from jupyter-server<3,>=2.4.0->notebook) (0.5.3)\n",
      "Requirement already satisfied: nbconvert>=6.4.4 in ./venv/lib/python3.13/site-packages (from jupyter-server<3,>=2.4.0->notebook) (7.16.6)\n",
      "Requirement already satisfied: nbformat>=5.3.0 in ./venv/lib/python3.13/site-packages (from jupyter-server<3,>=2.4.0->notebook) (5.10.4)\n",
      "Requirement already satisfied: overrides>=5.0 in ./venv/lib/python3.13/site-packages (from jupyter-server<3,>=2.4.0->notebook) (7.7.0)\n",
      "Requirement already satisfied: packaging>=22.0 in ./venv/lib/python3.13/site-packages (from jupyter-server<3,>=2.4.0->notebook) (25.0)\n",
      "Requirement already satisfied: prometheus-client>=0.9 in ./venv/lib/python3.13/site-packages (from jupyter-server<3,>=2.4.0->notebook) (0.21.1)\n",
      "Requirement already satisfied: pyzmq>=24 in ./venv/lib/python3.13/site-packages (from jupyter-server<3,>=2.4.0->notebook) (26.4.0)\n",
      "Requirement already satisfied: send2trash>=1.8.2 in ./venv/lib/python3.13/site-packages (from jupyter-server<3,>=2.4.0->notebook) (1.8.3)\n",
      "Requirement already satisfied: terminado>=0.8.3 in ./venv/lib/python3.13/site-packages (from jupyter-server<3,>=2.4.0->notebook) (0.18.1)\n",
      "Requirement already satisfied: traitlets>=5.6.0 in ./venv/lib/python3.13/site-packages (from jupyter-server<3,>=2.4.0->notebook) (5.14.3)\n",
      "Requirement already satisfied: websocket-client>=1.7 in ./venv/lib/python3.13/site-packages (from jupyter-server<3,>=2.4.0->notebook) (1.8.0)\n",
      "Requirement already satisfied: async-lru>=1.0.0 in ./venv/lib/python3.13/site-packages (from jupyterlab<4.5,>=4.4.0rc0->notebook) (2.0.5)\n",
      "Requirement already satisfied: httpx>=0.25.0 in ./venv/lib/python3.13/site-packages (from jupyterlab<4.5,>=4.4.0rc0->notebook) (0.28.1)\n",
      "Requirement already satisfied: ipykernel>=6.5.0 in ./venv/lib/python3.13/site-packages (from jupyterlab<4.5,>=4.4.0rc0->notebook) (6.29.5)\n",
      "Requirement already satisfied: jupyter-lsp>=2.0.0 in ./venv/lib/python3.13/site-packages (from jupyterlab<4.5,>=4.4.0rc0->notebook) (2.2.5)\n",
      "Requirement already satisfied: setuptools>=41.1.0 in ./venv/lib/python3.13/site-packages (from jupyterlab<4.5,>=4.4.0rc0->notebook) (79.0.1)\n",
      "Requirement already satisfied: babel>=2.10 in ./venv/lib/python3.13/site-packages (from jupyterlab-server<3,>=2.27.1->notebook) (2.17.0)\n",
      "Requirement already satisfied: json5>=0.9.0 in ./venv/lib/python3.13/site-packages (from jupyterlab-server<3,>=2.27.1->notebook) (0.12.0)\n",
      "Requirement already satisfied: jsonschema>=4.18.0 in ./venv/lib/python3.13/site-packages (from jupyterlab-server<3,>=2.27.1->notebook) (4.23.0)\n",
      "Requirement already satisfied: requests>=2.31 in ./venv/lib/python3.13/site-packages (from jupyterlab-server<3,>=2.27.1->notebook) (2.32.3)\n",
      "Requirement already satisfied: idna>=2.8 in ./venv/lib/python3.13/site-packages (from anyio>=3.1.0->jupyter-server<3,>=2.4.0->notebook) (3.10)\n",
      "Requirement already satisfied: sniffio>=1.1 in ./venv/lib/python3.13/site-packages (from anyio>=3.1.0->jupyter-server<3,>=2.4.0->notebook) (1.3.1)\n",
      "Requirement already satisfied: argon2-cffi-bindings in ./venv/lib/python3.13/site-packages (from argon2-cffi>=21.1->jupyter-server<3,>=2.4.0->notebook) (21.2.0)\n",
      "Requirement already satisfied: certifi in ./venv/lib/python3.13/site-packages (from httpx>=0.25.0->jupyterlab<4.5,>=4.4.0rc0->notebook) (2025.4.26)\n",
      "Requirement already satisfied: httpcore==1.* in ./venv/lib/python3.13/site-packages (from httpx>=0.25.0->jupyterlab<4.5,>=4.4.0rc0->notebook) (1.0.9)\n",
      "Requirement already satisfied: h11>=0.16 in ./venv/lib/python3.13/site-packages (from httpcore==1.*->httpx>=0.25.0->jupyterlab<4.5,>=4.4.0rc0->notebook) (0.16.0)\n",
      "Requirement already satisfied: appnope in ./venv/lib/python3.13/site-packages (from ipykernel>=6.5.0->jupyterlab<4.5,>=4.4.0rc0->notebook) (0.1.4)\n",
      "Requirement already satisfied: comm>=0.1.1 in ./venv/lib/python3.13/site-packages (from ipykernel>=6.5.0->jupyterlab<4.5,>=4.4.0rc0->notebook) (0.2.2)\n",
      "Requirement already satisfied: debugpy>=1.6.5 in ./venv/lib/python3.13/site-packages (from ipykernel>=6.5.0->jupyterlab<4.5,>=4.4.0rc0->notebook) (1.8.14)\n",
      "Requirement already satisfied: ipython>=7.23.1 in ./venv/lib/python3.13/site-packages (from ipykernel>=6.5.0->jupyterlab<4.5,>=4.4.0rc0->notebook) (9.2.0)\n",
      "Requirement already satisfied: matplotlib-inline>=0.1 in ./venv/lib/python3.13/site-packages (from ipykernel>=6.5.0->jupyterlab<4.5,>=4.4.0rc0->notebook) (0.1.7)\n",
      "Requirement already satisfied: nest-asyncio in ./venv/lib/python3.13/site-packages (from ipykernel>=6.5.0->jupyterlab<4.5,>=4.4.0rc0->notebook) (1.6.0)\n",
      "Requirement already satisfied: psutil in ./venv/lib/python3.13/site-packages (from ipykernel>=6.5.0->jupyterlab<4.5,>=4.4.0rc0->notebook) (7.0.0)\n",
      "Requirement already satisfied: MarkupSafe>=2.0 in ./venv/lib/python3.13/site-packages (from jinja2>=3.0.3->jupyter-server<3,>=2.4.0->notebook) (3.0.2)\n",
      "Requirement already satisfied: attrs>=22.2.0 in ./venv/lib/python3.13/site-packages (from jsonschema>=4.18.0->jupyterlab-server<3,>=2.27.1->notebook) (25.3.0)\n",
      "Requirement already satisfied: jsonschema-specifications>=2023.03.6 in ./venv/lib/python3.13/site-packages (from jsonschema>=4.18.0->jupyterlab-server<3,>=2.27.1->notebook) (2025.4.1)\n",
      "Requirement already satisfied: referencing>=0.28.4 in ./venv/lib/python3.13/site-packages (from jsonschema>=4.18.0->jupyterlab-server<3,>=2.27.1->notebook) (0.36.2)\n",
      "Requirement already satisfied: rpds-py>=0.7.1 in ./venv/lib/python3.13/site-packages (from jsonschema>=4.18.0->jupyterlab-server<3,>=2.27.1->notebook) (0.24.0)\n",
      "Requirement already satisfied: python-dateutil>=2.8.2 in ./venv/lib/python3.13/site-packages (from jupyter-client>=7.4.4->jupyter-server<3,>=2.4.0->notebook) (2.9.0.post0)\n",
      "Requirement already satisfied: platformdirs>=2.5 in ./venv/lib/python3.13/site-packages (from jupyter-core!=5.0.*,>=4.12->jupyter-server<3,>=2.4.0->notebook) (4.3.7)\n",
      "Requirement already satisfied: python-json-logger>=2.0.4 in ./venv/lib/python3.13/site-packages (from jupyter-events>=0.11.0->jupyter-server<3,>=2.4.0->notebook) (3.3.0)\n",
      "Requirement already satisfied: pyyaml>=5.3 in ./venv/lib/python3.13/site-packages (from jupyter-events>=0.11.0->jupyter-server<3,>=2.4.0->notebook) (6.0.2)\n",
      "Requirement already satisfied: rfc3339-validator in ./venv/lib/python3.13/site-packages (from jupyter-events>=0.11.0->jupyter-server<3,>=2.4.0->notebook) (0.1.4)\n",
      "Requirement already satisfied: rfc3986-validator>=0.1.1 in ./venv/lib/python3.13/site-packages (from jupyter-events>=0.11.0->jupyter-server<3,>=2.4.0->notebook) (0.1.1)\n",
      "Requirement already satisfied: beautifulsoup4 in ./venv/lib/python3.13/site-packages (from nbconvert>=6.4.4->jupyter-server<3,>=2.4.0->notebook) (4.13.4)\n",
      "Requirement already satisfied: bleach!=5.0.0 in ./venv/lib/python3.13/site-packages (from bleach[css]!=5.0.0->nbconvert>=6.4.4->jupyter-server<3,>=2.4.0->notebook) (6.2.0)\n",
      "Requirement already satisfied: defusedxml in ./venv/lib/python3.13/site-packages (from nbconvert>=6.4.4->jupyter-server<3,>=2.4.0->notebook) (0.7.1)\n",
      "Requirement already satisfied: jupyterlab-pygments in ./venv/lib/python3.13/site-packages (from nbconvert>=6.4.4->jupyter-server<3,>=2.4.0->notebook) (0.3.0)\n",
      "Requirement already satisfied: mistune<4,>=2.0.3 in ./venv/lib/python3.13/site-packages (from nbconvert>=6.4.4->jupyter-server<3,>=2.4.0->notebook) (3.1.3)\n",
      "Requirement already satisfied: nbclient>=0.5.0 in ./venv/lib/python3.13/site-packages (from nbconvert>=6.4.4->jupyter-server<3,>=2.4.0->notebook) (0.10.2)\n",
      "Requirement already satisfied: pandocfilters>=1.4.1 in ./venv/lib/python3.13/site-packages (from nbconvert>=6.4.4->jupyter-server<3,>=2.4.0->notebook) (1.5.1)\n",
      "Requirement already satisfied: pygments>=2.4.1 in ./venv/lib/python3.13/site-packages (from nbconvert>=6.4.4->jupyter-server<3,>=2.4.0->notebook) (2.19.1)\n",
      "Requirement already satisfied: fastjsonschema>=2.15 in ./venv/lib/python3.13/site-packages (from nbformat>=5.3.0->jupyter-server<3,>=2.4.0->notebook) (2.21.1)\n",
      "Requirement already satisfied: charset-normalizer<4,>=2 in ./venv/lib/python3.13/site-packages (from requests>=2.31->jupyterlab-server<3,>=2.27.1->notebook) (3.4.1)\n",
      "Requirement already satisfied: urllib3<3,>=1.21.1 in ./venv/lib/python3.13/site-packages (from requests>=2.31->jupyterlab-server<3,>=2.27.1->notebook) (2.4.0)\n",
      "Requirement already satisfied: ptyprocess in ./venv/lib/python3.13/site-packages (from terminado>=0.8.3->jupyter-server<3,>=2.4.0->notebook) (0.7.0)\n",
      "Requirement already satisfied: webencodings in ./venv/lib/python3.13/site-packages (from bleach!=5.0.0->bleach[css]!=5.0.0->nbconvert>=6.4.4->jupyter-server<3,>=2.4.0->notebook) (0.5.1)\n",
      "Requirement already satisfied: tinycss2<1.5,>=1.1.0 in ./venv/lib/python3.13/site-packages (from bleach[css]!=5.0.0->nbconvert>=6.4.4->jupyter-server<3,>=2.4.0->notebook) (1.4.0)\n",
      "Requirement already satisfied: decorator in ./venv/lib/python3.13/site-packages (from ipython>=7.23.1->ipykernel>=6.5.0->jupyterlab<4.5,>=4.4.0rc0->notebook) (5.2.1)\n",
      "Requirement already satisfied: ipython-pygments-lexers in ./venv/lib/python3.13/site-packages (from ipython>=7.23.1->ipykernel>=6.5.0->jupyterlab<4.5,>=4.4.0rc0->notebook) (1.1.1)\n",
      "Requirement already satisfied: jedi>=0.16 in ./venv/lib/python3.13/site-packages (from ipython>=7.23.1->ipykernel>=6.5.0->jupyterlab<4.5,>=4.4.0rc0->notebook) (0.19.2)\n",
      "Requirement already satisfied: pexpect>4.3 in ./venv/lib/python3.13/site-packages (from ipython>=7.23.1->ipykernel>=6.5.0->jupyterlab<4.5,>=4.4.0rc0->notebook) (4.9.0)\n",
      "Requirement already satisfied: prompt_toolkit<3.1.0,>=3.0.41 in ./venv/lib/python3.13/site-packages (from ipython>=7.23.1->ipykernel>=6.5.0->jupyterlab<4.5,>=4.4.0rc0->notebook) (3.0.51)\n",
      "Requirement already satisfied: stack_data in ./venv/lib/python3.13/site-packages (from ipython>=7.23.1->ipykernel>=6.5.0->jupyterlab<4.5,>=4.4.0rc0->notebook) (0.6.3)\n",
      "Requirement already satisfied: fqdn in ./venv/lib/python3.13/site-packages (from jsonschema[format-nongpl]>=4.18.0->jupyter-events>=0.11.0->jupyter-server<3,>=2.4.0->notebook) (1.5.1)\n",
      "Requirement already satisfied: isoduration in ./venv/lib/python3.13/site-packages (from jsonschema[format-nongpl]>=4.18.0->jupyter-events>=0.11.0->jupyter-server<3,>=2.4.0->notebook) (20.11.0)\n",
      "Requirement already satisfied: jsonpointer>1.13 in ./venv/lib/python3.13/site-packages (from jsonschema[format-nongpl]>=4.18.0->jupyter-events>=0.11.0->jupyter-server<3,>=2.4.0->notebook) (3.0.0)\n",
      "Requirement already satisfied: uri-template in ./venv/lib/python3.13/site-packages (from jsonschema[format-nongpl]>=4.18.0->jupyter-events>=0.11.0->jupyter-server<3,>=2.4.0->notebook) (1.3.0)\n",
      "Requirement already satisfied: webcolors>=24.6.0 in ./venv/lib/python3.13/site-packages (from jsonschema[format-nongpl]>=4.18.0->jupyter-events>=0.11.0->jupyter-server<3,>=2.4.0->notebook) (24.11.1)\n",
      "Requirement already satisfied: six>=1.5 in ./venv/lib/python3.13/site-packages (from python-dateutil>=2.8.2->jupyter-client>=7.4.4->jupyter-server<3,>=2.4.0->notebook) (1.17.0)\n",
      "Requirement already satisfied: cffi>=1.0.1 in ./venv/lib/python3.13/site-packages (from argon2-cffi-bindings->argon2-cffi>=21.1->jupyter-server<3,>=2.4.0->notebook) (1.17.1)\n",
      "Requirement already satisfied: soupsieve>1.2 in ./venv/lib/python3.13/site-packages (from beautifulsoup4->nbconvert>=6.4.4->jupyter-server<3,>=2.4.0->notebook) (2.7)\n",
      "Requirement already satisfied: typing-extensions>=4.0.0 in ./venv/lib/python3.13/site-packages (from beautifulsoup4->nbconvert>=6.4.4->jupyter-server<3,>=2.4.0->notebook) (4.13.2)\n",
      "Requirement already satisfied: pycparser in ./venv/lib/python3.13/site-packages (from cffi>=1.0.1->argon2-cffi-bindings->argon2-cffi>=21.1->jupyter-server<3,>=2.4.0->notebook) (2.22)\n",
      "Requirement already satisfied: parso<0.9.0,>=0.8.4 in ./venv/lib/python3.13/site-packages (from jedi>=0.16->ipython>=7.23.1->ipykernel>=6.5.0->jupyterlab<4.5,>=4.4.0rc0->notebook) (0.8.4)\n",
      "Requirement already satisfied: wcwidth in ./venv/lib/python3.13/site-packages (from prompt_toolkit<3.1.0,>=3.0.41->ipython>=7.23.1->ipykernel>=6.5.0->jupyterlab<4.5,>=4.4.0rc0->notebook) (0.2.13)\n",
      "Requirement already satisfied: arrow>=0.15.0 in ./venv/lib/python3.13/site-packages (from isoduration->jsonschema[format-nongpl]>=4.18.0->jupyter-events>=0.11.0->jupyter-server<3,>=2.4.0->notebook) (1.3.0)\n",
      "Requirement already satisfied: executing>=1.2.0 in ./venv/lib/python3.13/site-packages (from stack_data->ipython>=7.23.1->ipykernel>=6.5.0->jupyterlab<4.5,>=4.4.0rc0->notebook) (2.2.0)\n",
      "Requirement already satisfied: asttokens>=2.1.0 in ./venv/lib/python3.13/site-packages (from stack_data->ipython>=7.23.1->ipykernel>=6.5.0->jupyterlab<4.5,>=4.4.0rc0->notebook) (3.0.0)\n",
      "Requirement already satisfied: pure-eval in ./venv/lib/python3.13/site-packages (from stack_data->ipython>=7.23.1->ipykernel>=6.5.0->jupyterlab<4.5,>=4.4.0rc0->notebook) (0.2.3)\n",
      "Requirement already satisfied: types-python-dateutil>=2.8.10 in ./venv/lib/python3.13/site-packages (from arrow>=0.15.0->isoduration->jsonschema[format-nongpl]>=4.18.0->jupyter-events>=0.11.0->jupyter-server<3,>=2.4.0->notebook) (2.9.0.20241206)\n",
      "\n",
      "\u001b[1m[\u001b[0m\u001b[34;49mnotice\u001b[0m\u001b[1;39;49m]\u001b[0m\u001b[39;49m A new release of pip is available: \u001b[0m\u001b[31;49m25.0.1\u001b[0m\u001b[39;49m -> \u001b[0m\u001b[32;49m25.1\u001b[0m\n",
      "\u001b[1m[\u001b[0m\u001b[34;49mnotice\u001b[0m\u001b[1;39;49m]\u001b[0m\u001b[39;49m To update, run: \u001b[0m\u001b[32;49mpip install --upgrade pip\u001b[0m\n",
      "Requirement already satisfied: jupysql in ./venv/lib/python3.13/site-packages (0.11.1)\n",
      "Requirement already satisfied: pandas in ./venv/lib/python3.13/site-packages (2.2.3)\n",
      "Requirement already satisfied: matplotlib in ./venv/lib/python3.13/site-packages (3.10.1)\n",
      "Requirement already satisfied: duckdb-engine in ./venv/lib/python3.13/site-packages (0.17.0)\n",
      "Requirement already satisfied: prettytable>=3.12.0 in ./venv/lib/python3.13/site-packages (from jupysql) (3.16.0)\n",
      "Requirement already satisfied: sqlalchemy in ./venv/lib/python3.13/site-packages (from jupysql) (2.0.40)\n",
      "Requirement already satisfied: sqlparse in ./venv/lib/python3.13/site-packages (from jupysql) (0.5.3)\n",
      "Requirement already satisfied: ipython-genutils>=0.1.0 in ./venv/lib/python3.13/site-packages (from jupysql) (0.2.0)\n",
      "Requirement already satisfied: jinja2 in ./venv/lib/python3.13/site-packages (from jupysql) (3.1.6)\n",
      "Requirement already satisfied: sqlglot>=11.3.7 in ./venv/lib/python3.13/site-packages (from jupysql) (26.16.2)\n",
      "Requirement already satisfied: jupysql-plugin>=0.4.2 in ./venv/lib/python3.13/site-packages (from jupysql) (0.4.5)\n",
      "Requirement already satisfied: ploomber-core>=0.2.7 in ./venv/lib/python3.13/site-packages (from jupysql) (0.2.26)\n",
      "Requirement already satisfied: numpy>=1.26.0 in ./venv/lib/python3.13/site-packages (from pandas) (2.2.5)\n",
      "Requirement already satisfied: python-dateutil>=2.8.2 in ./venv/lib/python3.13/site-packages (from pandas) (2.9.0.post0)\n",
      "Requirement already satisfied: pytz>=2020.1 in ./venv/lib/python3.13/site-packages (from pandas) (2025.2)\n",
      "Requirement already satisfied: tzdata>=2022.7 in ./venv/lib/python3.13/site-packages (from pandas) (2025.2)\n",
      "Requirement already satisfied: contourpy>=1.0.1 in ./venv/lib/python3.13/site-packages (from matplotlib) (1.3.2)\n",
      "Requirement already satisfied: cycler>=0.10 in ./venv/lib/python3.13/site-packages (from matplotlib) (0.12.1)\n",
      "Requirement already satisfied: fonttools>=4.22.0 in ./venv/lib/python3.13/site-packages (from matplotlib) (4.57.0)\n",
      "Requirement already satisfied: kiwisolver>=1.3.1 in ./venv/lib/python3.13/site-packages (from matplotlib) (1.4.8)\n",
      "Requirement already satisfied: packaging>=20.0 in ./venv/lib/python3.13/site-packages (from matplotlib) (25.0)\n",
      "Requirement already satisfied: pillow>=8 in ./venv/lib/python3.13/site-packages (from matplotlib) (11.2.1)\n",
      "Requirement already satisfied: pyparsing>=2.3.1 in ./venv/lib/python3.13/site-packages (from matplotlib) (3.2.3)\n",
      "Requirement already satisfied: duckdb>=0.5.0 in ./venv/lib/python3.13/site-packages (from duckdb-engine) (1.2.2)\n",
      "Requirement already satisfied: pyyaml in ./venv/lib/python3.13/site-packages (from ploomber-core>=0.2.7->jupysql) (6.0.2)\n",
      "Requirement already satisfied: posthog in ./venv/lib/python3.13/site-packages (from ploomber-core>=0.2.7->jupysql) (4.0.0)\n",
      "Requirement already satisfied: wcwidth in ./venv/lib/python3.13/site-packages (from prettytable>=3.12.0->jupysql) (0.2.13)\n",
      "Requirement already satisfied: six>=1.5 in ./venv/lib/python3.13/site-packages (from python-dateutil>=2.8.2->pandas) (1.17.0)\n",
      "Requirement already satisfied: typing-extensions>=4.6.0 in ./venv/lib/python3.13/site-packages (from sqlalchemy->jupysql) (4.13.2)\n",
      "Requirement already satisfied: MarkupSafe>=2.0 in ./venv/lib/python3.13/site-packages (from jinja2->jupysql) (3.0.2)\n",
      "Requirement already satisfied: requests<3.0,>=2.7 in ./venv/lib/python3.13/site-packages (from posthog->ploomber-core>=0.2.7->jupysql) (2.32.3)\n",
      "Requirement already satisfied: monotonic>=1.5 in ./venv/lib/python3.13/site-packages (from posthog->ploomber-core>=0.2.7->jupysql) (1.6)\n",
      "Requirement already satisfied: backoff>=1.10.0 in ./venv/lib/python3.13/site-packages (from posthog->ploomber-core>=0.2.7->jupysql) (2.2.1)\n",
      "Requirement already satisfied: distro>=1.5.0 in ./venv/lib/python3.13/site-packages (from posthog->ploomber-core>=0.2.7->jupysql) (1.9.0)\n",
      "Requirement already satisfied: charset-normalizer<4,>=2 in ./venv/lib/python3.13/site-packages (from requests<3.0,>=2.7->posthog->ploomber-core>=0.2.7->jupysql) (3.4.1)\n",
      "Requirement already satisfied: idna<4,>=2.5 in ./venv/lib/python3.13/site-packages (from requests<3.0,>=2.7->posthog->ploomber-core>=0.2.7->jupysql) (3.10)\n",
      "Requirement already satisfied: urllib3<3,>=1.21.1 in ./venv/lib/python3.13/site-packages (from requests<3.0,>=2.7->posthog->ploomber-core>=0.2.7->jupysql) (2.4.0)\n",
      "Requirement already satisfied: certifi>=2017.4.17 in ./venv/lib/python3.13/site-packages (from requests<3.0,>=2.7->posthog->ploomber-core>=0.2.7->jupysql) (2025.4.26)\n",
      "\n",
      "\u001b[1m[\u001b[0m\u001b[34;49mnotice\u001b[0m\u001b[1;39;49m]\u001b[0m\u001b[39;49m A new release of pip is available: \u001b[0m\u001b[31;49m25.0.1\u001b[0m\u001b[39;49m -> \u001b[0m\u001b[32;49m25.1\u001b[0m\n",
      "\u001b[1m[\u001b[0m\u001b[34;49mnotice\u001b[0m\u001b[1;39;49m]\u001b[0m\u001b[39;49m To update, run: \u001b[0m\u001b[32;49mpip install --upgrade pip\u001b[0m\n"
     ]
    }
   ],
   "source": [
    "!pip install duckdb\n",
    "!pip install notebook\n",
    "!pip install jupysql pandas matplotlib duckdb-engine"
   ]
  },
  {
   "cell_type": "code",
   "execution_count": 60,
   "id": "2519eb08",
   "metadata": {},
   "outputs": [],
   "source": [
    "import os\n",
    "input_path = \"./data/geojson/sports.geojson\"\n",
    "input_filename = os.path.basename(input_path)"
   ]
  },
  {
   "cell_type": "code",
   "execution_count": 61,
   "id": "7b1432f8",
   "metadata": {},
   "outputs": [
    {
     "name": "stdout",
     "output_type": "stream",
     "text": [
      "The sql extension is already loaded. To reload it, use:\n",
      "  %reload_ext sql\n"
     ]
    }
   ],
   "source": [
    "import duckdb\n",
    "from sqlalchemy.engine import create_engine\n",
    "\n",
    "%load_ext sql\n",
    "conn = create_engine('duckdb:///data/local.duckdb')\n",
    "%sql conn --alias duckdb\n",
    "%config SqlMagic.named_parameters=\"enabled\" "
   ]
  },
  {
   "cell_type": "code",
   "execution_count": 62,
   "id": "459f7cd3",
   "metadata": {},
   "outputs": [
    {
     "data": {
      "text/html": [
       "<span style=\"None\">Running query in &#x27;duckdb&#x27;</span>"
      ],
      "text/plain": [
       "Running query in 'duckdb'"
      ]
     },
     "metadata": {},
     "output_type": "display_data"
    },
    {
     "data": {
      "text/html": [
       "<table>\n",
       "    <thead>\n",
       "        <tr>\n",
       "            <th>Success</th>\n",
       "        </tr>\n",
       "    </thead>\n",
       "    <tbody>\n",
       "    </tbody>\n",
       "</table>"
      ],
      "text/plain": [
       "+---------+\n",
       "| Success |\n",
       "+---------+\n",
       "+---------+"
      ]
     },
     "execution_count": 62,
     "metadata": {},
     "output_type": "execute_result"
    }
   ],
   "source": [
    "%%sql\n",
    "INSTALL psql FROM community;\n",
    "INSTALL spatial;\n",
    "LOAD spatial;\n",
    "LOAD psql;\n"
   ]
  },
  {
   "cell_type": "code",
   "execution_count": 63,
   "id": "8577e55a",
   "metadata": {},
   "outputs": [
    {
     "data": {
      "text/html": [
       "<span style=\"None\">Running query in &#x27;duckdb&#x27;</span>"
      ],
      "text/plain": [
       "Running query in 'duckdb'"
      ]
     },
     "metadata": {},
     "output_type": "display_data"
    },
    {
     "data": {
      "application/vnd.jupyter.widget-view+json": {
       "model_id": "7b972e610874431ca8a2fdea74940c5c",
       "version_major": 2,
       "version_minor": 0
      },
      "text/plain": [
       "FloatProgress(value=0.0, layout=Layout(width='auto'), style=ProgressStyle(bar_color='black'))"
      ]
     },
     "metadata": {},
     "output_type": "display_data"
    },
    {
     "data": {
      "text/html": [
       "<table>\n",
       "    <thead>\n",
       "        <tr>\n",
       "            <th>Count</th>\n",
       "        </tr>\n",
       "    </thead>\n",
       "    <tbody>\n",
       "    </tbody>\n",
       "</table>"
      ],
      "text/plain": [
       "+-------+\n",
       "| Count |\n",
       "+-------+\n",
       "+-------+"
      ]
     },
     "execution_count": 63,
     "metadata": {},
     "output_type": "execute_result"
    }
   ],
   "source": [
    "\n",
    "%%sql\n",
    "CREATE OR REPLACE TABLE points AS\n",
    "WITH random_points AS (\n",
    "    FROM ST_GeneratePoints({min_x: -700, min_y:-700, max_x:700, max_y:700}::BOX_2D, 4_000_000, 42)\n",
    "    SELECT point\n",
    ")\n",
    "FROM random_points\n",
    "SELECT\n",
    "    id: ROW_NUMBER() OVER (ORDER BY point),\n",
    "    location: 'point(\"' || point.ST_X() || ',' || point.ST_Y() || '\")',\n",
    "    description: 'qVN55N5S2J3EiW0vEGDF3JVaumXOeWZS7cVh0jRYRku3Cy4IXp2MiAaQF8L3sZOjUg5xozDXH6G8HNbUPjwDZ0tzzN2aQiPEHhDg'\n",
    "    ORDER BY random();"
   ]
  },
  {
   "cell_type": "code",
   "execution_count": 64,
   "id": "a040abbc",
   "metadata": {},
   "outputs": [
    {
     "data": {
      "text/html": [
       "<span style=\"None\">Running query in &#x27;duckdb&#x27;</span>"
      ],
      "text/plain": [
       "Running query in 'duckdb'"
      ]
     },
     "metadata": {},
     "output_type": "display_data"
    },
    {
     "data": {
      "text/html": [
       "<table>\n",
       "    <thead>\n",
       "        <tr>\n",
       "            <th>id</th>\n",
       "            <th>location</th>\n",
       "            <th>description</th>\n",
       "        </tr>\n",
       "    </thead>\n",
       "    <tbody>\n",
       "        <tr>\n",
       "            <td>1618985</td>\n",
       "            <td>point(\"-133.67008254863322,567.3057848587632\")</td>\n",
       "            <td>qVN55N5S2J3EiW0vEGDF3JVaumXOeWZS7cVh0jRYRku3Cy4IXp2MiAaQF8L3sZOjUg5xozDXH6G8HNbUPjwDZ0tzzN2aQiPEHhDg</td>\n",
       "        </tr>\n",
       "        <tr>\n",
       "            <td>1293874</td>\n",
       "            <td>point(\"-247.2284936811775,91.22039908543229\")</td>\n",
       "            <td>qVN55N5S2J3EiW0vEGDF3JVaumXOeWZS7cVh0jRYRku3Cy4IXp2MiAaQF8L3sZOjUg5xozDXH6G8HNbUPjwDZ0tzzN2aQiPEHhDg</td>\n",
       "        </tr>\n",
       "        <tr>\n",
       "            <td>1465855</td>\n",
       "            <td>point(\"-187.0774196460843,-321.15014819428325\")</td>\n",
       "            <td>qVN55N5S2J3EiW0vEGDF3JVaumXOeWZS7cVh0jRYRku3Cy4IXp2MiAaQF8L3sZOjUg5xozDXH6G8HNbUPjwDZ0tzzN2aQiPEHhDg</td>\n",
       "        </tr>\n",
       "        <tr>\n",
       "            <td>3889788</td>\n",
       "            <td>point(\"661.347479885444,29.5128280762583\")</td>\n",
       "            <td>qVN55N5S2J3EiW0vEGDF3JVaumXOeWZS7cVh0jRYRku3Cy4IXp2MiAaQF8L3sZOjUg5xozDXH6G8HNbUPjwDZ0tzzN2aQiPEHhDg</td>\n",
       "        </tr>\n",
       "        <tr>\n",
       "            <td>857888</td>\n",
       "            <td>point(\"-399.83666124753654,-306.17519901134074\")</td>\n",
       "            <td>qVN55N5S2J3EiW0vEGDF3JVaumXOeWZS7cVh0jRYRku3Cy4IXp2MiAaQF8L3sZOjUg5xozDXH6G8HNbUPjwDZ0tzzN2aQiPEHhDg</td>\n",
       "        </tr>\n",
       "        <tr>\n",
       "            <td>977570</td>\n",
       "            <td>point(\"-357.99869541078806,211.161765223369\")</td>\n",
       "            <td>qVN55N5S2J3EiW0vEGDF3JVaumXOeWZS7cVh0jRYRku3Cy4IXp2MiAaQF8L3sZOjUg5xozDXH6G8HNbUPjwDZ0tzzN2aQiPEHhDg</td>\n",
       "        </tr>\n",
       "        <tr>\n",
       "            <td>2682574</td>\n",
       "            <td>point(\"238.48115112632513,632.418024353683\")</td>\n",
       "            <td>qVN55N5S2J3EiW0vEGDF3JVaumXOeWZS7cVh0jRYRku3Cy4IXp2MiAaQF8L3sZOjUg5xozDXH6G8HNbUPjwDZ0tzzN2aQiPEHhDg</td>\n",
       "        </tr>\n",
       "        <tr>\n",
       "            <td>1511808</td>\n",
       "            <td>point(\"-170.9931766614318,484.7468488384038\")</td>\n",
       "            <td>qVN55N5S2J3EiW0vEGDF3JVaumXOeWZS7cVh0jRYRku3Cy4IXp2MiAaQF8L3sZOjUg5xozDXH6G8HNbUPjwDZ0tzzN2aQiPEHhDg</td>\n",
       "        </tr>\n",
       "        <tr>\n",
       "            <td>1177754</td>\n",
       "            <td>point(\"-287.9481163341552,177.52152970060706\")</td>\n",
       "            <td>qVN55N5S2J3EiW0vEGDF3JVaumXOeWZS7cVh0jRYRku3Cy4IXp2MiAaQF8L3sZOjUg5xozDXH6G8HNbUPjwDZ0tzzN2aQiPEHhDg</td>\n",
       "        </tr>\n",
       "        <tr>\n",
       "            <td>3136174</td>\n",
       "            <td>point(\"397.31328692287207,-599.3783539626747\")</td>\n",
       "            <td>qVN55N5S2J3EiW0vEGDF3JVaumXOeWZS7cVh0jRYRku3Cy4IXp2MiAaQF8L3sZOjUg5xozDXH6G8HNbUPjwDZ0tzzN2aQiPEHhDg</td>\n",
       "        </tr>\n",
       "    </tbody>\n",
       "</table>\n",
       "<span style=\"font-style:italic;text-align:center;\">Truncated to <a href=\"https://jupysql.ploomber.io/en/latest/api/configuration.html#displaylimit\">displaylimit</a> of 10.</span>"
      ],
      "text/plain": [
       "+---------+--------------------------------------------------+------------------------------------------------------------------------------------------------------+\n",
       "|    id   |                     location                     |                                             description                                              |\n",
       "+---------+--------------------------------------------------+------------------------------------------------------------------------------------------------------+\n",
       "| 1618985 |  point(\"-133.67008254863322,567.3057848587632\")  | qVN55N5S2J3EiW0vEGDF3JVaumXOeWZS7cVh0jRYRku3Cy4IXp2MiAaQF8L3sZOjUg5xozDXH6G8HNbUPjwDZ0tzzN2aQiPEHhDg |\n",
       "| 1293874 |  point(\"-247.2284936811775,91.22039908543229\")   | qVN55N5S2J3EiW0vEGDF3JVaumXOeWZS7cVh0jRYRku3Cy4IXp2MiAaQF8L3sZOjUg5xozDXH6G8HNbUPjwDZ0tzzN2aQiPEHhDg |\n",
       "| 1465855 | point(\"-187.0774196460843,-321.15014819428325\")  | qVN55N5S2J3EiW0vEGDF3JVaumXOeWZS7cVh0jRYRku3Cy4IXp2MiAaQF8L3sZOjUg5xozDXH6G8HNbUPjwDZ0tzzN2aQiPEHhDg |\n",
       "| 3889788 |    point(\"661.347479885444,29.5128280762583\")    | qVN55N5S2J3EiW0vEGDF3JVaumXOeWZS7cVh0jRYRku3Cy4IXp2MiAaQF8L3sZOjUg5xozDXH6G8HNbUPjwDZ0tzzN2aQiPEHhDg |\n",
       "|  857888 | point(\"-399.83666124753654,-306.17519901134074\") | qVN55N5S2J3EiW0vEGDF3JVaumXOeWZS7cVh0jRYRku3Cy4IXp2MiAaQF8L3sZOjUg5xozDXH6G8HNbUPjwDZ0tzzN2aQiPEHhDg |\n",
       "|  977570 |  point(\"-357.99869541078806,211.161765223369\")   | qVN55N5S2J3EiW0vEGDF3JVaumXOeWZS7cVh0jRYRku3Cy4IXp2MiAaQF8L3sZOjUg5xozDXH6G8HNbUPjwDZ0tzzN2aQiPEHhDg |\n",
       "| 2682574 |   point(\"238.48115112632513,632.418024353683\")   | qVN55N5S2J3EiW0vEGDF3JVaumXOeWZS7cVh0jRYRku3Cy4IXp2MiAaQF8L3sZOjUg5xozDXH6G8HNbUPjwDZ0tzzN2aQiPEHhDg |\n",
       "| 1511808 |  point(\"-170.9931766614318,484.7468488384038\")   | qVN55N5S2J3EiW0vEGDF3JVaumXOeWZS7cVh0jRYRku3Cy4IXp2MiAaQF8L3sZOjUg5xozDXH6G8HNbUPjwDZ0tzzN2aQiPEHhDg |\n",
       "| 1177754 |  point(\"-287.9481163341552,177.52152970060706\")  | qVN55N5S2J3EiW0vEGDF3JVaumXOeWZS7cVh0jRYRku3Cy4IXp2MiAaQF8L3sZOjUg5xozDXH6G8HNbUPjwDZ0tzzN2aQiPEHhDg |\n",
       "| 3136174 |  point(\"397.31328692287207,-599.3783539626747\")  | qVN55N5S2J3EiW0vEGDF3JVaumXOeWZS7cVh0jRYRku3Cy4IXp2MiAaQF8L3sZOjUg5xozDXH6G8HNbUPjwDZ0tzzN2aQiPEHhDg |\n",
       "+---------+--------------------------------------------------+------------------------------------------------------------------------------------------------------+\n",
       "Truncated to displaylimit of 10."
      ]
     },
     "execution_count": 64,
     "metadata": {},
     "output_type": "execute_result"
    }
   ],
   "source": [
    "%sql SELECT * FROM points"
   ]
  },
  {
   "cell_type": "code",
   "execution_count": 65,
   "id": "cd60fc50",
   "metadata": {},
   "outputs": [
    {
     "data": {
      "text/html": [
       "<span style=\"None\">Running query in &#x27;duckdb&#x27;</span>"
      ],
      "text/plain": [
       "Running query in 'duckdb'"
      ]
     },
     "metadata": {},
     "output_type": "display_data"
    },
    {
     "data": {
      "text/html": [
       "<table>\n",
       "    <thead>\n",
       "        <tr>\n",
       "            <th>count_star()</th>\n",
       "        </tr>\n",
       "    </thead>\n",
       "    <tbody>\n",
       "        <tr>\n",
       "            <td>4000000</td>\n",
       "        </tr>\n",
       "    </tbody>\n",
       "</table>"
      ],
      "text/plain": [
       "+--------------+\n",
       "| count_star() |\n",
       "+--------------+\n",
       "|   4000000    |\n",
       "+--------------+"
      ]
     },
     "execution_count": 65,
     "metadata": {},
     "output_type": "execute_result"
    }
   ],
   "source": [
    "%%sql\n",
    "SELECT COUNT(*) FROM points as data;"
   ]
  },
  {
   "cell_type": "code",
   "execution_count": 66,
   "id": "717a2dad",
   "metadata": {},
   "outputs": [
    {
     "data": {
      "text/html": [
       "<span style=\"None\">Running query in &#x27;duckdb&#x27;</span>"
      ],
      "text/plain": [
       "Running query in 'duckdb'"
      ]
     },
     "metadata": {},
     "output_type": "display_data"
    },
    {
     "data": {
      "text/html": [
       "<table>\n",
       "    <thead>\n",
       "        <tr>\n",
       "            <th>column_name</th>\n",
       "            <th>column_type</th>\n",
       "            <th>min</th>\n",
       "            <th>max</th>\n",
       "            <th>approx_unique</th>\n",
       "            <th>avg</th>\n",
       "            <th>std</th>\n",
       "            <th>q25</th>\n",
       "            <th>q50</th>\n",
       "            <th>q75</th>\n",
       "            <th>count</th>\n",
       "            <th>null_percentage</th>\n",
       "        </tr>\n",
       "    </thead>\n",
       "    <tbody>\n",
       "        <tr>\n",
       "            <td>id</td>\n",
       "            <td>BIGINT</td>\n",
       "            <td>1</td>\n",
       "            <td>4000000</td>\n",
       "            <td>3796188</td>\n",
       "            <td>2000000.5</td>\n",
       "            <td>1154700.6827168216</td>\n",
       "            <td>999009</td>\n",
       "            <td>2000661</td>\n",
       "            <td>2997831</td>\n",
       "            <td>4000000</td>\n",
       "            <td>0.00</td>\n",
       "        </tr>\n",
       "        <tr>\n",
       "            <td>location</td>\n",
       "            <td>VARCHAR</td>\n",
       "            <td>point(\"-0.000637909397482872,-614.0761499293149\")</td>\n",
       "            <td>point(\"99.99988451600075,-428.7237119395286\")</td>\n",
       "            <td>4291074</td>\n",
       "            <td>None</td>\n",
       "            <td>None</td>\n",
       "            <td>None</td>\n",
       "            <td>None</td>\n",
       "            <td>None</td>\n",
       "            <td>4000000</td>\n",
       "            <td>0.00</td>\n",
       "        </tr>\n",
       "        <tr>\n",
       "            <td>description</td>\n",
       "            <td>VARCHAR</td>\n",
       "            <td>qVN55N5S2J3EiW0vEGDF3JVaumXOeWZS7cVh0jRYRku3Cy4IXp2MiAaQF8L3sZOjUg5xozDXH6G8HNbUPjwDZ0tzzN2aQiPEHhDg</td>\n",
       "            <td>qVN55N5S2J3EiW0vEGDF3JVaumXOeWZS7cVh0jRYRku3Cy4IXp2MiAaQF8L3sZOjUg5xozDXH6G8HNbUPjwDZ0tzzN2aQiPEHhDg</td>\n",
       "            <td>1</td>\n",
       "            <td>None</td>\n",
       "            <td>None</td>\n",
       "            <td>None</td>\n",
       "            <td>None</td>\n",
       "            <td>None</td>\n",
       "            <td>4000000</td>\n",
       "            <td>0.00</td>\n",
       "        </tr>\n",
       "    </tbody>\n",
       "</table>"
      ],
      "text/plain": [
       "+-------------+-------------+------------------------------------------------------------------------------------------------------+------------------------------------------------------------------------------------------------------+---------------+-----------+--------------------+--------+---------+---------+---------+-----------------+\n",
       "| column_name | column_type |                                                 min                                                  |                                                 max                                                  | approx_unique |    avg    |        std         |  q25   |   q50   |   q75   |  count  | null_percentage |\n",
       "+-------------+-------------+------------------------------------------------------------------------------------------------------+------------------------------------------------------------------------------------------------------+---------------+-----------+--------------------+--------+---------+---------+---------+-----------------+\n",
       "|      id     |    BIGINT   |                                                  1                                                   |                                               4000000                                                |    3796188    | 2000000.5 | 1154700.6827168216 | 999009 | 2000661 | 2997831 | 4000000 |       0.00      |\n",
       "|   location  |   VARCHAR   |                          point(\"-0.000637909397482872,-614.0761499293149\")                           |                            point(\"99.99988451600075,-428.7237119395286\")                             |    4291074    |    None   |        None        |  None  |   None  |   None  | 4000000 |       0.00      |\n",
       "| description |   VARCHAR   | qVN55N5S2J3EiW0vEGDF3JVaumXOeWZS7cVh0jRYRku3Cy4IXp2MiAaQF8L3sZOjUg5xozDXH6G8HNbUPjwDZ0tzzN2aQiPEHhDg | qVN55N5S2J3EiW0vEGDF3JVaumXOeWZS7cVh0jRYRku3Cy4IXp2MiAaQF8L3sZOjUg5xozDXH6G8HNbUPjwDZ0tzzN2aQiPEHhDg |       1       |    None   |        None        |  None  |   None  |   None  | 4000000 |       0.00      |\n",
       "+-------------+-------------+------------------------------------------------------------------------------------------------------+------------------------------------------------------------------------------------------------------+---------------+-----------+--------------------+--------+---------+---------+---------+-----------------+"
      ]
     },
     "execution_count": 66,
     "metadata": {},
     "output_type": "execute_result"
    }
   ],
   "source": [
    "%%sql\n",
    "SUMMARIZE points"
   ]
  },
  {
   "cell_type": "code",
   "execution_count": 67,
   "id": "7433f461",
   "metadata": {},
   "outputs": [
    {
     "name": "stdout",
     "output_type": "stream",
     "text": [
      "Exporting to sports.json\n",
      "Exporting to ./data/adm/sports.json\n"
     ]
    },
    {
     "data": {
      "text/html": [
       "<span style=\"None\">Running query in &#x27;duckdb&#x27;</span>"
      ],
      "text/plain": [
       "Running query in 'duckdb'"
      ]
     },
     "metadata": {},
     "output_type": "display_data"
    },
    {
     "data": {
      "application/vnd.jupyter.widget-view+json": {
       "model_id": "b4b9dfb0efa049d289b3d3b05644265a",
       "version_major": 2,
       "version_minor": 0
      },
      "text/plain": [
       "FloatProgress(value=0.0, layout=Layout(width='auto'), style=ProgressStyle(bar_color='black'))"
      ]
     },
     "metadata": {},
     "output_type": "display_data"
    },
    {
     "data": {
      "text/html": [
       "<table>\n",
       "    <thead>\n",
       "        <tr>\n",
       "            <th>Count</th>\n",
       "        </tr>\n",
       "    </thead>\n",
       "    <tbody>\n",
       "    </tbody>\n",
       "</table>"
      ],
      "text/plain": [
       "+-------+\n",
       "| Count |\n",
       "+-------+\n",
       "+-------+"
      ]
     },
     "execution_count": 67,
     "metadata": {},
     "output_type": "execute_result"
    }
   ],
   "source": [
    "export_filename = input_filename.replace(\".geojson\", \".json\")\n",
    "export_path = \"./data/adm/\" + export_filename\n",
    "\n",
    "os.makedirs(os.path.dirname(export_path), exist_ok=True)\n",
    "\n",
    "print(f\"Exporting to {export_filename}\")\n",
    "print(f\"Exporting to {export_path}\")\n",
    "\n",
    "%sql COPY (SELECT * FROM points) TO '{{export_path}}' (FORMAT JSON);"
   ]
  },
  {
   "cell_type": "code",
   "execution_count": 68,
   "id": "275a0379",
   "metadata": {},
   "outputs": [
    {
     "name": "stdout",
     "output_type": "stream",
     "text": [
      "Exported to ./data/adm/sports.adm\n"
     ]
    }
   ],
   "source": [
    "# replace \"point(\\\"<valueX>,<valueY>\\\")\" with point(\"139.6499560172321,35.57251104983658\")\n",
    "new_export_path = export_path.replace(\".json\", \".adm\")\n",
    "with open(new_export_path, \"w\") as f:\n",
    "    for row in open(export_path, \"r\").readlines():\n",
    "        new_row = row.replace('location\":\"point(\\\\\"', 'location\":point(\"').replace('\\\\\")\",\"description\"', '\"),\"description\"')\n",
    "        f.write(new_row)\n",
    "print(f\"Exported to {new_export_path}\")"
   ]
  }
 ],
 "metadata": {
  "kernelspec": {
   "display_name": "venv",
   "language": "python",
   "name": "python3"
  },
  "language_info": {
   "codemirror_mode": {
    "name": "ipython",
    "version": 3
   },
   "file_extension": ".py",
   "mimetype": "text/x-python",
   "name": "python",
   "nbconvert_exporter": "python",
   "pygments_lexer": "ipython3",
   "version": "3.13.3"
  }
 },
 "nbformat": 4,
 "nbformat_minor": 5
}
