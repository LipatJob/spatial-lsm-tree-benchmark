{
 "cells": [
  {
   "cell_type": "code",
   "execution_count": 26,
   "id": "7b1432f8",
   "metadata": {},
   "outputs": [
    {
     "name": "stdout",
     "output_type": "stream",
     "text": [
      "The sql extension is already loaded. To reload it, use:\n",
      "  %reload_ext sql\n"
     ]
    }
   ],
   "source": [
    "%load_ext sql"
   ]
  },
  {
   "cell_type": "code",
   "execution_count": 27,
   "id": "f77d967f",
   "metadata": {},
   "outputs": [],
   "source": [
    "%sql duckdb:///local.db\n"
   ]
  },
  {
   "cell_type": "code",
   "execution_count": 28,
   "id": "459f7cd3",
   "metadata": {},
   "outputs": [
    {
     "data": {
      "text/html": [
       "<span style=\"None\">Running query in &#x27;duckdb:///local.db&#x27;</span>"
      ],
      "text/plain": [
       "Running query in 'duckdb:///local.db'"
      ]
     },
     "metadata": {},
     "output_type": "display_data"
    },
    {
     "data": {
      "text/html": [
       "<table>\n",
       "    <thead>\n",
       "        <tr>\n",
       "            <th>Success</th>\n",
       "        </tr>\n",
       "    </thead>\n",
       "    <tbody>\n",
       "    </tbody>\n",
       "</table>"
      ],
      "text/plain": [
       "+---------+\n",
       "| Success |\n",
       "+---------+\n",
       "+---------+"
      ]
     },
     "execution_count": 28,
     "metadata": {},
     "output_type": "execute_result"
    }
   ],
   "source": [
    "%%sql\n",
    "INSTALL psql FROM community;\n",
    "INSTALL spatial;\n",
    "LOAD spatial;\n",
    "LOAD psql;\n"
   ]
  },
  {
   "cell_type": "code",
   "execution_count": 29,
   "id": "47fd79bc",
   "metadata": {},
   "outputs": [
    {
     "data": {
      "text/html": [
       "<span style=\"None\">Running query in &#x27;duckdb:///local.db&#x27;</span>"
      ],
      "text/plain": [
       "Running query in 'duckdb:///local.db'"
      ]
     },
     "metadata": {},
     "output_type": "display_data"
    },
    {
     "name": "stderr",
     "output_type": "stream",
     "text": [
      "RuntimeError: (duckdb.duckdb.CatalogException) Catalog Error: Table with name \"point_data\" already exists!\n",
      "[SQL: CREATE TABLE point_data AS\n",
      "SELECT *\n",
      "FROM ST_Read(\"osm21_cemetery.geojson\")]\n",
      "(Background on this error at: https://sqlalche.me/e/20/f405)\n"
     ]
    }
   ],
   "source": [
    "%%sql\n",
    "\n",
    "CREATE TABLE point_data AS\n",
    "SELECT *\n",
    "FROM ST_Read(\"osm21_cemetery.geojson\")"
   ]
  },
  {
   "cell_type": "code",
   "execution_count": 43,
   "id": "8577e55a",
   "metadata": {},
   "outputs": [
    {
     "data": {
      "text/html": [
       "<span style=\"None\">Running query in &#x27;duckdb:///local.db&#x27;</span>"
      ],
      "text/plain": [
       "Running query in 'duckdb:///local.db'"
      ]
     },
     "metadata": {},
     "output_type": "display_data"
    },
    {
     "data": {
      "text/html": [
       "<table>\n",
       "    <thead>\n",
       "        <tr>\n",
       "            <th>Count</th>\n",
       "        </tr>\n",
       "    </thead>\n",
       "    <tbody>\n",
       "    </tbody>\n",
       "</table>"
      ],
      "text/plain": [
       "+-------+\n",
       "| Count |\n",
       "+-------+\n",
       "+-------+"
      ]
     },
     "execution_count": 43,
     "metadata": {},
     "output_type": "execute_result"
    }
   ],
   "source": [
    "%%sql\n",
    "CREATE OR REPLACE TABLE point_data_centroid AS\n",
    "WITH centroid AS (\n",
    "    FROM point_data\n",
    "    SELECT centroid: geom.ST_Centroid(),\n",
    ")\n",
    "FROM centroid\n",
    "SELECT\n",
    "    id: ROW_NUMBER() OVER (ORDER BY centroid),\n",
    "    locationX: centroid.ST_X(),\n",
    "    locationy: centroid.ST_Y(),\n",
    "    description: substr(md5(random()::VARCHAR), 1, 10)\n"
   ]
  },
  {
   "cell_type": "code",
   "execution_count": 44,
   "id": "a040abbc",
   "metadata": {},
   "outputs": [
    {
     "data": {
      "text/html": [
       "<span style=\"None\">Running query in &#x27;duckdb:///local.db&#x27;</span>"
      ],
      "text/plain": [
       "Running query in 'duckdb:///local.db'"
      ]
     },
     "metadata": {},
     "output_type": "display_data"
    },
    {
     "data": {
      "text/html": [
       "<table>\n",
       "    <thead>\n",
       "        <tr>\n",
       "            <th>id</th>\n",
       "            <th>locationX</th>\n",
       "            <th>locationy</th>\n",
       "            <th>description</th>\n",
       "        </tr>\n",
       "    </thead>\n",
       "    <tbody>\n",
       "        <tr>\n",
       "            <td>1</td>\n",
       "            <td>71.60207635350525</td>\n",
       "            <td>54.78643014239917</td>\n",
       "            <td>8635a3cf61</td>\n",
       "        </tr>\n",
       "        <tr>\n",
       "            <td>2</td>\n",
       "            <td>68.07547055464238</td>\n",
       "            <td>40.23959944486414</td>\n",
       "            <td>a38db8bb2a</td>\n",
       "        </tr>\n",
       "        <tr>\n",
       "            <td>3</td>\n",
       "            <td>22.71972581720911</td>\n",
       "            <td>48.451325419849496</td>\n",
       "            <td>09ee56c7cb</td>\n",
       "        </tr>\n",
       "        <tr>\n",
       "            <td>4</td>\n",
       "            <td>29.491294654319063</td>\n",
       "            <td>46.07657549119183</td>\n",
       "            <td>d712c4bd92</td>\n",
       "        </tr>\n",
       "        <tr>\n",
       "            <td>5</td>\n",
       "            <td>79.38921734504402</td>\n",
       "            <td>52.74566659600047</td>\n",
       "            <td>6e0c10f6e4</td>\n",
       "        </tr>\n",
       "        <tr>\n",
       "            <td>6</td>\n",
       "            <td>6.359217615158059</td>\n",
       "            <td>43.142364551113644</td>\n",
       "            <td>c1bc6b682a</td>\n",
       "        </tr>\n",
       "        <tr>\n",
       "            <td>7</td>\n",
       "            <td>1.9459106666618595</td>\n",
       "            <td>49.15726517327247</td>\n",
       "            <td>9260faec9d</td>\n",
       "        </tr>\n",
       "        <tr>\n",
       "            <td>8</td>\n",
       "            <td>7.758160430065118</td>\n",
       "            <td>43.808794503076086</td>\n",
       "            <td>9d017e98ff</td>\n",
       "        </tr>\n",
       "        <tr>\n",
       "            <td>9</td>\n",
       "            <td>-0.9758063970803335</td>\n",
       "            <td>51.474531240130844</td>\n",
       "            <td>8acf845e2f</td>\n",
       "        </tr>\n",
       "        <tr>\n",
       "            <td>10</td>\n",
       "            <td>66.95163331926233</td>\n",
       "            <td>39.698323306344484</td>\n",
       "            <td>005bd82f5d</td>\n",
       "        </tr>\n",
       "    </tbody>\n",
       "</table>\n",
       "<span style=\"font-style:italic;text-align:center;\">Truncated to <a href=\"https://jupysql.ploomber.io/en/latest/api/configuration.html#displaylimit\">displaylimit</a> of 10.</span>"
      ],
      "text/plain": [
       "+----+---------------------+--------------------+-------------+\n",
       "| id |      locationX      |     locationy      | description |\n",
       "+----+---------------------+--------------------+-------------+\n",
       "| 1  |  71.60207635350525  | 54.78643014239917  |  8635a3cf61 |\n",
       "| 2  |  68.07547055464238  | 40.23959944486414  |  a38db8bb2a |\n",
       "| 3  |  22.71972581720911  | 48.451325419849496 |  09ee56c7cb |\n",
       "| 4  |  29.491294654319063 | 46.07657549119183  |  d712c4bd92 |\n",
       "| 5  |  79.38921734504402  | 52.74566659600047  |  6e0c10f6e4 |\n",
       "| 6  |  6.359217615158059  | 43.142364551113644 |  c1bc6b682a |\n",
       "| 7  |  1.9459106666618595 | 49.15726517327247  |  9260faec9d |\n",
       "| 8  |  7.758160430065118  | 43.808794503076086 |  9d017e98ff |\n",
       "| 9  | -0.9758063970803335 | 51.474531240130844 |  8acf845e2f |\n",
       "| 10 |  66.95163331926233  | 39.698323306344484 |  005bd82f5d |\n",
       "+----+---------------------+--------------------+-------------+\n",
       "Truncated to displaylimit of 10."
      ]
     },
     "execution_count": 44,
     "metadata": {},
     "output_type": "execute_result"
    }
   ],
   "source": [
    "%sql SELECT * FROM point_data_centroid"
   ]
  },
  {
   "cell_type": "code",
   "execution_count": 45,
   "id": "cd60fc50",
   "metadata": {},
   "outputs": [
    {
     "data": {
      "text/html": [
       "<span style=\"None\">Running query in &#x27;duckdb:///local.db&#x27;</span>"
      ],
      "text/plain": [
       "Running query in 'duckdb:///local.db'"
      ]
     },
     "metadata": {},
     "output_type": "display_data"
    },
    {
     "data": {
      "text/html": [
       "<table>\n",
       "    <thead>\n",
       "        <tr>\n",
       "            <th>count_star()</th>\n",
       "        </tr>\n",
       "    </thead>\n",
       "    <tbody>\n",
       "        <tr>\n",
       "            <td>402325</td>\n",
       "        </tr>\n",
       "    </tbody>\n",
       "</table>"
      ],
      "text/plain": [
       "+--------------+\n",
       "| count_star() |\n",
       "+--------------+\n",
       "|    402325    |\n",
       "+--------------+"
      ]
     },
     "execution_count": 45,
     "metadata": {},
     "output_type": "execute_result"
    }
   ],
   "source": [
    "%%sql\n",
    "SELECT COUNT(*) FROM point_data_centroid as data;"
   ]
  },
  {
   "cell_type": "code",
   "execution_count": 46,
   "id": "3e909691",
   "metadata": {},
   "outputs": [
    {
     "data": {
      "text/html": [
       "<span style=\"None\">Running query in &#x27;duckdb:///local.db&#x27;</span>"
      ],
      "text/plain": [
       "Running query in 'duckdb:///local.db'"
      ]
     },
     "metadata": {},
     "output_type": "display_data"
    },
    {
     "data": {
      "text/html": [
       "<table>\n",
       "    <thead>\n",
       "        <tr>\n",
       "            <th>Count</th>\n",
       "        </tr>\n",
       "    </thead>\n",
       "    <tbody>\n",
       "    </tbody>\n",
       "</table>"
      ],
      "text/plain": [
       "+-------+\n",
       "| Count |\n",
       "+-------+\n",
       "+-------+"
      ]
     },
     "execution_count": 46,
     "metadata": {},
     "output_type": "execute_result"
    }
   ],
   "source": [
    "%sql COPY point_data_centroid TO 'point_data_centroid.csv' (HEADER, DELIMITER ',');"
   ]
  },
  {
   "cell_type": "code",
   "execution_count": null,
   "id": "7d08bb98",
   "metadata": {},
   "outputs": [],
   "source": []
  }
 ],
 "metadata": {
  "kernelspec": {
   "display_name": "venv",
   "language": "python",
   "name": "python3"
  },
  "language_info": {
   "codemirror_mode": {
    "name": "ipython",
    "version": 3
   },
   "file_extension": ".py",
   "mimetype": "text/x-python",
   "name": "python",
   "nbconvert_exporter": "python",
   "pygments_lexer": "ipython3",
   "version": "3.13.3"
  }
 },
 "nbformat": 4,
 "nbformat_minor": 5
}
