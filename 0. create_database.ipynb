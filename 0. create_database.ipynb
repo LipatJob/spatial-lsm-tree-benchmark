{
 "cells": [
  {
   "cell_type": "code",
   "execution_count": 4,
   "id": "ec5ec80f",
   "metadata": {},
   "outputs": [],
   "source": [
    "create_database_script = \"\"\"\n",
    "DROP DATAVERSE LocationDb IF EXISTS;\n",
    "CREATE DATAVERSE LocationDb;\n",
    "USE LocationDb;\n",
    "\n",
    "CREATE TYPE LocationType AS {\n",
    "    id: bigint,\n",
    "    location: point,\n",
    "    description: string\n",
    "};\n",
    "\n",
    "CREATE DATASET Locations_RTree_Constant(LocationType) PRIMARY KEY id;\n",
    "CREATE INDEX Location_RTree_Constant_Index on Locations_RTree_Constant(location) TYPE rtree;\n",
    "\n",
    "CREATE DATASET Locations_RTree_Concurrent(LocationType) PRIMARY KEY id;\n",
    "CREATE INDEX Locations_RTree_Concurrent_Index on Locations_RTree_Concurrent(location) TYPE rtree;\n",
    "\n",
    "CREATE DATASET Locations_BTree_Constant(LocationType) PRIMARY KEY id;\n",
    "CREATE INDEX Locations_BTree_Constant_Index on Locations_BTree_Constant(location) TYPE rtree;\n",
    "\n",
    "CREATE DATASET Locations_BTree_Concurrent(LocationType) PRIMARY KEY id;\n",
    "CREATE INDEX Locations_BTree_Concurrent_Index on Locations_BTree_Concurrent(location) TYPE rtree;\n",
    "\"\"\""
   ]
  },
  {
   "cell_type": "code",
   "execution_count": 6,
   "id": "c77185fa",
   "metadata": {},
   "outputs": [
    {
     "name": "stdout",
     "output_type": "stream",
     "text": [
      "{\n",
      "\t\"requestID\": \"13134249-8d5a-4920-9f84-95d846e617cb\",\n",
      "\t\"plans\":{},\n",
      "\t\"status\": \"success\",\n",
      "\t\"metrics\": {\n",
      "\t\t\"elapsedTime\": \"681.486208ms\",\n",
      "\t\t\"executionTime\": \"678.060417ms\",\n",
      "\t\t\"compileTime\": \"0ns\",\n",
      "\t\t\"queueWaitTime\": \"0ns\",\n",
      "\t\t\"resultCount\": 0,\n",
      "\t\t\"resultSize\": 0,\n",
      "\t\t\"processedObjects\": 0,\n",
      "\t\t\"bufferCacheHitRatio\": \"0.00%\",\n",
      "\t\t\"bufferCachePageReadCount\": 0\n",
      "\t}\n",
      "}\n",
      "\n"
     ]
    }
   ],
   "source": [
    "import requests;\n",
    "dbHost = \"http://localhost:19002\"\n",
    "def execute_command(command):\n",
    "    return requests.post(f\"{dbHost}/query/service\", data={\n",
    "        'statement': command,\n",
    "    })\n",
    "\n",
    "response = execute_command(create_database_script)\n",
    "print(response.text)\n"
   ]
  }
 ],
 "metadata": {
  "kernelspec": {
   "display_name": "venv",
   "language": "python",
   "name": "python3"
  },
  "language_info": {
   "codemirror_mode": {
    "name": "ipython",
    "version": 3
   },
   "file_extension": ".py",
   "mimetype": "text/x-python",
   "name": "python",
   "nbconvert_exporter": "python",
   "pygments_lexer": "ipython3",
   "version": "3.13.3"
  }
 },
 "nbformat": 4,
 "nbformat_minor": 5
}
