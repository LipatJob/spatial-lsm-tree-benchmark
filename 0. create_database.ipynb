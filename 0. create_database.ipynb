{
 "cells": [
  {
   "cell_type": "code",
   "execution_count": 38,
   "id": "ec5ec80f",
   "metadata": {},
   "outputs": [],
   "source": [
    "dbHost = \"http://localhost:19002\"\n",
    "create_database_script = \"\"\"\n",
    "DROP DATAVERSE LocationDb IF EXISTS;\n",
    "CREATE DATAVERSE LocationDb;\n",
    "USE LocationDb;\n",
    "\n",
    "CREATE TYPE LocationType AS {\n",
    "    id: bigint,\n",
    "    location: point,\n",
    "    description: string\n",
    "};\n",
    "\n",
    "CREATE DATASET Locations_RTree_Constant(LocationType) PRIMARY KEY id;\n",
    "CREATE INDEX Location_RTree_Constant_Index on Locations_RTree_Constant(location) TYPE rtree ENFORCED;\n",
    "\n",
    "CREATE DATASET Locations_RTree_Concurrent(LocationType) PRIMARY KEY id;\n",
    "CREATE INDEX Locations_RTree_Concurrent_Index on Locations_RTree_Concurrent(location) TYPE rtree ENFORCED;\n",
    "\n",
    "CREATE DATASET Locations_BTree_Constant(LocationType) PRIMARY KEY id;\n",
    "CREATE INDEX Locations_BTree_Constant_Index on Locations_BTree_Constant(location) TYPE rtree ENFORCED;\n",
    "\n",
    "CREATE DATASET Locations_BTree_Concurrent(LocationType) PRIMARY KEY id;\n",
    "CREATE INDEX Locations_BTree_Concurrent_Index on Locations_BTree_Concurrent(location) TYPE rtree ENFORCED;\n",
    "\"\"\""
   ]
  },
  {
   "cell_type": "code",
   "execution_count": 39,
   "id": "c77185fa",
   "metadata": {},
   "outputs": [
    {
     "name": "stdout",
     "output_type": "stream",
     "text": [
      "{\n",
      "\t\"requestID\": \"605a336e-6819-4711-8258-a6c528110d68\",\n",
      "\t\"plans\":{},\n",
      "\t\"status\": \"success\",\n",
      "\t\"metrics\": {\n",
      "\t\t\"elapsedTime\": \"917.440583ms\",\n",
      "\t\t\"executionTime\": \"811.396584ms\",\n",
      "\t\t\"compileTime\": \"0ns\",\n",
      "\t\t\"queueWaitTime\": \"0ns\",\n",
      "\t\t\"resultCount\": 0,\n",
      "\t\t\"resultSize\": 0,\n",
      "\t\t\"processedObjects\": 0,\n",
      "\t\t\"bufferCacheHitRatio\": \"0.00%\",\n",
      "\t\t\"bufferCachePageReadCount\": 0\n",
      "\t}\n",
      "}\n",
      "\n"
     ]
    }
   ],
   "source": [
    "import requests;\n",
    "response = requests.post(f\"{dbHost}/query/service\", data={'statement': create_database_script,})\n",
    "print(response.text)"
   ]
  }
 ],
 "metadata": {
  "kernelspec": {
   "display_name": "venv",
   "language": "python",
   "name": "python3"
  },
  "language_info": {
   "codemirror_mode": {
    "name": "ipython",
    "version": 3
   },
   "file_extension": ".py",
   "mimetype": "text/x-python",
   "name": "python",
   "nbconvert_exporter": "python",
   "pygments_lexer": "ipython3",
   "version": "3.13.3"
  }
 },
 "nbformat": 4,
 "nbformat_minor": 5
}
