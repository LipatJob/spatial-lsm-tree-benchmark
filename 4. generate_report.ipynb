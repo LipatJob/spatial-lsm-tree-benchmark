{
 "cells": [
  {
   "cell_type": "markdown",
   "id": "95695cfe",
   "metadata": {},
   "source": [
    "## Input Files"
   ]
  },
  {
   "cell_type": "code",
   "execution_count": 9,
   "id": "5e71e8df",
   "metadata": {},
   "outputs": [],
   "source": [
    "writes_throughput_data_path = \"\"\n",
    "writes_io_data_path = \"logs/disk/disk_cc_1745830835.log\"\n",
    "reads_throughput_data_path = \"\"\n",
    "reads_io_data_path = \"\""
   ]
  },
  {
   "cell_type": "code",
   "execution_count": 35,
   "id": "3b24cf02",
   "metadata": {},
   "outputs": [],
   "source": [
    "import pandas as pd\n",
    "\n",
    "# Define a function to parse the log file\n",
    "def parse_io_log_file(file_path):\n",
    "    # Open and read the log file\n",
    "    with open(file_path, 'r') as file:\n",
    "        log_data = file.read()\n",
    "    \n",
    "    # Split the log data into individual records using \"---\" as the delimiter\n",
    "    records = log_data.split('---')\n",
    "    \n",
    "    # Remove any empty records (e.g., due to trailing \"---\")\n",
    "    records = [record.strip() for record in records if record.strip()]\n",
    "    \n",
    "    # Parse each record into a dictionary\n",
    "    parsed_records = []\n",
    "    for record in records:\n",
    "        record_dict = {}\n",
    "        for line in record.split('\\n'):\n",
    "            if ':' in line:  # Assuming key-value pairs are separated by \":\"\n",
    "                key, value = line.split(':', 1)\n",
    "                record_dict[key.strip()] = value.strip()\n",
    "        parsed_records.append(record_dict)\n",
    "    \n",
    "    # Convert the list of dictionaries into a pandas DataFrame\n",
    "    columns = ['timestamp', 'rchar', 'wchar', 'syscr', 'syscw', 'read_bytes', 'write_bytes', 'cancelled_write_bytes']\n",
    "    dtypes = {'timestamp': 'int64', 'rchar': 'int64', 'wchar': 'int64', 'syscr': 'int64', 'syscw': 'int64', 'read_bytes': 'int64', 'write_bytes': 'int64', 'cancelled_write_bytes': 'int64'}\n",
    "    df = pd.DataFrame(parsed_records, columns=columns).astype(dtypes)\n",
    "    df['timestamp'] = pd.to_datetime(df['timestamp'],unit='s')\n",
    "    return df\n",
    "\n",
    "df = parse_io_log_file(writes_io_data_path)"
   ]
  },
  {
   "cell_type": "code",
   "execution_count": null,
   "id": "e218a050",
   "metadata": {},
   "outputs": [],
   "source": [
    "import json\n",
    "unsuccessful_count = 0\n",
    "def parse_benchmark_log_file(file_path):\n",
    "    # Open and read the log file\n",
    "    rows = []\n",
    "    with open(file_path, 'r') as file:\n",
    "        for line in file:\n",
    "            timestamp, status, message = line.split(\" - \")\n",
    "            json_message = json.loads(message)\n",
    "            if json_message[\"status\"] != \"success\":\n",
    "                unsuccessful_count += 1\n",
    "                continue\n",
    "            metrics = json_message[\"metrics\"]\n",
    "            rows.append({\n",
    "                \"timestamp\": timestamp,\n",
    "                \"status\": status,\n",
    "                \"elapsed_time\": metrics[\"elapsedTime\"],\n",
    "                \"execution_time\": metrics[\"executionTime\"],\n",
    "                \"compile_time\": metrics[\"compileTime\"],\n",
    "                \"queue_wait_time\": metrics[\"queueWaitTime\"],\n",
    "                \"resultCount\": metrics[\"resultCount\"],\n",
    "                \"result_size\": metrics[\"resultSize\"],\n",
    "                \"processed_objects\": metrics[\"processedObjects\"],\n",
    "                \"buffer_cache_hit_ratio\": metrics[\"bufferCacheHitRatio\"],\n",
    "                \"buffer_cache_page_read_count\": metrics[\"bufferCachePageReadCount\"],\n",
    "            })\n",
    "            \n",
    "        \n",
    "            \n",
    "            \n",
    "            \n",
    "            "
   ]
  },
  {
   "cell_type": "markdown",
   "id": "2b8c6cec",
   "metadata": {},
   "source": [
    "## Write\n",
    "- Write Throughput\n",
    "  - mean\n",
    "  - std.dev\n",
    "  - median\n",
    "  - p95\n",
    "  - p99\n",
    "- Bytes Written to Disk\n",
    "  - per second\n",
    "  - aggregate"
   ]
  },
  {
   "cell_type": "markdown",
   "id": "00472ab6",
   "metadata": {},
   "source": [
    "### Write Throughput"
   ]
  },
  {
   "cell_type": "markdown",
   "id": "1189a399",
   "metadata": {},
   "source": [
    "### Bytes Written to Disk"
   ]
  },
  {
   "cell_type": "markdown",
   "id": "b44b705a",
   "metadata": {},
   "source": [
    "#### Aggregate"
   ]
  },
  {
   "cell_type": "code",
   "execution_count": 33,
   "id": "5dad6105",
   "metadata": {},
   "outputs": [
    {
     "data": {
      "text/html": [
       "<div>\n",
       "<style scoped>\n",
       "    .dataframe tbody tr th:only-of-type {\n",
       "        vertical-align: middle;\n",
       "    }\n",
       "\n",
       "    .dataframe tbody tr th {\n",
       "        vertical-align: top;\n",
       "    }\n",
       "\n",
       "    .dataframe thead th {\n",
       "        text-align: right;\n",
       "    }\n",
       "</style>\n",
       "<table border=\"1\" class=\"dataframe\">\n",
       "  <thead>\n",
       "    <tr style=\"text-align: right;\">\n",
       "      <th></th>\n",
       "      <th>wchar</th>\n",
       "    </tr>\n",
       "  </thead>\n",
       "  <tbody>\n",
       "    <tr>\n",
       "      <th>count</th>\n",
       "      <td>323.000000</td>\n",
       "    </tr>\n",
       "    <tr>\n",
       "      <th>mean</th>\n",
       "      <td>42774.232198</td>\n",
       "    </tr>\n",
       "    <tr>\n",
       "      <th>std</th>\n",
       "      <td>4514.836803</td>\n",
       "    </tr>\n",
       "    <tr>\n",
       "      <th>min</th>\n",
       "      <td>35267.000000</td>\n",
       "    </tr>\n",
       "    <tr>\n",
       "      <th>50%</th>\n",
       "      <td>42739.000000</td>\n",
       "    </tr>\n",
       "    <tr>\n",
       "      <th>75%</th>\n",
       "      <td>46475.000000</td>\n",
       "    </tr>\n",
       "    <tr>\n",
       "      <th>95%</th>\n",
       "      <td>50431.000000</td>\n",
       "    </tr>\n",
       "    <tr>\n",
       "      <th>99%</th>\n",
       "      <td>50898.000000</td>\n",
       "    </tr>\n",
       "    <tr>\n",
       "      <th>max</th>\n",
       "      <td>50898.000000</td>\n",
       "    </tr>\n",
       "  </tbody>\n",
       "</table>\n",
       "</div>"
      ],
      "text/plain": [
       "              wchar\n",
       "count    323.000000\n",
       "mean   42774.232198\n",
       "std     4514.836803\n",
       "min    35267.000000\n",
       "50%    42739.000000\n",
       "75%    46475.000000\n",
       "95%    50431.000000\n",
       "99%    50898.000000\n",
       "max    50898.000000"
      ]
     },
     "execution_count": 33,
     "metadata": {},
     "output_type": "execute_result"
    }
   ],
   "source": [
    "df[[\"wchar\"]].describe([.50, .75, .95, .99])"
   ]
  },
  {
   "cell_type": "markdown",
   "id": "b38b7516",
   "metadata": {},
   "source": [
    "#### As time"
   ]
  },
  {
   "cell_type": "code",
   "execution_count": 29,
   "id": "bc1fd778",
   "metadata": {},
   "outputs": [
    {
     "data": {
      "application/vnd.plotly.v1+json": {
       "config": {
        "plotlyServerURL": "https://plot.ly"
       },
       "data": [
        {
         "hovertemplate": "Timestamp=%{x}<br>rchar=%{y}<extra></extra>",
         "legendgroup": "",
         "line": {
          "color": "#636efa",
          "dash": "solid"
         },
         "marker": {
          "symbol": "circle"
         },
         "mode": "lines",
         "name": "",
         "orientation": "v",
         "showlegend": false,
         "type": "scatter",
         "x": [
          "2025-04-28T09:00:39.000000000",
          "2025-04-28T09:00:40.000000000",
          "2025-04-28T09:00:41.000000000",
          "2025-04-28T09:00:42.000000000",
          "2025-04-28T09:00:43.000000000",
          "2025-04-28T09:00:44.000000000",
          "2025-04-28T09:00:45.000000000",
          "2025-04-28T09:00:46.000000000",
          "2025-04-28T09:00:47.000000000",
          "2025-04-28T09:00:48.000000000",
          "2025-04-28T09:00:49.000000000",
          "2025-04-28T09:00:50.000000000",
          "2025-04-28T09:00:51.000000000",
          "2025-04-28T09:00:52.000000000",
          "2025-04-28T09:00:53.000000000",
          "2025-04-28T09:00:54.000000000",
          "2025-04-28T09:00:55.000000000",
          "2025-04-28T09:00:56.000000000",
          "2025-04-28T09:00:57.000000000",
          "2025-04-28T09:00:58.000000000",
          "2025-04-28T09:00:59.000000000",
          "2025-04-28T09:01:00.000000000",
          "2025-04-28T09:01:01.000000000",
          "2025-04-28T09:01:02.000000000",
          "2025-04-28T09:01:03.000000000",
          "2025-04-28T09:01:04.000000000",
          "2025-04-28T09:01:05.000000000",
          "2025-04-28T09:01:06.000000000",
          "2025-04-28T09:01:07.000000000",
          "2025-04-28T09:01:08.000000000",
          "2025-04-28T09:01:09.000000000",
          "2025-04-28T09:01:11.000000000",
          "2025-04-28T09:01:12.000000000",
          "2025-04-28T09:01:13.000000000",
          "2025-04-28T09:01:14.000000000",
          "2025-04-28T09:01:15.000000000",
          "2025-04-28T09:01:16.000000000",
          "2025-04-28T09:01:17.000000000",
          "2025-04-28T09:01:18.000000000",
          "2025-04-28T09:01:19.000000000",
          "2025-04-28T09:01:20.000000000",
          "2025-04-28T09:01:21.000000000",
          "2025-04-28T09:01:22.000000000",
          "2025-04-28T09:01:23.000000000",
          "2025-04-28T09:01:24.000000000",
          "2025-04-28T09:01:25.000000000",
          "2025-04-28T09:01:26.000000000",
          "2025-04-28T09:01:27.000000000",
          "2025-04-28T09:01:28.000000000",
          "2025-04-28T09:01:29.000000000",
          "2025-04-28T09:01:30.000000000",
          "2025-04-28T09:01:31.000000000",
          "2025-04-28T09:01:32.000000000",
          "2025-04-28T09:01:33.000000000",
          "2025-04-28T09:01:34.000000000",
          "2025-04-28T09:01:35.000000000",
          "2025-04-28T09:01:36.000000000",
          "2025-04-28T09:01:37.000000000",
          "2025-04-28T09:01:38.000000000",
          "2025-04-28T09:01:39.000000000",
          "2025-04-28T09:01:40.000000000",
          "2025-04-28T09:01:41.000000000",
          "2025-04-28T09:01:42.000000000",
          "2025-04-28T09:01:43.000000000",
          "2025-04-28T09:01:44.000000000",
          "2025-04-28T09:01:45.000000000",
          "2025-04-28T09:01:46.000000000",
          "2025-04-28T09:01:47.000000000",
          "2025-04-28T09:01:48.000000000",
          "2025-04-28T09:01:49.000000000",
          "2025-04-28T09:01:50.000000000",
          "2025-04-28T09:01:51.000000000",
          "2025-04-28T09:01:52.000000000",
          "2025-04-28T09:01:53.000000000",
          "2025-04-28T09:01:54.000000000",
          "2025-04-28T09:01:55.000000000",
          "2025-04-28T09:01:56.000000000",
          "2025-04-28T09:01:57.000000000",
          "2025-04-28T09:01:58.000000000",
          "2025-04-28T09:01:59.000000000",
          "2025-04-28T09:02:00.000000000",
          "2025-04-28T09:02:01.000000000",
          "2025-04-28T09:02:02.000000000",
          "2025-04-28T09:02:03.000000000",
          "2025-04-28T09:02:04.000000000",
          "2025-04-28T09:02:05.000000000",
          "2025-04-28T09:02:06.000000000",
          "2025-04-28T09:02:07.000000000",
          "2025-04-28T09:02:08.000000000",
          "2025-04-28T09:02:09.000000000",
          "2025-04-28T09:02:10.000000000",
          "2025-04-28T09:02:11.000000000",
          "2025-04-28T09:02:12.000000000",
          "2025-04-28T09:02:13.000000000",
          "2025-04-28T09:02:14.000000000",
          "2025-04-28T09:02:15.000000000",
          "2025-04-28T09:02:16.000000000",
          "2025-04-28T09:02:17.000000000",
          "2025-04-28T09:02:18.000000000",
          "2025-04-28T09:02:19.000000000",
          "2025-04-28T09:02:20.000000000",
          "2025-04-28T09:02:21.000000000",
          "2025-04-28T09:02:22.000000000",
          "2025-04-28T09:02:23.000000000",
          "2025-04-28T09:02:24.000000000",
          "2025-04-28T09:02:25.000000000",
          "2025-04-28T09:02:26.000000000",
          "2025-04-28T09:02:27.000000000",
          "2025-04-28T09:02:28.000000000",
          "2025-04-28T09:02:29.000000000",
          "2025-04-28T09:02:30.000000000",
          "2025-04-28T09:02:31.000000000",
          "2025-04-28T09:02:33.000000000",
          "2025-04-28T09:02:34.000000000",
          "2025-04-28T09:02:35.000000000",
          "2025-04-28T09:02:36.000000000",
          "2025-04-28T09:02:37.000000000",
          "2025-04-28T09:02:38.000000000",
          "2025-04-28T09:02:39.000000000",
          "2025-04-28T09:02:40.000000000",
          "2025-04-28T09:02:41.000000000",
          "2025-04-28T09:02:42.000000000",
          "2025-04-28T09:02:43.000000000",
          "2025-04-28T09:02:44.000000000",
          "2025-04-28T09:02:45.000000000",
          "2025-04-28T09:02:46.000000000",
          "2025-04-28T09:02:47.000000000",
          "2025-04-28T09:02:48.000000000",
          "2025-04-28T09:02:49.000000000",
          "2025-04-28T09:02:50.000000000",
          "2025-04-28T09:02:51.000000000",
          "2025-04-28T09:02:52.000000000",
          "2025-04-28T09:02:53.000000000",
          "2025-04-28T09:02:54.000000000",
          "2025-04-28T09:02:55.000000000",
          "2025-04-28T09:02:56.000000000",
          "2025-04-28T09:02:57.000000000",
          "2025-04-28T09:02:58.000000000",
          "2025-04-28T09:02:59.000000000",
          "2025-04-28T09:03:00.000000000",
          "2025-04-28T09:03:01.000000000",
          "2025-04-28T09:03:02.000000000",
          "2025-04-28T09:03:03.000000000",
          "2025-04-28T09:03:04.000000000",
          "2025-04-28T09:03:05.000000000",
          "2025-04-28T09:03:06.000000000",
          "2025-04-28T09:03:07.000000000",
          "2025-04-28T09:03:08.000000000",
          "2025-04-28T09:03:09.000000000",
          "2025-04-28T09:03:10.000000000",
          "2025-04-28T09:03:11.000000000",
          "2025-04-28T09:03:12.000000000",
          "2025-04-28T09:03:13.000000000",
          "2025-04-28T09:03:14.000000000",
          "2025-04-28T09:03:15.000000000",
          "2025-04-28T09:03:16.000000000",
          "2025-04-28T09:03:17.000000000",
          "2025-04-28T09:03:18.000000000",
          "2025-04-28T09:03:19.000000000",
          "2025-04-28T09:03:20.000000000",
          "2025-04-28T09:03:21.000000000",
          "2025-04-28T09:03:22.000000000",
          "2025-04-28T09:03:23.000000000",
          "2025-04-28T09:03:24.000000000",
          "2025-04-28T09:03:25.000000000",
          "2025-04-28T09:03:26.000000000",
          "2025-04-28T09:03:27.000000000",
          "2025-04-28T09:03:28.000000000",
          "2025-04-28T09:03:29.000000000",
          "2025-04-28T09:03:30.000000000",
          "2025-04-28T09:03:31.000000000",
          "2025-04-28T09:03:32.000000000",
          "2025-04-28T09:03:33.000000000",
          "2025-04-28T09:03:34.000000000",
          "2025-04-28T09:03:35.000000000",
          "2025-04-28T09:03:36.000000000",
          "2025-04-28T09:03:37.000000000",
          "2025-04-28T09:03:38.000000000",
          "2025-04-28T09:03:39.000000000",
          "2025-04-28T09:03:40.000000000",
          "2025-04-28T09:03:41.000000000",
          "2025-04-28T09:03:42.000000000",
          "2025-04-28T09:03:43.000000000",
          "2025-04-28T09:03:44.000000000",
          "2025-04-28T09:03:45.000000000",
          "2025-04-28T09:03:46.000000000",
          "2025-04-28T09:03:47.000000000",
          "2025-04-28T09:03:48.000000000",
          "2025-04-28T09:03:49.000000000",
          "2025-04-28T09:03:50.000000000",
          "2025-04-28T09:03:51.000000000",
          "2025-04-28T09:03:53.000000000",
          "2025-04-28T09:03:54.000000000",
          "2025-04-28T09:03:55.000000000",
          "2025-04-28T09:03:56.000000000",
          "2025-04-28T09:03:57.000000000",
          "2025-04-28T09:03:58.000000000",
          "2025-04-28T09:03:59.000000000",
          "2025-04-28T09:04:00.000000000",
          "2025-04-28T09:04:01.000000000",
          "2025-04-28T09:04:02.000000000",
          "2025-04-28T09:04:03.000000000",
          "2025-04-28T09:04:04.000000000",
          "2025-04-28T09:04:05.000000000",
          "2025-04-28T09:04:06.000000000",
          "2025-04-28T09:04:07.000000000",
          "2025-04-28T09:04:08.000000000",
          "2025-04-28T09:04:09.000000000",
          "2025-04-28T09:04:10.000000000",
          "2025-04-28T09:04:11.000000000",
          "2025-04-28T09:04:12.000000000",
          "2025-04-28T09:04:13.000000000",
          "2025-04-28T09:04:14.000000000",
          "2025-04-28T09:04:15.000000000",
          "2025-04-28T09:04:16.000000000",
          "2025-04-28T09:04:17.000000000",
          "2025-04-28T09:04:18.000000000",
          "2025-04-28T09:04:19.000000000",
          "2025-04-28T09:04:20.000000000",
          "2025-04-28T09:04:21.000000000",
          "2025-04-28T09:04:22.000000000",
          "2025-04-28T09:04:23.000000000",
          "2025-04-28T09:04:24.000000000",
          "2025-04-28T09:04:25.000000000",
          "2025-04-28T09:04:26.000000000",
          "2025-04-28T09:04:27.000000000",
          "2025-04-28T09:04:28.000000000",
          "2025-04-28T09:04:29.000000000",
          "2025-04-28T09:04:30.000000000",
          "2025-04-28T09:04:31.000000000",
          "2025-04-28T09:04:32.000000000",
          "2025-04-28T09:04:33.000000000",
          "2025-04-28T09:04:34.000000000",
          "2025-04-28T09:04:35.000000000",
          "2025-04-28T09:04:36.000000000",
          "2025-04-28T09:04:37.000000000",
          "2025-04-28T09:04:38.000000000",
          "2025-04-28T09:04:39.000000000",
          "2025-04-28T09:04:40.000000000",
          "2025-04-28T09:04:41.000000000",
          "2025-04-28T09:04:42.000000000",
          "2025-04-28T09:04:43.000000000",
          "2025-04-28T09:04:44.000000000",
          "2025-04-28T09:04:45.000000000",
          "2025-04-28T09:04:46.000000000",
          "2025-04-28T09:04:47.000000000",
          "2025-04-28T09:04:48.000000000",
          "2025-04-28T09:04:49.000000000",
          "2025-04-28T09:04:50.000000000",
          "2025-04-28T09:04:51.000000000",
          "2025-04-28T09:04:52.000000000",
          "2025-04-28T09:04:53.000000000",
          "2025-04-28T09:04:54.000000000",
          "2025-04-28T09:04:55.000000000",
          "2025-04-28T09:04:56.000000000",
          "2025-04-28T09:04:57.000000000",
          "2025-04-28T09:04:58.000000000",
          "2025-04-28T09:04:59.000000000",
          "2025-04-28T09:05:00.000000000",
          "2025-04-28T09:05:01.000000000",
          "2025-04-28T09:05:02.000000000",
          "2025-04-28T09:05:03.000000000",
          "2025-04-28T09:05:04.000000000",
          "2025-04-28T09:05:05.000000000",
          "2025-04-28T09:05:06.000000000",
          "2025-04-28T09:05:07.000000000",
          "2025-04-28T09:05:08.000000000",
          "2025-04-28T09:05:10.000000000",
          "2025-04-28T09:05:11.000000000",
          "2025-04-28T09:05:12.000000000",
          "2025-04-28T09:05:13.000000000",
          "2025-04-28T09:05:14.000000000",
          "2025-04-28T09:05:15.000000000",
          "2025-04-28T09:05:16.000000000",
          "2025-04-28T09:05:17.000000000",
          "2025-04-28T09:05:18.000000000",
          "2025-04-28T09:05:19.000000000",
          "2025-04-28T09:05:20.000000000",
          "2025-04-28T09:05:21.000000000",
          "2025-04-28T09:05:22.000000000",
          "2025-04-28T09:05:23.000000000",
          "2025-04-28T09:05:24.000000000",
          "2025-04-28T09:05:25.000000000",
          "2025-04-28T09:05:26.000000000",
          "2025-04-28T09:05:27.000000000",
          "2025-04-28T09:05:28.000000000",
          "2025-04-28T09:05:29.000000000",
          "2025-04-28T09:05:30.000000000",
          "2025-04-28T09:05:31.000000000",
          "2025-04-28T09:05:32.000000000",
          "2025-04-28T09:05:33.000000000",
          "2025-04-28T09:05:34.000000000",
          "2025-04-28T09:05:35.000000000",
          "2025-04-28T09:05:36.000000000",
          "2025-04-28T09:05:37.000000000",
          "2025-04-28T09:05:38.000000000",
          "2025-04-28T09:05:39.000000000",
          "2025-04-28T09:05:40.000000000",
          "2025-04-28T09:05:41.000000000",
          "2025-04-28T09:05:42.000000000",
          "2025-04-28T09:05:43.000000000",
          "2025-04-28T09:05:44.000000000",
          "2025-04-28T09:05:45.000000000",
          "2025-04-28T09:05:46.000000000",
          "2025-04-28T09:05:47.000000000",
          "2025-04-28T09:05:48.000000000",
          "2025-04-28T09:05:49.000000000",
          "2025-04-28T09:05:50.000000000",
          "2025-04-28T09:05:51.000000000",
          "2025-04-28T09:05:52.000000000",
          "2025-04-28T09:05:53.000000000",
          "2025-04-28T09:05:54.000000000",
          "2025-04-28T09:05:55.000000000",
          "2025-04-28T09:05:56.000000000",
          "2025-04-28T09:05:57.000000000",
          "2025-04-28T09:05:58.000000000",
          "2025-04-28T09:05:59.000000000",
          "2025-04-28T09:06:00.000000000",
          "2025-04-28T09:06:01.000000000",
          "2025-04-28T09:06:02.000000000",
          "2025-04-28T09:06:03.000000000",
          "2025-04-28T09:06:04.000000000",
          "2025-04-28T09:06:05.000000000"
         ],
         "xaxis": "x",
         "y": {
          "bdata": "OTt/ATk7fwE5O38BOTt/ATk7fwE5O38BOTt/ATk7fwE5O38BZD1/AWQ9fwFkPX8BZD1/AWQ9fwFkPX8BaD1/AWg9fwFoPX8BaD1/AZM/fwGTP38Bkz9/AZM/fwGTP38Bkz9/AZM/fwGTP38Bkz9/AZM/fwG+QX8BvkF/Ab5BfwG+QX8BvkF/Ab5BfwG+QX8BvkF/Ab5BfwG+QX8B6UN/AelDfwHpQ38B6UN/AelDfwHpQ38B6UN/AelDfwHpQ38BEEZ/ARBGfwEQRn8BEEZ/ARBGfwEQRn8BEEZ/ARBGfwEmRn8BKkZ/AVVIfwFVSH8BVUh/AVVIfwFVSH8BVUh/AVVIfwFVSH8BVUh/AVVIfwGASn8BgEp/AYBKfwGASn8BgEp/AYBKfwGASn8BgEp/AYBKfwGASn8Bq0x/AatMfwGrTH8Bq0x/AatMfwGrTH8Bq0x/AatMfwGrTH8Bq0x/AdZOfwHWTn8B1k5/AdZOfwHWTn8B1k5/AdZOfwHWTn8B1k5/AdZOfwEBUX8BAVF/AQFRfwEBUX8BAVF/AQFRfwEBUX8BAVF/AQFRfwEBUX8BLFN/ASxTfwEsU38BLFN/ASxTfwEsU38BLFN/ASxTfwEsU38BLFN/AVdVfwFXVX8BV1V/AVdVfwFXVX8BV1V/AVdVfwFXVX8BV1V/AX5XfwF+V38Bfld/AX5XfwF+V38Bfld/AX5XfwF+V38Bfld/AX5XfwGlWX8BpVl/AaVZfwGlWX8BpVl/AaVZfwGlWX8BpVl/AaVZfwGlWX8B0Ft/AdBbfwHQW38B0Ft/AdBbfwHQW38B0Ft/AdBbfwHQW38B0Ft/AftdfwH7XX8B+11/AftdfwH7XX8B+11/AftdfwH7XX8B+11/AftdfwEmYH8BJmB/ASZgfwEmYH8BJmB/ASZgfwEmYH8BJmB/ASZgfwEmYH8BUWJ/AVFifwFRYn8BUWJ/AVFifwFRYn8BUWJ/AVFifwFRYn8BUWJ/AXxkfwF8ZH8BfGR/AXxkfwF8ZH8BfGR/AXxkfwF8ZH8BfGR/AXxkfwGnZn8Bp2Z/AadmfwGnZn8Bp2Z/AadmfwGnZn8Bp2Z/AadmfwHSaH8B0mh/AdJofwHSaH8B0mh/AdJofwHSaH8B0mh/AdJofwHSaH8B/Wp/Af1qfwH9an8B/Wp/Af1qfwH9an8B/Wp/Af1qfwH9an8B/Wp/AShtfwEobX8BKG1/AShtfwEobX8BKG1/AShtfwEobX8BKG1/ASxtfwFTb38BU29/AVNvfwFTb38BU29/AVNvfwFTb38BU29/AVNvfwFTb38BfnF/AX5xfwF+cX8BfnF/AX5xfwF+cX8BfnF/AX5xfwF+cX8BfnF/AalzfwGpc38BqXN/AalzfwGpc38BqXN/AalzfwGpc38BqXN/AalzfwHUdX8B1HV/AdR1fwHUdX8B1HV/AdR1fwHUdX8B1HV/AdR1fwHUdX8B/3d/Af93fwH/d38B/3d/Af93fwH/d38B/3d/Af93fwH/d38BKnp/ASp6fwEqen8BKnp/ASp6fwEqen8BKnp/ASp6fwEqen8BKnp/AdV9fwEIf38BCH9/AQh/fwEIf38BCH9/AQh/fwEIf38BCH9/AQh/fwEzgX8BM4F/ATOBfwEzgX8BM4F/ATOBfwEzgX8BM4F/ATOBfwEzgX8BXoN/AV6DfwFeg38BXoN/AV6DfwFeg38BXoN/AV6DfwE=",
          "dtype": "i4"
         },
         "yaxis": "y"
        }
       ],
       "layout": {
        "legend": {
         "tracegroupgap": 0
        },
        "template": {
         "data": {
          "bar": [
           {
            "error_x": {
             "color": "#2a3f5f"
            },
            "error_y": {
             "color": "#2a3f5f"
            },
            "marker": {
             "line": {
              "color": "white",
              "width": 0.5
             },
             "pattern": {
              "fillmode": "overlay",
              "size": 10,
              "solidity": 0.2
             }
            },
            "type": "bar"
           }
          ],
          "barpolar": [
           {
            "marker": {
             "line": {
              "color": "white",
              "width": 0.5
             },
             "pattern": {
              "fillmode": "overlay",
              "size": 10,
              "solidity": 0.2
             }
            },
            "type": "barpolar"
           }
          ],
          "carpet": [
           {
            "aaxis": {
             "endlinecolor": "#2a3f5f",
             "gridcolor": "#C8D4E3",
             "linecolor": "#C8D4E3",
             "minorgridcolor": "#C8D4E3",
             "startlinecolor": "#2a3f5f"
            },
            "baxis": {
             "endlinecolor": "#2a3f5f",
             "gridcolor": "#C8D4E3",
             "linecolor": "#C8D4E3",
             "minorgridcolor": "#C8D4E3",
             "startlinecolor": "#2a3f5f"
            },
            "type": "carpet"
           }
          ],
          "choropleth": [
           {
            "colorbar": {
             "outlinewidth": 0,
             "ticks": ""
            },
            "type": "choropleth"
           }
          ],
          "contour": [
           {
            "colorbar": {
             "outlinewidth": 0,
             "ticks": ""
            },
            "colorscale": [
             [
              0,
              "#0d0887"
             ],
             [
              0.1111111111111111,
              "#46039f"
             ],
             [
              0.2222222222222222,
              "#7201a8"
             ],
             [
              0.3333333333333333,
              "#9c179e"
             ],
             [
              0.4444444444444444,
              "#bd3786"
             ],
             [
              0.5555555555555556,
              "#d8576b"
             ],
             [
              0.6666666666666666,
              "#ed7953"
             ],
             [
              0.7777777777777778,
              "#fb9f3a"
             ],
             [
              0.8888888888888888,
              "#fdca26"
             ],
             [
              1,
              "#f0f921"
             ]
            ],
            "type": "contour"
           }
          ],
          "contourcarpet": [
           {
            "colorbar": {
             "outlinewidth": 0,
             "ticks": ""
            },
            "type": "contourcarpet"
           }
          ],
          "heatmap": [
           {
            "colorbar": {
             "outlinewidth": 0,
             "ticks": ""
            },
            "colorscale": [
             [
              0,
              "#0d0887"
             ],
             [
              0.1111111111111111,
              "#46039f"
             ],
             [
              0.2222222222222222,
              "#7201a8"
             ],
             [
              0.3333333333333333,
              "#9c179e"
             ],
             [
              0.4444444444444444,
              "#bd3786"
             ],
             [
              0.5555555555555556,
              "#d8576b"
             ],
             [
              0.6666666666666666,
              "#ed7953"
             ],
             [
              0.7777777777777778,
              "#fb9f3a"
             ],
             [
              0.8888888888888888,
              "#fdca26"
             ],
             [
              1,
              "#f0f921"
             ]
            ],
            "type": "heatmap"
           }
          ],
          "histogram": [
           {
            "marker": {
             "pattern": {
              "fillmode": "overlay",
              "size": 10,
              "solidity": 0.2
             }
            },
            "type": "histogram"
           }
          ],
          "histogram2d": [
           {
            "colorbar": {
             "outlinewidth": 0,
             "ticks": ""
            },
            "colorscale": [
             [
              0,
              "#0d0887"
             ],
             [
              0.1111111111111111,
              "#46039f"
             ],
             [
              0.2222222222222222,
              "#7201a8"
             ],
             [
              0.3333333333333333,
              "#9c179e"
             ],
             [
              0.4444444444444444,
              "#bd3786"
             ],
             [
              0.5555555555555556,
              "#d8576b"
             ],
             [
              0.6666666666666666,
              "#ed7953"
             ],
             [
              0.7777777777777778,
              "#fb9f3a"
             ],
             [
              0.8888888888888888,
              "#fdca26"
             ],
             [
              1,
              "#f0f921"
             ]
            ],
            "type": "histogram2d"
           }
          ],
          "histogram2dcontour": [
           {
            "colorbar": {
             "outlinewidth": 0,
             "ticks": ""
            },
            "colorscale": [
             [
              0,
              "#0d0887"
             ],
             [
              0.1111111111111111,
              "#46039f"
             ],
             [
              0.2222222222222222,
              "#7201a8"
             ],
             [
              0.3333333333333333,
              "#9c179e"
             ],
             [
              0.4444444444444444,
              "#bd3786"
             ],
             [
              0.5555555555555556,
              "#d8576b"
             ],
             [
              0.6666666666666666,
              "#ed7953"
             ],
             [
              0.7777777777777778,
              "#fb9f3a"
             ],
             [
              0.8888888888888888,
              "#fdca26"
             ],
             [
              1,
              "#f0f921"
             ]
            ],
            "type": "histogram2dcontour"
           }
          ],
          "mesh3d": [
           {
            "colorbar": {
             "outlinewidth": 0,
             "ticks": ""
            },
            "type": "mesh3d"
           }
          ],
          "parcoords": [
           {
            "line": {
             "colorbar": {
              "outlinewidth": 0,
              "ticks": ""
             }
            },
            "type": "parcoords"
           }
          ],
          "pie": [
           {
            "automargin": true,
            "type": "pie"
           }
          ],
          "scatter": [
           {
            "fillpattern": {
             "fillmode": "overlay",
             "size": 10,
             "solidity": 0.2
            },
            "type": "scatter"
           }
          ],
          "scatter3d": [
           {
            "line": {
             "colorbar": {
              "outlinewidth": 0,
              "ticks": ""
             }
            },
            "marker": {
             "colorbar": {
              "outlinewidth": 0,
              "ticks": ""
             }
            },
            "type": "scatter3d"
           }
          ],
          "scattercarpet": [
           {
            "marker": {
             "colorbar": {
              "outlinewidth": 0,
              "ticks": ""
             }
            },
            "type": "scattercarpet"
           }
          ],
          "scattergeo": [
           {
            "marker": {
             "colorbar": {
              "outlinewidth": 0,
              "ticks": ""
             }
            },
            "type": "scattergeo"
           }
          ],
          "scattergl": [
           {
            "marker": {
             "colorbar": {
              "outlinewidth": 0,
              "ticks": ""
             }
            },
            "type": "scattergl"
           }
          ],
          "scattermap": [
           {
            "marker": {
             "colorbar": {
              "outlinewidth": 0,
              "ticks": ""
             }
            },
            "type": "scattermap"
           }
          ],
          "scattermapbox": [
           {
            "marker": {
             "colorbar": {
              "outlinewidth": 0,
              "ticks": ""
             }
            },
            "type": "scattermapbox"
           }
          ],
          "scatterpolar": [
           {
            "marker": {
             "colorbar": {
              "outlinewidth": 0,
              "ticks": ""
             }
            },
            "type": "scatterpolar"
           }
          ],
          "scatterpolargl": [
           {
            "marker": {
             "colorbar": {
              "outlinewidth": 0,
              "ticks": ""
             }
            },
            "type": "scatterpolargl"
           }
          ],
          "scatterternary": [
           {
            "marker": {
             "colorbar": {
              "outlinewidth": 0,
              "ticks": ""
             }
            },
            "type": "scatterternary"
           }
          ],
          "surface": [
           {
            "colorbar": {
             "outlinewidth": 0,
             "ticks": ""
            },
            "colorscale": [
             [
              0,
              "#0d0887"
             ],
             [
              0.1111111111111111,
              "#46039f"
             ],
             [
              0.2222222222222222,
              "#7201a8"
             ],
             [
              0.3333333333333333,
              "#9c179e"
             ],
             [
              0.4444444444444444,
              "#bd3786"
             ],
             [
              0.5555555555555556,
              "#d8576b"
             ],
             [
              0.6666666666666666,
              "#ed7953"
             ],
             [
              0.7777777777777778,
              "#fb9f3a"
             ],
             [
              0.8888888888888888,
              "#fdca26"
             ],
             [
              1,
              "#f0f921"
             ]
            ],
            "type": "surface"
           }
          ],
          "table": [
           {
            "cells": {
             "fill": {
              "color": "#EBF0F8"
             },
             "line": {
              "color": "white"
             }
            },
            "header": {
             "fill": {
              "color": "#C8D4E3"
             },
             "line": {
              "color": "white"
             }
            },
            "type": "table"
           }
          ]
         },
         "layout": {
          "annotationdefaults": {
           "arrowcolor": "#2a3f5f",
           "arrowhead": 0,
           "arrowwidth": 1
          },
          "autotypenumbers": "strict",
          "coloraxis": {
           "colorbar": {
            "outlinewidth": 0,
            "ticks": ""
           }
          },
          "colorscale": {
           "diverging": [
            [
             0,
             "#8e0152"
            ],
            [
             0.1,
             "#c51b7d"
            ],
            [
             0.2,
             "#de77ae"
            ],
            [
             0.3,
             "#f1b6da"
            ],
            [
             0.4,
             "#fde0ef"
            ],
            [
             0.5,
             "#f7f7f7"
            ],
            [
             0.6,
             "#e6f5d0"
            ],
            [
             0.7,
             "#b8e186"
            ],
            [
             0.8,
             "#7fbc41"
            ],
            [
             0.9,
             "#4d9221"
            ],
            [
             1,
             "#276419"
            ]
           ],
           "sequential": [
            [
             0,
             "#0d0887"
            ],
            [
             0.1111111111111111,
             "#46039f"
            ],
            [
             0.2222222222222222,
             "#7201a8"
            ],
            [
             0.3333333333333333,
             "#9c179e"
            ],
            [
             0.4444444444444444,
             "#bd3786"
            ],
            [
             0.5555555555555556,
             "#d8576b"
            ],
            [
             0.6666666666666666,
             "#ed7953"
            ],
            [
             0.7777777777777778,
             "#fb9f3a"
            ],
            [
             0.8888888888888888,
             "#fdca26"
            ],
            [
             1,
             "#f0f921"
            ]
           ],
           "sequentialminus": [
            [
             0,
             "#0d0887"
            ],
            [
             0.1111111111111111,
             "#46039f"
            ],
            [
             0.2222222222222222,
             "#7201a8"
            ],
            [
             0.3333333333333333,
             "#9c179e"
            ],
            [
             0.4444444444444444,
             "#bd3786"
            ],
            [
             0.5555555555555556,
             "#d8576b"
            ],
            [
             0.6666666666666666,
             "#ed7953"
            ],
            [
             0.7777777777777778,
             "#fb9f3a"
            ],
            [
             0.8888888888888888,
             "#fdca26"
            ],
            [
             1,
             "#f0f921"
            ]
           ]
          },
          "colorway": [
           "#636efa",
           "#EF553B",
           "#00cc96",
           "#ab63fa",
           "#FFA15A",
           "#19d3f3",
           "#FF6692",
           "#B6E880",
           "#FF97FF",
           "#FECB52"
          ],
          "font": {
           "color": "#2a3f5f"
          },
          "geo": {
           "bgcolor": "white",
           "lakecolor": "white",
           "landcolor": "white",
           "showlakes": true,
           "showland": true,
           "subunitcolor": "#C8D4E3"
          },
          "hoverlabel": {
           "align": "left"
          },
          "hovermode": "closest",
          "mapbox": {
           "style": "light"
          },
          "paper_bgcolor": "white",
          "plot_bgcolor": "white",
          "polar": {
           "angularaxis": {
            "gridcolor": "#EBF0F8",
            "linecolor": "#EBF0F8",
            "ticks": ""
           },
           "bgcolor": "white",
           "radialaxis": {
            "gridcolor": "#EBF0F8",
            "linecolor": "#EBF0F8",
            "ticks": ""
           }
          },
          "scene": {
           "xaxis": {
            "backgroundcolor": "white",
            "gridcolor": "#DFE8F3",
            "gridwidth": 2,
            "linecolor": "#EBF0F8",
            "showbackground": true,
            "ticks": "",
            "zerolinecolor": "#EBF0F8"
           },
           "yaxis": {
            "backgroundcolor": "white",
            "gridcolor": "#DFE8F3",
            "gridwidth": 2,
            "linecolor": "#EBF0F8",
            "showbackground": true,
            "ticks": "",
            "zerolinecolor": "#EBF0F8"
           },
           "zaxis": {
            "backgroundcolor": "white",
            "gridcolor": "#DFE8F3",
            "gridwidth": 2,
            "linecolor": "#EBF0F8",
            "showbackground": true,
            "ticks": "",
            "zerolinecolor": "#EBF0F8"
           }
          },
          "shapedefaults": {
           "line": {
            "color": "#2a3f5f"
           }
          },
          "ternary": {
           "aaxis": {
            "gridcolor": "#DFE8F3",
            "linecolor": "#A2B1C6",
            "ticks": ""
           },
           "baxis": {
            "gridcolor": "#DFE8F3",
            "linecolor": "#A2B1C6",
            "ticks": ""
           },
           "bgcolor": "white",
           "caxis": {
            "gridcolor": "#DFE8F3",
            "linecolor": "#A2B1C6",
            "ticks": ""
           }
          },
          "title": {
           "x": 0.05
          },
          "xaxis": {
           "automargin": true,
           "gridcolor": "#EBF0F8",
           "linecolor": "#EBF0F8",
           "ticks": "",
           "title": {
            "standoff": 15
           },
           "zerolinecolor": "#EBF0F8",
           "zerolinewidth": 2
          },
          "yaxis": {
           "automargin": true,
           "gridcolor": "#EBF0F8",
           "linecolor": "#EBF0F8",
           "ticks": "",
           "title": {
            "standoff": 15
           },
           "zerolinecolor": "#EBF0F8",
           "zerolinewidth": 2
          }
         }
        },
        "title": {
         "text": "Characters Written vs Timestamp",
         "x": 0.5
        },
        "xaxis": {
         "anchor": "y",
         "domain": [
          0,
          1
         ],
         "tickangle": 45,
         "title": {
          "text": "Timestamp"
         }
        },
        "yaxis": {
         "anchor": "x",
         "domain": [
          0,
          1
         ],
         "title": {
          "text": "Characters Written"
         }
        }
       }
      }
     },
     "metadata": {},
     "output_type": "display_data"
    }
   ],
   "source": [
    "# Import Plotly\n",
    "import plotly.express as px\n",
    "\n",
    "# Create a line plot for rchar vs timestamp\n",
    "fig = px.line(\n",
    "    df,\n",
    "    x='timestamp',\n",
    "    y='rchar',\n",
    "    title='Characters Written vs Timestamp',\n",
    "    labels={'timestamp': 'Timestamp', 'wchar': 'wchar'},\n",
    "    template='plotly_white'\n",
    ")\n",
    "\n",
    "# Customize the layout\n",
    "fig.update_layout(\n",
    "    xaxis_title='Timestamp',\n",
    "    yaxis_title='Characters Written',\n",
    "    xaxis=dict(tickangle=45),\n",
    "    title_x=0.5\n",
    ")\n",
    "\n",
    "# Show the plot\n",
    "fig.show()"
   ]
  },
  {
   "cell_type": "markdown",
   "id": "1af15e81",
   "metadata": {},
   "source": [
    "## Reads\n",
    "- Read Throughput\n",
    "  - mean\n",
    "  - std.dev\n",
    "  - median\n",
    "  - p95\n",
    "  - p99\n",
    "- Bytes Read from Disk\n",
    "  - per second\n",
    "  - aggregate"
   ]
  },
  {
   "cell_type": "code",
   "execution_count": 34,
   "id": "9232f9cd",
   "metadata": {},
   "outputs": [
    {
     "data": {
      "text/html": [
       "<div>\n",
       "<style scoped>\n",
       "    .dataframe tbody tr th:only-of-type {\n",
       "        vertical-align: middle;\n",
       "    }\n",
       "\n",
       "    .dataframe tbody tr th {\n",
       "        vertical-align: top;\n",
       "    }\n",
       "\n",
       "    .dataframe thead th {\n",
       "        text-align: right;\n",
       "    }\n",
       "</style>\n",
       "<table border=\"1\" class=\"dataframe\">\n",
       "  <thead>\n",
       "    <tr style=\"text-align: right;\">\n",
       "      <th></th>\n",
       "      <th>rchar</th>\n",
       "    </tr>\n",
       "  </thead>\n",
       "  <tbody>\n",
       "    <tr>\n",
       "      <th>count</th>\n",
       "      <td>3.230000e+02</td>\n",
       "    </tr>\n",
       "    <tr>\n",
       "      <th>mean</th>\n",
       "      <td>2.512438e+07</td>\n",
       "    </tr>\n",
       "    <tr>\n",
       "      <th>std</th>\n",
       "      <td>5.350523e+03</td>\n",
       "    </tr>\n",
       "    <tr>\n",
       "      <th>min</th>\n",
       "      <td>2.511545e+07</td>\n",
       "    </tr>\n",
       "    <tr>\n",
       "      <th>50%</th>\n",
       "      <td>2.512435e+07</td>\n",
       "    </tr>\n",
       "    <tr>\n",
       "      <th>75%</th>\n",
       "      <td>2.512879e+07</td>\n",
       "    </tr>\n",
       "    <tr>\n",
       "      <th>95%</th>\n",
       "      <td>2.513336e+07</td>\n",
       "    </tr>\n",
       "    <tr>\n",
       "      <th>99%</th>\n",
       "      <td>2.513392e+07</td>\n",
       "    </tr>\n",
       "    <tr>\n",
       "      <th>max</th>\n",
       "      <td>2.513392e+07</td>\n",
       "    </tr>\n",
       "  </tbody>\n",
       "</table>\n",
       "</div>"
      ],
      "text/plain": [
       "              rchar\n",
       "count  3.230000e+02\n",
       "mean   2.512438e+07\n",
       "std    5.350523e+03\n",
       "min    2.511545e+07\n",
       "50%    2.512435e+07\n",
       "75%    2.512879e+07\n",
       "95%    2.513336e+07\n",
       "99%    2.513392e+07\n",
       "max    2.513392e+07"
      ]
     },
     "execution_count": 34,
     "metadata": {},
     "output_type": "execute_result"
    }
   ],
   "source": [
    "df[[\"rchar\"]].describe([.50, .75, .95, .99])"
   ]
  },
  {
   "cell_type": "code",
   "execution_count": 30,
   "id": "195ec3bc",
   "metadata": {},
   "outputs": [
    {
     "data": {
      "application/vnd.plotly.v1+json": {
       "config": {
        "plotlyServerURL": "https://plot.ly"
       },
       "data": [
        {
         "hovertemplate": "Timestamp=%{x}<br>rchar=%{y}<extra></extra>",
         "legendgroup": "",
         "line": {
          "color": "#636efa",
          "dash": "solid"
         },
         "marker": {
          "symbol": "circle"
         },
         "mode": "lines",
         "name": "",
         "orientation": "v",
         "showlegend": false,
         "type": "scatter",
         "x": [
          "2025-04-28T09:00:39.000000000",
          "2025-04-28T09:00:40.000000000",
          "2025-04-28T09:00:41.000000000",
          "2025-04-28T09:00:42.000000000",
          "2025-04-28T09:00:43.000000000",
          "2025-04-28T09:00:44.000000000",
          "2025-04-28T09:00:45.000000000",
          "2025-04-28T09:00:46.000000000",
          "2025-04-28T09:00:47.000000000",
          "2025-04-28T09:00:48.000000000",
          "2025-04-28T09:00:49.000000000",
          "2025-04-28T09:00:50.000000000",
          "2025-04-28T09:00:51.000000000",
          "2025-04-28T09:00:52.000000000",
          "2025-04-28T09:00:53.000000000",
          "2025-04-28T09:00:54.000000000",
          "2025-04-28T09:00:55.000000000",
          "2025-04-28T09:00:56.000000000",
          "2025-04-28T09:00:57.000000000",
          "2025-04-28T09:00:58.000000000",
          "2025-04-28T09:00:59.000000000",
          "2025-04-28T09:01:00.000000000",
          "2025-04-28T09:01:01.000000000",
          "2025-04-28T09:01:02.000000000",
          "2025-04-28T09:01:03.000000000",
          "2025-04-28T09:01:04.000000000",
          "2025-04-28T09:01:05.000000000",
          "2025-04-28T09:01:06.000000000",
          "2025-04-28T09:01:07.000000000",
          "2025-04-28T09:01:08.000000000",
          "2025-04-28T09:01:09.000000000",
          "2025-04-28T09:01:11.000000000",
          "2025-04-28T09:01:12.000000000",
          "2025-04-28T09:01:13.000000000",
          "2025-04-28T09:01:14.000000000",
          "2025-04-28T09:01:15.000000000",
          "2025-04-28T09:01:16.000000000",
          "2025-04-28T09:01:17.000000000",
          "2025-04-28T09:01:18.000000000",
          "2025-04-28T09:01:19.000000000",
          "2025-04-28T09:01:20.000000000",
          "2025-04-28T09:01:21.000000000",
          "2025-04-28T09:01:22.000000000",
          "2025-04-28T09:01:23.000000000",
          "2025-04-28T09:01:24.000000000",
          "2025-04-28T09:01:25.000000000",
          "2025-04-28T09:01:26.000000000",
          "2025-04-28T09:01:27.000000000",
          "2025-04-28T09:01:28.000000000",
          "2025-04-28T09:01:29.000000000",
          "2025-04-28T09:01:30.000000000",
          "2025-04-28T09:01:31.000000000",
          "2025-04-28T09:01:32.000000000",
          "2025-04-28T09:01:33.000000000",
          "2025-04-28T09:01:34.000000000",
          "2025-04-28T09:01:35.000000000",
          "2025-04-28T09:01:36.000000000",
          "2025-04-28T09:01:37.000000000",
          "2025-04-28T09:01:38.000000000",
          "2025-04-28T09:01:39.000000000",
          "2025-04-28T09:01:40.000000000",
          "2025-04-28T09:01:41.000000000",
          "2025-04-28T09:01:42.000000000",
          "2025-04-28T09:01:43.000000000",
          "2025-04-28T09:01:44.000000000",
          "2025-04-28T09:01:45.000000000",
          "2025-04-28T09:01:46.000000000",
          "2025-04-28T09:01:47.000000000",
          "2025-04-28T09:01:48.000000000",
          "2025-04-28T09:01:49.000000000",
          "2025-04-28T09:01:50.000000000",
          "2025-04-28T09:01:51.000000000",
          "2025-04-28T09:01:52.000000000",
          "2025-04-28T09:01:53.000000000",
          "2025-04-28T09:01:54.000000000",
          "2025-04-28T09:01:55.000000000",
          "2025-04-28T09:01:56.000000000",
          "2025-04-28T09:01:57.000000000",
          "2025-04-28T09:01:58.000000000",
          "2025-04-28T09:01:59.000000000",
          "2025-04-28T09:02:00.000000000",
          "2025-04-28T09:02:01.000000000",
          "2025-04-28T09:02:02.000000000",
          "2025-04-28T09:02:03.000000000",
          "2025-04-28T09:02:04.000000000",
          "2025-04-28T09:02:05.000000000",
          "2025-04-28T09:02:06.000000000",
          "2025-04-28T09:02:07.000000000",
          "2025-04-28T09:02:08.000000000",
          "2025-04-28T09:02:09.000000000",
          "2025-04-28T09:02:10.000000000",
          "2025-04-28T09:02:11.000000000",
          "2025-04-28T09:02:12.000000000",
          "2025-04-28T09:02:13.000000000",
          "2025-04-28T09:02:14.000000000",
          "2025-04-28T09:02:15.000000000",
          "2025-04-28T09:02:16.000000000",
          "2025-04-28T09:02:17.000000000",
          "2025-04-28T09:02:18.000000000",
          "2025-04-28T09:02:19.000000000",
          "2025-04-28T09:02:20.000000000",
          "2025-04-28T09:02:21.000000000",
          "2025-04-28T09:02:22.000000000",
          "2025-04-28T09:02:23.000000000",
          "2025-04-28T09:02:24.000000000",
          "2025-04-28T09:02:25.000000000",
          "2025-04-28T09:02:26.000000000",
          "2025-04-28T09:02:27.000000000",
          "2025-04-28T09:02:28.000000000",
          "2025-04-28T09:02:29.000000000",
          "2025-04-28T09:02:30.000000000",
          "2025-04-28T09:02:31.000000000",
          "2025-04-28T09:02:33.000000000",
          "2025-04-28T09:02:34.000000000",
          "2025-04-28T09:02:35.000000000",
          "2025-04-28T09:02:36.000000000",
          "2025-04-28T09:02:37.000000000",
          "2025-04-28T09:02:38.000000000",
          "2025-04-28T09:02:39.000000000",
          "2025-04-28T09:02:40.000000000",
          "2025-04-28T09:02:41.000000000",
          "2025-04-28T09:02:42.000000000",
          "2025-04-28T09:02:43.000000000",
          "2025-04-28T09:02:44.000000000",
          "2025-04-28T09:02:45.000000000",
          "2025-04-28T09:02:46.000000000",
          "2025-04-28T09:02:47.000000000",
          "2025-04-28T09:02:48.000000000",
          "2025-04-28T09:02:49.000000000",
          "2025-04-28T09:02:50.000000000",
          "2025-04-28T09:02:51.000000000",
          "2025-04-28T09:02:52.000000000",
          "2025-04-28T09:02:53.000000000",
          "2025-04-28T09:02:54.000000000",
          "2025-04-28T09:02:55.000000000",
          "2025-04-28T09:02:56.000000000",
          "2025-04-28T09:02:57.000000000",
          "2025-04-28T09:02:58.000000000",
          "2025-04-28T09:02:59.000000000",
          "2025-04-28T09:03:00.000000000",
          "2025-04-28T09:03:01.000000000",
          "2025-04-28T09:03:02.000000000",
          "2025-04-28T09:03:03.000000000",
          "2025-04-28T09:03:04.000000000",
          "2025-04-28T09:03:05.000000000",
          "2025-04-28T09:03:06.000000000",
          "2025-04-28T09:03:07.000000000",
          "2025-04-28T09:03:08.000000000",
          "2025-04-28T09:03:09.000000000",
          "2025-04-28T09:03:10.000000000",
          "2025-04-28T09:03:11.000000000",
          "2025-04-28T09:03:12.000000000",
          "2025-04-28T09:03:13.000000000",
          "2025-04-28T09:03:14.000000000",
          "2025-04-28T09:03:15.000000000",
          "2025-04-28T09:03:16.000000000",
          "2025-04-28T09:03:17.000000000",
          "2025-04-28T09:03:18.000000000",
          "2025-04-28T09:03:19.000000000",
          "2025-04-28T09:03:20.000000000",
          "2025-04-28T09:03:21.000000000",
          "2025-04-28T09:03:22.000000000",
          "2025-04-28T09:03:23.000000000",
          "2025-04-28T09:03:24.000000000",
          "2025-04-28T09:03:25.000000000",
          "2025-04-28T09:03:26.000000000",
          "2025-04-28T09:03:27.000000000",
          "2025-04-28T09:03:28.000000000",
          "2025-04-28T09:03:29.000000000",
          "2025-04-28T09:03:30.000000000",
          "2025-04-28T09:03:31.000000000",
          "2025-04-28T09:03:32.000000000",
          "2025-04-28T09:03:33.000000000",
          "2025-04-28T09:03:34.000000000",
          "2025-04-28T09:03:35.000000000",
          "2025-04-28T09:03:36.000000000",
          "2025-04-28T09:03:37.000000000",
          "2025-04-28T09:03:38.000000000",
          "2025-04-28T09:03:39.000000000",
          "2025-04-28T09:03:40.000000000",
          "2025-04-28T09:03:41.000000000",
          "2025-04-28T09:03:42.000000000",
          "2025-04-28T09:03:43.000000000",
          "2025-04-28T09:03:44.000000000",
          "2025-04-28T09:03:45.000000000",
          "2025-04-28T09:03:46.000000000",
          "2025-04-28T09:03:47.000000000",
          "2025-04-28T09:03:48.000000000",
          "2025-04-28T09:03:49.000000000",
          "2025-04-28T09:03:50.000000000",
          "2025-04-28T09:03:51.000000000",
          "2025-04-28T09:03:53.000000000",
          "2025-04-28T09:03:54.000000000",
          "2025-04-28T09:03:55.000000000",
          "2025-04-28T09:03:56.000000000",
          "2025-04-28T09:03:57.000000000",
          "2025-04-28T09:03:58.000000000",
          "2025-04-28T09:03:59.000000000",
          "2025-04-28T09:04:00.000000000",
          "2025-04-28T09:04:01.000000000",
          "2025-04-28T09:04:02.000000000",
          "2025-04-28T09:04:03.000000000",
          "2025-04-28T09:04:04.000000000",
          "2025-04-28T09:04:05.000000000",
          "2025-04-28T09:04:06.000000000",
          "2025-04-28T09:04:07.000000000",
          "2025-04-28T09:04:08.000000000",
          "2025-04-28T09:04:09.000000000",
          "2025-04-28T09:04:10.000000000",
          "2025-04-28T09:04:11.000000000",
          "2025-04-28T09:04:12.000000000",
          "2025-04-28T09:04:13.000000000",
          "2025-04-28T09:04:14.000000000",
          "2025-04-28T09:04:15.000000000",
          "2025-04-28T09:04:16.000000000",
          "2025-04-28T09:04:17.000000000",
          "2025-04-28T09:04:18.000000000",
          "2025-04-28T09:04:19.000000000",
          "2025-04-28T09:04:20.000000000",
          "2025-04-28T09:04:21.000000000",
          "2025-04-28T09:04:22.000000000",
          "2025-04-28T09:04:23.000000000",
          "2025-04-28T09:04:24.000000000",
          "2025-04-28T09:04:25.000000000",
          "2025-04-28T09:04:26.000000000",
          "2025-04-28T09:04:27.000000000",
          "2025-04-28T09:04:28.000000000",
          "2025-04-28T09:04:29.000000000",
          "2025-04-28T09:04:30.000000000",
          "2025-04-28T09:04:31.000000000",
          "2025-04-28T09:04:32.000000000",
          "2025-04-28T09:04:33.000000000",
          "2025-04-28T09:04:34.000000000",
          "2025-04-28T09:04:35.000000000",
          "2025-04-28T09:04:36.000000000",
          "2025-04-28T09:04:37.000000000",
          "2025-04-28T09:04:38.000000000",
          "2025-04-28T09:04:39.000000000",
          "2025-04-28T09:04:40.000000000",
          "2025-04-28T09:04:41.000000000",
          "2025-04-28T09:04:42.000000000",
          "2025-04-28T09:04:43.000000000",
          "2025-04-28T09:04:44.000000000",
          "2025-04-28T09:04:45.000000000",
          "2025-04-28T09:04:46.000000000",
          "2025-04-28T09:04:47.000000000",
          "2025-04-28T09:04:48.000000000",
          "2025-04-28T09:04:49.000000000",
          "2025-04-28T09:04:50.000000000",
          "2025-04-28T09:04:51.000000000",
          "2025-04-28T09:04:52.000000000",
          "2025-04-28T09:04:53.000000000",
          "2025-04-28T09:04:54.000000000",
          "2025-04-28T09:04:55.000000000",
          "2025-04-28T09:04:56.000000000",
          "2025-04-28T09:04:57.000000000",
          "2025-04-28T09:04:58.000000000",
          "2025-04-28T09:04:59.000000000",
          "2025-04-28T09:05:00.000000000",
          "2025-04-28T09:05:01.000000000",
          "2025-04-28T09:05:02.000000000",
          "2025-04-28T09:05:03.000000000",
          "2025-04-28T09:05:04.000000000",
          "2025-04-28T09:05:05.000000000",
          "2025-04-28T09:05:06.000000000",
          "2025-04-28T09:05:07.000000000",
          "2025-04-28T09:05:08.000000000",
          "2025-04-28T09:05:10.000000000",
          "2025-04-28T09:05:11.000000000",
          "2025-04-28T09:05:12.000000000",
          "2025-04-28T09:05:13.000000000",
          "2025-04-28T09:05:14.000000000",
          "2025-04-28T09:05:15.000000000",
          "2025-04-28T09:05:16.000000000",
          "2025-04-28T09:05:17.000000000",
          "2025-04-28T09:05:18.000000000",
          "2025-04-28T09:05:19.000000000",
          "2025-04-28T09:05:20.000000000",
          "2025-04-28T09:05:21.000000000",
          "2025-04-28T09:05:22.000000000",
          "2025-04-28T09:05:23.000000000",
          "2025-04-28T09:05:24.000000000",
          "2025-04-28T09:05:25.000000000",
          "2025-04-28T09:05:26.000000000",
          "2025-04-28T09:05:27.000000000",
          "2025-04-28T09:05:28.000000000",
          "2025-04-28T09:05:29.000000000",
          "2025-04-28T09:05:30.000000000",
          "2025-04-28T09:05:31.000000000",
          "2025-04-28T09:05:32.000000000",
          "2025-04-28T09:05:33.000000000",
          "2025-04-28T09:05:34.000000000",
          "2025-04-28T09:05:35.000000000",
          "2025-04-28T09:05:36.000000000",
          "2025-04-28T09:05:37.000000000",
          "2025-04-28T09:05:38.000000000",
          "2025-04-28T09:05:39.000000000",
          "2025-04-28T09:05:40.000000000",
          "2025-04-28T09:05:41.000000000",
          "2025-04-28T09:05:42.000000000",
          "2025-04-28T09:05:43.000000000",
          "2025-04-28T09:05:44.000000000",
          "2025-04-28T09:05:45.000000000",
          "2025-04-28T09:05:46.000000000",
          "2025-04-28T09:05:47.000000000",
          "2025-04-28T09:05:48.000000000",
          "2025-04-28T09:05:49.000000000",
          "2025-04-28T09:05:50.000000000",
          "2025-04-28T09:05:51.000000000",
          "2025-04-28T09:05:52.000000000",
          "2025-04-28T09:05:53.000000000",
          "2025-04-28T09:05:54.000000000",
          "2025-04-28T09:05:55.000000000",
          "2025-04-28T09:05:56.000000000",
          "2025-04-28T09:05:57.000000000",
          "2025-04-28T09:05:58.000000000",
          "2025-04-28T09:05:59.000000000",
          "2025-04-28T09:06:00.000000000",
          "2025-04-28T09:06:01.000000000",
          "2025-04-28T09:06:02.000000000",
          "2025-04-28T09:06:03.000000000",
          "2025-04-28T09:06:04.000000000",
          "2025-04-28T09:06:05.000000000"
         ],
         "xaxis": "x",
         "y": {
          "bdata": "OTt/ATk7fwE5O38BOTt/ATk7fwE5O38BOTt/ATk7fwE5O38BZD1/AWQ9fwFkPX8BZD1/AWQ9fwFkPX8BaD1/AWg9fwFoPX8BaD1/AZM/fwGTP38Bkz9/AZM/fwGTP38Bkz9/AZM/fwGTP38Bkz9/AZM/fwG+QX8BvkF/Ab5BfwG+QX8BvkF/Ab5BfwG+QX8BvkF/Ab5BfwG+QX8B6UN/AelDfwHpQ38B6UN/AelDfwHpQ38B6UN/AelDfwHpQ38BEEZ/ARBGfwEQRn8BEEZ/ARBGfwEQRn8BEEZ/ARBGfwEmRn8BKkZ/AVVIfwFVSH8BVUh/AVVIfwFVSH8BVUh/AVVIfwFVSH8BVUh/AVVIfwGASn8BgEp/AYBKfwGASn8BgEp/AYBKfwGASn8BgEp/AYBKfwGASn8Bq0x/AatMfwGrTH8Bq0x/AatMfwGrTH8Bq0x/AatMfwGrTH8Bq0x/AdZOfwHWTn8B1k5/AdZOfwHWTn8B1k5/AdZOfwHWTn8B1k5/AdZOfwEBUX8BAVF/AQFRfwEBUX8BAVF/AQFRfwEBUX8BAVF/AQFRfwEBUX8BLFN/ASxTfwEsU38BLFN/ASxTfwEsU38BLFN/ASxTfwEsU38BLFN/AVdVfwFXVX8BV1V/AVdVfwFXVX8BV1V/AVdVfwFXVX8BV1V/AX5XfwF+V38Bfld/AX5XfwF+V38Bfld/AX5XfwF+V38Bfld/AX5XfwGlWX8BpVl/AaVZfwGlWX8BpVl/AaVZfwGlWX8BpVl/AaVZfwGlWX8B0Ft/AdBbfwHQW38B0Ft/AdBbfwHQW38B0Ft/AdBbfwHQW38B0Ft/AftdfwH7XX8B+11/AftdfwH7XX8B+11/AftdfwH7XX8B+11/AftdfwEmYH8BJmB/ASZgfwEmYH8BJmB/ASZgfwEmYH8BJmB/ASZgfwEmYH8BUWJ/AVFifwFRYn8BUWJ/AVFifwFRYn8BUWJ/AVFifwFRYn8BUWJ/AXxkfwF8ZH8BfGR/AXxkfwF8ZH8BfGR/AXxkfwF8ZH8BfGR/AXxkfwGnZn8Bp2Z/AadmfwGnZn8Bp2Z/AadmfwGnZn8Bp2Z/AadmfwHSaH8B0mh/AdJofwHSaH8B0mh/AdJofwHSaH8B0mh/AdJofwHSaH8B/Wp/Af1qfwH9an8B/Wp/Af1qfwH9an8B/Wp/Af1qfwH9an8B/Wp/AShtfwEobX8BKG1/AShtfwEobX8BKG1/AShtfwEobX8BKG1/ASxtfwFTb38BU29/AVNvfwFTb38BU29/AVNvfwFTb38BU29/AVNvfwFTb38BfnF/AX5xfwF+cX8BfnF/AX5xfwF+cX8BfnF/AX5xfwF+cX8BfnF/AalzfwGpc38BqXN/AalzfwGpc38BqXN/AalzfwGpc38BqXN/AalzfwHUdX8B1HV/AdR1fwHUdX8B1HV/AdR1fwHUdX8B1HV/AdR1fwHUdX8B/3d/Af93fwH/d38B/3d/Af93fwH/d38B/3d/Af93fwH/d38BKnp/ASp6fwEqen8BKnp/ASp6fwEqen8BKnp/ASp6fwEqen8BKnp/AdV9fwEIf38BCH9/AQh/fwEIf38BCH9/AQh/fwEIf38BCH9/AQh/fwEzgX8BM4F/ATOBfwEzgX8BM4F/ATOBfwEzgX8BM4F/ATOBfwEzgX8BXoN/AV6DfwFeg38BXoN/AV6DfwFeg38BXoN/AV6DfwE=",
          "dtype": "i4"
         },
         "yaxis": "y"
        }
       ],
       "layout": {
        "legend": {
         "tracegroupgap": 0
        },
        "template": {
         "data": {
          "bar": [
           {
            "error_x": {
             "color": "#2a3f5f"
            },
            "error_y": {
             "color": "#2a3f5f"
            },
            "marker": {
             "line": {
              "color": "white",
              "width": 0.5
             },
             "pattern": {
              "fillmode": "overlay",
              "size": 10,
              "solidity": 0.2
             }
            },
            "type": "bar"
           }
          ],
          "barpolar": [
           {
            "marker": {
             "line": {
              "color": "white",
              "width": 0.5
             },
             "pattern": {
              "fillmode": "overlay",
              "size": 10,
              "solidity": 0.2
             }
            },
            "type": "barpolar"
           }
          ],
          "carpet": [
           {
            "aaxis": {
             "endlinecolor": "#2a3f5f",
             "gridcolor": "#C8D4E3",
             "linecolor": "#C8D4E3",
             "minorgridcolor": "#C8D4E3",
             "startlinecolor": "#2a3f5f"
            },
            "baxis": {
             "endlinecolor": "#2a3f5f",
             "gridcolor": "#C8D4E3",
             "linecolor": "#C8D4E3",
             "minorgridcolor": "#C8D4E3",
             "startlinecolor": "#2a3f5f"
            },
            "type": "carpet"
           }
          ],
          "choropleth": [
           {
            "colorbar": {
             "outlinewidth": 0,
             "ticks": ""
            },
            "type": "choropleth"
           }
          ],
          "contour": [
           {
            "colorbar": {
             "outlinewidth": 0,
             "ticks": ""
            },
            "colorscale": [
             [
              0,
              "#0d0887"
             ],
             [
              0.1111111111111111,
              "#46039f"
             ],
             [
              0.2222222222222222,
              "#7201a8"
             ],
             [
              0.3333333333333333,
              "#9c179e"
             ],
             [
              0.4444444444444444,
              "#bd3786"
             ],
             [
              0.5555555555555556,
              "#d8576b"
             ],
             [
              0.6666666666666666,
              "#ed7953"
             ],
             [
              0.7777777777777778,
              "#fb9f3a"
             ],
             [
              0.8888888888888888,
              "#fdca26"
             ],
             [
              1,
              "#f0f921"
             ]
            ],
            "type": "contour"
           }
          ],
          "contourcarpet": [
           {
            "colorbar": {
             "outlinewidth": 0,
             "ticks": ""
            },
            "type": "contourcarpet"
           }
          ],
          "heatmap": [
           {
            "colorbar": {
             "outlinewidth": 0,
             "ticks": ""
            },
            "colorscale": [
             [
              0,
              "#0d0887"
             ],
             [
              0.1111111111111111,
              "#46039f"
             ],
             [
              0.2222222222222222,
              "#7201a8"
             ],
             [
              0.3333333333333333,
              "#9c179e"
             ],
             [
              0.4444444444444444,
              "#bd3786"
             ],
             [
              0.5555555555555556,
              "#d8576b"
             ],
             [
              0.6666666666666666,
              "#ed7953"
             ],
             [
              0.7777777777777778,
              "#fb9f3a"
             ],
             [
              0.8888888888888888,
              "#fdca26"
             ],
             [
              1,
              "#f0f921"
             ]
            ],
            "type": "heatmap"
           }
          ],
          "histogram": [
           {
            "marker": {
             "pattern": {
              "fillmode": "overlay",
              "size": 10,
              "solidity": 0.2
             }
            },
            "type": "histogram"
           }
          ],
          "histogram2d": [
           {
            "colorbar": {
             "outlinewidth": 0,
             "ticks": ""
            },
            "colorscale": [
             [
              0,
              "#0d0887"
             ],
             [
              0.1111111111111111,
              "#46039f"
             ],
             [
              0.2222222222222222,
              "#7201a8"
             ],
             [
              0.3333333333333333,
              "#9c179e"
             ],
             [
              0.4444444444444444,
              "#bd3786"
             ],
             [
              0.5555555555555556,
              "#d8576b"
             ],
             [
              0.6666666666666666,
              "#ed7953"
             ],
             [
              0.7777777777777778,
              "#fb9f3a"
             ],
             [
              0.8888888888888888,
              "#fdca26"
             ],
             [
              1,
              "#f0f921"
             ]
            ],
            "type": "histogram2d"
           }
          ],
          "histogram2dcontour": [
           {
            "colorbar": {
             "outlinewidth": 0,
             "ticks": ""
            },
            "colorscale": [
             [
              0,
              "#0d0887"
             ],
             [
              0.1111111111111111,
              "#46039f"
             ],
             [
              0.2222222222222222,
              "#7201a8"
             ],
             [
              0.3333333333333333,
              "#9c179e"
             ],
             [
              0.4444444444444444,
              "#bd3786"
             ],
             [
              0.5555555555555556,
              "#d8576b"
             ],
             [
              0.6666666666666666,
              "#ed7953"
             ],
             [
              0.7777777777777778,
              "#fb9f3a"
             ],
             [
              0.8888888888888888,
              "#fdca26"
             ],
             [
              1,
              "#f0f921"
             ]
            ],
            "type": "histogram2dcontour"
           }
          ],
          "mesh3d": [
           {
            "colorbar": {
             "outlinewidth": 0,
             "ticks": ""
            },
            "type": "mesh3d"
           }
          ],
          "parcoords": [
           {
            "line": {
             "colorbar": {
              "outlinewidth": 0,
              "ticks": ""
             }
            },
            "type": "parcoords"
           }
          ],
          "pie": [
           {
            "automargin": true,
            "type": "pie"
           }
          ],
          "scatter": [
           {
            "fillpattern": {
             "fillmode": "overlay",
             "size": 10,
             "solidity": 0.2
            },
            "type": "scatter"
           }
          ],
          "scatter3d": [
           {
            "line": {
             "colorbar": {
              "outlinewidth": 0,
              "ticks": ""
             }
            },
            "marker": {
             "colorbar": {
              "outlinewidth": 0,
              "ticks": ""
             }
            },
            "type": "scatter3d"
           }
          ],
          "scattercarpet": [
           {
            "marker": {
             "colorbar": {
              "outlinewidth": 0,
              "ticks": ""
             }
            },
            "type": "scattercarpet"
           }
          ],
          "scattergeo": [
           {
            "marker": {
             "colorbar": {
              "outlinewidth": 0,
              "ticks": ""
             }
            },
            "type": "scattergeo"
           }
          ],
          "scattergl": [
           {
            "marker": {
             "colorbar": {
              "outlinewidth": 0,
              "ticks": ""
             }
            },
            "type": "scattergl"
           }
          ],
          "scattermap": [
           {
            "marker": {
             "colorbar": {
              "outlinewidth": 0,
              "ticks": ""
             }
            },
            "type": "scattermap"
           }
          ],
          "scattermapbox": [
           {
            "marker": {
             "colorbar": {
              "outlinewidth": 0,
              "ticks": ""
             }
            },
            "type": "scattermapbox"
           }
          ],
          "scatterpolar": [
           {
            "marker": {
             "colorbar": {
              "outlinewidth": 0,
              "ticks": ""
             }
            },
            "type": "scatterpolar"
           }
          ],
          "scatterpolargl": [
           {
            "marker": {
             "colorbar": {
              "outlinewidth": 0,
              "ticks": ""
             }
            },
            "type": "scatterpolargl"
           }
          ],
          "scatterternary": [
           {
            "marker": {
             "colorbar": {
              "outlinewidth": 0,
              "ticks": ""
             }
            },
            "type": "scatterternary"
           }
          ],
          "surface": [
           {
            "colorbar": {
             "outlinewidth": 0,
             "ticks": ""
            },
            "colorscale": [
             [
              0,
              "#0d0887"
             ],
             [
              0.1111111111111111,
              "#46039f"
             ],
             [
              0.2222222222222222,
              "#7201a8"
             ],
             [
              0.3333333333333333,
              "#9c179e"
             ],
             [
              0.4444444444444444,
              "#bd3786"
             ],
             [
              0.5555555555555556,
              "#d8576b"
             ],
             [
              0.6666666666666666,
              "#ed7953"
             ],
             [
              0.7777777777777778,
              "#fb9f3a"
             ],
             [
              0.8888888888888888,
              "#fdca26"
             ],
             [
              1,
              "#f0f921"
             ]
            ],
            "type": "surface"
           }
          ],
          "table": [
           {
            "cells": {
             "fill": {
              "color": "#EBF0F8"
             },
             "line": {
              "color": "white"
             }
            },
            "header": {
             "fill": {
              "color": "#C8D4E3"
             },
             "line": {
              "color": "white"
             }
            },
            "type": "table"
           }
          ]
         },
         "layout": {
          "annotationdefaults": {
           "arrowcolor": "#2a3f5f",
           "arrowhead": 0,
           "arrowwidth": 1
          },
          "autotypenumbers": "strict",
          "coloraxis": {
           "colorbar": {
            "outlinewidth": 0,
            "ticks": ""
           }
          },
          "colorscale": {
           "diverging": [
            [
             0,
             "#8e0152"
            ],
            [
             0.1,
             "#c51b7d"
            ],
            [
             0.2,
             "#de77ae"
            ],
            [
             0.3,
             "#f1b6da"
            ],
            [
             0.4,
             "#fde0ef"
            ],
            [
             0.5,
             "#f7f7f7"
            ],
            [
             0.6,
             "#e6f5d0"
            ],
            [
             0.7,
             "#b8e186"
            ],
            [
             0.8,
             "#7fbc41"
            ],
            [
             0.9,
             "#4d9221"
            ],
            [
             1,
             "#276419"
            ]
           ],
           "sequential": [
            [
             0,
             "#0d0887"
            ],
            [
             0.1111111111111111,
             "#46039f"
            ],
            [
             0.2222222222222222,
             "#7201a8"
            ],
            [
             0.3333333333333333,
             "#9c179e"
            ],
            [
             0.4444444444444444,
             "#bd3786"
            ],
            [
             0.5555555555555556,
             "#d8576b"
            ],
            [
             0.6666666666666666,
             "#ed7953"
            ],
            [
             0.7777777777777778,
             "#fb9f3a"
            ],
            [
             0.8888888888888888,
             "#fdca26"
            ],
            [
             1,
             "#f0f921"
            ]
           ],
           "sequentialminus": [
            [
             0,
             "#0d0887"
            ],
            [
             0.1111111111111111,
             "#46039f"
            ],
            [
             0.2222222222222222,
             "#7201a8"
            ],
            [
             0.3333333333333333,
             "#9c179e"
            ],
            [
             0.4444444444444444,
             "#bd3786"
            ],
            [
             0.5555555555555556,
             "#d8576b"
            ],
            [
             0.6666666666666666,
             "#ed7953"
            ],
            [
             0.7777777777777778,
             "#fb9f3a"
            ],
            [
             0.8888888888888888,
             "#fdca26"
            ],
            [
             1,
             "#f0f921"
            ]
           ]
          },
          "colorway": [
           "#636efa",
           "#EF553B",
           "#00cc96",
           "#ab63fa",
           "#FFA15A",
           "#19d3f3",
           "#FF6692",
           "#B6E880",
           "#FF97FF",
           "#FECB52"
          ],
          "font": {
           "color": "#2a3f5f"
          },
          "geo": {
           "bgcolor": "white",
           "lakecolor": "white",
           "landcolor": "white",
           "showlakes": true,
           "showland": true,
           "subunitcolor": "#C8D4E3"
          },
          "hoverlabel": {
           "align": "left"
          },
          "hovermode": "closest",
          "mapbox": {
           "style": "light"
          },
          "paper_bgcolor": "white",
          "plot_bgcolor": "white",
          "polar": {
           "angularaxis": {
            "gridcolor": "#EBF0F8",
            "linecolor": "#EBF0F8",
            "ticks": ""
           },
           "bgcolor": "white",
           "radialaxis": {
            "gridcolor": "#EBF0F8",
            "linecolor": "#EBF0F8",
            "ticks": ""
           }
          },
          "scene": {
           "xaxis": {
            "backgroundcolor": "white",
            "gridcolor": "#DFE8F3",
            "gridwidth": 2,
            "linecolor": "#EBF0F8",
            "showbackground": true,
            "ticks": "",
            "zerolinecolor": "#EBF0F8"
           },
           "yaxis": {
            "backgroundcolor": "white",
            "gridcolor": "#DFE8F3",
            "gridwidth": 2,
            "linecolor": "#EBF0F8",
            "showbackground": true,
            "ticks": "",
            "zerolinecolor": "#EBF0F8"
           },
           "zaxis": {
            "backgroundcolor": "white",
            "gridcolor": "#DFE8F3",
            "gridwidth": 2,
            "linecolor": "#EBF0F8",
            "showbackground": true,
            "ticks": "",
            "zerolinecolor": "#EBF0F8"
           }
          },
          "shapedefaults": {
           "line": {
            "color": "#2a3f5f"
           }
          },
          "ternary": {
           "aaxis": {
            "gridcolor": "#DFE8F3",
            "linecolor": "#A2B1C6",
            "ticks": ""
           },
           "baxis": {
            "gridcolor": "#DFE8F3",
            "linecolor": "#A2B1C6",
            "ticks": ""
           },
           "bgcolor": "white",
           "caxis": {
            "gridcolor": "#DFE8F3",
            "linecolor": "#A2B1C6",
            "ticks": ""
           }
          },
          "title": {
           "x": 0.05
          },
          "xaxis": {
           "automargin": true,
           "gridcolor": "#EBF0F8",
           "linecolor": "#EBF0F8",
           "ticks": "",
           "title": {
            "standoff": 15
           },
           "zerolinecolor": "#EBF0F8",
           "zerolinewidth": 2
          },
          "yaxis": {
           "automargin": true,
           "gridcolor": "#EBF0F8",
           "linecolor": "#EBF0F8",
           "ticks": "",
           "title": {
            "standoff": 15
           },
           "zerolinecolor": "#EBF0F8",
           "zerolinewidth": 2
          }
         }
        },
        "title": {
         "text": "Characters Read vs Timestamp",
         "x": 0.5
        },
        "xaxis": {
         "anchor": "y",
         "domain": [
          0,
          1
         ],
         "tickangle": 45,
         "title": {
          "text": "Timestamp"
         }
        },
        "yaxis": {
         "anchor": "x",
         "domain": [
          0,
          1
         ],
         "title": {
          "text": "Character Read"
         }
        }
       }
      }
     },
     "metadata": {},
     "output_type": "display_data"
    }
   ],
   "source": [
    "# Import Plotly\n",
    "import plotly.express as px\n",
    "\n",
    "# Create a line plot for rchar vs timestamp\n",
    "fig = px.line(\n",
    "    df,\n",
    "    x='timestamp',\n",
    "    y='rchar',\n",
    "    title='Characters Read vs Timestamp',\n",
    "    labels={'timestamp': 'Timestamp', 'rchar': 'rchar'},\n",
    "    template='plotly_white'\n",
    ")\n",
    "\n",
    "# Customize the layout\n",
    "fig.update_layout(\n",
    "    xaxis_title='Timestamp',\n",
    "    yaxis_title='Character Read',\n",
    "    xaxis=dict(tickangle=45),\n",
    "    title_x=0.5\n",
    ")\n",
    "\n",
    "# Show the plot\n",
    "fig.show()"
   ]
  }
 ],
 "metadata": {
  "kernelspec": {
   "display_name": "venv",
   "language": "python",
   "name": "python3"
  },
  "language_info": {
   "codemirror_mode": {
    "name": "ipython",
    "version": 3
   },
   "file_extension": ".py",
   "mimetype": "text/x-python",
   "name": "python",
   "nbconvert_exporter": "python",
   "pygments_lexer": "ipython3",
   "version": "3.13.3"
  }
 },
 "nbformat": 4,
 "nbformat_minor": 5
}
