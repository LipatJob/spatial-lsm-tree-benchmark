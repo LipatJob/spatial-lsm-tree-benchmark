{
 "cells": [
  {
   "cell_type": "markdown",
   "id": "95695cfe",
   "metadata": {},
   "source": [
    "## Input Files"
   ]
  },
  {
   "cell_type": "code",
   "execution_count": 110,
   "id": "1c736e99",
   "metadata": {},
   "outputs": [
    {
     "name": "stdout",
     "output_type": "stream",
     "text": [
      "Requirement already satisfied: plotly in /Users/jarred.luzada/.asdf/installs/python/3.10.0/lib/python3.10/site-packages (6.0.1)\n",
      "Requirement already satisfied: packaging in /Users/jarred.luzada/.asdf/installs/python/3.10.0/lib/python3.10/site-packages (from plotly) (24.2)\n",
      "Requirement already satisfied: narwhals>=1.15.1 in /Users/jarred.luzada/.asdf/installs/python/3.10.0/lib/python3.10/site-packages (from plotly) (1.37.0)\n",
      "\u001b[33mWARNING: You are using pip version 21.2.3; however, version 25.1 is available.\n",
      "You should consider upgrading via the '/Users/jarred.luzada/.asdf/installs/python/3.10.0/bin/python -m pip install --upgrade pip' command.\u001b[0m\n",
      "Note: you may need to restart the kernel to use updated packages.\n",
      "Requirement already satisfied: kaleido in /Users/jarred.luzada/.asdf/installs/python/3.10.0/lib/python3.10/site-packages (0.2.1)\n",
      "\u001b[33mWARNING: You are using pip version 21.2.3; however, version 25.1 is available.\n",
      "You should consider upgrading via the '/Users/jarred.luzada/.asdf/installs/python/3.10.0/bin/python -m pip install --upgrade pip' command.\u001b[0m\n",
      "Note: you may need to restart the kernel to use updated packages.\n"
     ]
    }
   ],
   "source": [
    "%pip install plotly\n",
    "%pip install kaleido"
   ]
  },
  {
   "cell_type": "code",
   "execution_count": 111,
   "id": "5e71e8df",
   "metadata": {},
   "outputs": [],
   "source": [
    "import plotly.express as px\n",
    "import pandas as pd\n",
    "\n",
    "writes_throughput_data_path = \"logs/benchmark/benchmark_LocationDb_Locations_RTree_CorrelatedPrefix_10000_latest.log\"\n",
    "writes_io_data_path = \"logs/disk/disk_cc_1745867829.log\"\n",
    "reads_throughput_data_path = \"\"\n",
    "reads_io_data_path = \"\"\n",
    "\n",
    "benchmark_type = \"insert-query-correlated-prefix\""
   ]
  },
  {
   "cell_type": "code",
   "execution_count": 112,
   "id": "3b24cf02",
   "metadata": {},
   "outputs": [
    {
     "data": {
      "text/html": [
       "<div>\n",
       "<style scoped>\n",
       "    .dataframe tbody tr th:only-of-type {\n",
       "        vertical-align: middle;\n",
       "    }\n",
       "\n",
       "    .dataframe tbody tr th {\n",
       "        vertical-align: top;\n",
       "    }\n",
       "\n",
       "    .dataframe thead th {\n",
       "        text-align: right;\n",
       "    }\n",
       "</style>\n",
       "<table border=\"1\" class=\"dataframe\">\n",
       "  <thead>\n",
       "    <tr style=\"text-align: right;\">\n",
       "      <th></th>\n",
       "      <th>timestamp</th>\n",
       "      <th>rchar</th>\n",
       "      <th>wchar</th>\n",
       "      <th>syscr</th>\n",
       "      <th>syscw</th>\n",
       "      <th>read_bytes</th>\n",
       "      <th>write_bytes</th>\n",
       "      <th>cancelled_write_bytes</th>\n",
       "    </tr>\n",
       "  </thead>\n",
       "  <tbody>\n",
       "    <tr>\n",
       "      <th>0</th>\n",
       "      <td>2025-04-28 19:17:17</td>\n",
       "      <td>25109629</td>\n",
       "      <td>45881</td>\n",
       "      <td>13002</td>\n",
       "      <td>149</td>\n",
       "      <td>0</td>\n",
       "      <td>61440</td>\n",
       "      <td>0</td>\n",
       "    </tr>\n",
       "    <tr>\n",
       "      <th>1</th>\n",
       "      <td>2025-04-28 19:17:18</td>\n",
       "      <td>26318636</td>\n",
       "      <td>102511</td>\n",
       "      <td>14339</td>\n",
       "      <td>237</td>\n",
       "      <td>0</td>\n",
       "      <td>69632</td>\n",
       "      <td>0</td>\n",
       "    </tr>\n",
       "    <tr>\n",
       "      <th>2</th>\n",
       "      <td>2025-04-28 19:17:19</td>\n",
       "      <td>26551768</td>\n",
       "      <td>351459</td>\n",
       "      <td>14834</td>\n",
       "      <td>481</td>\n",
       "      <td>0</td>\n",
       "      <td>73728</td>\n",
       "      <td>0</td>\n",
       "    </tr>\n",
       "    <tr>\n",
       "      <th>3</th>\n",
       "      <td>2025-04-28 19:17:20</td>\n",
       "      <td>26551768</td>\n",
       "      <td>351459</td>\n",
       "      <td>14834</td>\n",
       "      <td>481</td>\n",
       "      <td>0</td>\n",
       "      <td>73728</td>\n",
       "      <td>0</td>\n",
       "    </tr>\n",
       "    <tr>\n",
       "      <th>4</th>\n",
       "      <td>2025-04-28 19:17:21</td>\n",
       "      <td>26551768</td>\n",
       "      <td>351459</td>\n",
       "      <td>14834</td>\n",
       "      <td>481</td>\n",
       "      <td>0</td>\n",
       "      <td>73728</td>\n",
       "      <td>0</td>\n",
       "    </tr>\n",
       "    <tr>\n",
       "      <th>...</th>\n",
       "      <td>...</td>\n",
       "      <td>...</td>\n",
       "      <td>...</td>\n",
       "      <td>...</td>\n",
       "      <td>...</td>\n",
       "      <td>...</td>\n",
       "      <td>...</td>\n",
       "      <td>...</td>\n",
       "    </tr>\n",
       "    <tr>\n",
       "      <th>343</th>\n",
       "      <td>2025-04-28 19:23:11</td>\n",
       "      <td>444150367</td>\n",
       "      <td>981418603</td>\n",
       "      <td>2487858</td>\n",
       "      <td>1238158</td>\n",
       "      <td>0</td>\n",
       "      <td>217722880</td>\n",
       "      <td>11177984</td>\n",
       "    </tr>\n",
       "    <tr>\n",
       "      <th>344</th>\n",
       "      <td>2025-04-28 19:23:12</td>\n",
       "      <td>444150367</td>\n",
       "      <td>981418603</td>\n",
       "      <td>2487858</td>\n",
       "      <td>1238158</td>\n",
       "      <td>0</td>\n",
       "      <td>217722880</td>\n",
       "      <td>11177984</td>\n",
       "    </tr>\n",
       "    <tr>\n",
       "      <th>345</th>\n",
       "      <td>2025-04-28 19:23:13</td>\n",
       "      <td>444150371</td>\n",
       "      <td>981418603</td>\n",
       "      <td>2487859</td>\n",
       "      <td>1238158</td>\n",
       "      <td>0</td>\n",
       "      <td>217722880</td>\n",
       "      <td>11177984</td>\n",
       "    </tr>\n",
       "    <tr>\n",
       "      <th>346</th>\n",
       "      <td>2025-04-28 19:23:14</td>\n",
       "      <td>444150371</td>\n",
       "      <td>981418603</td>\n",
       "      <td>2487859</td>\n",
       "      <td>1238158</td>\n",
       "      <td>0</td>\n",
       "      <td>217722880</td>\n",
       "      <td>11177984</td>\n",
       "    </tr>\n",
       "    <tr>\n",
       "      <th>347</th>\n",
       "      <td>2025-04-28 19:23:15</td>\n",
       "      <td>444150922</td>\n",
       "      <td>981419070</td>\n",
       "      <td>2487861</td>\n",
       "      <td>1238160</td>\n",
       "      <td>0</td>\n",
       "      <td>217722880</td>\n",
       "      <td>11177984</td>\n",
       "    </tr>\n",
       "  </tbody>\n",
       "</table>\n",
       "<p>348 rows × 8 columns</p>\n",
       "</div>"
      ],
      "text/plain": [
       "              timestamp      rchar      wchar    syscr    syscw  read_bytes  \\\n",
       "0   2025-04-28 19:17:17   25109629      45881    13002      149           0   \n",
       "1   2025-04-28 19:17:18   26318636     102511    14339      237           0   \n",
       "2   2025-04-28 19:17:19   26551768     351459    14834      481           0   \n",
       "3   2025-04-28 19:17:20   26551768     351459    14834      481           0   \n",
       "4   2025-04-28 19:17:21   26551768     351459    14834      481           0   \n",
       "..                  ...        ...        ...      ...      ...         ...   \n",
       "343 2025-04-28 19:23:11  444150367  981418603  2487858  1238158           0   \n",
       "344 2025-04-28 19:23:12  444150367  981418603  2487858  1238158           0   \n",
       "345 2025-04-28 19:23:13  444150371  981418603  2487859  1238158           0   \n",
       "346 2025-04-28 19:23:14  444150371  981418603  2487859  1238158           0   \n",
       "347 2025-04-28 19:23:15  444150922  981419070  2487861  1238160           0   \n",
       "\n",
       "     write_bytes  cancelled_write_bytes  \n",
       "0          61440                      0  \n",
       "1          69632                      0  \n",
       "2          73728                      0  \n",
       "3          73728                      0  \n",
       "4          73728                      0  \n",
       "..           ...                    ...  \n",
       "343    217722880               11177984  \n",
       "344    217722880               11177984  \n",
       "345    217722880               11177984  \n",
       "346    217722880               11177984  \n",
       "347    217722880               11177984  \n",
       "\n",
       "[348 rows x 8 columns]"
      ]
     },
     "execution_count": 112,
     "metadata": {},
     "output_type": "execute_result"
    }
   ],
   "source": [
    "# Define a function to parse the log file\n",
    "def parse_io_log_file(file_path):\n",
    "    # Open and read the log file\n",
    "    with open(file_path, 'r') as file:\n",
    "        log_data = file.read()\n",
    "    \n",
    "    # Split the log data into individual records using \"---\" as the delimiter\n",
    "    records = log_data.split('---')\n",
    "    \n",
    "    # Remove any empty records (e.g., due to trailing \"---\")\n",
    "    records = [record.strip() for record in records if record.strip()]\n",
    "    \n",
    "    # Parse each record into a dictionary\n",
    "    parsed_records = []\n",
    "    for record in records:\n",
    "        record_dict = {}\n",
    "        for line in record.split('\\n'):\n",
    "            if ':' in line:  # Assuming key-value pairs are separated by \":\"\n",
    "                key, value = line.split(':', 1)\n",
    "                record_dict[key.strip()] = value.strip()\n",
    "        parsed_records.append(record_dict)\n",
    "    \n",
    "    # Convert the list of dictionaries into a pandas DataFrame\n",
    "    columns = ['timestamp', 'rchar', 'wchar', 'syscr', 'syscw', 'read_bytes', 'write_bytes', 'cancelled_write_bytes']\n",
    "    dtypes = {'timestamp': 'int64', 'rchar': 'int64', 'wchar': 'int64', 'syscr': 'int64', 'syscw': 'int64', 'read_bytes': 'int64', 'write_bytes': 'int64', 'cancelled_write_bytes': 'int64'}\n",
    "    df = pd.DataFrame(parsed_records, columns=columns).astype(dtypes)\n",
    "    df['timestamp'] = pd.to_datetime(df['timestamp'],unit='s')\n",
    "    return df\n",
    "\n",
    "io_df = parse_io_log_file(writes_io_data_path)\n",
    "io_df"
   ]
  },
  {
   "cell_type": "code",
   "execution_count": 113,
   "id": "61dd6cb6",
   "metadata": {},
   "outputs": [],
   "source": [
    "io_df.to_csv(f\"./results/{benchmark_type}-io.csv\", index=False)"
   ]
  },
  {
   "cell_type": "code",
   "execution_count": 114,
   "id": "35a0c428",
   "metadata": {},
   "outputs": [],
   "source": [
    "def visualize_io_data(df, ycolumn='rchar', yaxis_title='Characters Read', title='Characters Read vs Timestamp'):\n",
    "    fig = px.line(\n",
    "        df,\n",
    "        x='timestamp',\n",
    "        y=ycolumn,\n",
    "        title=title,\n",
    "        labels={'timestamp': 'Timestamp', ycolumn: ycolumn},\n",
    "        template='plotly_white'\n",
    "    )\n",
    "\n",
    "    # Customize the layout\n",
    "    fig.update_layout(\n",
    "        xaxis_title='Timestamp',\n",
    "        yaxis_title=yaxis_title,\n",
    "        xaxis=dict(tickangle=45),\n",
    "        title_x=0.5\n",
    "    )\n",
    "\n",
    "    # Show the plot\n",
    "    return fig"
   ]
  },
  {
   "cell_type": "code",
   "execution_count": null,
   "id": "e218a050",
   "metadata": {},
   "outputs": [
    {
     "name": "stderr",
     "output_type": "stream",
     "text": [
      "/var/folders/tc/_8xj206d6wb42x7t18pt16880000gr/T/ipykernel_5648/2667553966.py:29: FutureWarning:\n",
      "\n",
      "The behavior of 'to_datetime' with 'unit' when parsing strings is deprecated. In a future version, strings will be parsed as datetime strings, matching the behavior without a 'unit'. To retain the old behavior, explicitly cast ints or floats to numeric type before calling to_datetime.\n",
      "\n"
     ]
    },
    {
     "data": {
      "text/html": [
       "<div>\n",
       "<style scoped>\n",
       "    .dataframe tbody tr th:only-of-type {\n",
       "        vertical-align: middle;\n",
       "    }\n",
       "\n",
       "    .dataframe tbody tr th {\n",
       "        vertical-align: top;\n",
       "    }\n",
       "\n",
       "    .dataframe thead th {\n",
       "        text-align: right;\n",
       "    }\n",
       "</style>\n",
       "<table border=\"1\" class=\"dataframe\">\n",
       "  <thead>\n",
       "    <tr style=\"text-align: right;\">\n",
       "      <th></th>\n",
       "      <th>timestamp</th>\n",
       "      <th>elapsed_time</th>\n",
       "      <th>execution_time</th>\n",
       "      <th>compile_time</th>\n",
       "      <th>queue_wait_time</th>\n",
       "    </tr>\n",
       "  </thead>\n",
       "  <tbody>\n",
       "    <tr>\n",
       "      <th>0</th>\n",
       "      <td>2025-04-28 19:18:05</td>\n",
       "      <td>39893.470185</td>\n",
       "      <td>39152.337518</td>\n",
       "      <td>0.0</td>\n",
       "      <td>0.0</td>\n",
       "    </tr>\n",
       "    <tr>\n",
       "      <th>1</th>\n",
       "      <td>2025-04-28 19:18:22</td>\n",
       "      <td>15993.054590</td>\n",
       "      <td>15039.940632</td>\n",
       "      <td>0.0</td>\n",
       "      <td>0.0</td>\n",
       "    </tr>\n",
       "    <tr>\n",
       "      <th>2</th>\n",
       "      <td>2025-04-28 19:18:29</td>\n",
       "      <td>6194.760836</td>\n",
       "      <td>5896.414002</td>\n",
       "      <td>0.0</td>\n",
       "      <td>0.0</td>\n",
       "    </tr>\n",
       "    <tr>\n",
       "      <th>3</th>\n",
       "      <td>2025-04-28 19:18:34</td>\n",
       "      <td>5304.943085</td>\n",
       "      <td>4828.142086</td>\n",
       "      <td>0.0</td>\n",
       "      <td>0.0</td>\n",
       "    </tr>\n",
       "    <tr>\n",
       "      <th>4</th>\n",
       "      <td>2025-04-28 19:18:40</td>\n",
       "      <td>5745.380169</td>\n",
       "      <td>5541.652377</td>\n",
       "      <td>0.0</td>\n",
       "      <td>0.0</td>\n",
       "    </tr>\n",
       "  </tbody>\n",
       "</table>\n",
       "</div>"
      ],
      "text/plain": [
       "            timestamp  elapsed_time  execution_time  compile_time  \\\n",
       "0 2025-04-28 19:18:05  39893.470185    39152.337518           0.0   \n",
       "1 2025-04-28 19:18:22  15993.054590    15039.940632           0.0   \n",
       "2 2025-04-28 19:18:29   6194.760836     5896.414002           0.0   \n",
       "3 2025-04-28 19:18:34   5304.943085     4828.142086           0.0   \n",
       "4 2025-04-28 19:18:40   5745.380169     5541.652377           0.0   \n",
       "\n",
       "   queue_wait_time  \n",
       "0              0.0  \n",
       "1              0.0  \n",
       "2              0.0  \n",
       "3              0.0  \n",
       "4              0.0  "
      ]
     },
     "execution_count": 115,
     "metadata": {},
     "output_type": "execute_result"
    }
   ],
   "source": [
    "import json\n",
    "def parse_throughput_log_file(file_path):\n",
    "    # Open and read the log file\n",
    "    rows = []\n",
    "    with open(file_path, 'r') as file:\n",
    "        for line in file:\n",
    "            timestamp, status, message = line.split(\" - \")\n",
    "            json_message = json.loads(message)\n",
    "            # if json_message[\"status\"] != \"success\" or json_message[\"event\"] != \"command.query\":\n",
    "            #     continue\n",
    "            metrics = json_message.get(\"metrics\")\n",
    "            rows.append({\n",
    "                \"timestamp\": timestamp,\n",
    "                #\"status\": json_message.get(\"status\"),\n",
    "                \"elapsed_time\": metrics.get(\"elapsedTime\"),\n",
    "                \"execution_time\": metrics.get(\"executionTime\"),\n",
    "                \"compile_time\": metrics.get(\"compileTime\"),\n",
    "                \"queue_wait_time\": metrics.get(\"queueWaitTime\"),\n",
    "                # \"resultCount\": metrics.get(\"resultCount\"),\n",
    "                # \"result_size\": metrics.get(\"resultSize\"),\n",
    "                # \"processed_objects\": metrics.get(\"processedObjects\"),\n",
    "            })\n",
    "    df = pd.DataFrame(rows)\n",
    "    duration_columns = [\"elapsed_time\", \"execution_time\", \"compile_time\", \"queue_wait_time\"]\n",
    "    for col in duration_columns:\n",
    "        multiplier = df[col].str.extract(r'(ms|ns|s)$', expand=False).map({'ms': 1, 's': 1000, 'ns': 0.001}).fillna(1)\n",
    "        df[col] = df[col].str.extract(r'(\\d+\\.?\\d*)', expand=False).astype(\"double\")\n",
    "        df[col] = df[col] * multiplier\n",
    "    df['timestamp'] = pd.to_datetime(df['timestamp'],unit='s')\n",
    "    return df\n",
    "    \n",
    "            \n",
    "throughput_df = parse_throughput_log_file(writes_throughput_data_path)\n",
    "throughput_df.head()"
   ]
  },
  {
   "cell_type": "code",
   "execution_count": 116,
   "id": "01a0b915",
   "metadata": {},
   "outputs": [],
   "source": [
    "throughput_df.to_csv(f\"./results/{benchmark_type}-throughput.csv\", index=False)"
   ]
  },
  {
   "cell_type": "code",
   "execution_count": null,
   "id": "55328a51",
   "metadata": {},
   "outputs": [
    {
     "data": {
      "application/vnd.plotly.v1+json": {
       "config": {
        "plotlyServerURL": "https://plot.ly"
       },
       "data": [
        {
         "hovertemplate": "Timestamp=%{x}<br>Execution Time (ms)=%{y}<extra></extra>",
         "legendgroup": "",
         "line": {
          "color": "#636efa",
          "dash": "solid"
         },
         "marker": {
          "symbol": "circle"
         },
         "mode": "lines",
         "name": "",
         "orientation": "v",
         "showlegend": false,
         "type": "scatter",
         "x": [
          "2025-04-28T19:18:05",
          "2025-04-28T19:18:22",
          "2025-04-28T19:18:29",
          "2025-04-28T19:18:34",
          "2025-04-28T19:18:40",
          "2025-04-28T19:18:47",
          "2025-04-28T19:18:53",
          "2025-04-28T19:18:59",
          "2025-04-28T19:19:06",
          "2025-04-28T19:19:12",
          "2025-04-28T19:19:18",
          "2025-04-28T19:19:24",
          "2025-04-28T19:19:30",
          "2025-04-28T19:19:36",
          "2025-04-28T19:19:43",
          "2025-04-28T19:19:51",
          "2025-04-28T19:19:56",
          "2025-04-28T19:20:02",
          "2025-04-28T19:20:08",
          "2025-04-28T19:20:15",
          "2025-04-28T19:20:24",
          "2025-04-28T19:20:44",
          "2025-04-28T19:20:54",
          "2025-04-28T19:21:00",
          "2025-04-28T19:21:06",
          "2025-04-28T19:21:12",
          "2025-04-28T19:21:22",
          "2025-04-28T19:21:31",
          "2025-04-28T19:21:38",
          "2025-04-28T19:21:44",
          "2025-04-28T19:21:50",
          "2025-04-28T19:21:57",
          "2025-04-28T19:22:03",
          "2025-04-28T19:22:10",
          "2025-04-28T19:22:16",
          "2025-04-28T19:22:22",
          "2025-04-28T19:22:29",
          "2025-04-28T19:22:36",
          "2025-04-28T19:22:42",
          "2025-04-28T19:22:49",
          "2025-04-28T19:22:59"
         ],
         "xaxis": "x",
         "y": {
          "bdata": "eozyzAoe40DJHqFm+F/NQHv6CPxpCLdAOIO/XyTcskCq1y0Cp6W1QC457pTy5LlA2BNdF96us0ACm3PwLJW1QH45s10BC7dA9PdSeJRitUCE0axs06e1QKEUrdxT97VA9yLajlUPtkAN/KiGhS63QJUSglUBpbdAsvZ3tit2u0Bc/67P9ES0QGqLa3zqcbVAEvOspHF1tUCJJ7uZIdi2QCTs20nIg8FAtK7Rcqga0kBZpl8iQi6/QOFgb2KM6rVAfSJPknIjt0AAWYgOCUe2QFJ6ppdYXcFAHLYtyjqUwEB9mL1sP+q4QIF4Xb+A0rdAKm1xjbP9tEDEYtS1gsm3QEUm4Nd4k7dAPxu5bq7QtkCVnBN7JHC2QIdvYd2sR7dAEtxI2e6UuUB8gVmhUIa3QB/ec2CVPbdAZcIv9R/YtUDw3Hu4FHDCQA==",
          "dtype": "f8"
         },
         "yaxis": "y"
        }
       ],
       "layout": {
        "legend": {
         "tracegroupgap": 0
        },
        "template": {
         "data": {
          "bar": [
           {
            "error_x": {
             "color": "#2a3f5f"
            },
            "error_y": {
             "color": "#2a3f5f"
            },
            "marker": {
             "line": {
              "color": "white",
              "width": 0.5
             },
             "pattern": {
              "fillmode": "overlay",
              "size": 10,
              "solidity": 0.2
             }
            },
            "type": "bar"
           }
          ],
          "barpolar": [
           {
            "marker": {
             "line": {
              "color": "white",
              "width": 0.5
             },
             "pattern": {
              "fillmode": "overlay",
              "size": 10,
              "solidity": 0.2
             }
            },
            "type": "barpolar"
           }
          ],
          "carpet": [
           {
            "aaxis": {
             "endlinecolor": "#2a3f5f",
             "gridcolor": "#C8D4E3",
             "linecolor": "#C8D4E3",
             "minorgridcolor": "#C8D4E3",
             "startlinecolor": "#2a3f5f"
            },
            "baxis": {
             "endlinecolor": "#2a3f5f",
             "gridcolor": "#C8D4E3",
             "linecolor": "#C8D4E3",
             "minorgridcolor": "#C8D4E3",
             "startlinecolor": "#2a3f5f"
            },
            "type": "carpet"
           }
          ],
          "choropleth": [
           {
            "colorbar": {
             "outlinewidth": 0,
             "ticks": ""
            },
            "type": "choropleth"
           }
          ],
          "contour": [
           {
            "colorbar": {
             "outlinewidth": 0,
             "ticks": ""
            },
            "colorscale": [
             [
              0,
              "#0d0887"
             ],
             [
              0.1111111111111111,
              "#46039f"
             ],
             [
              0.2222222222222222,
              "#7201a8"
             ],
             [
              0.3333333333333333,
              "#9c179e"
             ],
             [
              0.4444444444444444,
              "#bd3786"
             ],
             [
              0.5555555555555556,
              "#d8576b"
             ],
             [
              0.6666666666666666,
              "#ed7953"
             ],
             [
              0.7777777777777778,
              "#fb9f3a"
             ],
             [
              0.8888888888888888,
              "#fdca26"
             ],
             [
              1,
              "#f0f921"
             ]
            ],
            "type": "contour"
           }
          ],
          "contourcarpet": [
           {
            "colorbar": {
             "outlinewidth": 0,
             "ticks": ""
            },
            "type": "contourcarpet"
           }
          ],
          "heatmap": [
           {
            "colorbar": {
             "outlinewidth": 0,
             "ticks": ""
            },
            "colorscale": [
             [
              0,
              "#0d0887"
             ],
             [
              0.1111111111111111,
              "#46039f"
             ],
             [
              0.2222222222222222,
              "#7201a8"
             ],
             [
              0.3333333333333333,
              "#9c179e"
             ],
             [
              0.4444444444444444,
              "#bd3786"
             ],
             [
              0.5555555555555556,
              "#d8576b"
             ],
             [
              0.6666666666666666,
              "#ed7953"
             ],
             [
              0.7777777777777778,
              "#fb9f3a"
             ],
             [
              0.8888888888888888,
              "#fdca26"
             ],
             [
              1,
              "#f0f921"
             ]
            ],
            "type": "heatmap"
           }
          ],
          "histogram": [
           {
            "marker": {
             "pattern": {
              "fillmode": "overlay",
              "size": 10,
              "solidity": 0.2
             }
            },
            "type": "histogram"
           }
          ],
          "histogram2d": [
           {
            "colorbar": {
             "outlinewidth": 0,
             "ticks": ""
            },
            "colorscale": [
             [
              0,
              "#0d0887"
             ],
             [
              0.1111111111111111,
              "#46039f"
             ],
             [
              0.2222222222222222,
              "#7201a8"
             ],
             [
              0.3333333333333333,
              "#9c179e"
             ],
             [
              0.4444444444444444,
              "#bd3786"
             ],
             [
              0.5555555555555556,
              "#d8576b"
             ],
             [
              0.6666666666666666,
              "#ed7953"
             ],
             [
              0.7777777777777778,
              "#fb9f3a"
             ],
             [
              0.8888888888888888,
              "#fdca26"
             ],
             [
              1,
              "#f0f921"
             ]
            ],
            "type": "histogram2d"
           }
          ],
          "histogram2dcontour": [
           {
            "colorbar": {
             "outlinewidth": 0,
             "ticks": ""
            },
            "colorscale": [
             [
              0,
              "#0d0887"
             ],
             [
              0.1111111111111111,
              "#46039f"
             ],
             [
              0.2222222222222222,
              "#7201a8"
             ],
             [
              0.3333333333333333,
              "#9c179e"
             ],
             [
              0.4444444444444444,
              "#bd3786"
             ],
             [
              0.5555555555555556,
              "#d8576b"
             ],
             [
              0.6666666666666666,
              "#ed7953"
             ],
             [
              0.7777777777777778,
              "#fb9f3a"
             ],
             [
              0.8888888888888888,
              "#fdca26"
             ],
             [
              1,
              "#f0f921"
             ]
            ],
            "type": "histogram2dcontour"
           }
          ],
          "mesh3d": [
           {
            "colorbar": {
             "outlinewidth": 0,
             "ticks": ""
            },
            "type": "mesh3d"
           }
          ],
          "parcoords": [
           {
            "line": {
             "colorbar": {
              "outlinewidth": 0,
              "ticks": ""
             }
            },
            "type": "parcoords"
           }
          ],
          "pie": [
           {
            "automargin": true,
            "type": "pie"
           }
          ],
          "scatter": [
           {
            "fillpattern": {
             "fillmode": "overlay",
             "size": 10,
             "solidity": 0.2
            },
            "type": "scatter"
           }
          ],
          "scatter3d": [
           {
            "line": {
             "colorbar": {
              "outlinewidth": 0,
              "ticks": ""
             }
            },
            "marker": {
             "colorbar": {
              "outlinewidth": 0,
              "ticks": ""
             }
            },
            "type": "scatter3d"
           }
          ],
          "scattercarpet": [
           {
            "marker": {
             "colorbar": {
              "outlinewidth": 0,
              "ticks": ""
             }
            },
            "type": "scattercarpet"
           }
          ],
          "scattergeo": [
           {
            "marker": {
             "colorbar": {
              "outlinewidth": 0,
              "ticks": ""
             }
            },
            "type": "scattergeo"
           }
          ],
          "scattergl": [
           {
            "marker": {
             "colorbar": {
              "outlinewidth": 0,
              "ticks": ""
             }
            },
            "type": "scattergl"
           }
          ],
          "scattermap": [
           {
            "marker": {
             "colorbar": {
              "outlinewidth": 0,
              "ticks": ""
             }
            },
            "type": "scattermap"
           }
          ],
          "scattermapbox": [
           {
            "marker": {
             "colorbar": {
              "outlinewidth": 0,
              "ticks": ""
             }
            },
            "type": "scattermapbox"
           }
          ],
          "scatterpolar": [
           {
            "marker": {
             "colorbar": {
              "outlinewidth": 0,
              "ticks": ""
             }
            },
            "type": "scatterpolar"
           }
          ],
          "scatterpolargl": [
           {
            "marker": {
             "colorbar": {
              "outlinewidth": 0,
              "ticks": ""
             }
            },
            "type": "scatterpolargl"
           }
          ],
          "scatterternary": [
           {
            "marker": {
             "colorbar": {
              "outlinewidth": 0,
              "ticks": ""
             }
            },
            "type": "scatterternary"
           }
          ],
          "surface": [
           {
            "colorbar": {
             "outlinewidth": 0,
             "ticks": ""
            },
            "colorscale": [
             [
              0,
              "#0d0887"
             ],
             [
              0.1111111111111111,
              "#46039f"
             ],
             [
              0.2222222222222222,
              "#7201a8"
             ],
             [
              0.3333333333333333,
              "#9c179e"
             ],
             [
              0.4444444444444444,
              "#bd3786"
             ],
             [
              0.5555555555555556,
              "#d8576b"
             ],
             [
              0.6666666666666666,
              "#ed7953"
             ],
             [
              0.7777777777777778,
              "#fb9f3a"
             ],
             [
              0.8888888888888888,
              "#fdca26"
             ],
             [
              1,
              "#f0f921"
             ]
            ],
            "type": "surface"
           }
          ],
          "table": [
           {
            "cells": {
             "fill": {
              "color": "#EBF0F8"
             },
             "line": {
              "color": "white"
             }
            },
            "header": {
             "fill": {
              "color": "#C8D4E3"
             },
             "line": {
              "color": "white"
             }
            },
            "type": "table"
           }
          ]
         },
         "layout": {
          "annotationdefaults": {
           "arrowcolor": "#2a3f5f",
           "arrowhead": 0,
           "arrowwidth": 1
          },
          "autotypenumbers": "strict",
          "coloraxis": {
           "colorbar": {
            "outlinewidth": 0,
            "ticks": ""
           }
          },
          "colorscale": {
           "diverging": [
            [
             0,
             "#8e0152"
            ],
            [
             0.1,
             "#c51b7d"
            ],
            [
             0.2,
             "#de77ae"
            ],
            [
             0.3,
             "#f1b6da"
            ],
            [
             0.4,
             "#fde0ef"
            ],
            [
             0.5,
             "#f7f7f7"
            ],
            [
             0.6,
             "#e6f5d0"
            ],
            [
             0.7,
             "#b8e186"
            ],
            [
             0.8,
             "#7fbc41"
            ],
            [
             0.9,
             "#4d9221"
            ],
            [
             1,
             "#276419"
            ]
           ],
           "sequential": [
            [
             0,
             "#0d0887"
            ],
            [
             0.1111111111111111,
             "#46039f"
            ],
            [
             0.2222222222222222,
             "#7201a8"
            ],
            [
             0.3333333333333333,
             "#9c179e"
            ],
            [
             0.4444444444444444,
             "#bd3786"
            ],
            [
             0.5555555555555556,
             "#d8576b"
            ],
            [
             0.6666666666666666,
             "#ed7953"
            ],
            [
             0.7777777777777778,
             "#fb9f3a"
            ],
            [
             0.8888888888888888,
             "#fdca26"
            ],
            [
             1,
             "#f0f921"
            ]
           ],
           "sequentialminus": [
            [
             0,
             "#0d0887"
            ],
            [
             0.1111111111111111,
             "#46039f"
            ],
            [
             0.2222222222222222,
             "#7201a8"
            ],
            [
             0.3333333333333333,
             "#9c179e"
            ],
            [
             0.4444444444444444,
             "#bd3786"
            ],
            [
             0.5555555555555556,
             "#d8576b"
            ],
            [
             0.6666666666666666,
             "#ed7953"
            ],
            [
             0.7777777777777778,
             "#fb9f3a"
            ],
            [
             0.8888888888888888,
             "#fdca26"
            ],
            [
             1,
             "#f0f921"
            ]
           ]
          },
          "colorway": [
           "#636efa",
           "#EF553B",
           "#00cc96",
           "#ab63fa",
           "#FFA15A",
           "#19d3f3",
           "#FF6692",
           "#B6E880",
           "#FF97FF",
           "#FECB52"
          ],
          "font": {
           "color": "#2a3f5f"
          },
          "geo": {
           "bgcolor": "white",
           "lakecolor": "white",
           "landcolor": "white",
           "showlakes": true,
           "showland": true,
           "subunitcolor": "#C8D4E3"
          },
          "hoverlabel": {
           "align": "left"
          },
          "hovermode": "closest",
          "mapbox": {
           "style": "light"
          },
          "paper_bgcolor": "white",
          "plot_bgcolor": "white",
          "polar": {
           "angularaxis": {
            "gridcolor": "#EBF0F8",
            "linecolor": "#EBF0F8",
            "ticks": ""
           },
           "bgcolor": "white",
           "radialaxis": {
            "gridcolor": "#EBF0F8",
            "linecolor": "#EBF0F8",
            "ticks": ""
           }
          },
          "scene": {
           "xaxis": {
            "backgroundcolor": "white",
            "gridcolor": "#DFE8F3",
            "gridwidth": 2,
            "linecolor": "#EBF0F8",
            "showbackground": true,
            "ticks": "",
            "zerolinecolor": "#EBF0F8"
           },
           "yaxis": {
            "backgroundcolor": "white",
            "gridcolor": "#DFE8F3",
            "gridwidth": 2,
            "linecolor": "#EBF0F8",
            "showbackground": true,
            "ticks": "",
            "zerolinecolor": "#EBF0F8"
           },
           "zaxis": {
            "backgroundcolor": "white",
            "gridcolor": "#DFE8F3",
            "gridwidth": 2,
            "linecolor": "#EBF0F8",
            "showbackground": true,
            "ticks": "",
            "zerolinecolor": "#EBF0F8"
           }
          },
          "shapedefaults": {
           "line": {
            "color": "#2a3f5f"
           }
          },
          "ternary": {
           "aaxis": {
            "gridcolor": "#DFE8F3",
            "linecolor": "#A2B1C6",
            "ticks": ""
           },
           "baxis": {
            "gridcolor": "#DFE8F3",
            "linecolor": "#A2B1C6",
            "ticks": ""
           },
           "bgcolor": "white",
           "caxis": {
            "gridcolor": "#DFE8F3",
            "linecolor": "#A2B1C6",
            "ticks": ""
           }
          },
          "title": {
           "x": 0.05
          },
          "xaxis": {
           "automargin": true,
           "gridcolor": "#EBF0F8",
           "linecolor": "#EBF0F8",
           "ticks": "",
           "title": {
            "standoff": 15
           },
           "zerolinecolor": "#EBF0F8",
           "zerolinewidth": 2
          },
          "yaxis": {
           "automargin": true,
           "gridcolor": "#EBF0F8",
           "linecolor": "#EBF0F8",
           "ticks": "",
           "title": {
            "standoff": 15
           },
           "zerolinecolor": "#EBF0F8",
           "zerolinewidth": 2
          }
         }
        },
        "title": {
         "text": "Execution Time vs Timestamp (Bucketed by 1 Second)",
         "x": 0.5
        },
        "xaxis": {
         "anchor": "y",
         "domain": [
          0,
          1
         ],
         "tickangle": 45,
         "title": {
          "text": "Timestamp"
         }
        },
        "yaxis": {
         "anchor": "x",
         "domain": [
          0,
          1
         ],
         "title": {
          "text": "Execution Time (ms)"
         }
        }
       }
      }
     },
     "metadata": {},
     "output_type": "display_data"
    }
   ],
   "source": [
    "def visualize_throughput_data(df, resample=False):\n",
    "    # not sampled on inserts only \n",
    "    df_grouped = df.resample('1s', on='timestamp').mean().reset_index() if resample else df\n",
    "\n",
    "    # Create a line plot for execution time vs timestamp\n",
    "    fig = px.line(\n",
    "        df_grouped,\n",
    "        x='timestamp',\n",
    "        y='execution_time',\n",
    "        title='Execution Time vs Timestamp (Bucketed by 1 Second)',\n",
    "        labels={'timestamp': 'Timestamp', 'execution_time': 'Execution Time (ms)'},\n",
    "        template='plotly_white'\n",
    "    )\n",
    "\n",
    "    # Customize the layout\n",
    "    fig.update_layout(\n",
    "        xaxis_title='Timestamp',\n",
    "        yaxis_title='Execution Time (ms)',\n",
    "        xaxis=dict(tickangle=45),\n",
    "        title_x=0.5\n",
    "    )\n",
    "    return fig\n",
    "\n",
    "visualize_throughput_data(throughput_df)"
   ]
  },
  {
   "cell_type": "code",
   "execution_count": 118,
   "id": "598c92c3",
   "metadata": {},
   "outputs": [],
   "source": [
    "def show_aggregate_stats(df):\n",
    "    return df.describe([.50, .75, .95, .99])"
   ]
  },
  {
   "cell_type": "markdown",
   "id": "2b8c6cec",
   "metadata": {},
   "source": [
    "## Write\n",
    "- Write Throughput\n",
    "  - mean\n",
    "  - std.dev\n",
    "  - median\n",
    "  - p95\n",
    "  - p99\n",
    "- Bytes Written to Disk\n",
    "  - per second\n",
    "  - aggregate"
   ]
  },
  {
   "cell_type": "markdown",
   "id": "00472ab6",
   "metadata": {},
   "source": [
    "### Write Throughput"
   ]
  },
  {
   "cell_type": "code",
   "execution_count": 119,
   "id": "ebca26a3",
   "metadata": {},
   "outputs": [
    {
     "data": {
      "text/html": [
       "<div>\n",
       "<style scoped>\n",
       "    .dataframe tbody tr th:only-of-type {\n",
       "        vertical-align: middle;\n",
       "    }\n",
       "\n",
       "    .dataframe tbody tr th {\n",
       "        vertical-align: top;\n",
       "    }\n",
       "\n",
       "    .dataframe thead th {\n",
       "        text-align: right;\n",
       "    }\n",
       "</style>\n",
       "<table border=\"1\" class=\"dataframe\">\n",
       "  <thead>\n",
       "    <tr style=\"text-align: right;\">\n",
       "      <th></th>\n",
       "      <th>elapsed_time</th>\n",
       "    </tr>\n",
       "  </thead>\n",
       "  <tbody>\n",
       "    <tr>\n",
       "      <th>count</th>\n",
       "      <td>41.000000</td>\n",
       "    </tr>\n",
       "    <tr>\n",
       "      <th>mean</th>\n",
       "      <td>7805.418419</td>\n",
       "    </tr>\n",
       "    <tr>\n",
       "      <th>std</th>\n",
       "      <td>5803.621936</td>\n",
       "    </tr>\n",
       "    <tr>\n",
       "      <th>min</th>\n",
       "      <td>5266.234711</td>\n",
       "    </tr>\n",
       "    <tr>\n",
       "      <th>50%</th>\n",
       "      <td>6184.351336</td>\n",
       "    </tr>\n",
       "    <tr>\n",
       "      <th>75%</th>\n",
       "      <td>6793.803378</td>\n",
       "    </tr>\n",
       "    <tr>\n",
       "      <th>95%</th>\n",
       "      <td>15993.054590</td>\n",
       "    </tr>\n",
       "    <tr>\n",
       "      <th>99%</th>\n",
       "      <td>31682.598148</td>\n",
       "    </tr>\n",
       "    <tr>\n",
       "      <th>max</th>\n",
       "      <td>39893.470185</td>\n",
       "    </tr>\n",
       "  </tbody>\n",
       "</table>\n",
       "</div>"
      ],
      "text/plain": [
       "       elapsed_time\n",
       "count     41.000000\n",
       "mean    7805.418419\n",
       "std     5803.621936\n",
       "min     5266.234711\n",
       "50%     6184.351336\n",
       "75%     6793.803378\n",
       "95%    15993.054590\n",
       "99%    31682.598148\n",
       "max    39893.470185"
      ]
     },
     "execution_count": 119,
     "metadata": {},
     "output_type": "execute_result"
    }
   ],
   "source": [
    "show_aggregate_stats(throughput_df[[\"elapsed_time\"]])"
   ]
  },
  {
   "cell_type": "markdown",
   "id": "1189a399",
   "metadata": {},
   "source": [
    "### Bytes Written to Disk"
   ]
  },
  {
   "cell_type": "markdown",
   "id": "b44b705a",
   "metadata": {},
   "source": [
    "#### Aggregate"
   ]
  },
  {
   "cell_type": "code",
   "execution_count": 120,
   "id": "5dad6105",
   "metadata": {},
   "outputs": [
    {
     "data": {
      "text/html": [
       "<div>\n",
       "<style scoped>\n",
       "    .dataframe tbody tr th:only-of-type {\n",
       "        vertical-align: middle;\n",
       "    }\n",
       "\n",
       "    .dataframe tbody tr th {\n",
       "        vertical-align: top;\n",
       "    }\n",
       "\n",
       "    .dataframe thead th {\n",
       "        text-align: right;\n",
       "    }\n",
       "</style>\n",
       "<table border=\"1\" class=\"dataframe\">\n",
       "  <thead>\n",
       "    <tr style=\"text-align: right;\">\n",
       "      <th></th>\n",
       "      <th>wchar</th>\n",
       "    </tr>\n",
       "  </thead>\n",
       "  <tbody>\n",
       "    <tr>\n",
       "      <th>count</th>\n",
       "      <td>3.480000e+02</td>\n",
       "    </tr>\n",
       "    <tr>\n",
       "      <th>mean</th>\n",
       "      <td>4.636151e+08</td>\n",
       "    </tr>\n",
       "    <tr>\n",
       "      <th>std</th>\n",
       "      <td>3.283450e+08</td>\n",
       "    </tr>\n",
       "    <tr>\n",
       "      <th>min</th>\n",
       "      <td>4.588100e+04</td>\n",
       "    </tr>\n",
       "    <tr>\n",
       "      <th>50%</th>\n",
       "      <td>4.942073e+08</td>\n",
       "    </tr>\n",
       "    <tr>\n",
       "      <th>75%</th>\n",
       "      <td>7.365819e+08</td>\n",
       "    </tr>\n",
       "    <tr>\n",
       "      <th>95%</th>\n",
       "      <td>9.814172e+08</td>\n",
       "    </tr>\n",
       "    <tr>\n",
       "      <th>99%</th>\n",
       "      <td>9.814186e+08</td>\n",
       "    </tr>\n",
       "    <tr>\n",
       "      <th>max</th>\n",
       "      <td>9.814191e+08</td>\n",
       "    </tr>\n",
       "  </tbody>\n",
       "</table>\n",
       "</div>"
      ],
      "text/plain": [
       "              wchar\n",
       "count  3.480000e+02\n",
       "mean   4.636151e+08\n",
       "std    3.283450e+08\n",
       "min    4.588100e+04\n",
       "50%    4.942073e+08\n",
       "75%    7.365819e+08\n",
       "95%    9.814172e+08\n",
       "99%    9.814186e+08\n",
       "max    9.814191e+08"
      ]
     },
     "execution_count": 120,
     "metadata": {},
     "output_type": "execute_result"
    }
   ],
   "source": [
    "show_aggregate_stats(io_df[[\"wchar\"]])"
   ]
  },
  {
   "cell_type": "markdown",
   "id": "b38b7516",
   "metadata": {},
   "source": [
    "#### As time"
   ]
  },
  {
   "cell_type": "code",
   "execution_count": 121,
   "id": "bc1fd778",
   "metadata": {},
   "outputs": [
    {
     "data": {
      "application/vnd.plotly.v1+json": {
       "config": {
        "plotlyServerURL": "https://plot.ly"
       },
       "data": [
        {
         "hovertemplate": "Timestamp=%{x}<br>wchar=%{y}<extra></extra>",
         "legendgroup": "",
         "line": {
          "color": "#636efa",
          "dash": "solid"
         },
         "marker": {
          "symbol": "circle"
         },
         "mode": "lines",
         "name": "",
         "orientation": "v",
         "showlegend": false,
         "type": "scatter",
         "x": [
          "2025-04-28T19:17:17",
          "2025-04-28T19:17:18",
          "2025-04-28T19:17:19",
          "2025-04-28T19:17:20",
          "2025-04-28T19:17:21",
          "2025-04-28T19:17:22",
          "2025-04-28T19:17:23",
          "2025-04-28T19:17:24",
          "2025-04-28T19:17:25",
          "2025-04-28T19:17:26",
          "2025-04-28T19:17:27",
          "2025-04-28T19:17:28",
          "2025-04-28T19:17:29",
          "2025-04-28T19:17:30",
          "2025-04-28T19:17:31",
          "2025-04-28T19:17:32",
          "2025-04-28T19:17:33",
          "2025-04-28T19:17:35",
          "2025-04-28T19:17:36",
          "2025-04-28T19:17:37",
          "2025-04-28T19:17:38",
          "2025-04-28T19:17:39",
          "2025-04-28T19:17:40",
          "2025-04-28T19:17:41",
          "2025-04-28T19:17:42",
          "2025-04-28T19:17:43",
          "2025-04-28T19:17:44",
          "2025-04-28T19:17:45",
          "2025-04-28T19:17:46",
          "2025-04-28T19:17:47",
          "2025-04-28T19:17:49",
          "2025-04-28T19:17:50",
          "2025-04-28T19:17:51",
          "2025-04-28T19:17:52",
          "2025-04-28T19:17:53",
          "2025-04-28T19:17:55",
          "2025-04-28T19:17:56",
          "2025-04-28T19:17:57",
          "2025-04-28T19:17:58",
          "2025-04-28T19:17:59",
          "2025-04-28T19:18:00",
          "2025-04-28T19:18:01",
          "2025-04-28T19:18:02",
          "2025-04-28T19:18:03",
          "2025-04-28T19:18:04",
          "2025-04-28T19:18:05",
          "2025-04-28T19:18:06",
          "2025-04-28T19:18:07",
          "2025-04-28T19:18:08",
          "2025-04-28T19:18:09",
          "2025-04-28T19:18:10",
          "2025-04-28T19:18:11",
          "2025-04-28T19:18:13",
          "2025-04-28T19:18:14",
          "2025-04-28T19:18:15",
          "2025-04-28T19:18:16",
          "2025-04-28T19:18:17",
          "2025-04-28T19:18:18",
          "2025-04-28T19:18:19",
          "2025-04-28T19:18:20",
          "2025-04-28T19:18:21",
          "2025-04-28T19:18:22",
          "2025-04-28T19:18:23",
          "2025-04-28T19:18:24",
          "2025-04-28T19:18:25",
          "2025-04-28T19:18:26",
          "2025-04-28T19:18:27",
          "2025-04-28T19:18:28",
          "2025-04-28T19:18:29",
          "2025-04-28T19:18:30",
          "2025-04-28T19:18:31",
          "2025-04-28T19:18:32",
          "2025-04-28T19:18:33",
          "2025-04-28T19:18:34",
          "2025-04-28T19:18:35",
          "2025-04-28T19:18:36",
          "2025-04-28T19:18:37",
          "2025-04-28T19:18:38",
          "2025-04-28T19:18:39",
          "2025-04-28T19:18:40",
          "2025-04-28T19:18:41",
          "2025-04-28T19:18:42",
          "2025-04-28T19:18:43",
          "2025-04-28T19:18:44",
          "2025-04-28T19:18:45",
          "2025-04-28T19:18:46",
          "2025-04-28T19:18:47",
          "2025-04-28T19:18:48",
          "2025-04-28T19:18:49",
          "2025-04-28T19:18:50",
          "2025-04-28T19:18:51",
          "2025-04-28T19:18:52",
          "2025-04-28T19:18:53",
          "2025-04-28T19:18:54",
          "2025-04-28T19:18:55",
          "2025-04-28T19:18:56",
          "2025-04-28T19:18:57",
          "2025-04-28T19:18:58",
          "2025-04-28T19:18:59",
          "2025-04-28T19:19:00",
          "2025-04-28T19:19:01",
          "2025-04-28T19:19:02",
          "2025-04-28T19:19:03",
          "2025-04-28T19:19:05",
          "2025-04-28T19:19:06",
          "2025-04-28T19:19:07",
          "2025-04-28T19:19:08",
          "2025-04-28T19:19:09",
          "2025-04-28T19:19:10",
          "2025-04-28T19:19:11",
          "2025-04-28T19:19:12",
          "2025-04-28T19:19:13",
          "2025-04-28T19:19:14",
          "2025-04-28T19:19:15",
          "2025-04-28T19:19:16",
          "2025-04-28T19:19:17",
          "2025-04-28T19:19:18",
          "2025-04-28T19:19:19",
          "2025-04-28T19:19:20",
          "2025-04-28T19:19:21",
          "2025-04-28T19:19:22",
          "2025-04-28T19:19:23",
          "2025-04-28T19:19:24",
          "2025-04-28T19:19:25",
          "2025-04-28T19:19:26",
          "2025-04-28T19:19:27",
          "2025-04-28T19:19:28",
          "2025-04-28T19:19:29",
          "2025-04-28T19:19:30",
          "2025-04-28T19:19:31",
          "2025-04-28T19:19:32",
          "2025-04-28T19:19:33",
          "2025-04-28T19:19:34",
          "2025-04-28T19:19:35",
          "2025-04-28T19:19:36",
          "2025-04-28T19:19:37",
          "2025-04-28T19:19:38",
          "2025-04-28T19:19:39",
          "2025-04-28T19:19:40",
          "2025-04-28T19:19:41",
          "2025-04-28T19:19:42",
          "2025-04-28T19:19:43",
          "2025-04-28T19:19:44",
          "2025-04-28T19:19:45",
          "2025-04-28T19:19:46",
          "2025-04-28T19:19:47",
          "2025-04-28T19:19:48",
          "2025-04-28T19:19:49",
          "2025-04-28T19:19:50",
          "2025-04-28T19:19:51",
          "2025-04-28T19:19:52",
          "2025-04-28T19:19:53",
          "2025-04-28T19:19:54",
          "2025-04-28T19:19:55",
          "2025-04-28T19:19:56",
          "2025-04-28T19:19:57",
          "2025-04-28T19:19:58",
          "2025-04-28T19:19:59",
          "2025-04-28T19:20:00",
          "2025-04-28T19:20:01",
          "2025-04-28T19:20:02",
          "2025-04-28T19:20:03",
          "2025-04-28T19:20:04",
          "2025-04-28T19:20:05",
          "2025-04-28T19:20:06",
          "2025-04-28T19:20:07",
          "2025-04-28T19:20:08",
          "2025-04-28T19:20:09",
          "2025-04-28T19:20:10",
          "2025-04-28T19:20:11",
          "2025-04-28T19:20:12",
          "2025-04-28T19:20:13",
          "2025-04-28T19:20:14",
          "2025-04-28T19:20:15",
          "2025-04-28T19:20:16",
          "2025-04-28T19:20:17",
          "2025-04-28T19:20:18",
          "2025-04-28T19:20:19",
          "2025-04-28T19:20:20",
          "2025-04-28T19:20:21",
          "2025-04-28T19:20:22",
          "2025-04-28T19:20:23",
          "2025-04-28T19:20:24",
          "2025-04-28T19:20:26",
          "2025-04-28T19:20:27",
          "2025-04-28T19:20:28",
          "2025-04-28T19:20:29",
          "2025-04-28T19:20:30",
          "2025-04-28T19:20:31",
          "2025-04-28T19:20:32",
          "2025-04-28T19:20:33",
          "2025-04-28T19:20:34",
          "2025-04-28T19:20:35",
          "2025-04-28T19:20:36",
          "2025-04-28T19:20:37",
          "2025-04-28T19:20:38",
          "2025-04-28T19:20:39",
          "2025-04-28T19:20:40",
          "2025-04-28T19:20:41",
          "2025-04-28T19:20:43",
          "2025-04-28T19:20:44",
          "2025-04-28T19:20:45",
          "2025-04-28T19:20:46",
          "2025-04-28T19:20:47",
          "2025-04-28T19:20:48",
          "2025-04-28T19:20:49",
          "2025-04-28T19:20:50",
          "2025-04-28T19:20:51",
          "2025-04-28T19:20:52",
          "2025-04-28T19:20:53",
          "2025-04-28T19:20:54",
          "2025-04-28T19:20:55",
          "2025-04-28T19:20:56",
          "2025-04-28T19:20:57",
          "2025-04-28T19:20:58",
          "2025-04-28T19:20:59",
          "2025-04-28T19:21:00",
          "2025-04-28T19:21:01",
          "2025-04-28T19:21:02",
          "2025-04-28T19:21:03",
          "2025-04-28T19:21:04",
          "2025-04-28T19:21:05",
          "2025-04-28T19:21:06",
          "2025-04-28T19:21:07",
          "2025-04-28T19:21:08",
          "2025-04-28T19:21:09",
          "2025-04-28T19:21:10",
          "2025-04-28T19:21:11",
          "2025-04-28T19:21:12",
          "2025-04-28T19:21:13",
          "2025-04-28T19:21:14",
          "2025-04-28T19:21:15",
          "2025-04-28T19:21:16",
          "2025-04-28T19:21:18",
          "2025-04-28T19:21:19",
          "2025-04-28T19:21:20",
          "2025-04-28T19:21:21",
          "2025-04-28T19:21:22",
          "2025-04-28T19:21:23",
          "2025-04-28T19:21:24",
          "2025-04-28T19:21:25",
          "2025-04-28T19:21:26",
          "2025-04-28T19:21:27",
          "2025-04-28T19:21:28",
          "2025-04-28T19:21:29",
          "2025-04-28T19:21:30",
          "2025-04-28T19:21:31",
          "2025-04-28T19:21:32",
          "2025-04-28T19:21:33",
          "2025-04-28T19:21:34",
          "2025-04-28T19:21:35",
          "2025-04-28T19:21:36",
          "2025-04-28T19:21:37",
          "2025-04-28T19:21:38",
          "2025-04-28T19:21:39",
          "2025-04-28T19:21:40",
          "2025-04-28T19:21:41",
          "2025-04-28T19:21:42",
          "2025-04-28T19:21:43",
          "2025-04-28T19:21:44",
          "2025-04-28T19:21:45",
          "2025-04-28T19:21:46",
          "2025-04-28T19:21:47",
          "2025-04-28T19:21:48",
          "2025-04-28T19:21:49",
          "2025-04-28T19:21:50",
          "2025-04-28T19:21:51",
          "2025-04-28T19:21:52",
          "2025-04-28T19:21:53",
          "2025-04-28T19:21:54",
          "2025-04-28T19:21:55",
          "2025-04-28T19:21:56",
          "2025-04-28T19:21:57",
          "2025-04-28T19:21:58",
          "2025-04-28T19:21:59",
          "2025-04-28T19:22:00",
          "2025-04-28T19:22:01",
          "2025-04-28T19:22:02",
          "2025-04-28T19:22:03",
          "2025-04-28T19:22:04",
          "2025-04-28T19:22:05",
          "2025-04-28T19:22:06",
          "2025-04-28T19:22:07",
          "2025-04-28T19:22:08",
          "2025-04-28T19:22:09",
          "2025-04-28T19:22:10",
          "2025-04-28T19:22:11",
          "2025-04-28T19:22:12",
          "2025-04-28T19:22:13",
          "2025-04-28T19:22:14",
          "2025-04-28T19:22:15",
          "2025-04-28T19:22:16",
          "2025-04-28T19:22:17",
          "2025-04-28T19:22:18",
          "2025-04-28T19:22:19",
          "2025-04-28T19:22:20",
          "2025-04-28T19:22:21",
          "2025-04-28T19:22:22",
          "2025-04-28T19:22:23",
          "2025-04-28T19:22:24",
          "2025-04-28T19:22:25",
          "2025-04-28T19:22:26",
          "2025-04-28T19:22:27",
          "2025-04-28T19:22:28",
          "2025-04-28T19:22:29",
          "2025-04-28T19:22:30",
          "2025-04-28T19:22:31",
          "2025-04-28T19:22:32",
          "2025-04-28T19:22:33",
          "2025-04-28T19:22:34",
          "2025-04-28T19:22:35",
          "2025-04-28T19:22:36",
          "2025-04-28T19:22:38",
          "2025-04-28T19:22:39",
          "2025-04-28T19:22:40",
          "2025-04-28T19:22:41",
          "2025-04-28T19:22:42",
          "2025-04-28T19:22:43",
          "2025-04-28T19:22:44",
          "2025-04-28T19:22:45",
          "2025-04-28T19:22:46",
          "2025-04-28T19:22:47",
          "2025-04-28T19:22:48",
          "2025-04-28T19:22:49",
          "2025-04-28T19:22:50",
          "2025-04-28T19:22:51",
          "2025-04-28T19:22:52",
          "2025-04-28T19:22:53",
          "2025-04-28T19:22:54",
          "2025-04-28T19:22:55",
          "2025-04-28T19:22:56",
          "2025-04-28T19:22:57",
          "2025-04-28T19:22:58",
          "2025-04-28T19:22:59",
          "2025-04-28T19:23:01",
          "2025-04-28T19:23:02",
          "2025-04-28T19:23:03",
          "2025-04-28T19:23:04",
          "2025-04-28T19:23:05",
          "2025-04-28T19:23:06",
          "2025-04-28T19:23:07",
          "2025-04-28T19:23:09",
          "2025-04-28T19:23:10",
          "2025-04-28T19:23:11",
          "2025-04-28T19:23:12",
          "2025-04-28T19:23:13",
          "2025-04-28T19:23:14",
          "2025-04-28T19:23:15"
         ],
         "xaxis": "x",
         "y": {
          "bdata": "ObMAAG+QAQDjXAUA41wFAONcBQDjXAUA41wFAONcBQC2XgUAITI+AE+CTAAR63kAr6bCAIFb7AAxqwMBjtZfAY7WXwGO1l8BYdhfAWHYXwFh2F8BYdhfAWHYXwFh2F8BYdhfAWHYXwFh2F8BNNpfATTaXwE02l8BNNpfATTaXwE02l8BNNpfATTaXwE02l8BB9xfAQfcXwEH3F8BB9xfAQfcXwEH3F8BB9xfAQfcXwEH3F8B2t1fAYrhXwFit5gB4mmsAZzZwQESAt8BMhb7AfQQDwJb4R0C3KktAnjERgIeHlkCHDJeAnldugJ5XboCeV26AnldugIpN/MCgxYrA2yJawMqG7ID69oUBOvaFASZ3hQE4b5oBH2QtwTi6QQFj1hvBY9YbwUO1bMFJIP4Bd0UPAa418kGuNfJBrjXyQaNWhIHvw1YByPNbwcN8qEHn1YkCJ9WJAifViQIkVNnCL3ktwhkWv8I+dF+CfnRfgmv1X4J0aXmCViPLgqJ2ncKzlDZCs5Q2QqEVNkK7OpFC6zBjQuMLM0Lv80zDJLPMwySzzMMdqOGDDCyygyzSBMNvEqODbxKjg28So4NpvroDVClMQ6KMngOv8roDr/K6A6/yugORNk4D6omhA+FyboPz0ZDEM9GQxDPRkMQTDmZEPZH5RDdnyYRcsWdEXLFnRFyxZ0RuIHoESJLExKgElsS8RacEiFE+BIhRPgS1kf4ErULcBMZkbUTjZX2E+rAUhTqwFIU6sBSFJZjOhXmyV8WgVrPFqvhChc7ZUMXGtavFxrWrxfP2a8XOhcfGC4kbRhymqwYtFUKGbRVChlweEYZjo+VGUFc4RmS0WQaktFkGpLRZBo4uqca5t72Go4nOxsbPJEbl1C/G5dQvxtZuwccr45SHObhlRwHor0cZM0ZHWTNGR2TpVIdt1yXHRka1x1/Hhge3El0HtxJdB7cSXQe3El0HtxJdB6STXQejSOtHlLqwR5kNt4elPzzHngoDB/mmSAfqcsxH0VnSB/lJGgfOJ5yH5XJzh+Vyc4flcnOH5XJzh+Vyc4flcnOH5XJzh+Vyc4fIE/SH/ITESDuRCggxgxDIKr5fSB2NsYgwUcpIcFHKSHBRykhNkJ3IY1NyyHx0A0iVsSDIlbEgyJWxIMiFgDPItBLFyOjNFkjtRWCI/w/3iPPQd4jhUXeIykHWCRmvZ0klpLcJPO9OCXzvTglqcE4JV6ipiXqf+wlPkMtJl88kyZfPJMmXzyTJl88kyZfPJMmDUCTJr4f6SYYPCUnhMtZJyb+eyeRue0nkbntJ5G57SeRue0nPr3tJx42PyilBG4o+TGnKD2B4yg0OUgpNDlIKeE8SClNHrIpmQL8Kd8+PCrWtKIq1rSiKta0oioC75ErapfnLAIMdi2Ju/8tibv/LYm7/y2avlAuTJWfLgro5S7qDP4uGjpaLxo6Wi/QPVovEsbUL9KGFzAs7FQwx7a0MMe2tDDHtrQwTPEPMXl4WjEOsZoxyDQPMsg0DzLINA8y69tRMl0/nDLyLOEyooUNM/+waTMBtGkzO42iMw9o5jNS7So0NAZoNJExxDSRMcQ0PzXENERKKDXy43Q1nD26NfuGwjWvrx42r68eNl2zHjZcn4I2HpjJNmsWBzexK3k3sSt5N4QteTda0rg3KEoBOKniPjhXf3c4sqrTOLKq0zhgrtM4bCQmOf+ubzkrS7E5ICkuOiApLjogKS46HvM+OlQzWjpvDGQ6GDt/Ohg7fzrrPH866zx/Ous8fzrrPH86mEB/OphAfzqYQH86mEB/OphAfzprQn86a0J/OmtCfzprQn86a0J/OmtCfzprQn86a0J/OmtCfzo+RH86",
          "dtype": "i4"
         },
         "yaxis": "y"
        }
       ],
       "layout": {
        "legend": {
         "tracegroupgap": 0
        },
        "template": {
         "data": {
          "bar": [
           {
            "error_x": {
             "color": "#2a3f5f"
            },
            "error_y": {
             "color": "#2a3f5f"
            },
            "marker": {
             "line": {
              "color": "white",
              "width": 0.5
             },
             "pattern": {
              "fillmode": "overlay",
              "size": 10,
              "solidity": 0.2
             }
            },
            "type": "bar"
           }
          ],
          "barpolar": [
           {
            "marker": {
             "line": {
              "color": "white",
              "width": 0.5
             },
             "pattern": {
              "fillmode": "overlay",
              "size": 10,
              "solidity": 0.2
             }
            },
            "type": "barpolar"
           }
          ],
          "carpet": [
           {
            "aaxis": {
             "endlinecolor": "#2a3f5f",
             "gridcolor": "#C8D4E3",
             "linecolor": "#C8D4E3",
             "minorgridcolor": "#C8D4E3",
             "startlinecolor": "#2a3f5f"
            },
            "baxis": {
             "endlinecolor": "#2a3f5f",
             "gridcolor": "#C8D4E3",
             "linecolor": "#C8D4E3",
             "minorgridcolor": "#C8D4E3",
             "startlinecolor": "#2a3f5f"
            },
            "type": "carpet"
           }
          ],
          "choropleth": [
           {
            "colorbar": {
             "outlinewidth": 0,
             "ticks": ""
            },
            "type": "choropleth"
           }
          ],
          "contour": [
           {
            "colorbar": {
             "outlinewidth": 0,
             "ticks": ""
            },
            "colorscale": [
             [
              0,
              "#0d0887"
             ],
             [
              0.1111111111111111,
              "#46039f"
             ],
             [
              0.2222222222222222,
              "#7201a8"
             ],
             [
              0.3333333333333333,
              "#9c179e"
             ],
             [
              0.4444444444444444,
              "#bd3786"
             ],
             [
              0.5555555555555556,
              "#d8576b"
             ],
             [
              0.6666666666666666,
              "#ed7953"
             ],
             [
              0.7777777777777778,
              "#fb9f3a"
             ],
             [
              0.8888888888888888,
              "#fdca26"
             ],
             [
              1,
              "#f0f921"
             ]
            ],
            "type": "contour"
           }
          ],
          "contourcarpet": [
           {
            "colorbar": {
             "outlinewidth": 0,
             "ticks": ""
            },
            "type": "contourcarpet"
           }
          ],
          "heatmap": [
           {
            "colorbar": {
             "outlinewidth": 0,
             "ticks": ""
            },
            "colorscale": [
             [
              0,
              "#0d0887"
             ],
             [
              0.1111111111111111,
              "#46039f"
             ],
             [
              0.2222222222222222,
              "#7201a8"
             ],
             [
              0.3333333333333333,
              "#9c179e"
             ],
             [
              0.4444444444444444,
              "#bd3786"
             ],
             [
              0.5555555555555556,
              "#d8576b"
             ],
             [
              0.6666666666666666,
              "#ed7953"
             ],
             [
              0.7777777777777778,
              "#fb9f3a"
             ],
             [
              0.8888888888888888,
              "#fdca26"
             ],
             [
              1,
              "#f0f921"
             ]
            ],
            "type": "heatmap"
           }
          ],
          "histogram": [
           {
            "marker": {
             "pattern": {
              "fillmode": "overlay",
              "size": 10,
              "solidity": 0.2
             }
            },
            "type": "histogram"
           }
          ],
          "histogram2d": [
           {
            "colorbar": {
             "outlinewidth": 0,
             "ticks": ""
            },
            "colorscale": [
             [
              0,
              "#0d0887"
             ],
             [
              0.1111111111111111,
              "#46039f"
             ],
             [
              0.2222222222222222,
              "#7201a8"
             ],
             [
              0.3333333333333333,
              "#9c179e"
             ],
             [
              0.4444444444444444,
              "#bd3786"
             ],
             [
              0.5555555555555556,
              "#d8576b"
             ],
             [
              0.6666666666666666,
              "#ed7953"
             ],
             [
              0.7777777777777778,
              "#fb9f3a"
             ],
             [
              0.8888888888888888,
              "#fdca26"
             ],
             [
              1,
              "#f0f921"
             ]
            ],
            "type": "histogram2d"
           }
          ],
          "histogram2dcontour": [
           {
            "colorbar": {
             "outlinewidth": 0,
             "ticks": ""
            },
            "colorscale": [
             [
              0,
              "#0d0887"
             ],
             [
              0.1111111111111111,
              "#46039f"
             ],
             [
              0.2222222222222222,
              "#7201a8"
             ],
             [
              0.3333333333333333,
              "#9c179e"
             ],
             [
              0.4444444444444444,
              "#bd3786"
             ],
             [
              0.5555555555555556,
              "#d8576b"
             ],
             [
              0.6666666666666666,
              "#ed7953"
             ],
             [
              0.7777777777777778,
              "#fb9f3a"
             ],
             [
              0.8888888888888888,
              "#fdca26"
             ],
             [
              1,
              "#f0f921"
             ]
            ],
            "type": "histogram2dcontour"
           }
          ],
          "mesh3d": [
           {
            "colorbar": {
             "outlinewidth": 0,
             "ticks": ""
            },
            "type": "mesh3d"
           }
          ],
          "parcoords": [
           {
            "line": {
             "colorbar": {
              "outlinewidth": 0,
              "ticks": ""
             }
            },
            "type": "parcoords"
           }
          ],
          "pie": [
           {
            "automargin": true,
            "type": "pie"
           }
          ],
          "scatter": [
           {
            "fillpattern": {
             "fillmode": "overlay",
             "size": 10,
             "solidity": 0.2
            },
            "type": "scatter"
           }
          ],
          "scatter3d": [
           {
            "line": {
             "colorbar": {
              "outlinewidth": 0,
              "ticks": ""
             }
            },
            "marker": {
             "colorbar": {
              "outlinewidth": 0,
              "ticks": ""
             }
            },
            "type": "scatter3d"
           }
          ],
          "scattercarpet": [
           {
            "marker": {
             "colorbar": {
              "outlinewidth": 0,
              "ticks": ""
             }
            },
            "type": "scattercarpet"
           }
          ],
          "scattergeo": [
           {
            "marker": {
             "colorbar": {
              "outlinewidth": 0,
              "ticks": ""
             }
            },
            "type": "scattergeo"
           }
          ],
          "scattergl": [
           {
            "marker": {
             "colorbar": {
              "outlinewidth": 0,
              "ticks": ""
             }
            },
            "type": "scattergl"
           }
          ],
          "scattermap": [
           {
            "marker": {
             "colorbar": {
              "outlinewidth": 0,
              "ticks": ""
             }
            },
            "type": "scattermap"
           }
          ],
          "scattermapbox": [
           {
            "marker": {
             "colorbar": {
              "outlinewidth": 0,
              "ticks": ""
             }
            },
            "type": "scattermapbox"
           }
          ],
          "scatterpolar": [
           {
            "marker": {
             "colorbar": {
              "outlinewidth": 0,
              "ticks": ""
             }
            },
            "type": "scatterpolar"
           }
          ],
          "scatterpolargl": [
           {
            "marker": {
             "colorbar": {
              "outlinewidth": 0,
              "ticks": ""
             }
            },
            "type": "scatterpolargl"
           }
          ],
          "scatterternary": [
           {
            "marker": {
             "colorbar": {
              "outlinewidth": 0,
              "ticks": ""
             }
            },
            "type": "scatterternary"
           }
          ],
          "surface": [
           {
            "colorbar": {
             "outlinewidth": 0,
             "ticks": ""
            },
            "colorscale": [
             [
              0,
              "#0d0887"
             ],
             [
              0.1111111111111111,
              "#46039f"
             ],
             [
              0.2222222222222222,
              "#7201a8"
             ],
             [
              0.3333333333333333,
              "#9c179e"
             ],
             [
              0.4444444444444444,
              "#bd3786"
             ],
             [
              0.5555555555555556,
              "#d8576b"
             ],
             [
              0.6666666666666666,
              "#ed7953"
             ],
             [
              0.7777777777777778,
              "#fb9f3a"
             ],
             [
              0.8888888888888888,
              "#fdca26"
             ],
             [
              1,
              "#f0f921"
             ]
            ],
            "type": "surface"
           }
          ],
          "table": [
           {
            "cells": {
             "fill": {
              "color": "#EBF0F8"
             },
             "line": {
              "color": "white"
             }
            },
            "header": {
             "fill": {
              "color": "#C8D4E3"
             },
             "line": {
              "color": "white"
             }
            },
            "type": "table"
           }
          ]
         },
         "layout": {
          "annotationdefaults": {
           "arrowcolor": "#2a3f5f",
           "arrowhead": 0,
           "arrowwidth": 1
          },
          "autotypenumbers": "strict",
          "coloraxis": {
           "colorbar": {
            "outlinewidth": 0,
            "ticks": ""
           }
          },
          "colorscale": {
           "diverging": [
            [
             0,
             "#8e0152"
            ],
            [
             0.1,
             "#c51b7d"
            ],
            [
             0.2,
             "#de77ae"
            ],
            [
             0.3,
             "#f1b6da"
            ],
            [
             0.4,
             "#fde0ef"
            ],
            [
             0.5,
             "#f7f7f7"
            ],
            [
             0.6,
             "#e6f5d0"
            ],
            [
             0.7,
             "#b8e186"
            ],
            [
             0.8,
             "#7fbc41"
            ],
            [
             0.9,
             "#4d9221"
            ],
            [
             1,
             "#276419"
            ]
           ],
           "sequential": [
            [
             0,
             "#0d0887"
            ],
            [
             0.1111111111111111,
             "#46039f"
            ],
            [
             0.2222222222222222,
             "#7201a8"
            ],
            [
             0.3333333333333333,
             "#9c179e"
            ],
            [
             0.4444444444444444,
             "#bd3786"
            ],
            [
             0.5555555555555556,
             "#d8576b"
            ],
            [
             0.6666666666666666,
             "#ed7953"
            ],
            [
             0.7777777777777778,
             "#fb9f3a"
            ],
            [
             0.8888888888888888,
             "#fdca26"
            ],
            [
             1,
             "#f0f921"
            ]
           ],
           "sequentialminus": [
            [
             0,
             "#0d0887"
            ],
            [
             0.1111111111111111,
             "#46039f"
            ],
            [
             0.2222222222222222,
             "#7201a8"
            ],
            [
             0.3333333333333333,
             "#9c179e"
            ],
            [
             0.4444444444444444,
             "#bd3786"
            ],
            [
             0.5555555555555556,
             "#d8576b"
            ],
            [
             0.6666666666666666,
             "#ed7953"
            ],
            [
             0.7777777777777778,
             "#fb9f3a"
            ],
            [
             0.8888888888888888,
             "#fdca26"
            ],
            [
             1,
             "#f0f921"
            ]
           ]
          },
          "colorway": [
           "#636efa",
           "#EF553B",
           "#00cc96",
           "#ab63fa",
           "#FFA15A",
           "#19d3f3",
           "#FF6692",
           "#B6E880",
           "#FF97FF",
           "#FECB52"
          ],
          "font": {
           "color": "#2a3f5f"
          },
          "geo": {
           "bgcolor": "white",
           "lakecolor": "white",
           "landcolor": "white",
           "showlakes": true,
           "showland": true,
           "subunitcolor": "#C8D4E3"
          },
          "hoverlabel": {
           "align": "left"
          },
          "hovermode": "closest",
          "mapbox": {
           "style": "light"
          },
          "paper_bgcolor": "white",
          "plot_bgcolor": "white",
          "polar": {
           "angularaxis": {
            "gridcolor": "#EBF0F8",
            "linecolor": "#EBF0F8",
            "ticks": ""
           },
           "bgcolor": "white",
           "radialaxis": {
            "gridcolor": "#EBF0F8",
            "linecolor": "#EBF0F8",
            "ticks": ""
           }
          },
          "scene": {
           "xaxis": {
            "backgroundcolor": "white",
            "gridcolor": "#DFE8F3",
            "gridwidth": 2,
            "linecolor": "#EBF0F8",
            "showbackground": true,
            "ticks": "",
            "zerolinecolor": "#EBF0F8"
           },
           "yaxis": {
            "backgroundcolor": "white",
            "gridcolor": "#DFE8F3",
            "gridwidth": 2,
            "linecolor": "#EBF0F8",
            "showbackground": true,
            "ticks": "",
            "zerolinecolor": "#EBF0F8"
           },
           "zaxis": {
            "backgroundcolor": "white",
            "gridcolor": "#DFE8F3",
            "gridwidth": 2,
            "linecolor": "#EBF0F8",
            "showbackground": true,
            "ticks": "",
            "zerolinecolor": "#EBF0F8"
           }
          },
          "shapedefaults": {
           "line": {
            "color": "#2a3f5f"
           }
          },
          "ternary": {
           "aaxis": {
            "gridcolor": "#DFE8F3",
            "linecolor": "#A2B1C6",
            "ticks": ""
           },
           "baxis": {
            "gridcolor": "#DFE8F3",
            "linecolor": "#A2B1C6",
            "ticks": ""
           },
           "bgcolor": "white",
           "caxis": {
            "gridcolor": "#DFE8F3",
            "linecolor": "#A2B1C6",
            "ticks": ""
           }
          },
          "title": {
           "x": 0.05
          },
          "xaxis": {
           "automargin": true,
           "gridcolor": "#EBF0F8",
           "linecolor": "#EBF0F8",
           "ticks": "",
           "title": {
            "standoff": 15
           },
           "zerolinecolor": "#EBF0F8",
           "zerolinewidth": 2
          },
          "yaxis": {
           "automargin": true,
           "gridcolor": "#EBF0F8",
           "linecolor": "#EBF0F8",
           "ticks": "",
           "title": {
            "standoff": 15
           },
           "zerolinecolor": "#EBF0F8",
           "zerolinewidth": 2
          }
         }
        },
        "title": {
         "text": "Characters Written vs Timestamp",
         "x": 0.5
        },
        "xaxis": {
         "anchor": "y",
         "domain": [
          0,
          1
         ],
         "tickangle": 45,
         "title": {
          "text": "Timestamp"
         }
        },
        "yaxis": {
         "anchor": "x",
         "domain": [
          0,
          1
         ],
         "title": {
          "text": "Characters Written"
         }
        }
       }
      }
     },
     "metadata": {},
     "output_type": "display_data"
    }
   ],
   "source": [
    "visualize_io_data(io_df, ycolumn='wchar', yaxis_title='Characters Written', title='Characters Written vs Timestamp').show()"
   ]
  },
  {
   "cell_type": "markdown",
   "id": "1af15e81",
   "metadata": {},
   "source": [
    "## Reads\n",
    "- Read Throughput\n",
    "  - mean\n",
    "  - std.dev\n",
    "  - median\n",
    "  - p95\n",
    "  - p99\n",
    "- Bytes Read from Disk\n",
    "  - per second\n",
    "  - aggregate"
   ]
  },
  {
   "cell_type": "code",
   "execution_count": 122,
   "id": "9232f9cd",
   "metadata": {},
   "outputs": [
    {
     "data": {
      "text/html": [
       "<div>\n",
       "<style scoped>\n",
       "    .dataframe tbody tr th:only-of-type {\n",
       "        vertical-align: middle;\n",
       "    }\n",
       "\n",
       "    .dataframe tbody tr th {\n",
       "        vertical-align: top;\n",
       "    }\n",
       "\n",
       "    .dataframe thead th {\n",
       "        text-align: right;\n",
       "    }\n",
       "</style>\n",
       "<table border=\"1\" class=\"dataframe\">\n",
       "  <thead>\n",
       "    <tr style=\"text-align: right;\">\n",
       "      <th></th>\n",
       "      <th>rchar</th>\n",
       "    </tr>\n",
       "  </thead>\n",
       "  <tbody>\n",
       "    <tr>\n",
       "      <th>count</th>\n",
       "      <td>3.480000e+02</td>\n",
       "    </tr>\n",
       "    <tr>\n",
       "      <th>mean</th>\n",
       "      <td>2.202524e+08</td>\n",
       "    </tr>\n",
       "    <tr>\n",
       "      <th>std</th>\n",
       "      <td>1.437641e+08</td>\n",
       "    </tr>\n",
       "    <tr>\n",
       "      <th>min</th>\n",
       "      <td>2.510963e+07</td>\n",
       "    </tr>\n",
       "    <tr>\n",
       "      <th>50%</th>\n",
       "      <td>2.392417e+08</td>\n",
       "    </tr>\n",
       "    <tr>\n",
       "      <th>75%</th>\n",
       "      <td>3.407820e+08</td>\n",
       "    </tr>\n",
       "    <tr>\n",
       "      <th>95%</th>\n",
       "      <td>4.441483e+08</td>\n",
       "    </tr>\n",
       "    <tr>\n",
       "      <th>99%</th>\n",
       "      <td>4.441504e+08</td>\n",
       "    </tr>\n",
       "    <tr>\n",
       "      <th>max</th>\n",
       "      <td>4.441509e+08</td>\n",
       "    </tr>\n",
       "  </tbody>\n",
       "</table>\n",
       "</div>"
      ],
      "text/plain": [
       "              rchar\n",
       "count  3.480000e+02\n",
       "mean   2.202524e+08\n",
       "std    1.437641e+08\n",
       "min    2.510963e+07\n",
       "50%    2.392417e+08\n",
       "75%    3.407820e+08\n",
       "95%    4.441483e+08\n",
       "99%    4.441504e+08\n",
       "max    4.441509e+08"
      ]
     },
     "execution_count": 122,
     "metadata": {},
     "output_type": "execute_result"
    }
   ],
   "source": [
    "show_aggregate_stats(io_df[[\"rchar\"]])"
   ]
  },
  {
   "cell_type": "code",
   "execution_count": 123,
   "id": "195ec3bc",
   "metadata": {},
   "outputs": [
    {
     "data": {
      "application/vnd.plotly.v1+json": {
       "config": {
        "plotlyServerURL": "https://plot.ly"
       },
       "data": [
        {
         "hovertemplate": "Timestamp=%{x}<br>rchar=%{y}<extra></extra>",
         "legendgroup": "",
         "line": {
          "color": "#636efa",
          "dash": "solid"
         },
         "marker": {
          "symbol": "circle"
         },
         "mode": "lines",
         "name": "",
         "orientation": "v",
         "showlegend": false,
         "type": "scatter",
         "x": [
          "2025-04-28T19:17:17",
          "2025-04-28T19:17:18",
          "2025-04-28T19:17:19",
          "2025-04-28T19:17:20",
          "2025-04-28T19:17:21",
          "2025-04-28T19:17:22",
          "2025-04-28T19:17:23",
          "2025-04-28T19:17:24",
          "2025-04-28T19:17:25",
          "2025-04-28T19:17:26",
          "2025-04-28T19:17:27",
          "2025-04-28T19:17:28",
          "2025-04-28T19:17:29",
          "2025-04-28T19:17:30",
          "2025-04-28T19:17:31",
          "2025-04-28T19:17:32",
          "2025-04-28T19:17:33",
          "2025-04-28T19:17:35",
          "2025-04-28T19:17:36",
          "2025-04-28T19:17:37",
          "2025-04-28T19:17:38",
          "2025-04-28T19:17:39",
          "2025-04-28T19:17:40",
          "2025-04-28T19:17:41",
          "2025-04-28T19:17:42",
          "2025-04-28T19:17:43",
          "2025-04-28T19:17:44",
          "2025-04-28T19:17:45",
          "2025-04-28T19:17:46",
          "2025-04-28T19:17:47",
          "2025-04-28T19:17:49",
          "2025-04-28T19:17:50",
          "2025-04-28T19:17:51",
          "2025-04-28T19:17:52",
          "2025-04-28T19:17:53",
          "2025-04-28T19:17:55",
          "2025-04-28T19:17:56",
          "2025-04-28T19:17:57",
          "2025-04-28T19:17:58",
          "2025-04-28T19:17:59",
          "2025-04-28T19:18:00",
          "2025-04-28T19:18:01",
          "2025-04-28T19:18:02",
          "2025-04-28T19:18:03",
          "2025-04-28T19:18:04",
          "2025-04-28T19:18:05",
          "2025-04-28T19:18:06",
          "2025-04-28T19:18:07",
          "2025-04-28T19:18:08",
          "2025-04-28T19:18:09",
          "2025-04-28T19:18:10",
          "2025-04-28T19:18:11",
          "2025-04-28T19:18:13",
          "2025-04-28T19:18:14",
          "2025-04-28T19:18:15",
          "2025-04-28T19:18:16",
          "2025-04-28T19:18:17",
          "2025-04-28T19:18:18",
          "2025-04-28T19:18:19",
          "2025-04-28T19:18:20",
          "2025-04-28T19:18:21",
          "2025-04-28T19:18:22",
          "2025-04-28T19:18:23",
          "2025-04-28T19:18:24",
          "2025-04-28T19:18:25",
          "2025-04-28T19:18:26",
          "2025-04-28T19:18:27",
          "2025-04-28T19:18:28",
          "2025-04-28T19:18:29",
          "2025-04-28T19:18:30",
          "2025-04-28T19:18:31",
          "2025-04-28T19:18:32",
          "2025-04-28T19:18:33",
          "2025-04-28T19:18:34",
          "2025-04-28T19:18:35",
          "2025-04-28T19:18:36",
          "2025-04-28T19:18:37",
          "2025-04-28T19:18:38",
          "2025-04-28T19:18:39",
          "2025-04-28T19:18:40",
          "2025-04-28T19:18:41",
          "2025-04-28T19:18:42",
          "2025-04-28T19:18:43",
          "2025-04-28T19:18:44",
          "2025-04-28T19:18:45",
          "2025-04-28T19:18:46",
          "2025-04-28T19:18:47",
          "2025-04-28T19:18:48",
          "2025-04-28T19:18:49",
          "2025-04-28T19:18:50",
          "2025-04-28T19:18:51",
          "2025-04-28T19:18:52",
          "2025-04-28T19:18:53",
          "2025-04-28T19:18:54",
          "2025-04-28T19:18:55",
          "2025-04-28T19:18:56",
          "2025-04-28T19:18:57",
          "2025-04-28T19:18:58",
          "2025-04-28T19:18:59",
          "2025-04-28T19:19:00",
          "2025-04-28T19:19:01",
          "2025-04-28T19:19:02",
          "2025-04-28T19:19:03",
          "2025-04-28T19:19:05",
          "2025-04-28T19:19:06",
          "2025-04-28T19:19:07",
          "2025-04-28T19:19:08",
          "2025-04-28T19:19:09",
          "2025-04-28T19:19:10",
          "2025-04-28T19:19:11",
          "2025-04-28T19:19:12",
          "2025-04-28T19:19:13",
          "2025-04-28T19:19:14",
          "2025-04-28T19:19:15",
          "2025-04-28T19:19:16",
          "2025-04-28T19:19:17",
          "2025-04-28T19:19:18",
          "2025-04-28T19:19:19",
          "2025-04-28T19:19:20",
          "2025-04-28T19:19:21",
          "2025-04-28T19:19:22",
          "2025-04-28T19:19:23",
          "2025-04-28T19:19:24",
          "2025-04-28T19:19:25",
          "2025-04-28T19:19:26",
          "2025-04-28T19:19:27",
          "2025-04-28T19:19:28",
          "2025-04-28T19:19:29",
          "2025-04-28T19:19:30",
          "2025-04-28T19:19:31",
          "2025-04-28T19:19:32",
          "2025-04-28T19:19:33",
          "2025-04-28T19:19:34",
          "2025-04-28T19:19:35",
          "2025-04-28T19:19:36",
          "2025-04-28T19:19:37",
          "2025-04-28T19:19:38",
          "2025-04-28T19:19:39",
          "2025-04-28T19:19:40",
          "2025-04-28T19:19:41",
          "2025-04-28T19:19:42",
          "2025-04-28T19:19:43",
          "2025-04-28T19:19:44",
          "2025-04-28T19:19:45",
          "2025-04-28T19:19:46",
          "2025-04-28T19:19:47",
          "2025-04-28T19:19:48",
          "2025-04-28T19:19:49",
          "2025-04-28T19:19:50",
          "2025-04-28T19:19:51",
          "2025-04-28T19:19:52",
          "2025-04-28T19:19:53",
          "2025-04-28T19:19:54",
          "2025-04-28T19:19:55",
          "2025-04-28T19:19:56",
          "2025-04-28T19:19:57",
          "2025-04-28T19:19:58",
          "2025-04-28T19:19:59",
          "2025-04-28T19:20:00",
          "2025-04-28T19:20:01",
          "2025-04-28T19:20:02",
          "2025-04-28T19:20:03",
          "2025-04-28T19:20:04",
          "2025-04-28T19:20:05",
          "2025-04-28T19:20:06",
          "2025-04-28T19:20:07",
          "2025-04-28T19:20:08",
          "2025-04-28T19:20:09",
          "2025-04-28T19:20:10",
          "2025-04-28T19:20:11",
          "2025-04-28T19:20:12",
          "2025-04-28T19:20:13",
          "2025-04-28T19:20:14",
          "2025-04-28T19:20:15",
          "2025-04-28T19:20:16",
          "2025-04-28T19:20:17",
          "2025-04-28T19:20:18",
          "2025-04-28T19:20:19",
          "2025-04-28T19:20:20",
          "2025-04-28T19:20:21",
          "2025-04-28T19:20:22",
          "2025-04-28T19:20:23",
          "2025-04-28T19:20:24",
          "2025-04-28T19:20:26",
          "2025-04-28T19:20:27",
          "2025-04-28T19:20:28",
          "2025-04-28T19:20:29",
          "2025-04-28T19:20:30",
          "2025-04-28T19:20:31",
          "2025-04-28T19:20:32",
          "2025-04-28T19:20:33",
          "2025-04-28T19:20:34",
          "2025-04-28T19:20:35",
          "2025-04-28T19:20:36",
          "2025-04-28T19:20:37",
          "2025-04-28T19:20:38",
          "2025-04-28T19:20:39",
          "2025-04-28T19:20:40",
          "2025-04-28T19:20:41",
          "2025-04-28T19:20:43",
          "2025-04-28T19:20:44",
          "2025-04-28T19:20:45",
          "2025-04-28T19:20:46",
          "2025-04-28T19:20:47",
          "2025-04-28T19:20:48",
          "2025-04-28T19:20:49",
          "2025-04-28T19:20:50",
          "2025-04-28T19:20:51",
          "2025-04-28T19:20:52",
          "2025-04-28T19:20:53",
          "2025-04-28T19:20:54",
          "2025-04-28T19:20:55",
          "2025-04-28T19:20:56",
          "2025-04-28T19:20:57",
          "2025-04-28T19:20:58",
          "2025-04-28T19:20:59",
          "2025-04-28T19:21:00",
          "2025-04-28T19:21:01",
          "2025-04-28T19:21:02",
          "2025-04-28T19:21:03",
          "2025-04-28T19:21:04",
          "2025-04-28T19:21:05",
          "2025-04-28T19:21:06",
          "2025-04-28T19:21:07",
          "2025-04-28T19:21:08",
          "2025-04-28T19:21:09",
          "2025-04-28T19:21:10",
          "2025-04-28T19:21:11",
          "2025-04-28T19:21:12",
          "2025-04-28T19:21:13",
          "2025-04-28T19:21:14",
          "2025-04-28T19:21:15",
          "2025-04-28T19:21:16",
          "2025-04-28T19:21:18",
          "2025-04-28T19:21:19",
          "2025-04-28T19:21:20",
          "2025-04-28T19:21:21",
          "2025-04-28T19:21:22",
          "2025-04-28T19:21:23",
          "2025-04-28T19:21:24",
          "2025-04-28T19:21:25",
          "2025-04-28T19:21:26",
          "2025-04-28T19:21:27",
          "2025-04-28T19:21:28",
          "2025-04-28T19:21:29",
          "2025-04-28T19:21:30",
          "2025-04-28T19:21:31",
          "2025-04-28T19:21:32",
          "2025-04-28T19:21:33",
          "2025-04-28T19:21:34",
          "2025-04-28T19:21:35",
          "2025-04-28T19:21:36",
          "2025-04-28T19:21:37",
          "2025-04-28T19:21:38",
          "2025-04-28T19:21:39",
          "2025-04-28T19:21:40",
          "2025-04-28T19:21:41",
          "2025-04-28T19:21:42",
          "2025-04-28T19:21:43",
          "2025-04-28T19:21:44",
          "2025-04-28T19:21:45",
          "2025-04-28T19:21:46",
          "2025-04-28T19:21:47",
          "2025-04-28T19:21:48",
          "2025-04-28T19:21:49",
          "2025-04-28T19:21:50",
          "2025-04-28T19:21:51",
          "2025-04-28T19:21:52",
          "2025-04-28T19:21:53",
          "2025-04-28T19:21:54",
          "2025-04-28T19:21:55",
          "2025-04-28T19:21:56",
          "2025-04-28T19:21:57",
          "2025-04-28T19:21:58",
          "2025-04-28T19:21:59",
          "2025-04-28T19:22:00",
          "2025-04-28T19:22:01",
          "2025-04-28T19:22:02",
          "2025-04-28T19:22:03",
          "2025-04-28T19:22:04",
          "2025-04-28T19:22:05",
          "2025-04-28T19:22:06",
          "2025-04-28T19:22:07",
          "2025-04-28T19:22:08",
          "2025-04-28T19:22:09",
          "2025-04-28T19:22:10",
          "2025-04-28T19:22:11",
          "2025-04-28T19:22:12",
          "2025-04-28T19:22:13",
          "2025-04-28T19:22:14",
          "2025-04-28T19:22:15",
          "2025-04-28T19:22:16",
          "2025-04-28T19:22:17",
          "2025-04-28T19:22:18",
          "2025-04-28T19:22:19",
          "2025-04-28T19:22:20",
          "2025-04-28T19:22:21",
          "2025-04-28T19:22:22",
          "2025-04-28T19:22:23",
          "2025-04-28T19:22:24",
          "2025-04-28T19:22:25",
          "2025-04-28T19:22:26",
          "2025-04-28T19:22:27",
          "2025-04-28T19:22:28",
          "2025-04-28T19:22:29",
          "2025-04-28T19:22:30",
          "2025-04-28T19:22:31",
          "2025-04-28T19:22:32",
          "2025-04-28T19:22:33",
          "2025-04-28T19:22:34",
          "2025-04-28T19:22:35",
          "2025-04-28T19:22:36",
          "2025-04-28T19:22:38",
          "2025-04-28T19:22:39",
          "2025-04-28T19:22:40",
          "2025-04-28T19:22:41",
          "2025-04-28T19:22:42",
          "2025-04-28T19:22:43",
          "2025-04-28T19:22:44",
          "2025-04-28T19:22:45",
          "2025-04-28T19:22:46",
          "2025-04-28T19:22:47",
          "2025-04-28T19:22:48",
          "2025-04-28T19:22:49",
          "2025-04-28T19:22:50",
          "2025-04-28T19:22:51",
          "2025-04-28T19:22:52",
          "2025-04-28T19:22:53",
          "2025-04-28T19:22:54",
          "2025-04-28T19:22:55",
          "2025-04-28T19:22:56",
          "2025-04-28T19:22:57",
          "2025-04-28T19:22:58",
          "2025-04-28T19:22:59",
          "2025-04-28T19:23:01",
          "2025-04-28T19:23:02",
          "2025-04-28T19:23:03",
          "2025-04-28T19:23:04",
          "2025-04-28T19:23:05",
          "2025-04-28T19:23:06",
          "2025-04-28T19:23:07",
          "2025-04-28T19:23:09",
          "2025-04-28T19:23:10",
          "2025-04-28T19:23:11",
          "2025-04-28T19:23:12",
          "2025-04-28T19:23:13",
          "2025-04-28T19:23:14",
          "2025-04-28T19:23:15"
         ],
         "xaxis": "x",
         "y": {
          "bdata": "fSR/ASyXkQHYJZUB2CWVAdgllQHYJZUB2CWVAdgllQH/J5UBR/rPAfZy0QFc29MBAsbaAQkm3QEhge0BLKkgAiypIAJLqyACU6sgAlOrIAJTqyACU6sgAlOrIAJTqyACU6sgAlOrIAJTqyACfq0gAn6tIAJ+rSACfq0gAn6tIAJ+rSACfq0gAn6tIAKhryACra8gAq2vIAKtryACra8gAq2vIAKtryACra8gAq2vIAKtryAC1LEgAudgWwI9YlsC4m1cAr2QXQJoHF8CXJlgAmuoYQKpcWICA05jAgWpZAKmpmUCLvhlArsclAK7HJQCuxyUArsclAIHy84CCcHRAnkt1QLJ+dgC13wHA9d8BwO4ggcD95tDAzLJRwOL70sDv9x6A7/cegObLLYDYNC5AwRpvQOnPu4Dqz7uA6s+7gPNwikEWXQtBIe2LgTEZTEEPaBhBD2gYQQ9oGEEwNecBMocoQTs7aQE3P3UBNz91ATzrA8FtCoSBXj8FQUP7hkFPV9IBT1fSAVHDYMF5syFBW+biQXdBY0Fa767BZLAuwWSwLsFrc73BRZq+wW+S/8FCx4vBgseLwYLHi8GwZlrBrJzbwZqPnMGzYCiBs2AogbNgKIGQ2reBuBn4gaZUuUGJ98VByffFQcn3xUHOBtSByojVgdso1kHQUCJB0FAiQdBQIkHUeLEB8wmxwe49MoH2XrOB3mh/Ad5ofwHOFA3CFSmOgiZVT4I+9tBCGIAcAhiAHAIYgBwCGYpxQkuD2MLSEwDDONzBgwUfwkMC4g4DAuIOAxx+TkMSxp2DEw9egx7qn0MFuqrDBbqqwz6xOYMEfbqDCoB7wwpSB8NKUgfDSlIHw0ogFoN4bFeDc5YYg3Ap5INoKmSDaSpkg0ELM4NPyPSDT671Q1h5NcNwAgGDsAIBg6gt0AOHlxEDvi8Rw4uQ0sOo2d5DqNneQ6jZ3kOp2d5DqdneQ6bbY8OGxi0DjMytQ4asrYOgtm3DochuQ7JNroOJSC7Dp9YvA5WD74O2qW+DlvK7A5byuwOW8rsDlvK7A5byuwOW8rsDlvK7A5byuwOFnsnD2L7Jw8ENikPb6EqD8bALQ+fozEPBCtgDwQrYA8IK2AP5fabDyptoA+p/aMPI4rTDyOK0w8jitMPrjEPEGoGExDqihYQksMYEPDnRhAX6kYQWJiBEHUJhRDPu4gQ2iOMEGVIuhBlSLoQV+7gEBLH9xDsevsQr/n+EE2pLRFNqS0RTaktEU2pLRFNqS0RMa8tET/haRGrEG0RLd5vEe+2cRHbCKER3wihEd8IoRHfCKERwA6hEToH3RFNgt8RA4riEejM5REMaxQSDGsUEu5wFBKTslESDZ1VEoYSWRLzyIcS88iHEvPIhxKsxNwTdGCpFe0DHxbuoE8W7qBPFu6gTxazl4sWSsWPFu6JkxZo25QWCALDFggCwxaIsP0WMCwBF+e1BBerBggXzGA2F8xgNhfMYDYXyOFyF/bWdhecSHoXUsGpF1LBqRdSwakX3/TkFxbm6Be9kuwXRfvuF6QfHRhLIx0Yk9JXGI9rWxhPDl8YRl5iGMOCkBjDgpAYpYiQGDR8zRhti9EY8kjVGCrN1RhC4wMZQuMDGSPpAxlK2kAZPZ1EGYLqRxlWQXcZVkF3GX1DdxlDT7IZbCa2GVZsuRlmfrwZ2aLqGdmi6hnCqOoZdK0mGlKVKhrJFy4amANeGpgDXhqYA14ait9rGj9RbRpS2W0aFih5GhYoeRo9KnkaPSp5Gj0qeRo9KnkaIjB5GiIweRoiMHkaIjB5GiIweRpJMnkaSTJ5GkkyeRpJMnkaSTJ5Gl8yeRpfMnkaYzJ5GmMyeRqKNHka",
          "dtype": "i4"
         },
         "yaxis": "y"
        }
       ],
       "layout": {
        "legend": {
         "tracegroupgap": 0
        },
        "template": {
         "data": {
          "bar": [
           {
            "error_x": {
             "color": "#2a3f5f"
            },
            "error_y": {
             "color": "#2a3f5f"
            },
            "marker": {
             "line": {
              "color": "white",
              "width": 0.5
             },
             "pattern": {
              "fillmode": "overlay",
              "size": 10,
              "solidity": 0.2
             }
            },
            "type": "bar"
           }
          ],
          "barpolar": [
           {
            "marker": {
             "line": {
              "color": "white",
              "width": 0.5
             },
             "pattern": {
              "fillmode": "overlay",
              "size": 10,
              "solidity": 0.2
             }
            },
            "type": "barpolar"
           }
          ],
          "carpet": [
           {
            "aaxis": {
             "endlinecolor": "#2a3f5f",
             "gridcolor": "#C8D4E3",
             "linecolor": "#C8D4E3",
             "minorgridcolor": "#C8D4E3",
             "startlinecolor": "#2a3f5f"
            },
            "baxis": {
             "endlinecolor": "#2a3f5f",
             "gridcolor": "#C8D4E3",
             "linecolor": "#C8D4E3",
             "minorgridcolor": "#C8D4E3",
             "startlinecolor": "#2a3f5f"
            },
            "type": "carpet"
           }
          ],
          "choropleth": [
           {
            "colorbar": {
             "outlinewidth": 0,
             "ticks": ""
            },
            "type": "choropleth"
           }
          ],
          "contour": [
           {
            "colorbar": {
             "outlinewidth": 0,
             "ticks": ""
            },
            "colorscale": [
             [
              0,
              "#0d0887"
             ],
             [
              0.1111111111111111,
              "#46039f"
             ],
             [
              0.2222222222222222,
              "#7201a8"
             ],
             [
              0.3333333333333333,
              "#9c179e"
             ],
             [
              0.4444444444444444,
              "#bd3786"
             ],
             [
              0.5555555555555556,
              "#d8576b"
             ],
             [
              0.6666666666666666,
              "#ed7953"
             ],
             [
              0.7777777777777778,
              "#fb9f3a"
             ],
             [
              0.8888888888888888,
              "#fdca26"
             ],
             [
              1,
              "#f0f921"
             ]
            ],
            "type": "contour"
           }
          ],
          "contourcarpet": [
           {
            "colorbar": {
             "outlinewidth": 0,
             "ticks": ""
            },
            "type": "contourcarpet"
           }
          ],
          "heatmap": [
           {
            "colorbar": {
             "outlinewidth": 0,
             "ticks": ""
            },
            "colorscale": [
             [
              0,
              "#0d0887"
             ],
             [
              0.1111111111111111,
              "#46039f"
             ],
             [
              0.2222222222222222,
              "#7201a8"
             ],
             [
              0.3333333333333333,
              "#9c179e"
             ],
             [
              0.4444444444444444,
              "#bd3786"
             ],
             [
              0.5555555555555556,
              "#d8576b"
             ],
             [
              0.6666666666666666,
              "#ed7953"
             ],
             [
              0.7777777777777778,
              "#fb9f3a"
             ],
             [
              0.8888888888888888,
              "#fdca26"
             ],
             [
              1,
              "#f0f921"
             ]
            ],
            "type": "heatmap"
           }
          ],
          "histogram": [
           {
            "marker": {
             "pattern": {
              "fillmode": "overlay",
              "size": 10,
              "solidity": 0.2
             }
            },
            "type": "histogram"
           }
          ],
          "histogram2d": [
           {
            "colorbar": {
             "outlinewidth": 0,
             "ticks": ""
            },
            "colorscale": [
             [
              0,
              "#0d0887"
             ],
             [
              0.1111111111111111,
              "#46039f"
             ],
             [
              0.2222222222222222,
              "#7201a8"
             ],
             [
              0.3333333333333333,
              "#9c179e"
             ],
             [
              0.4444444444444444,
              "#bd3786"
             ],
             [
              0.5555555555555556,
              "#d8576b"
             ],
             [
              0.6666666666666666,
              "#ed7953"
             ],
             [
              0.7777777777777778,
              "#fb9f3a"
             ],
             [
              0.8888888888888888,
              "#fdca26"
             ],
             [
              1,
              "#f0f921"
             ]
            ],
            "type": "histogram2d"
           }
          ],
          "histogram2dcontour": [
           {
            "colorbar": {
             "outlinewidth": 0,
             "ticks": ""
            },
            "colorscale": [
             [
              0,
              "#0d0887"
             ],
             [
              0.1111111111111111,
              "#46039f"
             ],
             [
              0.2222222222222222,
              "#7201a8"
             ],
             [
              0.3333333333333333,
              "#9c179e"
             ],
             [
              0.4444444444444444,
              "#bd3786"
             ],
             [
              0.5555555555555556,
              "#d8576b"
             ],
             [
              0.6666666666666666,
              "#ed7953"
             ],
             [
              0.7777777777777778,
              "#fb9f3a"
             ],
             [
              0.8888888888888888,
              "#fdca26"
             ],
             [
              1,
              "#f0f921"
             ]
            ],
            "type": "histogram2dcontour"
           }
          ],
          "mesh3d": [
           {
            "colorbar": {
             "outlinewidth": 0,
             "ticks": ""
            },
            "type": "mesh3d"
           }
          ],
          "parcoords": [
           {
            "line": {
             "colorbar": {
              "outlinewidth": 0,
              "ticks": ""
             }
            },
            "type": "parcoords"
           }
          ],
          "pie": [
           {
            "automargin": true,
            "type": "pie"
           }
          ],
          "scatter": [
           {
            "fillpattern": {
             "fillmode": "overlay",
             "size": 10,
             "solidity": 0.2
            },
            "type": "scatter"
           }
          ],
          "scatter3d": [
           {
            "line": {
             "colorbar": {
              "outlinewidth": 0,
              "ticks": ""
             }
            },
            "marker": {
             "colorbar": {
              "outlinewidth": 0,
              "ticks": ""
             }
            },
            "type": "scatter3d"
           }
          ],
          "scattercarpet": [
           {
            "marker": {
             "colorbar": {
              "outlinewidth": 0,
              "ticks": ""
             }
            },
            "type": "scattercarpet"
           }
          ],
          "scattergeo": [
           {
            "marker": {
             "colorbar": {
              "outlinewidth": 0,
              "ticks": ""
             }
            },
            "type": "scattergeo"
           }
          ],
          "scattergl": [
           {
            "marker": {
             "colorbar": {
              "outlinewidth": 0,
              "ticks": ""
             }
            },
            "type": "scattergl"
           }
          ],
          "scattermap": [
           {
            "marker": {
             "colorbar": {
              "outlinewidth": 0,
              "ticks": ""
             }
            },
            "type": "scattermap"
           }
          ],
          "scattermapbox": [
           {
            "marker": {
             "colorbar": {
              "outlinewidth": 0,
              "ticks": ""
             }
            },
            "type": "scattermapbox"
           }
          ],
          "scatterpolar": [
           {
            "marker": {
             "colorbar": {
              "outlinewidth": 0,
              "ticks": ""
             }
            },
            "type": "scatterpolar"
           }
          ],
          "scatterpolargl": [
           {
            "marker": {
             "colorbar": {
              "outlinewidth": 0,
              "ticks": ""
             }
            },
            "type": "scatterpolargl"
           }
          ],
          "scatterternary": [
           {
            "marker": {
             "colorbar": {
              "outlinewidth": 0,
              "ticks": ""
             }
            },
            "type": "scatterternary"
           }
          ],
          "surface": [
           {
            "colorbar": {
             "outlinewidth": 0,
             "ticks": ""
            },
            "colorscale": [
             [
              0,
              "#0d0887"
             ],
             [
              0.1111111111111111,
              "#46039f"
             ],
             [
              0.2222222222222222,
              "#7201a8"
             ],
             [
              0.3333333333333333,
              "#9c179e"
             ],
             [
              0.4444444444444444,
              "#bd3786"
             ],
             [
              0.5555555555555556,
              "#d8576b"
             ],
             [
              0.6666666666666666,
              "#ed7953"
             ],
             [
              0.7777777777777778,
              "#fb9f3a"
             ],
             [
              0.8888888888888888,
              "#fdca26"
             ],
             [
              1,
              "#f0f921"
             ]
            ],
            "type": "surface"
           }
          ],
          "table": [
           {
            "cells": {
             "fill": {
              "color": "#EBF0F8"
             },
             "line": {
              "color": "white"
             }
            },
            "header": {
             "fill": {
              "color": "#C8D4E3"
             },
             "line": {
              "color": "white"
             }
            },
            "type": "table"
           }
          ]
         },
         "layout": {
          "annotationdefaults": {
           "arrowcolor": "#2a3f5f",
           "arrowhead": 0,
           "arrowwidth": 1
          },
          "autotypenumbers": "strict",
          "coloraxis": {
           "colorbar": {
            "outlinewidth": 0,
            "ticks": ""
           }
          },
          "colorscale": {
           "diverging": [
            [
             0,
             "#8e0152"
            ],
            [
             0.1,
             "#c51b7d"
            ],
            [
             0.2,
             "#de77ae"
            ],
            [
             0.3,
             "#f1b6da"
            ],
            [
             0.4,
             "#fde0ef"
            ],
            [
             0.5,
             "#f7f7f7"
            ],
            [
             0.6,
             "#e6f5d0"
            ],
            [
             0.7,
             "#b8e186"
            ],
            [
             0.8,
             "#7fbc41"
            ],
            [
             0.9,
             "#4d9221"
            ],
            [
             1,
             "#276419"
            ]
           ],
           "sequential": [
            [
             0,
             "#0d0887"
            ],
            [
             0.1111111111111111,
             "#46039f"
            ],
            [
             0.2222222222222222,
             "#7201a8"
            ],
            [
             0.3333333333333333,
             "#9c179e"
            ],
            [
             0.4444444444444444,
             "#bd3786"
            ],
            [
             0.5555555555555556,
             "#d8576b"
            ],
            [
             0.6666666666666666,
             "#ed7953"
            ],
            [
             0.7777777777777778,
             "#fb9f3a"
            ],
            [
             0.8888888888888888,
             "#fdca26"
            ],
            [
             1,
             "#f0f921"
            ]
           ],
           "sequentialminus": [
            [
             0,
             "#0d0887"
            ],
            [
             0.1111111111111111,
             "#46039f"
            ],
            [
             0.2222222222222222,
             "#7201a8"
            ],
            [
             0.3333333333333333,
             "#9c179e"
            ],
            [
             0.4444444444444444,
             "#bd3786"
            ],
            [
             0.5555555555555556,
             "#d8576b"
            ],
            [
             0.6666666666666666,
             "#ed7953"
            ],
            [
             0.7777777777777778,
             "#fb9f3a"
            ],
            [
             0.8888888888888888,
             "#fdca26"
            ],
            [
             1,
             "#f0f921"
            ]
           ]
          },
          "colorway": [
           "#636efa",
           "#EF553B",
           "#00cc96",
           "#ab63fa",
           "#FFA15A",
           "#19d3f3",
           "#FF6692",
           "#B6E880",
           "#FF97FF",
           "#FECB52"
          ],
          "font": {
           "color": "#2a3f5f"
          },
          "geo": {
           "bgcolor": "white",
           "lakecolor": "white",
           "landcolor": "white",
           "showlakes": true,
           "showland": true,
           "subunitcolor": "#C8D4E3"
          },
          "hoverlabel": {
           "align": "left"
          },
          "hovermode": "closest",
          "mapbox": {
           "style": "light"
          },
          "paper_bgcolor": "white",
          "plot_bgcolor": "white",
          "polar": {
           "angularaxis": {
            "gridcolor": "#EBF0F8",
            "linecolor": "#EBF0F8",
            "ticks": ""
           },
           "bgcolor": "white",
           "radialaxis": {
            "gridcolor": "#EBF0F8",
            "linecolor": "#EBF0F8",
            "ticks": ""
           }
          },
          "scene": {
           "xaxis": {
            "backgroundcolor": "white",
            "gridcolor": "#DFE8F3",
            "gridwidth": 2,
            "linecolor": "#EBF0F8",
            "showbackground": true,
            "ticks": "",
            "zerolinecolor": "#EBF0F8"
           },
           "yaxis": {
            "backgroundcolor": "white",
            "gridcolor": "#DFE8F3",
            "gridwidth": 2,
            "linecolor": "#EBF0F8",
            "showbackground": true,
            "ticks": "",
            "zerolinecolor": "#EBF0F8"
           },
           "zaxis": {
            "backgroundcolor": "white",
            "gridcolor": "#DFE8F3",
            "gridwidth": 2,
            "linecolor": "#EBF0F8",
            "showbackground": true,
            "ticks": "",
            "zerolinecolor": "#EBF0F8"
           }
          },
          "shapedefaults": {
           "line": {
            "color": "#2a3f5f"
           }
          },
          "ternary": {
           "aaxis": {
            "gridcolor": "#DFE8F3",
            "linecolor": "#A2B1C6",
            "ticks": ""
           },
           "baxis": {
            "gridcolor": "#DFE8F3",
            "linecolor": "#A2B1C6",
            "ticks": ""
           },
           "bgcolor": "white",
           "caxis": {
            "gridcolor": "#DFE8F3",
            "linecolor": "#A2B1C6",
            "ticks": ""
           }
          },
          "title": {
           "x": 0.05
          },
          "xaxis": {
           "automargin": true,
           "gridcolor": "#EBF0F8",
           "linecolor": "#EBF0F8",
           "ticks": "",
           "title": {
            "standoff": 15
           },
           "zerolinecolor": "#EBF0F8",
           "zerolinewidth": 2
          },
          "yaxis": {
           "automargin": true,
           "gridcolor": "#EBF0F8",
           "linecolor": "#EBF0F8",
           "ticks": "",
           "title": {
            "standoff": 15
           },
           "zerolinecolor": "#EBF0F8",
           "zerolinewidth": 2
          }
         }
        },
        "title": {
         "text": "Characters Read vs Timestamp",
         "x": 0.5
        },
        "xaxis": {
         "anchor": "y",
         "domain": [
          0,
          1
         ],
         "tickangle": 45,
         "title": {
          "text": "Timestamp"
         }
        },
        "yaxis": {
         "anchor": "x",
         "domain": [
          0,
          1
         ],
         "title": {
          "text": "Characters Read"
         }
        }
       }
      }
     },
     "metadata": {},
     "output_type": "display_data"
    }
   ],
   "source": [
    "visualize_io_data(io_df, ycolumn='rchar', yaxis_title='Characters Read', title='Characters Read vs Timestamp').show()"
   ]
  }
 ],
 "metadata": {
  "kernelspec": {
   "display_name": "Python 3",
   "language": "python",
   "name": "python3"
  },
  "language_info": {
   "codemirror_mode": {
    "name": "ipython",
    "version": 3
   },
   "file_extension": ".py",
   "mimetype": "text/x-python",
   "name": "python",
   "nbconvert_exporter": "python",
   "pygments_lexer": "ipython3",
   "version": "3.10.0"
  }
 },
 "nbformat": 4,
 "nbformat_minor": 5
}
