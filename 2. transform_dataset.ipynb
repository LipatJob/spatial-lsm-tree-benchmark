{
 "cells": [
  {
   "cell_type": "code",
   "execution_count": null,
   "id": "7b1432f8",
   "metadata": {},
   "outputs": [],
   "source": [
    "%load_ext sql"
   ]
  },
  {
   "cell_type": "code",
   "execution_count": 19,
   "id": "f77d967f",
   "metadata": {},
   "outputs": [
    {
     "data": {
      "text/html": [
       "<span style=\"None\">Connecting and switching to connection &#x27;duckdb:///data/local.duckdb&#x27;</span>"
      ],
      "text/plain": [
       "Connecting and switching to connection 'duckdb:///data/local.duckdb'"
      ]
     },
     "metadata": {},
     "output_type": "display_data"
    }
   ],
   "source": [
    "%sql duckdb:///data/local.duckdb\n"
   ]
  },
  {
   "cell_type": "code",
   "execution_count": 20,
   "id": "459f7cd3",
   "metadata": {},
   "outputs": [
    {
     "data": {
      "text/html": [
       "<span style=\"None\">Running query in &#x27;duckdb:///data/local.duckdb&#x27;</span>"
      ],
      "text/plain": [
       "Running query in 'duckdb:///data/local.duckdb'"
      ]
     },
     "metadata": {},
     "output_type": "display_data"
    },
    {
     "data": {
      "text/html": [
       "<table>\n",
       "    <thead>\n",
       "        <tr>\n",
       "            <th>Success</th>\n",
       "        </tr>\n",
       "    </thead>\n",
       "    <tbody>\n",
       "    </tbody>\n",
       "</table>"
      ],
      "text/plain": [
       "+---------+\n",
       "| Success |\n",
       "+---------+\n",
       "+---------+"
      ]
     },
     "execution_count": 20,
     "metadata": {},
     "output_type": "execute_result"
    }
   ],
   "source": [
    "%%sql\n",
    "INSTALL psql FROM community;\n",
    "INSTALL spatial;\n",
    "LOAD spatial;\n",
    "LOAD psql;\n"
   ]
  },
  {
   "cell_type": "code",
   "execution_count": 21,
   "id": "47fd79bc",
   "metadata": {},
   "outputs": [
    {
     "data": {
      "text/html": [
       "<span style=\"None\">Running query in &#x27;duckdb:///data/local.duckdb&#x27;</span>"
      ],
      "text/plain": [
       "Running query in 'duckdb:///data/local.duckdb'"
      ]
     },
     "metadata": {},
     "output_type": "display_data"
    },
    {
     "data": {
      "text/html": [
       "<table>\n",
       "    <thead>\n",
       "        <tr>\n",
       "            <th>Count</th>\n",
       "        </tr>\n",
       "    </thead>\n",
       "    <tbody>\n",
       "    </tbody>\n",
       "</table>"
      ],
      "text/plain": [
       "+-------+\n",
       "| Count |\n",
       "+-------+\n",
       "+-------+"
      ]
     },
     "execution_count": 21,
     "metadata": {},
     "output_type": "execute_result"
    }
   ],
   "source": [
    "%%sql\n",
    "\n",
    "CREATE TABLE point_data AS\n",
    "SELECT *\n",
    "FROM ST_Read(\"./data/osm21_cemetery.geojson\")"
   ]
  },
  {
   "cell_type": "code",
   "execution_count": 22,
   "id": "8577e55a",
   "metadata": {},
   "outputs": [
    {
     "data": {
      "text/html": [
       "<span style=\"None\">Running query in &#x27;duckdb:///data/local.duckdb&#x27;</span>"
      ],
      "text/plain": [
       "Running query in 'duckdb:///data/local.duckdb'"
      ]
     },
     "metadata": {},
     "output_type": "display_data"
    },
    {
     "data": {
      "text/html": [
       "<table>\n",
       "    <thead>\n",
       "        <tr>\n",
       "            <th>Count</th>\n",
       "        </tr>\n",
       "    </thead>\n",
       "    <tbody>\n",
       "    </tbody>\n",
       "</table>"
      ],
      "text/plain": [
       "+-------+\n",
       "| Count |\n",
       "+-------+\n",
       "+-------+"
      ]
     },
     "execution_count": 22,
     "metadata": {},
     "output_type": "execute_result"
    }
   ],
   "source": [
    "%%sql\n",
    "CREATE OR REPLACE TABLE point_data_centroid AS\n",
    "WITH centroid AS (\n",
    "    FROM point_data\n",
    "    SELECT centroid: geom.ST_Centroid(),\n",
    ")\n",
    "FROM centroid\n",
    "SELECT\n",
    "    id: ROW_NUMBER() OVER (ORDER BY centroid),\n",
    "    locationX: centroid.ST_X(),\n",
    "    locationy: centroid.ST_Y(),\n",
    "    description: substr(md5(random()::VARCHAR), 1, 10)\n"
   ]
  },
  {
   "cell_type": "code",
   "execution_count": 23,
   "id": "a040abbc",
   "metadata": {},
   "outputs": [
    {
     "data": {
      "text/html": [
       "<span style=\"None\">Running query in &#x27;duckdb:///data/local.duckdb&#x27;</span>"
      ],
      "text/plain": [
       "Running query in 'duckdb:///data/local.duckdb'"
      ]
     },
     "metadata": {},
     "output_type": "display_data"
    },
    {
     "data": {
      "text/html": [
       "<table>\n",
       "    <thead>\n",
       "        <tr>\n",
       "            <th>id</th>\n",
       "            <th>locationX</th>\n",
       "            <th>locationy</th>\n",
       "            <th>description</th>\n",
       "        </tr>\n",
       "    </thead>\n",
       "    <tbody>\n",
       "        <tr>\n",
       "            <td>1</td>\n",
       "            <td>71.60207635350525</td>\n",
       "            <td>54.78643014239917</td>\n",
       "            <td>b6cf96d44f</td>\n",
       "        </tr>\n",
       "        <tr>\n",
       "            <td>2</td>\n",
       "            <td>68.07547055464238</td>\n",
       "            <td>40.23959944486414</td>\n",
       "            <td>c476c8cb3f</td>\n",
       "        </tr>\n",
       "        <tr>\n",
       "            <td>3</td>\n",
       "            <td>22.71972581720911</td>\n",
       "            <td>48.451325419849496</td>\n",
       "            <td>cc7ff5fbca</td>\n",
       "        </tr>\n",
       "        <tr>\n",
       "            <td>4</td>\n",
       "            <td>29.491294654319063</td>\n",
       "            <td>46.07657549119183</td>\n",
       "            <td>1ce286ab90</td>\n",
       "        </tr>\n",
       "        <tr>\n",
       "            <td>5</td>\n",
       "            <td>79.38921734504402</td>\n",
       "            <td>52.74566659600047</td>\n",
       "            <td>bded6d885f</td>\n",
       "        </tr>\n",
       "        <tr>\n",
       "            <td>6</td>\n",
       "            <td>6.359217615158059</td>\n",
       "            <td>43.142364551113644</td>\n",
       "            <td>5f2e50165d</td>\n",
       "        </tr>\n",
       "        <tr>\n",
       "            <td>7</td>\n",
       "            <td>1.9459106666618595</td>\n",
       "            <td>49.15726517327247</td>\n",
       "            <td>0e5b974d0b</td>\n",
       "        </tr>\n",
       "        <tr>\n",
       "            <td>8</td>\n",
       "            <td>7.758160430065118</td>\n",
       "            <td>43.808794503076086</td>\n",
       "            <td>7b71bdc0b5</td>\n",
       "        </tr>\n",
       "        <tr>\n",
       "            <td>9</td>\n",
       "            <td>-0.9758063970803335</td>\n",
       "            <td>51.474531240130844</td>\n",
       "            <td>56921ad21e</td>\n",
       "        </tr>\n",
       "        <tr>\n",
       "            <td>10</td>\n",
       "            <td>66.95163331926233</td>\n",
       "            <td>39.698323306344484</td>\n",
       "            <td>d015471104</td>\n",
       "        </tr>\n",
       "    </tbody>\n",
       "</table>\n",
       "<span style=\"font-style:italic;text-align:center;\">Truncated to <a href=\"https://jupysql.ploomber.io/en/latest/api/configuration.html#displaylimit\">displaylimit</a> of 10.</span>"
      ],
      "text/plain": [
       "+----+---------------------+--------------------+-------------+\n",
       "| id |      locationX      |     locationy      | description |\n",
       "+----+---------------------+--------------------+-------------+\n",
       "| 1  |  71.60207635350525  | 54.78643014239917  |  b6cf96d44f |\n",
       "| 2  |  68.07547055464238  | 40.23959944486414  |  c476c8cb3f |\n",
       "| 3  |  22.71972581720911  | 48.451325419849496 |  cc7ff5fbca |\n",
       "| 4  |  29.491294654319063 | 46.07657549119183  |  1ce286ab90 |\n",
       "| 5  |  79.38921734504402  | 52.74566659600047  |  bded6d885f |\n",
       "| 6  |  6.359217615158059  | 43.142364551113644 |  5f2e50165d |\n",
       "| 7  |  1.9459106666618595 | 49.15726517327247  |  0e5b974d0b |\n",
       "| 8  |  7.758160430065118  | 43.808794503076086 |  7b71bdc0b5 |\n",
       "| 9  | -0.9758063970803335 | 51.474531240130844 |  56921ad21e |\n",
       "| 10 |  66.95163331926233  | 39.698323306344484 |  d015471104 |\n",
       "+----+---------------------+--------------------+-------------+\n",
       "Truncated to displaylimit of 10."
      ]
     },
     "execution_count": 23,
     "metadata": {},
     "output_type": "execute_result"
    }
   ],
   "source": [
    "%sql SELECT * FROM point_data_centroid"
   ]
  },
  {
   "cell_type": "code",
   "execution_count": 24,
   "id": "cd60fc50",
   "metadata": {},
   "outputs": [
    {
     "data": {
      "text/html": [
       "<span style=\"None\">Running query in &#x27;duckdb:///data/local.duckdb&#x27;</span>"
      ],
      "text/plain": [
       "Running query in 'duckdb:///data/local.duckdb'"
      ]
     },
     "metadata": {},
     "output_type": "display_data"
    },
    {
     "data": {
      "text/html": [
       "<table>\n",
       "    <thead>\n",
       "        <tr>\n",
       "            <th>count_star()</th>\n",
       "        </tr>\n",
       "    </thead>\n",
       "    <tbody>\n",
       "        <tr>\n",
       "            <td>402325</td>\n",
       "        </tr>\n",
       "    </tbody>\n",
       "</table>"
      ],
      "text/plain": [
       "+--------------+\n",
       "| count_star() |\n",
       "+--------------+\n",
       "|    402325    |\n",
       "+--------------+"
      ]
     },
     "execution_count": 24,
     "metadata": {},
     "output_type": "execute_result"
    }
   ],
   "source": [
    "%%sql\n",
    "SELECT COUNT(*) FROM point_data_centroid as data;"
   ]
  },
  {
   "cell_type": "code",
   "execution_count": 25,
   "id": "717a2dad",
   "metadata": {},
   "outputs": [
    {
     "data": {
      "text/html": [
       "<span style=\"None\">Running query in &#x27;duckdb:///data/local.duckdb&#x27;</span>"
      ],
      "text/plain": [
       "Running query in 'duckdb:///data/local.duckdb'"
      ]
     },
     "metadata": {},
     "output_type": "display_data"
    },
    {
     "data": {
      "text/html": [
       "<table>\n",
       "    <thead>\n",
       "        <tr>\n",
       "            <th>column_name</th>\n",
       "            <th>column_type</th>\n",
       "            <th>min</th>\n",
       "            <th>max</th>\n",
       "            <th>approx_unique</th>\n",
       "            <th>avg</th>\n",
       "            <th>std</th>\n",
       "            <th>q25</th>\n",
       "            <th>q50</th>\n",
       "            <th>q75</th>\n",
       "            <th>count</th>\n",
       "            <th>null_percentage</th>\n",
       "        </tr>\n",
       "    </thead>\n",
       "    <tbody>\n",
       "        <tr>\n",
       "            <td>id</td>\n",
       "            <td>BIGINT</td>\n",
       "            <td>1</td>\n",
       "            <td>402325</td>\n",
       "            <td>377825</td>\n",
       "            <td>201163.0</td>\n",
       "            <td>116141.3678633357</td>\n",
       "            <td>100582</td>\n",
       "            <td>201163</td>\n",
       "            <td>301744</td>\n",
       "            <td>402325</td>\n",
       "            <td>0.00</td>\n",
       "        </tr>\n",
       "        <tr>\n",
       "            <td>locationX</td>\n",
       "            <td>DOUBLE</td>\n",
       "            <td>-179.12087778314643</td>\n",
       "            <td>179.80886915</td>\n",
       "            <td>326174</td>\n",
       "            <td>1.0731648788767603</td>\n",
       "            <td>60.20403126591059</td>\n",
       "            <td>-45.852936818367894</td>\n",
       "            <td>9.42341979115554</td>\n",
       "            <td>28.65024833709391</td>\n",
       "            <td>402325</td>\n",
       "            <td>0.00</td>\n",
       "        </tr>\n",
       "        <tr>\n",
       "            <td>locationy</td>\n",
       "            <td>DOUBLE</td>\n",
       "            <td>-66.52681067468725</td>\n",
       "            <td>78.92123011264881</td>\n",
       "            <td>477667</td>\n",
       "            <td>38.357988604940694</td>\n",
       "            <td>20.33379941938753</td>\n",
       "            <td>36.85145636350717</td>\n",
       "            <td>44.581229586115164</td>\n",
       "            <td>49.950301679313824</td>\n",
       "            <td>402325</td>\n",
       "            <td>0.00</td>\n",
       "        </tr>\n",
       "        <tr>\n",
       "            <td>description</td>\n",
       "            <td>VARCHAR</td>\n",
       "            <td>00000e9bf0</td>\n",
       "            <td>ffffd882fb</td>\n",
       "            <td>350550</td>\n",
       "            <td>None</td>\n",
       "            <td>None</td>\n",
       "            <td>None</td>\n",
       "            <td>None</td>\n",
       "            <td>None</td>\n",
       "            <td>402325</td>\n",
       "            <td>0.00</td>\n",
       "        </tr>\n",
       "    </tbody>\n",
       "</table>"
      ],
      "text/plain": [
       "+-------------+-------------+---------------------+-------------------+---------------+--------------------+-------------------+---------------------+--------------------+--------------------+--------+-----------------+\n",
       "| column_name | column_type |         min         |        max        | approx_unique |        avg         |        std        |         q25         |        q50         |        q75         | count  | null_percentage |\n",
       "+-------------+-------------+---------------------+-------------------+---------------+--------------------+-------------------+---------------------+--------------------+--------------------+--------+-----------------+\n",
       "|      id     |    BIGINT   |          1          |       402325      |     377825    |      201163.0      | 116141.3678633357 |        100582       |       201163       |       301744       | 402325 |       0.00      |\n",
       "|  locationX  |    DOUBLE   | -179.12087778314643 |    179.80886915   |     326174    | 1.0731648788767603 | 60.20403126591059 | -45.852936818367894 |  9.42341979115554  | 28.65024833709391  | 402325 |       0.00      |\n",
       "|  locationy  |    DOUBLE   |  -66.52681067468725 | 78.92123011264881 |     477667    | 38.357988604940694 | 20.33379941938753 |  36.85145636350717  | 44.581229586115164 | 49.950301679313824 | 402325 |       0.00      |\n",
       "| description |   VARCHAR   |      00000e9bf0     |     ffffd882fb    |     350550    |        None        |        None       |         None        |        None        |        None        | 402325 |       0.00      |\n",
       "+-------------+-------------+---------------------+-------------------+---------------+--------------------+-------------------+---------------------+--------------------+--------------------+--------+-----------------+"
      ]
     },
     "execution_count": 25,
     "metadata": {},
     "output_type": "execute_result"
    }
   ],
   "source": [
    "%%sql\n",
    "SUMMARIZE point_data_centroid"
   ]
  },
  {
   "cell_type": "code",
   "execution_count": 46,
   "id": "3e909691",
   "metadata": {},
   "outputs": [
    {
     "data": {
      "text/html": [
       "<span style=\"None\">Running query in &#x27;duckdb:///local.db&#x27;</span>"
      ],
      "text/plain": [
       "Running query in 'duckdb:///local.db'"
      ]
     },
     "metadata": {},
     "output_type": "display_data"
    },
    {
     "data": {
      "text/html": [
       "<table>\n",
       "    <thead>\n",
       "        <tr>\n",
       "            <th>Count</th>\n",
       "        </tr>\n",
       "    </thead>\n",
       "    <tbody>\n",
       "    </tbody>\n",
       "</table>"
      ],
      "text/plain": [
       "+-------+\n",
       "| Count |\n",
       "+-------+\n",
       "+-------+"
      ]
     },
     "execution_count": 46,
     "metadata": {},
     "output_type": "execute_result"
    }
   ],
   "source": [
    "%sql COPY point_data_centroid TO 'point_data_centroid.csv' (HEADER, DELIMITER ',');"
   ]
  },
  {
   "cell_type": "code",
   "execution_count": null,
   "id": "7d08bb98",
   "metadata": {},
   "outputs": [],
   "source": []
  }
 ],
 "metadata": {
  "kernelspec": {
   "display_name": "venv",
   "language": "python",
   "name": "python3"
  },
  "language_info": {
   "codemirror_mode": {
    "name": "ipython",
    "version": 3
   },
   "file_extension": ".py",
   "mimetype": "text/x-python",
   "name": "python",
   "nbconvert_exporter": "python",
   "pygments_lexer": "ipython3",
   "version": "3.13.3"
  }
 },
 "nbformat": 4,
 "nbformat_minor": 5
}
