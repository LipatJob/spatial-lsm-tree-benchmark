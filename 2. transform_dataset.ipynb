{
 "cells": [
  {
   "cell_type": "code",
   "execution_count": null,
   "id": "4492f9c9",
   "metadata": {},
   "outputs": [
    {
     "name": "stdout",
     "output_type": "stream",
     "text": [
      "Requirement already satisfied: duckdb in /Users/jarred.luzada/.asdf/installs/python/3.10.0/lib/python3.10/site-packages (1.2.2)\n",
      "\u001b[33mWARNING: You are using pip version 21.2.3; however, version 25.1 is available.\n",
      "You should consider upgrading via the '/Users/jarred.luzada/.asdf/installs/python/3.10.0/bin/python3.10 -m pip install --upgrade pip' command.\u001b[0m\n",
      "Requirement already satisfied: notebook in /Users/jarred.luzada/.asdf/installs/python/3.10.0/lib/python3.10/site-packages (7.4.1)\n",
      "Requirement already satisfied: jupyterlab-server<3,>=2.27.1 in /Users/jarred.luzada/.asdf/installs/python/3.10.0/lib/python3.10/site-packages (from notebook) (2.27.3)\n",
      "Requirement already satisfied: jupyterlab<4.5,>=4.4.0rc0 in /Users/jarred.luzada/.asdf/installs/python/3.10.0/lib/python3.10/site-packages (from notebook) (4.4.1)\n",
      "Requirement already satisfied: jupyter-server<3,>=2.4.0 in /Users/jarred.luzada/.asdf/installs/python/3.10.0/lib/python3.10/site-packages (from notebook) (2.15.0)\n",
      "Requirement already satisfied: notebook-shim<0.3,>=0.2 in /Users/jarred.luzada/.asdf/installs/python/3.10.0/lib/python3.10/site-packages (from notebook) (0.2.4)\n",
      "Requirement already satisfied: tornado>=6.2.0 in /Users/jarred.luzada/.local/lib/python3.10/site-packages (from notebook) (6.4.2)\n",
      "Requirement already satisfied: websocket-client>=1.7 in /Users/jarred.luzada/.asdf/installs/python/3.10.0/lib/python3.10/site-packages (from jupyter-server<3,>=2.4.0->notebook) (1.8.0)\n",
      "Requirement already satisfied: anyio>=3.1.0 in /Users/jarred.luzada/.asdf/installs/python/3.10.0/lib/python3.10/site-packages (from jupyter-server<3,>=2.4.0->notebook) (4.4.0)\n",
      "Requirement already satisfied: terminado>=0.8.3 in /Users/jarred.luzada/.asdf/installs/python/3.10.0/lib/python3.10/site-packages (from jupyter-server<3,>=2.4.0->notebook) (0.18.1)\n",
      "Requirement already satisfied: pyzmq>=24 in /Users/jarred.luzada/.local/lib/python3.10/site-packages (from jupyter-server<3,>=2.4.0->notebook) (26.4.0)\n",
      "Requirement already satisfied: jinja2>=3.0.3 in /Users/jarred.luzada/.asdf/installs/python/3.10.0/lib/python3.10/site-packages (from jupyter-server<3,>=2.4.0->notebook) (3.1.4)\n",
      "Requirement already satisfied: send2trash>=1.8.2 in /Users/jarred.luzada/.asdf/installs/python/3.10.0/lib/python3.10/site-packages (from jupyter-server<3,>=2.4.0->notebook) (1.8.3)\n",
      "Requirement already satisfied: jupyter-client>=7.4.4 in /Users/jarred.luzada/.local/lib/python3.10/site-packages (from jupyter-server<3,>=2.4.0->notebook) (8.6.3)\n",
      "Requirement already satisfied: jupyter-events>=0.11.0 in /Users/jarred.luzada/.asdf/installs/python/3.10.0/lib/python3.10/site-packages (from jupyter-server<3,>=2.4.0->notebook) (0.12.0)\n",
      "Requirement already satisfied: traitlets>=5.6.0 in /Users/jarred.luzada/.local/lib/python3.10/site-packages (from jupyter-server<3,>=2.4.0->notebook) (5.14.3)\n",
      "Requirement already satisfied: prometheus-client>=0.9 in /Users/jarred.luzada/.asdf/installs/python/3.10.0/lib/python3.10/site-packages (from jupyter-server<3,>=2.4.0->notebook) (0.21.1)\n",
      "Requirement already satisfied: overrides>=5.0 in /Users/jarred.luzada/.asdf/installs/python/3.10.0/lib/python3.10/site-packages (from jupyter-server<3,>=2.4.0->notebook) (7.7.0)\n",
      "Requirement already satisfied: packaging>=22.0 in /Users/jarred.luzada/.asdf/installs/python/3.10.0/lib/python3.10/site-packages (from jupyter-server<3,>=2.4.0->notebook) (24.2)\n",
      "Requirement already satisfied: nbconvert>=6.4.4 in /Users/jarred.luzada/.asdf/installs/python/3.10.0/lib/python3.10/site-packages (from jupyter-server<3,>=2.4.0->notebook) (7.16.6)\n",
      "Requirement already satisfied: jupyter-server-terminals>=0.4.4 in /Users/jarred.luzada/.asdf/installs/python/3.10.0/lib/python3.10/site-packages (from jupyter-server<3,>=2.4.0->notebook) (0.5.3)\n",
      "Requirement already satisfied: jupyter-core!=5.0.*,>=4.12 in /Users/jarred.luzada/.local/lib/python3.10/site-packages (from jupyter-server<3,>=2.4.0->notebook) (5.7.2)\n",
      "Requirement already satisfied: nbformat>=5.3.0 in /Users/jarred.luzada/.asdf/installs/python/3.10.0/lib/python3.10/site-packages (from jupyter-server<3,>=2.4.0->notebook) (5.10.4)\n",
      "Requirement already satisfied: argon2-cffi>=21.1 in /Users/jarred.luzada/.asdf/installs/python/3.10.0/lib/python3.10/site-packages (from jupyter-server<3,>=2.4.0->notebook) (23.1.0)\n",
      "Requirement already satisfied: typing-extensions>=4.1 in /Users/jarred.luzada/.asdf/installs/python/3.10.0/lib/python3.10/site-packages (from anyio>=3.1.0->jupyter-server<3,>=2.4.0->notebook) (4.12.2)\n",
      "Requirement already satisfied: sniffio>=1.1 in /Users/jarred.luzada/.asdf/installs/python/3.10.0/lib/python3.10/site-packages (from anyio>=3.1.0->jupyter-server<3,>=2.4.0->notebook) (1.3.1)\n",
      "Requirement already satisfied: idna>=2.8 in /Users/jarred.luzada/.asdf/installs/python/3.10.0/lib/python3.10/site-packages (from anyio>=3.1.0->jupyter-server<3,>=2.4.0->notebook) (3.7)\n",
      "Requirement already satisfied: exceptiongroup>=1.0.2 in /Users/jarred.luzada/.asdf/installs/python/3.10.0/lib/python3.10/site-packages (from anyio>=3.1.0->jupyter-server<3,>=2.4.0->notebook) (1.2.2)\n",
      "Requirement already satisfied: argon2-cffi-bindings in /Users/jarred.luzada/.asdf/installs/python/3.10.0/lib/python3.10/site-packages (from argon2-cffi>=21.1->jupyter-server<3,>=2.4.0->notebook) (21.2.0)\n",
      "Requirement already satisfied: MarkupSafe>=2.0 in /Users/jarred.luzada/.asdf/installs/python/3.10.0/lib/python3.10/site-packages (from jinja2>=3.0.3->jupyter-server<3,>=2.4.0->notebook) (2.1.5)\n",
      "Requirement already satisfied: python-dateutil>=2.8.2 in /Users/jarred.luzada/.asdf/installs/python/3.10.0/lib/python3.10/site-packages (from jupyter-client>=7.4.4->jupyter-server<3,>=2.4.0->notebook) (2.9.0.post0)\n",
      "Requirement already satisfied: platformdirs>=2.5 in /Users/jarred.luzada/.asdf/installs/python/3.10.0/lib/python3.10/site-packages (from jupyter-core!=5.0.*,>=4.12->jupyter-server<3,>=2.4.0->notebook) (4.3.6)\n",
      "Requirement already satisfied: referencing in /Users/jarred.luzada/.asdf/installs/python/3.10.0/lib/python3.10/site-packages (from jupyter-events>=0.11.0->jupyter-server<3,>=2.4.0->notebook) (0.36.2)\n",
      "Requirement already satisfied: python-json-logger>=2.0.4 in /Users/jarred.luzada/.asdf/installs/python/3.10.0/lib/python3.10/site-packages (from jupyter-events>=0.11.0->jupyter-server<3,>=2.4.0->notebook) (3.3.0)\n",
      "Requirement already satisfied: rfc3986-validator>=0.1.1 in /Users/jarred.luzada/.asdf/installs/python/3.10.0/lib/python3.10/site-packages (from jupyter-events>=0.11.0->jupyter-server<3,>=2.4.0->notebook) (0.1.1)\n",
      "Requirement already satisfied: jsonschema[format-nongpl]>=4.18.0 in /Users/jarred.luzada/.asdf/installs/python/3.10.0/lib/python3.10/site-packages (from jupyter-events>=0.11.0->jupyter-server<3,>=2.4.0->notebook) (4.23.0)\n",
      "Requirement already satisfied: pyyaml>=5.3 in /Users/jarred.luzada/.asdf/installs/python/3.10.0/lib/python3.10/site-packages (from jupyter-events>=0.11.0->jupyter-server<3,>=2.4.0->notebook) (6.0.1)\n",
      "Requirement already satisfied: rfc3339-validator in /Users/jarred.luzada/.asdf/installs/python/3.10.0/lib/python3.10/site-packages (from jupyter-events>=0.11.0->jupyter-server<3,>=2.4.0->notebook) (0.1.4)\n",
      "Requirement already satisfied: jsonschema-specifications>=2023.03.6 in /Users/jarred.luzada/.asdf/installs/python/3.10.0/lib/python3.10/site-packages (from jsonschema[format-nongpl]>=4.18.0->jupyter-events>=0.11.0->jupyter-server<3,>=2.4.0->notebook) (2025.4.1)\n",
      "Requirement already satisfied: attrs>=22.2.0 in /Users/jarred.luzada/.asdf/installs/python/3.10.0/lib/python3.10/site-packages (from jsonschema[format-nongpl]>=4.18.0->jupyter-events>=0.11.0->jupyter-server<3,>=2.4.0->notebook) (24.2.0)\n",
      "Requirement already satisfied: rpds-py>=0.7.1 in /Users/jarred.luzada/.asdf/installs/python/3.10.0/lib/python3.10/site-packages (from jsonschema[format-nongpl]>=4.18.0->jupyter-events>=0.11.0->jupyter-server<3,>=2.4.0->notebook) (0.24.0)\n",
      "Requirement already satisfied: fqdn in /Users/jarred.luzada/.asdf/installs/python/3.10.0/lib/python3.10/site-packages (from jsonschema[format-nongpl]>=4.18.0->jupyter-events>=0.11.0->jupyter-server<3,>=2.4.0->notebook) (1.5.1)\n",
      "Requirement already satisfied: uri-template in /Users/jarred.luzada/.asdf/installs/python/3.10.0/lib/python3.10/site-packages (from jsonschema[format-nongpl]>=4.18.0->jupyter-events>=0.11.0->jupyter-server<3,>=2.4.0->notebook) (1.3.0)\n",
      "Requirement already satisfied: isoduration in /Users/jarred.luzada/.asdf/installs/python/3.10.0/lib/python3.10/site-packages (from jsonschema[format-nongpl]>=4.18.0->jupyter-events>=0.11.0->jupyter-server<3,>=2.4.0->notebook) (20.11.0)\n",
      "Requirement already satisfied: jsonpointer>1.13 in /Users/jarred.luzada/.asdf/installs/python/3.10.0/lib/python3.10/site-packages (from jsonschema[format-nongpl]>=4.18.0->jupyter-events>=0.11.0->jupyter-server<3,>=2.4.0->notebook) (3.0.0)\n",
      "Requirement already satisfied: webcolors>=24.6.0 in /Users/jarred.luzada/.asdf/installs/python/3.10.0/lib/python3.10/site-packages (from jsonschema[format-nongpl]>=4.18.0->jupyter-events>=0.11.0->jupyter-server<3,>=2.4.0->notebook) (24.11.1)\n",
      "Requirement already satisfied: setuptools>=41.1.0 in /Users/jarred.luzada/.asdf/installs/python/3.10.0/lib/python3.10/site-packages (from jupyterlab<4.5,>=4.4.0rc0->notebook) (57.4.0)\n",
      "Requirement already satisfied: httpx>=0.25.0 in /Users/jarred.luzada/.asdf/installs/python/3.10.0/lib/python3.10/site-packages (from jupyterlab<4.5,>=4.4.0rc0->notebook) (0.27.0)\n",
      "Requirement already satisfied: async-lru>=1.0.0 in /Users/jarred.luzada/.asdf/installs/python/3.10.0/lib/python3.10/site-packages (from jupyterlab<4.5,>=4.4.0rc0->notebook) (2.0.5)\n",
      "Requirement already satisfied: ipykernel>=6.5.0 in /Users/jarred.luzada/.local/lib/python3.10/site-packages (from jupyterlab<4.5,>=4.4.0rc0->notebook) (6.29.5)\n",
      "Requirement already satisfied: jupyter-lsp>=2.0.0 in /Users/jarred.luzada/.asdf/installs/python/3.10.0/lib/python3.10/site-packages (from jupyterlab<4.5,>=4.4.0rc0->notebook) (2.2.5)\n",
      "Requirement already satisfied: tomli>=1.2.2 in /Users/jarred.luzada/.asdf/installs/python/3.10.0/lib/python3.10/site-packages (from jupyterlab<4.5,>=4.4.0rc0->notebook) (2.2.1)\n",
      "Requirement already satisfied: certifi in /Users/jarred.luzada/.asdf/installs/python/3.10.0/lib/python3.10/site-packages (from httpx>=0.25.0->jupyterlab<4.5,>=4.4.0rc0->notebook) (2024.6.2)\n",
      "Requirement already satisfied: httpcore==1.* in /Users/jarred.luzada/.asdf/installs/python/3.10.0/lib/python3.10/site-packages (from httpx>=0.25.0->jupyterlab<4.5,>=4.4.0rc0->notebook) (1.0.5)\n",
      "Requirement already satisfied: h11<0.15,>=0.13 in /Users/jarred.luzada/.asdf/installs/python/3.10.0/lib/python3.10/site-packages (from httpcore==1.*->httpx>=0.25.0->jupyterlab<4.5,>=4.4.0rc0->notebook) (0.14.0)\n",
      "Requirement already satisfied: debugpy>=1.6.5 in /Users/jarred.luzada/.local/lib/python3.10/site-packages (from ipykernel>=6.5.0->jupyterlab<4.5,>=4.4.0rc0->notebook) (1.8.14)\n",
      "Requirement already satisfied: comm>=0.1.1 in /Users/jarred.luzada/.local/lib/python3.10/site-packages (from ipykernel>=6.5.0->jupyterlab<4.5,>=4.4.0rc0->notebook) (0.2.2)\n",
      "Requirement already satisfied: nest-asyncio in /Users/jarred.luzada/.local/lib/python3.10/site-packages (from ipykernel>=6.5.0->jupyterlab<4.5,>=4.4.0rc0->notebook) (1.6.0)\n",
      "Requirement already satisfied: matplotlib-inline>=0.1 in /Users/jarred.luzada/.local/lib/python3.10/site-packages (from ipykernel>=6.5.0->jupyterlab<4.5,>=4.4.0rc0->notebook) (0.1.7)\n",
      "Requirement already satisfied: ipython>=7.23.1 in /Users/jarred.luzada/.local/lib/python3.10/site-packages (from ipykernel>=6.5.0->jupyterlab<4.5,>=4.4.0rc0->notebook) (8.36.0)\n",
      "Requirement already satisfied: appnope in /Users/jarred.luzada/.local/lib/python3.10/site-packages (from ipykernel>=6.5.0->jupyterlab<4.5,>=4.4.0rc0->notebook) (0.1.4)\n",
      "Requirement already satisfied: psutil in /Users/jarred.luzada/.asdf/installs/python/3.10.0/lib/python3.10/site-packages (from ipykernel>=6.5.0->jupyterlab<4.5,>=4.4.0rc0->notebook) (6.1.1)\n",
      "Requirement already satisfied: decorator in /Users/jarred.luzada/.asdf/installs/python/3.10.0/lib/python3.10/site-packages (from ipython>=7.23.1->ipykernel>=6.5.0->jupyterlab<4.5,>=4.4.0rc0->notebook) (5.1.1)\n",
      "Requirement already satisfied: stack_data in /Users/jarred.luzada/.local/lib/python3.10/site-packages (from ipython>=7.23.1->ipykernel>=6.5.0->jupyterlab<4.5,>=4.4.0rc0->notebook) (0.6.3)\n",
      "Requirement already satisfied: prompt_toolkit<3.1.0,>=3.0.41 in /Users/jarred.luzada/.local/lib/python3.10/site-packages (from ipython>=7.23.1->ipykernel>=6.5.0->jupyterlab<4.5,>=4.4.0rc0->notebook) (3.0.51)\n",
      "Requirement already satisfied: jedi>=0.16 in /Users/jarred.luzada/.local/lib/python3.10/site-packages (from ipython>=7.23.1->ipykernel>=6.5.0->jupyterlab<4.5,>=4.4.0rc0->notebook) (0.19.2)\n",
      "Requirement already satisfied: pexpect>4.3 in /Users/jarred.luzada/.local/lib/python3.10/site-packages (from ipython>=7.23.1->ipykernel>=6.5.0->jupyterlab<4.5,>=4.4.0rc0->notebook) (4.9.0)\n",
      "Requirement already satisfied: pygments>=2.4.0 in /Users/jarred.luzada/.asdf/installs/python/3.10.0/lib/python3.10/site-packages (from ipython>=7.23.1->ipykernel>=6.5.0->jupyterlab<4.5,>=4.4.0rc0->notebook) (2.19.1)\n",
      "Requirement already satisfied: parso<0.9.0,>=0.8.4 in /Users/jarred.luzada/.local/lib/python3.10/site-packages (from jedi>=0.16->ipython>=7.23.1->ipykernel>=6.5.0->jupyterlab<4.5,>=4.4.0rc0->notebook) (0.8.4)\n",
      "Requirement already satisfied: json5>=0.9.0 in /Users/jarred.luzada/.asdf/installs/python/3.10.0/lib/python3.10/site-packages (from jupyterlab-server<3,>=2.27.1->notebook) (0.12.0)\n",
      "Requirement already satisfied: babel>=2.10 in /Users/jarred.luzada/.asdf/installs/python/3.10.0/lib/python3.10/site-packages (from jupyterlab-server<3,>=2.27.1->notebook) (2.17.0)\n",
      "Requirement already satisfied: requests>=2.31 in /Users/jarred.luzada/.asdf/installs/python/3.10.0/lib/python3.10/site-packages (from jupyterlab-server<3,>=2.27.1->notebook) (2.32.3)\n",
      "Requirement already satisfied: jupyterlab-pygments in /Users/jarred.luzada/.asdf/installs/python/3.10.0/lib/python3.10/site-packages (from nbconvert>=6.4.4->jupyter-server<3,>=2.4.0->notebook) (0.3.0)\n",
      "Requirement already satisfied: bleach[css]!=5.0.0 in /Users/jarred.luzada/.asdf/installs/python/3.10.0/lib/python3.10/site-packages (from nbconvert>=6.4.4->jupyter-server<3,>=2.4.0->notebook) (6.2.0)\n",
      "Requirement already satisfied: beautifulsoup4 in /Users/jarred.luzada/.asdf/installs/python/3.10.0/lib/python3.10/site-packages (from nbconvert>=6.4.4->jupyter-server<3,>=2.4.0->notebook) (4.13.3)\n",
      "Requirement already satisfied: nbclient>=0.5.0 in /Users/jarred.luzada/.asdf/installs/python/3.10.0/lib/python3.10/site-packages (from nbconvert>=6.4.4->jupyter-server<3,>=2.4.0->notebook) (0.10.2)\n",
      "Requirement already satisfied: pandocfilters>=1.4.1 in /Users/jarred.luzada/.asdf/installs/python/3.10.0/lib/python3.10/site-packages (from nbconvert>=6.4.4->jupyter-server<3,>=2.4.0->notebook) (1.5.1)\n",
      "Requirement already satisfied: defusedxml in /Users/jarred.luzada/.asdf/installs/python/3.10.0/lib/python3.10/site-packages (from nbconvert>=6.4.4->jupyter-server<3,>=2.4.0->notebook) (0.7.1)\n",
      "Requirement already satisfied: mistune<4,>=2.0.3 in /Users/jarred.luzada/.asdf/installs/python/3.10.0/lib/python3.10/site-packages (from nbconvert>=6.4.4->jupyter-server<3,>=2.4.0->notebook) (3.1.3)\n",
      "Requirement already satisfied: webencodings in /Users/jarred.luzada/.asdf/installs/python/3.10.0/lib/python3.10/site-packages (from bleach[css]!=5.0.0->nbconvert>=6.4.4->jupyter-server<3,>=2.4.0->notebook) (0.5.1)\n",
      "Requirement already satisfied: tinycss2<1.5,>=1.1.0 in /Users/jarred.luzada/.asdf/installs/python/3.10.0/lib/python3.10/site-packages (from bleach[css]!=5.0.0->nbconvert>=6.4.4->jupyter-server<3,>=2.4.0->notebook) (1.4.0)\n",
      "Requirement already satisfied: fastjsonschema>=2.15 in /Users/jarred.luzada/.asdf/installs/python/3.10.0/lib/python3.10/site-packages (from nbformat>=5.3.0->jupyter-server<3,>=2.4.0->notebook) (2.21.1)\n",
      "Requirement already satisfied: ptyprocess>=0.5 in /Users/jarred.luzada/.local/lib/python3.10/site-packages (from pexpect>4.3->ipython>=7.23.1->ipykernel>=6.5.0->jupyterlab<4.5,>=4.4.0rc0->notebook) (0.7.0)\n",
      "Requirement already satisfied: wcwidth in /Users/jarred.luzada/.local/lib/python3.10/site-packages (from prompt_toolkit<3.1.0,>=3.0.41->ipython>=7.23.1->ipykernel>=6.5.0->jupyterlab<4.5,>=4.4.0rc0->notebook) (0.2.13)\n",
      "Requirement already satisfied: six>=1.5 in /Users/jarred.luzada/.asdf/installs/python/3.10.0/lib/python3.10/site-packages (from python-dateutil>=2.8.2->jupyter-client>=7.4.4->jupyter-server<3,>=2.4.0->notebook) (1.17.0)\n",
      "Requirement already satisfied: charset-normalizer<4,>=2 in /Users/jarred.luzada/.asdf/installs/python/3.10.0/lib/python3.10/site-packages (from requests>=2.31->jupyterlab-server<3,>=2.27.1->notebook) (3.3.2)\n",
      "Requirement already satisfied: urllib3<3,>=1.21.1 in /Users/jarred.luzada/.asdf/installs/python/3.10.0/lib/python3.10/site-packages (from requests>=2.31->jupyterlab-server<3,>=2.27.1->notebook) (2.2.2)\n",
      "Requirement already satisfied: cffi>=1.0.1 in /Users/jarred.luzada/.asdf/installs/python/3.10.0/lib/python3.10/site-packages (from argon2-cffi-bindings->argon2-cffi>=21.1->jupyter-server<3,>=2.4.0->notebook) (1.17.1)\n",
      "Requirement already satisfied: pycparser in /Users/jarred.luzada/.asdf/installs/python/3.10.0/lib/python3.10/site-packages (from cffi>=1.0.1->argon2-cffi-bindings->argon2-cffi>=21.1->jupyter-server<3,>=2.4.0->notebook) (2.22)\n",
      "Requirement already satisfied: soupsieve>1.2 in /Users/jarred.luzada/.asdf/installs/python/3.10.0/lib/python3.10/site-packages (from beautifulsoup4->nbconvert>=6.4.4->jupyter-server<3,>=2.4.0->notebook) (2.6)\n",
      "Requirement already satisfied: arrow>=0.15.0 in /Users/jarred.luzada/.asdf/installs/python/3.10.0/lib/python3.10/site-packages (from isoduration->jsonschema[format-nongpl]>=4.18.0->jupyter-events>=0.11.0->jupyter-server<3,>=2.4.0->notebook) (1.3.0)\n",
      "Requirement already satisfied: types-python-dateutil>=2.8.10 in /Users/jarred.luzada/.asdf/installs/python/3.10.0/lib/python3.10/site-packages (from arrow>=0.15.0->isoduration->jsonschema[format-nongpl]>=4.18.0->jupyter-events>=0.11.0->jupyter-server<3,>=2.4.0->notebook) (2.9.0.20241206)\n",
      "Requirement already satisfied: pure-eval in /Users/jarred.luzada/.local/lib/python3.10/site-packages (from stack_data->ipython>=7.23.1->ipykernel>=6.5.0->jupyterlab<4.5,>=4.4.0rc0->notebook) (0.2.3)\n",
      "Requirement already satisfied: executing>=1.2.0 in /Users/jarred.luzada/.local/lib/python3.10/site-packages (from stack_data->ipython>=7.23.1->ipykernel>=6.5.0->jupyterlab<4.5,>=4.4.0rc0->notebook) (2.2.0)\n",
      "Requirement already satisfied: asttokens>=2.1.0 in /Users/jarred.luzada/.local/lib/python3.10/site-packages (from stack_data->ipython>=7.23.1->ipykernel>=6.5.0->jupyterlab<4.5,>=4.4.0rc0->notebook) (3.0.0)\n",
      "\u001b[33mWARNING: You are using pip version 21.2.3; however, version 25.1 is available.\n",
      "You should consider upgrading via the '/Users/jarred.luzada/.asdf/installs/python/3.10.0/bin/python3.10 -m pip install --upgrade pip' command.\u001b[0m\n",
      "Requirement already satisfied: jupysql in /Users/jarred.luzada/.asdf/installs/python/3.10.0/lib/python3.10/site-packages (0.11.1)\n",
      "Requirement already satisfied: pandas in /Users/jarred.luzada/.asdf/installs/python/3.10.0/lib/python3.10/site-packages (2.2.2)\n",
      "Requirement already satisfied: matplotlib in /Users/jarred.luzada/.asdf/installs/python/3.10.0/lib/python3.10/site-packages (3.9.0)\n",
      "Requirement already satisfied: duckdb-engine in /Users/jarred.luzada/.asdf/installs/python/3.10.0/lib/python3.10/site-packages (0.17.0)\n",
      "Requirement already satisfied: ipython-genutils>=0.1.0 in /Users/jarred.luzada/.asdf/installs/python/3.10.0/lib/python3.10/site-packages (from jupysql) (0.2.0)\n",
      "Requirement already satisfied: jupysql-plugin>=0.4.2 in /Users/jarred.luzada/.asdf/installs/python/3.10.0/lib/python3.10/site-packages (from jupysql) (0.4.5)\n",
      "Requirement already satisfied: sqlparse in /Users/jarred.luzada/.asdf/installs/python/3.10.0/lib/python3.10/site-packages (from jupysql) (0.5.3)\n",
      "Requirement already satisfied: sqlalchemy in /Users/jarred.luzada/.asdf/installs/python/3.10.0/lib/python3.10/site-packages (from jupysql) (2.0.40)\n",
      "Requirement already satisfied: ploomber-core>=0.2.7 in /Users/jarred.luzada/.asdf/installs/python/3.10.0/lib/python3.10/site-packages (from jupysql) (0.2.26)\n",
      "Requirement already satisfied: jinja2 in /Users/jarred.luzada/.asdf/installs/python/3.10.0/lib/python3.10/site-packages (from jupysql) (3.1.4)\n",
      "Requirement already satisfied: prettytable>=3.12.0 in /Users/jarred.luzada/.asdf/installs/python/3.10.0/lib/python3.10/site-packages (from jupysql) (3.16.0)\n",
      "Requirement already satisfied: sqlglot>=11.3.7 in /Users/jarred.luzada/.asdf/installs/python/3.10.0/lib/python3.10/site-packages (from jupysql) (26.16.2)\n",
      "Requirement already satisfied: tzdata>=2022.7 in /Users/jarred.luzada/.asdf/installs/python/3.10.0/lib/python3.10/site-packages (from pandas) (2024.1)\n",
      "Requirement already satisfied: pytz>=2020.1 in /Users/jarred.luzada/.asdf/installs/python/3.10.0/lib/python3.10/site-packages (from pandas) (2024.1)\n",
      "Requirement already satisfied: numpy>=1.22.4 in /Users/jarred.luzada/.asdf/installs/python/3.10.0/lib/python3.10/site-packages (from pandas) (1.26.4)\n",
      "Requirement already satisfied: python-dateutil>=2.8.2 in /Users/jarred.luzada/.asdf/installs/python/3.10.0/lib/python3.10/site-packages (from pandas) (2.9.0.post0)\n",
      "Requirement already satisfied: fonttools>=4.22.0 in /Users/jarred.luzada/.asdf/installs/python/3.10.0/lib/python3.10/site-packages (from matplotlib) (4.53.0)\n",
      "Requirement already satisfied: pillow>=8 in /Users/jarred.luzada/.asdf/installs/python/3.10.0/lib/python3.10/site-packages (from matplotlib) (10.3.0)\n",
      "Requirement already satisfied: cycler>=0.10 in /Users/jarred.luzada/.asdf/installs/python/3.10.0/lib/python3.10/site-packages (from matplotlib) (0.12.1)\n",
      "Requirement already satisfied: packaging>=20.0 in /Users/jarred.luzada/.asdf/installs/python/3.10.0/lib/python3.10/site-packages (from matplotlib) (24.2)\n",
      "Requirement already satisfied: kiwisolver>=1.3.1 in /Users/jarred.luzada/.asdf/installs/python/3.10.0/lib/python3.10/site-packages (from matplotlib) (1.4.5)\n",
      "Requirement already satisfied: pyparsing>=2.3.1 in /Users/jarred.luzada/.asdf/installs/python/3.10.0/lib/python3.10/site-packages (from matplotlib) (3.1.2)\n",
      "Requirement already satisfied: contourpy>=1.0.1 in /Users/jarred.luzada/.asdf/installs/python/3.10.0/lib/python3.10/site-packages (from matplotlib) (1.2.1)\n",
      "Requirement already satisfied: duckdb>=0.5.0 in /Users/jarred.luzada/.asdf/installs/python/3.10.0/lib/python3.10/site-packages (from duckdb-engine) (1.2.2)\n",
      "Requirement already satisfied: posthog in /Users/jarred.luzada/.asdf/installs/python/3.10.0/lib/python3.10/site-packages (from ploomber-core>=0.2.7->jupysql) (4.0.0)\n",
      "Requirement already satisfied: pyyaml in /Users/jarred.luzada/.asdf/installs/python/3.10.0/lib/python3.10/site-packages (from ploomber-core>=0.2.7->jupysql) (6.0.1)\n",
      "Requirement already satisfied: wcwidth in /Users/jarred.luzada/.local/lib/python3.10/site-packages (from prettytable>=3.12.0->jupysql) (0.2.13)\n",
      "Requirement already satisfied: six>=1.5 in /Users/jarred.luzada/.asdf/installs/python/3.10.0/lib/python3.10/site-packages (from python-dateutil>=2.8.2->pandas) (1.17.0)\n",
      "Requirement already satisfied: typing-extensions>=4.6.0 in /Users/jarred.luzada/.asdf/installs/python/3.10.0/lib/python3.10/site-packages (from sqlalchemy->jupysql) (4.12.2)\n",
      "Requirement already satisfied: MarkupSafe>=2.0 in /Users/jarred.luzada/.asdf/installs/python/3.10.0/lib/python3.10/site-packages (from jinja2->jupysql) (2.1.5)\n",
      "Requirement already satisfied: backoff>=1.10.0 in /Users/jarred.luzada/.asdf/installs/python/3.10.0/lib/python3.10/site-packages (from posthog->ploomber-core>=0.2.7->jupysql) (2.2.1)\n",
      "Requirement already satisfied: distro>=1.5.0 in /Users/jarred.luzada/.asdf/installs/python/3.10.0/lib/python3.10/site-packages (from posthog->ploomber-core>=0.2.7->jupysql) (1.9.0)\n",
      "Requirement already satisfied: monotonic>=1.5 in /Users/jarred.luzada/.asdf/installs/python/3.10.0/lib/python3.10/site-packages (from posthog->ploomber-core>=0.2.7->jupysql) (1.6)\n",
      "Requirement already satisfied: requests<3.0,>=2.7 in /Users/jarred.luzada/.asdf/installs/python/3.10.0/lib/python3.10/site-packages (from posthog->ploomber-core>=0.2.7->jupysql) (2.32.3)\n",
      "Requirement already satisfied: certifi>=2017.4.17 in /Users/jarred.luzada/.asdf/installs/python/3.10.0/lib/python3.10/site-packages (from requests<3.0,>=2.7->posthog->ploomber-core>=0.2.7->jupysql) (2024.6.2)\n",
      "Requirement already satisfied: idna<4,>=2.5 in /Users/jarred.luzada/.asdf/installs/python/3.10.0/lib/python3.10/site-packages (from requests<3.0,>=2.7->posthog->ploomber-core>=0.2.7->jupysql) (3.7)\n",
      "Requirement already satisfied: urllib3<3,>=1.21.1 in /Users/jarred.luzada/.asdf/installs/python/3.10.0/lib/python3.10/site-packages (from requests<3.0,>=2.7->posthog->ploomber-core>=0.2.7->jupysql) (2.2.2)\n",
      "Requirement already satisfied: charset-normalizer<4,>=2 in /Users/jarred.luzada/.asdf/installs/python/3.10.0/lib/python3.10/site-packages (from requests<3.0,>=2.7->posthog->ploomber-core>=0.2.7->jupysql) (3.3.2)\n",
      "\u001b[33mWARNING: You are using pip version 21.2.3; however, version 25.1 is available.\n",
      "You should consider upgrading via the '/Users/jarred.luzada/.asdf/installs/python/3.10.0/bin/python3.10 -m pip install --upgrade pip' command.\u001b[0m\n"
     ]
    }
   ],
   "source": [
    "%pip install duckdb\n",
    "%pip install notebook\n",
    "%pip install jupysql pandas matplotlib duckdb-engine"
   ]
  },
  {
   "cell_type": "code",
   "execution_count": 1,
   "id": "2519eb08",
   "metadata": {},
   "outputs": [],
   "source": [
    "import os\n",
    "osm_dataset=\"cemetery\"\n",
    "input_path = f\"./data/geojson/{osm_dataset}.geojson\"\n",
    "input_filename = os.path.basename(input_path)"
   ]
  },
  {
   "cell_type": "code",
   "execution_count": 2,
   "id": "7b1432f8",
   "metadata": {},
   "outputs": [],
   "source": [
    "import duckdb\n",
    "from sqlalchemy.engine import create_engine\n",
    "\n",
    "%load_ext sql\n",
    "conn = create_engine('duckdb:///data/local.duckdb')\n",
    "%sql conn --alias duckdb\n",
    "%config SqlMagic.named_parameters=\"enabled\" "
   ]
  },
  {
   "cell_type": "code",
   "execution_count": 3,
   "id": "459f7cd3",
   "metadata": {},
   "outputs": [
    {
     "data": {
      "text/html": [
       "<span style=\"None\">Running query in &#x27;duckdb&#x27;</span>"
      ],
      "text/plain": [
       "Running query in 'duckdb'"
      ]
     },
     "metadata": {},
     "output_type": "display_data"
    },
    {
     "data": {
      "text/html": [
       "<table>\n",
       "    <thead>\n",
       "        <tr>\n",
       "            <th>Success</th>\n",
       "        </tr>\n",
       "    </thead>\n",
       "    <tbody>\n",
       "    </tbody>\n",
       "</table>"
      ],
      "text/plain": [
       "+---------+\n",
       "| Success |\n",
       "+---------+\n",
       "+---------+"
      ]
     },
     "execution_count": 3,
     "metadata": {},
     "output_type": "execute_result"
    }
   ],
   "source": [
    "%%sql\n",
    "INSTALL psql FROM community;\n",
    "INSTALL spatial;\n",
    "LOAD spatial;\n",
    "LOAD psql;"
   ]
  },
  {
   "cell_type": "code",
   "execution_count": 4,
   "id": "47fd79bc",
   "metadata": {},
   "outputs": [
    {
     "data": {
      "text/html": [
       "<span style=\"None\">Running query in &#x27;duckdb&#x27;</span>"
      ],
      "text/plain": [
       "Running query in 'duckdb'"
      ]
     },
     "metadata": {},
     "output_type": "display_data"
    },
    {
     "data": {
      "application/vnd.jupyter.widget-view+json": {
       "model_id": "27806da137be427d8c3bf3e18e134fa1",
       "version_major": 2,
       "version_minor": 0
      },
      "text/plain": [
       "FloatProgress(value=0.0, layout=Layout(width='auto'), style=ProgressStyle(bar_color='black'))"
      ]
     },
     "metadata": {},
     "output_type": "display_data"
    },
    {
     "data": {
      "text/html": [
       "<table>\n",
       "    <thead>\n",
       "        <tr>\n",
       "            <th>Count</th>\n",
       "        </tr>\n",
       "    </thead>\n",
       "    <tbody>\n",
       "    </tbody>\n",
       "</table>"
      ],
      "text/plain": [
       "+-------+\n",
       "| Count |\n",
       "+-------+\n",
       "+-------+"
      ]
     },
     "execution_count": 4,
     "metadata": {},
     "output_type": "execute_result"
    }
   ],
   "source": [
    "%%sql\n",
    "CREATE OR REPLACE TABLE point_data AS\n",
    "SELECT *\n",
    "FROM ST_Read(\"{{input_path}}\")"
   ]
  },
  {
   "cell_type": "code",
   "execution_count": 5,
   "id": "01c3ffcc",
   "metadata": {},
   "outputs": [
    {
     "data": {
      "text/plain": [
       "<duckdb.duckdb.DuckDBPyConnection at 0x128b20f30>"
      ]
     },
     "execution_count": 5,
     "metadata": {},
     "output_type": "execute_result"
    }
   ],
   "source": [
    "import random\n",
    "import string\n",
    "\n",
    "try:\n",
    "    conn.raw_connection().remove_function('random_string')\n",
    "except:\n",
    "    pass\n",
    "\n",
    "# Define the Python function to generate a random string of length 'n'\n",
    "def random_string(n: int) -> str:\n",
    "    return ''.join(random.choices(string.ascii_letters + string.digits, k=n))\n",
    "\n",
    "# Register the function with DuckDB\n",
    "\n",
    "conn.raw_connection().create_function('random_string', random_string, side_effects=True)"
   ]
  },
  {
   "cell_type": "code",
   "execution_count": 6,
   "id": "8577e55a",
   "metadata": {},
   "outputs": [
    {
     "data": {
      "text/html": [
       "<span style=\"None\">Running query in &#x27;duckdb&#x27;</span>"
      ],
      "text/plain": [
       "Running query in 'duckdb'"
      ]
     },
     "metadata": {},
     "output_type": "display_data"
    },
    {
     "data": {
      "application/vnd.jupyter.widget-view+json": {
       "model_id": "c9708c8be08d4aff997db1ec7795f40f",
       "version_major": 2,
       "version_minor": 0
      },
      "text/plain": [
       "FloatProgress(value=0.0, layout=Layout(width='auto'), style=ProgressStyle(bar_color='black'))"
      ]
     },
     "metadata": {},
     "output_type": "display_data"
    },
    {
     "data": {
      "text/html": [
       "<table>\n",
       "    <thead>\n",
       "        <tr>\n",
       "            <th>Count</th>\n",
       "        </tr>\n",
       "    </thead>\n",
       "    <tbody>\n",
       "    </tbody>\n",
       "</table>"
      ],
      "text/plain": [
       "+-------+\n",
       "| Count |\n",
       "+-------+\n",
       "+-------+"
      ]
     },
     "execution_count": 6,
     "metadata": {},
     "output_type": "execute_result"
    }
   ],
   "source": [
    "%%sql\n",
    "CREATE OR REPLACE TABLE point_data_centroid AS\n",
    "WITH centroid AS (\n",
    "    FROM point_data\n",
    "    SELECT centroid: geom.ST_Centroid(),\n",
    ")\n",
    "FROM centroid\n",
    "SELECT\n",
    "    id: ROW_NUMBER() OVER (ORDER BY centroid),\n",
    "    locationX: centroid.ST_X(),\n",
    "    locationy: centroid.ST_Y(),\n",
    "    description: random_string(250)\n"
   ]
  },
  {
   "cell_type": "code",
   "execution_count": 7,
   "id": "a040abbc",
   "metadata": {},
   "outputs": [
    {
     "data": {
      "text/html": [
       "<span style=\"None\">Running query in &#x27;duckdb&#x27;</span>"
      ],
      "text/plain": [
       "Running query in 'duckdb'"
      ]
     },
     "metadata": {},
     "output_type": "display_data"
    },
    {
     "data": {
      "text/html": [
       "<table>\n",
       "    <thead>\n",
       "        <tr>\n",
       "            <th>id</th>\n",
       "            <th>locationX</th>\n",
       "            <th>locationy</th>\n",
       "            <th>description</th>\n",
       "        </tr>\n",
       "    </thead>\n",
       "    <tbody>\n",
       "        <tr>\n",
       "            <td>1</td>\n",
       "            <td>71.60207635350525</td>\n",
       "            <td>54.78643014239917</td>\n",
       "            <td>zveBXtAUd2XaeBj9UMyFLIaRCCVs66W74P178juO70f7DUTo6U6COKnJCzBwXFWwAxoH73inmKb8ti3xZ50Eff7avO2KVUtfQWrUnpvWNtGCNVCQWvAAxpgxEMoH3bEHzFSycM2FlEbm3jLxk3LiDbm0Qtt6ZXcdib5k9jfM10eIMJ0HTsLMOGX5xcAH3WbADH85tkw0okUcbxftb89rgTI6wlnwOopr98NRKS9hVaMHic132zf6R3z3ev</td>\n",
       "        </tr>\n",
       "        <tr>\n",
       "            <td>2</td>\n",
       "            <td>68.07547055464238</td>\n",
       "            <td>40.23959944486414</td>\n",
       "            <td>3OldD765yh0M25F5d6ZNJemmphHpBrBARswIr4wNBF57mB2RVDde09Q6lZQ5PxIjOv5jLQqxOTtTG1e4ENx1reSmOwyuaphRD7X3KaVQCRbB9qkbVMMgC0uNrAj3eAxpsHzU6k0hQh7mSHn77Cqj2TC8Xk1bs7UAdk9gu3uJdOUY8DEBHyBmOmuwn4QL1msPbtBdwVkH7SytdLpCbJledsHXzDcmCPyiMwCFK0DmciW8I9HKDJjlc4kwOy</td>\n",
       "        </tr>\n",
       "        <tr>\n",
       "            <td>3</td>\n",
       "            <td>22.71972581720911</td>\n",
       "            <td>48.451325419849496</td>\n",
       "            <td>cY5AJU4vVEzfQRsOa9V6goRdhG1Hp480dyL0wPhbEAB0zag9i9mZIT7BAjVkglDS1iXpuJ6p5nhj9IG9ZwEHqDj1QMecmXb3rmz6dKj5T0HVVwNlbqSTRHzlGp69HeoZ52HKMxoez8vI7vlytULMVvKpukCHSxKn4fdqtVJ70fU9lDOhipXJ9Ap3WJ4JSI5bS4eWYAi0nq3zum3Q5XNEaki8xO3cpLcxnRSMf7sfAshU7atqxvhfr0suSZ</td>\n",
       "        </tr>\n",
       "        <tr>\n",
       "            <td>4</td>\n",
       "            <td>29.491294654319063</td>\n",
       "            <td>46.07657549119183</td>\n",
       "            <td>JQ8EgdG0dIZuPfZWQM5h6z1VlxpV6QFj1QMEyru8uv1sVLX2cZlfWNlLJXELxwFxB5tiRGxrOOeoOoAa4YaP7t62vOCGsWj277g1EYlVtwcTshWxREQPJ5GtpDiWnPOCjui5gvLCxFHKEVruOYYEn4V2Ai8pmt1DrNxvQEXfPH7WBuYkJSTabvmmj34JLdHqlEIEYwhM2rxZ63yK5w6kmspArCKmOOXQIBGZ4MMUuOTt6enr8Hfmp7wgWA</td>\n",
       "        </tr>\n",
       "        <tr>\n",
       "            <td>5</td>\n",
       "            <td>79.38921734504402</td>\n",
       "            <td>52.74566659600047</td>\n",
       "            <td>AjvM268rQWw6DooOn7yFosSaLNufzbKtoyewcDmNtMI7bQxZPJQbxUwasIe0C6gjfPlT79TBwJlEi0PF6v6wgGMGnmoSrZFHIQZ3s8hqNmmrfE28l7iDVaUsHSYLoA5q6pIf0yoW1NTO1439T9GqZ6BbituFREVDKS43GeMnOAPvuWbHnkdvqj1U9IHS0zeTsOy3LWb3uMEY3xqCOYBUTTxcYSGrlK4vuWEodDXf90axqarfNIt2wm4voH</td>\n",
       "        </tr>\n",
       "        <tr>\n",
       "            <td>6</td>\n",
       "            <td>6.359217615158059</td>\n",
       "            <td>43.142364551113644</td>\n",
       "            <td>zm71HyuBHLWweVPzIFUFASheiG9M5Vp173UVprecxHlZhtMXa2gUYyieHxnrNApVY1pvyiHSWZFAY21d18qgkwnfyH3jCuzoHGLWMQtDx9GcM0PcqpG11RgbQJ584mL8M6G9wYxl8Fs7uuJIG5i6PeDeUaxI4jYNehKpPibiuoVTb4JyvslndF6k3p4y8RMQUS33Rdc8o1omA0Vq0sOlKeAfvRDGclDu2qlqB5RmczsmCc819YcT3MzTfv</td>\n",
       "        </tr>\n",
       "        <tr>\n",
       "            <td>7</td>\n",
       "            <td>1.9459106666618595</td>\n",
       "            <td>49.15726517327247</td>\n",
       "            <td>TzOCLhjWWYk2edxAcxxomSMLn4M1LqqVuVQOcYzNIR4XBzsq0GcUJGlVNcErIcHainufhGjM0Y523EhanQx6mTr4FkxL1VdHwnc8yXb5ofz0k3UrnuKobsY0awryTW7gKYkLFG26hGiNAtPTPznaG9Vlz2abQhPUS0Jm9DXVxvaDdcEfRZFvXpGxAxhdgyCedprwsbVk4YIgpW79pxm2PxWAWbTN5nIZdiFCyUnTD5ywCIrt9oZwt3D5Zo</td>\n",
       "        </tr>\n",
       "        <tr>\n",
       "            <td>8</td>\n",
       "            <td>7.758160430065118</td>\n",
       "            <td>43.808794503076086</td>\n",
       "            <td>RG6BG7S68kEgMlNao9quqP5Q0QLlbjQNjm2wBk92pENP3HvqOU4mvskWLpXarxi429Fn4HkAxnyspyflgpeZuHWK3P2B9cNetsSkigvqlFTEMO27VMVGk8ioZW0rkLiEXrQuADVBxMivUeYJDgg8lyWs1eJPSNiZ8tTgjxXjb3NXxwswgnmJZIYsZnEpAWBJ25lJTrE1OuQVrFs2twsMnKh2A5maHYnIWvIaQTg5131UO9YGwTjKIEtatw</td>\n",
       "        </tr>\n",
       "        <tr>\n",
       "            <td>9</td>\n",
       "            <td>-0.9758063970803335</td>\n",
       "            <td>51.474531240130844</td>\n",
       "            <td>qviYsz5jaaian47KqH8iMIV8FPaNrnm0nAa3696eRE00kzy49ciK4ynND2KfSld07Mntl6bBjLqYbcyE9zrmo423LGTV7ftvggtdd1nqu0COwzPJevfbNYjcvJlDONlTX8Lp2rIknlWcM1vbaVfl0PhFC8nRcMBWPBfiZjSrZwQeXNMr50zqhsmw12KkY079cpzZqSTg4AQMXxXhdVFqNn01NXsDeqKm2O4LzKJAkF1sumIUoDiaZrEfLu</td>\n",
       "        </tr>\n",
       "        <tr>\n",
       "            <td>10</td>\n",
       "            <td>66.95163331926233</td>\n",
       "            <td>39.698323306344484</td>\n",
       "            <td>uWDh46pLH3IDMibdV7tDPSgNwnwmRu8E7W9GC47zHWyFA5eUbgfcADQ2zUZP8sZuxqEUFkOgF94I07EDXOaPOvnd2ue0FY0VsRVrpfmLQTymxOydj555CmVltCPJtfGQDsEvp0mgh1ExLQ2oTZyYwC7ci18MwPyNZTfzp3ggPQxmi0wyANoKBonha4rXsDrkQcBGOnX2TdqDTwiVnQYqQo3XfenOMRq58MltyV3nXdlOoCyzHsAGnpfKgB</td>\n",
       "        </tr>\n",
       "    </tbody>\n",
       "</table>\n",
       "<span style=\"font-style:italic;text-align:center;\">Truncated to <a href=\"https://jupysql.ploomber.io/en/latest/api/configuration.html#displaylimit\">displaylimit</a> of 10.</span>"
      ],
      "text/plain": [
       "+----+---------------------+--------------------+------------------------------------------------------------------------------------------------------------------------------------------------------------------------------------------------------------------------------------------------------------+\n",
       "| id |      locationX      |     locationy      |                                                                                                                        description                                                                                                                         |\n",
       "+----+---------------------+--------------------+------------------------------------------------------------------------------------------------------------------------------------------------------------------------------------------------------------------------------------------------------------+\n",
       "| 1  |  71.60207635350525  | 54.78643014239917  | zveBXtAUd2XaeBj9UMyFLIaRCCVs66W74P178juO70f7DUTo6U6COKnJCzBwXFWwAxoH73inmKb8ti3xZ50Eff7avO2KVUtfQWrUnpvWNtGCNVCQWvAAxpgxEMoH3bEHzFSycM2FlEbm3jLxk3LiDbm0Qtt6ZXcdib5k9jfM10eIMJ0HTsLMOGX5xcAH3WbADH85tkw0okUcbxftb89rgTI6wlnwOopr98NRKS9hVaMHic132zf6R3z3ev |\n",
       "| 2  |  68.07547055464238  | 40.23959944486414  | 3OldD765yh0M25F5d6ZNJemmphHpBrBARswIr4wNBF57mB2RVDde09Q6lZQ5PxIjOv5jLQqxOTtTG1e4ENx1reSmOwyuaphRD7X3KaVQCRbB9qkbVMMgC0uNrAj3eAxpsHzU6k0hQh7mSHn77Cqj2TC8Xk1bs7UAdk9gu3uJdOUY8DEBHyBmOmuwn4QL1msPbtBdwVkH7SytdLpCbJledsHXzDcmCPyiMwCFK0DmciW8I9HKDJjlc4kwOy |\n",
       "| 3  |  22.71972581720911  | 48.451325419849496 | cY5AJU4vVEzfQRsOa9V6goRdhG1Hp480dyL0wPhbEAB0zag9i9mZIT7BAjVkglDS1iXpuJ6p5nhj9IG9ZwEHqDj1QMecmXb3rmz6dKj5T0HVVwNlbqSTRHzlGp69HeoZ52HKMxoez8vI7vlytULMVvKpukCHSxKn4fdqtVJ70fU9lDOhipXJ9Ap3WJ4JSI5bS4eWYAi0nq3zum3Q5XNEaki8xO3cpLcxnRSMf7sfAshU7atqxvhfr0suSZ |\n",
       "| 4  |  29.491294654319063 | 46.07657549119183  | JQ8EgdG0dIZuPfZWQM5h6z1VlxpV6QFj1QMEyru8uv1sVLX2cZlfWNlLJXELxwFxB5tiRGxrOOeoOoAa4YaP7t62vOCGsWj277g1EYlVtwcTshWxREQPJ5GtpDiWnPOCjui5gvLCxFHKEVruOYYEn4V2Ai8pmt1DrNxvQEXfPH7WBuYkJSTabvmmj34JLdHqlEIEYwhM2rxZ63yK5w6kmspArCKmOOXQIBGZ4MMUuOTt6enr8Hfmp7wgWA |\n",
       "| 5  |  79.38921734504402  | 52.74566659600047  | AjvM268rQWw6DooOn7yFosSaLNufzbKtoyewcDmNtMI7bQxZPJQbxUwasIe0C6gjfPlT79TBwJlEi0PF6v6wgGMGnmoSrZFHIQZ3s8hqNmmrfE28l7iDVaUsHSYLoA5q6pIf0yoW1NTO1439T9GqZ6BbituFREVDKS43GeMnOAPvuWbHnkdvqj1U9IHS0zeTsOy3LWb3uMEY3xqCOYBUTTxcYSGrlK4vuWEodDXf90axqarfNIt2wm4voH |\n",
       "| 6  |  6.359217615158059  | 43.142364551113644 | zm71HyuBHLWweVPzIFUFASheiG9M5Vp173UVprecxHlZhtMXa2gUYyieHxnrNApVY1pvyiHSWZFAY21d18qgkwnfyH3jCuzoHGLWMQtDx9GcM0PcqpG11RgbQJ584mL8M6G9wYxl8Fs7uuJIG5i6PeDeUaxI4jYNehKpPibiuoVTb4JyvslndF6k3p4y8RMQUS33Rdc8o1omA0Vq0sOlKeAfvRDGclDu2qlqB5RmczsmCc819YcT3MzTfv |\n",
       "| 7  |  1.9459106666618595 | 49.15726517327247  | TzOCLhjWWYk2edxAcxxomSMLn4M1LqqVuVQOcYzNIR4XBzsq0GcUJGlVNcErIcHainufhGjM0Y523EhanQx6mTr4FkxL1VdHwnc8yXb5ofz0k3UrnuKobsY0awryTW7gKYkLFG26hGiNAtPTPznaG9Vlz2abQhPUS0Jm9DXVxvaDdcEfRZFvXpGxAxhdgyCedprwsbVk4YIgpW79pxm2PxWAWbTN5nIZdiFCyUnTD5ywCIrt9oZwt3D5Zo |\n",
       "| 8  |  7.758160430065118  | 43.808794503076086 | RG6BG7S68kEgMlNao9quqP5Q0QLlbjQNjm2wBk92pENP3HvqOU4mvskWLpXarxi429Fn4HkAxnyspyflgpeZuHWK3P2B9cNetsSkigvqlFTEMO27VMVGk8ioZW0rkLiEXrQuADVBxMivUeYJDgg8lyWs1eJPSNiZ8tTgjxXjb3NXxwswgnmJZIYsZnEpAWBJ25lJTrE1OuQVrFs2twsMnKh2A5maHYnIWvIaQTg5131UO9YGwTjKIEtatw |\n",
       "| 9  | -0.9758063970803335 | 51.474531240130844 | qviYsz5jaaian47KqH8iMIV8FPaNrnm0nAa3696eRE00kzy49ciK4ynND2KfSld07Mntl6bBjLqYbcyE9zrmo423LGTV7ftvggtdd1nqu0COwzPJevfbNYjcvJlDONlTX8Lp2rIknlWcM1vbaVfl0PhFC8nRcMBWPBfiZjSrZwQeXNMr50zqhsmw12KkY079cpzZqSTg4AQMXxXhdVFqNn01NXsDeqKm2O4LzKJAkF1sumIUoDiaZrEfLu |\n",
       "| 10 |  66.95163331926233  | 39.698323306344484 | uWDh46pLH3IDMibdV7tDPSgNwnwmRu8E7W9GC47zHWyFA5eUbgfcADQ2zUZP8sZuxqEUFkOgF94I07EDXOaPOvnd2ue0FY0VsRVrpfmLQTymxOydj555CmVltCPJtfGQDsEvp0mgh1ExLQ2oTZyYwC7ci18MwPyNZTfzp3ggPQxmi0wyANoKBonha4rXsDrkQcBGOnX2TdqDTwiVnQYqQo3XfenOMRq58MltyV3nXdlOoCyzHsAGnpfKgB |\n",
       "+----+---------------------+--------------------+------------------------------------------------------------------------------------------------------------------------------------------------------------------------------------------------------------------------------------------------------------+\n",
       "Truncated to displaylimit of 10."
      ]
     },
     "execution_count": 7,
     "metadata": {},
     "output_type": "execute_result"
    }
   ],
   "source": [
    "%sql SELECT * FROM point_data_centroid"
   ]
  },
  {
   "cell_type": "code",
   "execution_count": 8,
   "id": "cd60fc50",
   "metadata": {},
   "outputs": [
    {
     "data": {
      "text/html": [
       "<span style=\"None\">Running query in &#x27;duckdb&#x27;</span>"
      ],
      "text/plain": [
       "Running query in 'duckdb'"
      ]
     },
     "metadata": {},
     "output_type": "display_data"
    },
    {
     "data": {
      "text/html": [
       "<table>\n",
       "    <thead>\n",
       "        <tr>\n",
       "            <th>count_star()</th>\n",
       "        </tr>\n",
       "    </thead>\n",
       "    <tbody>\n",
       "        <tr>\n",
       "            <td>402325</td>\n",
       "        </tr>\n",
       "    </tbody>\n",
       "</table>"
      ],
      "text/plain": [
       "+--------------+\n",
       "| count_star() |\n",
       "+--------------+\n",
       "|    402325    |\n",
       "+--------------+"
      ]
     },
     "execution_count": 8,
     "metadata": {},
     "output_type": "execute_result"
    }
   ],
   "source": [
    "%%sql\n",
    "SELECT COUNT(*) FROM point_data_centroid as data;"
   ]
  },
  {
   "cell_type": "code",
   "execution_count": 9,
   "id": "717a2dad",
   "metadata": {},
   "outputs": [
    {
     "data": {
      "text/html": [
       "<span style=\"None\">Running query in &#x27;duckdb&#x27;</span>"
      ],
      "text/plain": [
       "Running query in 'duckdb'"
      ]
     },
     "metadata": {},
     "output_type": "display_data"
    },
    {
     "data": {
      "text/html": [
       "<table>\n",
       "    <thead>\n",
       "        <tr>\n",
       "            <th>column_name</th>\n",
       "            <th>column_type</th>\n",
       "            <th>min</th>\n",
       "            <th>max</th>\n",
       "            <th>approx_unique</th>\n",
       "            <th>avg</th>\n",
       "            <th>std</th>\n",
       "            <th>q25</th>\n",
       "            <th>q50</th>\n",
       "            <th>q75</th>\n",
       "            <th>count</th>\n",
       "            <th>null_percentage</th>\n",
       "        </tr>\n",
       "    </thead>\n",
       "    <tbody>\n",
       "        <tr>\n",
       "            <td>id</td>\n",
       "            <td>BIGINT</td>\n",
       "            <td>1</td>\n",
       "            <td>402325</td>\n",
       "            <td>377825</td>\n",
       "            <td>201163.0</td>\n",
       "            <td>116141.3678633357</td>\n",
       "            <td>100582</td>\n",
       "            <td>201416</td>\n",
       "            <td>301744</td>\n",
       "            <td>402325</td>\n",
       "            <td>0.00</td>\n",
       "        </tr>\n",
       "        <tr>\n",
       "            <td>locationX</td>\n",
       "            <td>DOUBLE</td>\n",
       "            <td>-179.12087778314643</td>\n",
       "            <td>179.80886915</td>\n",
       "            <td>326174</td>\n",
       "            <td>1.0731648788767731</td>\n",
       "            <td>60.20403126591039</td>\n",
       "            <td>-45.87195652744291</td>\n",
       "            <td>9.42516138974874</td>\n",
       "            <td>28.598006608720496</td>\n",
       "            <td>402325</td>\n",
       "            <td>0.00</td>\n",
       "        </tr>\n",
       "        <tr>\n",
       "            <td>locationy</td>\n",
       "            <td>DOUBLE</td>\n",
       "            <td>-66.52681067468725</td>\n",
       "            <td>78.92123011264881</td>\n",
       "            <td>477667</td>\n",
       "            <td>38.35798860494098</td>\n",
       "            <td>20.333799419387596</td>\n",
       "            <td>36.8145559365445</td>\n",
       "            <td>44.58551598968783</td>\n",
       "            <td>49.95163493199449</td>\n",
       "            <td>402325</td>\n",
       "            <td>0.00</td>\n",
       "        </tr>\n",
       "        <tr>\n",
       "            <td>description</td>\n",
       "            <td>VARCHAR</td>\n",
       "            <td>0013P35QYrb92lyIsdFTnCiB5Sw61DhbxL1kuY5bdZzRwbw9NnDsSkHzJh7I269OvzkUH2Ff46jQYFc9SqnZu8WS8284CkhjQjmgRCDAC0rchpNrmqTOHvqP6ljBVfyZJBasdPFyQ4jtMFs0qCQ8r5UR3AmMMD7SGXr2Ylviodluvhyudl4yzHnxWrhL8rkPzIyaT3Gf3rCR7KsZSIUTiXOwyVMiJDNc30LbSXiF9xTilMQX69tlawyaV1</td>\n",
       "            <td>zzzHd8yUgsUogzit7oqbw2MVOdPs9rvQlsbPBKZ07qOrt59QWPGVaMl7n7zhZIkG4KAinQUEoC3HXcfuqKUQBaKX0RqmmXIxGeGjm7PH9b7QrW2vPGHKvDM40qofHvaLIYD9wrEQ4l3RxIdqgHwvkdsbRVJvcCAdCLvE73lPIW8zIwvPq8sTHGUI0UKE2nQQuNeqxMEueWSpQwc4B32gFUQBtBzIH5uDp38UWFSRpIhxyxKxLDtyWmxSCR</td>\n",
       "            <td>391516</td>\n",
       "            <td>None</td>\n",
       "            <td>None</td>\n",
       "            <td>None</td>\n",
       "            <td>None</td>\n",
       "            <td>None</td>\n",
       "            <td>402325</td>\n",
       "            <td>0.00</td>\n",
       "        </tr>\n",
       "    </tbody>\n",
       "</table>"
      ],
      "text/plain": [
       "+-------------+-------------+------------------------------------------------------------------------------------------------------------------------------------------------------------------------------------------------------------------------------------------------------------+------------------------------------------------------------------------------------------------------------------------------------------------------------------------------------------------------------------------------------------------------------+---------------+--------------------+--------------------+--------------------+-------------------+--------------------+--------+-----------------+\n",
       "| column_name | column_type |                                                                                                                            min                                                                                                                             |                                                                                                                            max                                                                                                                             | approx_unique |        avg         |        std         |        q25         |        q50        |        q75         | count  | null_percentage |\n",
       "+-------------+-------------+------------------------------------------------------------------------------------------------------------------------------------------------------------------------------------------------------------------------------------------------------------+------------------------------------------------------------------------------------------------------------------------------------------------------------------------------------------------------------------------------------------------------------+---------------+--------------------+--------------------+--------------------+-------------------+--------------------+--------+-----------------+\n",
       "|      id     |    BIGINT   |                                                                                                                             1                                                                                                                              |                                                                                                                           402325                                                                                                                           |     377825    |      201163.0      | 116141.3678633357  |       100582       |       201416      |       301744       | 402325 |       0.00      |\n",
       "|  locationX  |    DOUBLE   |                                                                                                                    -179.12087778314643                                                                                                                     |                                                                                                                        179.80886915                                                                                                                        |     326174    | 1.0731648788767731 | 60.20403126591039  | -45.87195652744291 |  9.42516138974874 | 28.598006608720496 | 402325 |       0.00      |\n",
       "|  locationy  |    DOUBLE   |                                                                                                                     -66.52681067468725                                                                                                                     |                                                                                                                     78.92123011264881                                                                                                                      |     477667    | 38.35798860494098  | 20.333799419387596 |  36.8145559365445  | 44.58551598968783 | 49.95163493199449  | 402325 |       0.00      |\n",
       "| description |   VARCHAR   | 0013P35QYrb92lyIsdFTnCiB5Sw61DhbxL1kuY5bdZzRwbw9NnDsSkHzJh7I269OvzkUH2Ff46jQYFc9SqnZu8WS8284CkhjQjmgRCDAC0rchpNrmqTOHvqP6ljBVfyZJBasdPFyQ4jtMFs0qCQ8r5UR3AmMMD7SGXr2Ylviodluvhyudl4yzHnxWrhL8rkPzIyaT3Gf3rCR7KsZSIUTiXOwyVMiJDNc30LbSXiF9xTilMQX69tlawyaV1 | zzzHd8yUgsUogzit7oqbw2MVOdPs9rvQlsbPBKZ07qOrt59QWPGVaMl7n7zhZIkG4KAinQUEoC3HXcfuqKUQBaKX0RqmmXIxGeGjm7PH9b7QrW2vPGHKvDM40qofHvaLIYD9wrEQ4l3RxIdqgHwvkdsbRVJvcCAdCLvE73lPIW8zIwvPq8sTHGUI0UKE2nQQuNeqxMEueWSpQwc4B32gFUQBtBzIH5uDp38UWFSRpIhxyxKxLDtyWmxSCR |     391516    |        None        |        None        |        None        |        None       |        None        | 402325 |       0.00      |\n",
       "+-------------+-------------+------------------------------------------------------------------------------------------------------------------------------------------------------------------------------------------------------------------------------------------------------------+------------------------------------------------------------------------------------------------------------------------------------------------------------------------------------------------------------------------------------------------------------+---------------+--------------------+--------------------+--------------------+-------------------+--------------------+--------+-----------------+"
      ]
     },
     "execution_count": 9,
     "metadata": {},
     "output_type": "execute_result"
    }
   ],
   "source": [
    "%%sql\n",
    "SUMMARIZE point_data_centroid"
   ]
  },
  {
   "cell_type": "code",
   "execution_count": 10,
   "id": "7433f461",
   "metadata": {},
   "outputs": [
    {
     "name": "stdout",
     "output_type": "stream",
     "text": [
      "Exporting to cemetery.csv\n",
      "Exporting to ./data/csv/cemetery.csv\n"
     ]
    }
   ],
   "source": [
    "export_filename = input_filename.replace(\".geojson\", \".csv\")\n",
    "export_path = \"./data/csv/\" + export_filename\n",
    "\n",
    "os.makedirs(os.path.dirname(export_path), exist_ok=True)\n",
    "\n",
    "print(f\"Exporting to {export_filename}\")\n",
    "print(f\"Exporting to {export_path}\")"
   ]
  },
  {
   "cell_type": "code",
   "execution_count": 11,
   "id": "3e909691",
   "metadata": {},
   "outputs": [
    {
     "data": {
      "text/html": [
       "<span style=\"None\">Running query in &#x27;duckdb&#x27;</span>"
      ],
      "text/plain": [
       "Running query in 'duckdb'"
      ]
     },
     "metadata": {},
     "output_type": "display_data"
    },
    {
     "data": {
      "text/html": [
       "<table>\n",
       "    <thead>\n",
       "        <tr>\n",
       "            <th>Count</th>\n",
       "        </tr>\n",
       "    </thead>\n",
       "    <tbody>\n",
       "    </tbody>\n",
       "</table>"
      ],
      "text/plain": [
       "+-------+\n",
       "| Count |\n",
       "+-------+\n",
       "+-------+"
      ]
     },
     "execution_count": 11,
     "metadata": {},
     "output_type": "execute_result"
    }
   ],
   "source": [
    "%%sql\n",
    "COPY (SELECT * FROM point_data_centroid) TO '{{export_path}}' (FORMAT CSV, HEADER);"
   ]
  }
 ],
 "metadata": {
  "kernelspec": {
   "display_name": "venv",
   "language": "python",
   "name": "python3"
  },
  "language_info": {
   "codemirror_mode": {
    "name": "ipython",
    "version": 3
   },
   "file_extension": ".py",
   "mimetype": "text/x-python",
   "name": "python",
   "nbconvert_exporter": "python",
   "pygments_lexer": "ipython3",
   "version": "3.13.3"
  }
 },
 "nbformat": 4,
 "nbformat_minor": 5
}
