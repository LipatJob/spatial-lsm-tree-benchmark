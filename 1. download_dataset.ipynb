{
 "cells": [
  {
   "cell_type": "code",
   "execution_count": null,
   "id": "a843dfc0",
   "metadata": {},
   "outputs": [],
   "source": [
    "osm_dataset = \"sports\"\n",
    "url = f\"https://star.cs.ucr.edu/datasets/osm21/{osm_dataset}/features.geojson.gz\"\n",
    "download_path = f\"./data/geojson/{osm_dataset}.geojson.gz\"\n",
    "extracted_path = f\"./data/geojson/{osm_dataset}.geojson\""
   ]
  },
  {
   "cell_type": "code",
   "execution_count": 2,
   "id": "00594c97",
   "metadata": {},
   "outputs": [
    {
     "name": "stdout",
     "output_type": "stream",
     "text": [
      "./data/geojson/cemetery.geojson.gz already exists. Skipping download.\n",
      "./data/geojson/cemetery.geojson already exists. Skipping extraction.\n"
     ]
    }
   ],
   "source": [
    "# download file from url\n",
    "import requests\n",
    "import os\n",
    "import gzip\n",
    "import shutil\n",
    "\n",
    "\n",
    "if not os.path.exists(\"./data/geojson\"):\n",
    "    os.makedirs(\"./data/geojson\")\n",
    "\n",
    "def download_file(url, download_path):\n",
    "    if not os.path.exists(download_path):\n",
    "        print(f\"Downloading {url} to {download_path}...\")\n",
    "        response = requests.get(url, stream=True)\n",
    "        with open(download_path, 'wb') as f:\n",
    "            for chunk in response.iter_content(chunk_size=8192):\n",
    "                f.write(chunk)\n",
    "        print(\"Download complete.\")\n",
    "    else:\n",
    "        print(f\"{download_path} already exists. Skipping download.\")\n",
    "        \n",
    "def extract_gzip(gzip_path, output_path):\n",
    "    if not os.path.exists(output_path):\n",
    "        print(f\"Extracting {gzip_path} to {output_path}...\")\n",
    "        with gzip.open(gzip_path, 'rb') as f_in:\n",
    "            with open(output_path, 'wb') as f_out:\n",
    "                shutil.copyfileobj(f_in, f_out)\n",
    "        print(\"Extraction complete.\")\n",
    "    else:\n",
    "        print(f\"{output_path} already exists. Skipping extraction.\")\n",
    "        \n",
    "download_file(url, download_path)\n",
    "extract_gzip(download_path, extracted_path)"
   ]
  }
 ],
 "metadata": {
  "kernelspec": {
   "display_name": "venv",
   "language": "python",
   "name": "python3"
  },
  "language_info": {
   "codemirror_mode": {
    "name": "ipython",
    "version": 3
   },
   "file_extension": ".py",
   "mimetype": "text/x-python",
   "name": "python",
   "nbconvert_exporter": "python",
   "pygments_lexer": "ipython3",
   "version": "3.13.3"
  }
 },
 "nbformat": 4,
 "nbformat_minor": 5
}
