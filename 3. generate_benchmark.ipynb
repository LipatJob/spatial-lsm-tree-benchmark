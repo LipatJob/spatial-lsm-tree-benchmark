{
 "cells": [
  {
   "cell_type": "code",
   "execution_count": 1,
   "id": "b59fb5de",
   "metadata": {},
   "outputs": [],
   "source": [
    "input_dataset = \"data/csv/osm21_sports.csv\"\n",
    "insert_batch_size = 10_000\n",
    "query_count = 1000\n",
    "\n",
    "dataverse = \"LocationDb\"\n",
    "table_name = \"Locations_RTree_Constant\"\n",
    "\n",
    "dbHost = \"http://localhost:19002\"\n",
    "benchmark_plan_path = f\"commands/benchmark_plan_{dataverse}_{table_name}_{insert_batch_size}_{query_count}.sql\"\n",
    "\n",
    "# None means no limit\n",
    "debug_max_batches = None"
   ]
  },
  {
   "cell_type": "markdown",
   "id": "277f586b",
   "metadata": {},
   "source": [
    "## Generate Commands"
   ]
  },
  {
   "cell_type": "code",
   "execution_count": 2,
   "id": "5f95d650",
   "metadata": {},
   "outputs": [],
   "source": [
    "import random\n",
    "\n",
    "data =[]\n",
    "with open(input_dataset, \"r\") as f:\n",
    "    f.readline()\n",
    "    for line in f:\n",
    "        row = line.strip().split(\",\")\n",
    "        id = row[0]\n",
    "        locationX = row[1]\n",
    "        locationY = row[2]\n",
    "        description = row[3]\n",
    "        data.append([id, locationX, locationY, description])\n",
    "\n",
    "random.shuffle(data)"
   ]
  },
  {
   "cell_type": "code",
   "execution_count": 3,
   "id": "5e6fa681",
   "metadata": {},
   "outputs": [],
   "source": [
    "import random\n",
    "import requests\n",
    "import os\n",
    "\n",
    "def point(x, y):\n",
    "    return f'point(\"{x},{y}\")'\n",
    "\n",
    "def rectangle(x1, y1, x2, y2):\n",
    "    return f'rectangle(\"{x1},{y1} {x2},{y2}\")'\n",
    "\n",
    "def generate_insert_command(batch):\n",
    "    query_lines = []\n",
    "    query_lines.append(f\"INSERT INTO {table_name} ([\")\n",
    "    for row in batch:\n",
    "        id = row[0]\n",
    "        location_x = row[1]\n",
    "        location_y = row[2]\n",
    "        description = row[3]\n",
    "        is_last = (row == batch[-1])\n",
    "        query_lines.append(f'{{\"id\": {id}, \"location\": {point(location_x, location_y)}, \"description\": \"{description}\"}}{ \"\" if is_last else \",\" }')\n",
    "    query_lines.append(\"])\")\n",
    "    \n",
    "    return \"\".join(query_lines)\n",
    "\n",
    "def generate_query_commands(inserted_points):\n",
    "    queries = []\n",
    "    selected_points = random.sample(inserted_points, query_count)\n",
    "    sigma_values = [3, 4, 5]  # Possible selectivities (σ)\n",
    "    \n",
    "    for selected_point in selected_points:\n",
    "        sigma = random.choice(sigma_values)\n",
    "        width = 360 * (10 ** -sigma)\n",
    "        height = 180 * (10 ** -sigma)\n",
    "        \n",
    "        # Ensure coordinates are floats before calculations\n",
    "        center_x = float(selected_point[0])\n",
    "        center_y = float(selected_point[1])\n",
    "        \n",
    "        # Calculate MBR (Minimum Bounding Rectangle)\n",
    "        start_x = center_x - (width / 2)\n",
    "        end_x = center_x + (width / 2)\n",
    "        start_y = center_y - (height / 2)\n",
    "        end_y = center_y + (height / 2)\n",
    "        \n",
    "        query = f\"SELECT * FROM {table_name} WHERE spatial_intersect(location, {rectangle(start_x, start_y, end_x, end_y)});\"\n",
    "        queries.append(query)\n",
    "    \n",
    "    return queries\n"
   ]
  },
  {
   "cell_type": "code",
   "execution_count": 4,
   "id": "6bd4f305",
   "metadata": {},
   "outputs": [],
   "source": [
    "inserted_points = []\n",
    "current_batch = 0\n",
    "commands = []\n",
    "while True:\n",
    "    if debug_max_batches is not None and current_batch >= debug_max_batches:\n",
    "        break\n",
    "    batch_to_insert = data[current_batch * insert_batch_size:(current_batch + 1) * insert_batch_size]\n",
    "    if not batch_to_insert: # no more data to insert\n",
    "        break\n",
    "    \n",
    "    insert_command = generate_insert_command(batch_to_insert)\n",
    "    inserted_points.extend(map(lambda x: (x[1], x[2]), batch_to_insert))\n",
    "    \n",
    "    query_commands = generate_query_commands(inserted_points)\n",
    "    commands.append(insert_command)\n",
    "    commands.extend(query_commands)\n",
    "    \n",
    "    current_batch += 1\n",
    "    \n",
    "# write the commands to a file\n",
    "benchmark_dir = os.path.dirname(benchmark_plan_path)\n",
    "if not os.path.exists(benchmark_dir):\n",
    "    os.makedirs(benchmark_dir)\n",
    "with open(benchmark_plan_path, \"w\") as f:\n",
    "    for command in commands:\n",
    "        f.write(command + \"\\n\")\n",
    "    "
   ]
  },
  {
   "cell_type": "code",
   "execution_count": 5,
   "id": "75985321",
   "metadata": {},
   "outputs": [],
   "source": [
    "import logging\n",
    "import os\n",
    "\n",
    "logs_dir = \"./logs\"\n",
    "if not os.path.exists(logs_dir):\n",
    "    os.makedirs(logs_dir, exist_ok=True)\n"
   ]
  },
  {
   "cell_type": "markdown",
   "id": "7ec7de1f",
   "metadata": {},
   "source": [
    "## Generate Database Schema"
   ]
  },
  {
   "cell_type": "code",
   "execution_count": 6,
   "id": "6d897f5b",
   "metadata": {},
   "outputs": [
    {
     "name": "stdout",
     "output_type": "stream",
     "text": [
      "{\n",
      "\t\"requestID\": \"9f2ee8d1-9481-45ac-8acb-999894182237\",\n",
      "\t\"plans\":{},\n",
      "\t\"status\": \"success\",\n",
      "\t\"metrics\": {\n",
      "\t\t\"elapsedTime\": \"1.051181709s\",\n",
      "\t\t\"executionTime\": \"885.318459ms\",\n",
      "\t\t\"compileTime\": \"0ns\",\n",
      "\t\t\"queueWaitTime\": \"0ns\",\n",
      "\t\t\"resultCount\": 0,\n",
      "\t\t\"resultSize\": 0,\n",
      "\t\t\"processedObjects\": 0,\n",
      "\t\t\"bufferCacheHitRatio\": \"0.00%\",\n",
      "\t\t\"bufferCachePageReadCount\": 0\n",
      "\t}\n",
      "}\n",
      "\n"
     ]
    }
   ],
   "source": [
    "create_database_script = \"\"\"\n",
    "DROP DATAVERSE LocationDb IF EXISTS;\n",
    "CREATE DATAVERSE LocationDb;\n",
    "USE LocationDb;\n",
    "\n",
    "CREATE TYPE LocationType AS {\n",
    "    id: bigint,\n",
    "    location: point,\n",
    "    description: string\n",
    "};\n",
    "\n",
    "CREATE DATASET Locations_RTree_Constant(LocationType) PRIMARY KEY id;\n",
    "CREATE INDEX Location_RTree_Constant_Index on Locations_RTree_Constant(location) TYPE rtree ENFORCED;\n",
    "\n",
    "CREATE DATASET Locations_RTree_Concurrent(LocationType) PRIMARY KEY id;\n",
    "CREATE INDEX Locations_RTree_Concurrent_Index on Locations_RTree_Concurrent(location) TYPE rtree ENFORCED;\n",
    "\n",
    "CREATE DATASET Locations_BTree_Constant(LocationType) PRIMARY KEY id;\n",
    "CREATE INDEX Locations_BTree_Constant_Index on Locations_BTree_Constant(location) TYPE rtree ENFORCED;\n",
    "\n",
    "CREATE DATASET Locations_BTree_Concurrent(LocationType) PRIMARY KEY id;\n",
    "CREATE INDEX Locations_BTree_Concurrent_Index on Locations_BTree_Concurrent(location) TYPE rtree ENFORCED;\n",
    "\"\"\"\n",
    "response = requests.post(f\"{dbHost}/query/service\", data={'statement': create_database_script})\n",
    "print(response.text)"
   ]
  },
  {
   "cell_type": "code",
   "execution_count": 7,
   "id": "d2bde5d1",
   "metadata": {},
   "outputs": [
    {
     "name": "stdout",
     "output_type": "stream",
     "text": [
      "Requirement already satisfied: ipywidgets in /Users/jarred.luzada/.asdf/installs/python/3.10.0/lib/python3.10/site-packages (8.1.6)\n",
      "Requirement already satisfied: comm>=0.1.3 in /Users/jarred.luzada/.local/lib/python3.10/site-packages (from ipywidgets) (0.2.2)\n",
      "Requirement already satisfied: jupyterlab_widgets~=3.0.14 in /Users/jarred.luzada/.asdf/installs/python/3.10.0/lib/python3.10/site-packages (from ipywidgets) (3.0.14)\n",
      "Requirement already satisfied: traitlets>=4.3.1 in /Users/jarred.luzada/.local/lib/python3.10/site-packages (from ipywidgets) (5.14.3)\n",
      "Requirement already satisfied: widgetsnbextension~=4.0.14 in /Users/jarred.luzada/.asdf/installs/python/3.10.0/lib/python3.10/site-packages (from ipywidgets) (4.0.14)\n",
      "Requirement already satisfied: ipython>=6.1.0 in /Users/jarred.luzada/.local/lib/python3.10/site-packages (from ipywidgets) (8.36.0)\n",
      "Requirement already satisfied: decorator in /Users/jarred.luzada/.asdf/installs/python/3.10.0/lib/python3.10/site-packages (from ipython>=6.1.0->ipywidgets) (5.1.1)\n",
      "Requirement already satisfied: matplotlib-inline in /Users/jarred.luzada/.local/lib/python3.10/site-packages (from ipython>=6.1.0->ipywidgets) (0.1.7)\n",
      "Requirement already satisfied: jedi>=0.16 in /Users/jarred.luzada/.local/lib/python3.10/site-packages (from ipython>=6.1.0->ipywidgets) (0.19.2)\n",
      "Requirement already satisfied: pexpect>4.3 in /Users/jarred.luzada/.local/lib/python3.10/site-packages (from ipython>=6.1.0->ipywidgets) (4.9.0)\n",
      "Requirement already satisfied: exceptiongroup in /Users/jarred.luzada/.asdf/installs/python/3.10.0/lib/python3.10/site-packages (from ipython>=6.1.0->ipywidgets) (1.2.2)\n",
      "Requirement already satisfied: stack_data in /Users/jarred.luzada/.local/lib/python3.10/site-packages (from ipython>=6.1.0->ipywidgets) (0.6.3)\n",
      "Requirement already satisfied: pygments>=2.4.0 in /Users/jarred.luzada/.asdf/installs/python/3.10.0/lib/python3.10/site-packages (from ipython>=6.1.0->ipywidgets) (2.19.1)\n",
      "Requirement already satisfied: typing_extensions>=4.6 in /Users/jarred.luzada/.asdf/installs/python/3.10.0/lib/python3.10/site-packages (from ipython>=6.1.0->ipywidgets) (4.12.2)\n",
      "Requirement already satisfied: prompt_toolkit<3.1.0,>=3.0.41 in /Users/jarred.luzada/.local/lib/python3.10/site-packages (from ipython>=6.1.0->ipywidgets) (3.0.51)\n",
      "Requirement already satisfied: parso<0.9.0,>=0.8.4 in /Users/jarred.luzada/.local/lib/python3.10/site-packages (from jedi>=0.16->ipython>=6.1.0->ipywidgets) (0.8.4)\n",
      "Requirement already satisfied: ptyprocess>=0.5 in /Users/jarred.luzada/.local/lib/python3.10/site-packages (from pexpect>4.3->ipython>=6.1.0->ipywidgets) (0.7.0)\n",
      "Requirement already satisfied: wcwidth in /Users/jarred.luzada/.local/lib/python3.10/site-packages (from prompt_toolkit<3.1.0,>=3.0.41->ipython>=6.1.0->ipywidgets) (0.2.13)\n",
      "Requirement already satisfied: asttokens>=2.1.0 in /Users/jarred.luzada/.local/lib/python3.10/site-packages (from stack_data->ipython>=6.1.0->ipywidgets) (3.0.0)\n",
      "Requirement already satisfied: executing>=1.2.0 in /Users/jarred.luzada/.local/lib/python3.10/site-packages (from stack_data->ipython>=6.1.0->ipywidgets) (2.2.0)\n",
      "Requirement already satisfied: pure-eval in /Users/jarred.luzada/.local/lib/python3.10/site-packages (from stack_data->ipython>=6.1.0->ipywidgets) (0.2.3)\n",
      "\u001b[33mWARNING: You are using pip version 21.2.3; however, version 25.1 is available.\n",
      "You should consider upgrading via the '/Users/jarred.luzada/.asdf/installs/python/3.10.0/bin/python -m pip install --upgrade pip' command.\u001b[0m\n",
      "Note: you may need to restart the kernel to use updated packages.\n"
     ]
    }
   ],
   "source": [
    "%pip install ipywidgets"
   ]
  },
  {
   "cell_type": "markdown",
   "id": "51c5e998",
   "metadata": {},
   "source": [
    "## Execute Commands"
   ]
  },
  {
   "cell_type": "code",
   "execution_count": null,
   "id": "8a59e65e",
   "metadata": {},
   "outputs": [
    {
     "name": "stdout",
     "output_type": "stream",
     "text": [
      "Logging to file\n",
      "To see the logs in real time: tail -f ./logs/benchmark_LocationDb_Locations_RTree_Constant_10000_1000_1745778778.867208.log\n"
     ]
    },
    {
     "ename": "NameError",
     "evalue": "name 'start_button' is not defined",
     "output_type": "error",
     "traceback": [
      "\u001b[0;31m---------------------------------------------------------------------------\u001b[0m",
      "\u001b[0;31mNameError\u001b[0m                                 Traceback (most recent call last)",
      "Cell \u001b[0;32mIn[8], line 20\u001b[0m\n\u001b[1;32m     18\u001b[0m \u001b[38;5;28mprint\u001b[39m(\u001b[38;5;124mf\u001b[39m\u001b[38;5;124m\"\u001b[39m\u001b[38;5;124mLogging to file\u001b[39m\u001b[38;5;124m\"\u001b[39m)\n\u001b[1;32m     19\u001b[0m \u001b[38;5;28mprint\u001b[39m(\u001b[38;5;124mf\u001b[39m\u001b[38;5;124m\"\u001b[39m\u001b[38;5;124mTo see the logs in real time: tail -f \u001b[39m\u001b[38;5;132;01m{\u001b[39;00mlog_file_path\u001b[38;5;132;01m}\u001b[39;00m\u001b[38;5;124m\"\u001b[39m)\n\u001b[0;32m---> 20\u001b[0m \u001b[43mstart_button\u001b[49m\u001b[38;5;241m.\u001b[39mon_click(\u001b[38;5;28;01mlambda\u001b[39;00m _: start_tail(log_file_path))\n\u001b[1;32m     22\u001b[0m logger \u001b[38;5;241m=\u001b[39m logging\u001b[38;5;241m.\u001b[39mgetLogger()\n\u001b[1;32m     24\u001b[0m \u001b[38;5;28;01mwith\u001b[39;00m \u001b[38;5;28mopen\u001b[39m(log_file_path, \u001b[38;5;124m\"\u001b[39m\u001b[38;5;124ma\u001b[39m\u001b[38;5;124m\"\u001b[39m) \u001b[38;5;28;01mas\u001b[39;00m log:\n",
      "\u001b[0;31mNameError\u001b[0m: name 'start_button' is not defined"
     ]
    }
   ],
   "source": [
    "import time\n",
    "import json\n",
    "\n",
    "def execute_command(command, client_context_id=None):\n",
    "    return requests.post(f\"{dbHost}/query/service\", data={\n",
    "        'statement': command,\n",
    "        'dataverse': dataverse,\n",
    "        'client_context_id': client_context_id,\n",
    "    })\n",
    "\n",
    "log_file_path = f\"./logs/benchmark_{dataverse}_{table_name}_{insert_batch_size}_{query_count}_{str(time.time())}.log\"\n",
    "logging.basicConfig(\n",
    "    level=logging.INFO,\n",
    "    format='%(asctime)s - %(levelname)s - %(message)s',\n",
    "    filename = log_file_path,\n",
    "    filemode = 'a'\n",
    ")\n",
    "print(f\"Logging to file\")\n",
    "print(f\"To see the logs in real time: tail -f {log_file_path}\")\n",
    "\n",
    "logger = logging.getLogger()\n",
    "\n",
    "with open(log_file_path, \"a\") as log:\n",
    "    with open(benchmark_plan_path, \"r\") as f:\n",
    "        index = 0\n",
    "        for line in f:\n",
    "            index += 1\n",
    "            command = line.strip()\n",
    "            if not command:\n",
    "                continue\n",
    "            \n",
    "            command_type = \"insert\" if command.startswith(\"INSERT\") else \"query\"\n",
    "            event = f\"command.{command_type}\"\n",
    "            trace_id = str(index).zfill(10)\n",
    "            log.write(json.dumps({\"trace-id\": trace_id,\"event\": event,}) + \"\\n\")\n",
    "            response = execute_command(command, client_context_id=trace_id)\n",
    "            json_response = response.json()\n",
    "            if response.status_code != 200:\n",
    "                print(f\"Error: {response.json()}\")\n",
    "                log.write(json.dumps({\n",
    "                    \"trace_id\": json_response.get(\"clientContextID\"),\n",
    "                    \"event\": event,\n",
    "                    \"http.status\": response.status_code,\n",
    "                    \"status\": json_response.get(\"status\"),\n",
    "                    \"metrics\": json_response.get(\"metrics\"),\n",
    "                    \"error\": json_response.get(\"errors\"),\n",
    "                }) + \"\\n\")\n",
    "            else:\n",
    "                log.write(json.dumps({\n",
    "                    \"trace_id\": json_response.get(\"clientContextID\"),\n",
    "                    \"event\": event,\n",
    "                    \"http.status\": response.status_code,\n",
    "                    \"status\": json_response.get(\"status\"),\n",
    "                    \"result_count\": len(json_response.get(\"results\", [])) if json_response.get(\"results\") else None,\n",
    "                    \"metrics\": json_response.get(\"metrics\"),\n",
    "                }) + \"\\n\")\n",
    "                        \n"
   ]
  }
 ],
 "metadata": {
  "kernelspec": {
   "display_name": "venv",
   "language": "python",
   "name": "python3"
  },
  "language_info": {
   "codemirror_mode": {
    "name": "ipython",
    "version": 3
   },
   "file_extension": ".py",
   "mimetype": "text/x-python",
   "name": "python",
   "nbconvert_exporter": "python",
   "pygments_lexer": "ipython3",
   "version": "3.13.3"
  }
 },
 "nbformat": 4,
 "nbformat_minor": 5
}
