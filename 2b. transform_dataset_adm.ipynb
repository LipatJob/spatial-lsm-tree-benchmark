{
 "cells": [
  {
   "cell_type": "code",
   "execution_count": 14,
   "id": "4492f9c9",
   "metadata": {},
   "outputs": [
    {
     "name": "stdout",
     "output_type": "stream",
     "text": [
      "Requirement already satisfied: duckdb in /Users/jarred.luzada/.asdf/installs/python/3.10.0/lib/python3.10/site-packages (1.2.2)\n",
      "\u001b[33mWARNING: You are using pip version 21.2.3; however, version 25.1 is available.\n",
      "You should consider upgrading via the '/Users/jarred.luzada/.asdf/installs/python/3.10.0/bin/python3.10 -m pip install --upgrade pip' command.\u001b[0m\n",
      "Requirement already satisfied: notebook in /Users/jarred.luzada/.asdf/installs/python/3.10.0/lib/python3.10/site-packages (7.4.1)\n",
      "Requirement already satisfied: jupyter-server<3,>=2.4.0 in /Users/jarred.luzada/.asdf/installs/python/3.10.0/lib/python3.10/site-packages (from notebook) (2.15.0)\n",
      "Requirement already satisfied: tornado>=6.2.0 in /Users/jarred.luzada/.local/lib/python3.10/site-packages (from notebook) (6.4.2)\n",
      "Requirement already satisfied: notebook-shim<0.3,>=0.2 in /Users/jarred.luzada/.asdf/installs/python/3.10.0/lib/python3.10/site-packages (from notebook) (0.2.4)\n",
      "Requirement already satisfied: jupyterlab-server<3,>=2.27.1 in /Users/jarred.luzada/.asdf/installs/python/3.10.0/lib/python3.10/site-packages (from notebook) (2.27.3)\n",
      "Requirement already satisfied: jupyterlab<4.5,>=4.4.0rc0 in /Users/jarred.luzada/.asdf/installs/python/3.10.0/lib/python3.10/site-packages (from notebook) (4.4.1)\n",
      "Requirement already satisfied: prometheus-client>=0.9 in /Users/jarred.luzada/.asdf/installs/python/3.10.0/lib/python3.10/site-packages (from jupyter-server<3,>=2.4.0->notebook) (0.21.1)\n",
      "Requirement already satisfied: anyio>=3.1.0 in /Users/jarred.luzada/.asdf/installs/python/3.10.0/lib/python3.10/site-packages (from jupyter-server<3,>=2.4.0->notebook) (4.4.0)\n",
      "Requirement already satisfied: jupyter-core!=5.0.*,>=4.12 in /Users/jarred.luzada/.local/lib/python3.10/site-packages (from jupyter-server<3,>=2.4.0->notebook) (5.7.2)\n",
      "Requirement already satisfied: jupyter-server-terminals>=0.4.4 in /Users/jarred.luzada/.asdf/installs/python/3.10.0/lib/python3.10/site-packages (from jupyter-server<3,>=2.4.0->notebook) (0.5.3)\n",
      "Requirement already satisfied: traitlets>=5.6.0 in /Users/jarred.luzada/.local/lib/python3.10/site-packages (from jupyter-server<3,>=2.4.0->notebook) (5.14.3)\n",
      "Requirement already satisfied: jupyter-client>=7.4.4 in /Users/jarred.luzada/.local/lib/python3.10/site-packages (from jupyter-server<3,>=2.4.0->notebook) (8.6.3)\n",
      "Requirement already satisfied: nbformat>=5.3.0 in /Users/jarred.luzada/.asdf/installs/python/3.10.0/lib/python3.10/site-packages (from jupyter-server<3,>=2.4.0->notebook) (5.10.4)\n",
      "Requirement already satisfied: terminado>=0.8.3 in /Users/jarred.luzada/.asdf/installs/python/3.10.0/lib/python3.10/site-packages (from jupyter-server<3,>=2.4.0->notebook) (0.18.1)\n",
      "Requirement already satisfied: argon2-cffi>=21.1 in /Users/jarred.luzada/.asdf/installs/python/3.10.0/lib/python3.10/site-packages (from jupyter-server<3,>=2.4.0->notebook) (23.1.0)\n",
      "Requirement already satisfied: jupyter-events>=0.11.0 in /Users/jarred.luzada/.asdf/installs/python/3.10.0/lib/python3.10/site-packages (from jupyter-server<3,>=2.4.0->notebook) (0.12.0)\n",
      "Requirement already satisfied: send2trash>=1.8.2 in /Users/jarred.luzada/.asdf/installs/python/3.10.0/lib/python3.10/site-packages (from jupyter-server<3,>=2.4.0->notebook) (1.8.3)\n",
      "Requirement already satisfied: websocket-client>=1.7 in /Users/jarred.luzada/.asdf/installs/python/3.10.0/lib/python3.10/site-packages (from jupyter-server<3,>=2.4.0->notebook) (1.8.0)\n",
      "Requirement already satisfied: nbconvert>=6.4.4 in /Users/jarred.luzada/.asdf/installs/python/3.10.0/lib/python3.10/site-packages (from jupyter-server<3,>=2.4.0->notebook) (7.16.6)\n",
      "Requirement already satisfied: packaging>=22.0 in /Users/jarred.luzada/.asdf/installs/python/3.10.0/lib/python3.10/site-packages (from jupyter-server<3,>=2.4.0->notebook) (24.2)\n",
      "Requirement already satisfied: overrides>=5.0 in /Users/jarred.luzada/.asdf/installs/python/3.10.0/lib/python3.10/site-packages (from jupyter-server<3,>=2.4.0->notebook) (7.7.0)\n",
      "Requirement already satisfied: pyzmq>=24 in /Users/jarred.luzada/.local/lib/python3.10/site-packages (from jupyter-server<3,>=2.4.0->notebook) (26.4.0)\n",
      "Requirement already satisfied: jinja2>=3.0.3 in /Users/jarred.luzada/.asdf/installs/python/3.10.0/lib/python3.10/site-packages (from jupyter-server<3,>=2.4.0->notebook) (3.1.4)\n",
      "Requirement already satisfied: typing-extensions>=4.1 in /Users/jarred.luzada/.asdf/installs/python/3.10.0/lib/python3.10/site-packages (from anyio>=3.1.0->jupyter-server<3,>=2.4.0->notebook) (4.12.2)\n",
      "Requirement already satisfied: sniffio>=1.1 in /Users/jarred.luzada/.asdf/installs/python/3.10.0/lib/python3.10/site-packages (from anyio>=3.1.0->jupyter-server<3,>=2.4.0->notebook) (1.3.1)\n",
      "Requirement already satisfied: idna>=2.8 in /Users/jarred.luzada/.asdf/installs/python/3.10.0/lib/python3.10/site-packages (from anyio>=3.1.0->jupyter-server<3,>=2.4.0->notebook) (3.7)\n",
      "Requirement already satisfied: exceptiongroup>=1.0.2 in /Users/jarred.luzada/.asdf/installs/python/3.10.0/lib/python3.10/site-packages (from anyio>=3.1.0->jupyter-server<3,>=2.4.0->notebook) (1.2.2)\n",
      "Requirement already satisfied: argon2-cffi-bindings in /Users/jarred.luzada/.asdf/installs/python/3.10.0/lib/python3.10/site-packages (from argon2-cffi>=21.1->jupyter-server<3,>=2.4.0->notebook) (21.2.0)\n",
      "Requirement already satisfied: MarkupSafe>=2.0 in /Users/jarred.luzada/.asdf/installs/python/3.10.0/lib/python3.10/site-packages (from jinja2>=3.0.3->jupyter-server<3,>=2.4.0->notebook) (2.1.5)\n",
      "Requirement already satisfied: python-dateutil>=2.8.2 in /Users/jarred.luzada/.asdf/installs/python/3.10.0/lib/python3.10/site-packages (from jupyter-client>=7.4.4->jupyter-server<3,>=2.4.0->notebook) (2.9.0.post0)\n",
      "Requirement already satisfied: platformdirs>=2.5 in /Users/jarred.luzada/.asdf/installs/python/3.10.0/lib/python3.10/site-packages (from jupyter-core!=5.0.*,>=4.12->jupyter-server<3,>=2.4.0->notebook) (4.3.6)\n",
      "Requirement already satisfied: pyyaml>=5.3 in /Users/jarred.luzada/.asdf/installs/python/3.10.0/lib/python3.10/site-packages (from jupyter-events>=0.11.0->jupyter-server<3,>=2.4.0->notebook) (6.0.1)\n",
      "Requirement already satisfied: rfc3986-validator>=0.1.1 in /Users/jarred.luzada/.asdf/installs/python/3.10.0/lib/python3.10/site-packages (from jupyter-events>=0.11.0->jupyter-server<3,>=2.4.0->notebook) (0.1.1)\n",
      "Requirement already satisfied: jsonschema[format-nongpl]>=4.18.0 in /Users/jarred.luzada/.asdf/installs/python/3.10.0/lib/python3.10/site-packages (from jupyter-events>=0.11.0->jupyter-server<3,>=2.4.0->notebook) (4.23.0)\n",
      "Requirement already satisfied: python-json-logger>=2.0.4 in /Users/jarred.luzada/.asdf/installs/python/3.10.0/lib/python3.10/site-packages (from jupyter-events>=0.11.0->jupyter-server<3,>=2.4.0->notebook) (3.3.0)\n",
      "Requirement already satisfied: referencing in /Users/jarred.luzada/.asdf/installs/python/3.10.0/lib/python3.10/site-packages (from jupyter-events>=0.11.0->jupyter-server<3,>=2.4.0->notebook) (0.36.2)\n",
      "Requirement already satisfied: rfc3339-validator in /Users/jarred.luzada/.asdf/installs/python/3.10.0/lib/python3.10/site-packages (from jupyter-events>=0.11.0->jupyter-server<3,>=2.4.0->notebook) (0.1.4)\n",
      "Requirement already satisfied: jsonschema-specifications>=2023.03.6 in /Users/jarred.luzada/.asdf/installs/python/3.10.0/lib/python3.10/site-packages (from jsonschema[format-nongpl]>=4.18.0->jupyter-events>=0.11.0->jupyter-server<3,>=2.4.0->notebook) (2025.4.1)\n",
      "Requirement already satisfied: rpds-py>=0.7.1 in /Users/jarred.luzada/.asdf/installs/python/3.10.0/lib/python3.10/site-packages (from jsonschema[format-nongpl]>=4.18.0->jupyter-events>=0.11.0->jupyter-server<3,>=2.4.0->notebook) (0.24.0)\n",
      "Requirement already satisfied: attrs>=22.2.0 in /Users/jarred.luzada/.asdf/installs/python/3.10.0/lib/python3.10/site-packages (from jsonschema[format-nongpl]>=4.18.0->jupyter-events>=0.11.0->jupyter-server<3,>=2.4.0->notebook) (24.2.0)\n",
      "Requirement already satisfied: jsonpointer>1.13 in /Users/jarred.luzada/.asdf/installs/python/3.10.0/lib/python3.10/site-packages (from jsonschema[format-nongpl]>=4.18.0->jupyter-events>=0.11.0->jupyter-server<3,>=2.4.0->notebook) (3.0.0)\n",
      "Requirement already satisfied: uri-template in /Users/jarred.luzada/.asdf/installs/python/3.10.0/lib/python3.10/site-packages (from jsonschema[format-nongpl]>=4.18.0->jupyter-events>=0.11.0->jupyter-server<3,>=2.4.0->notebook) (1.3.0)\n",
      "Requirement already satisfied: fqdn in /Users/jarred.luzada/.asdf/installs/python/3.10.0/lib/python3.10/site-packages (from jsonschema[format-nongpl]>=4.18.0->jupyter-events>=0.11.0->jupyter-server<3,>=2.4.0->notebook) (1.5.1)\n",
      "Requirement already satisfied: isoduration in /Users/jarred.luzada/.asdf/installs/python/3.10.0/lib/python3.10/site-packages (from jsonschema[format-nongpl]>=4.18.0->jupyter-events>=0.11.0->jupyter-server<3,>=2.4.0->notebook) (20.11.0)\n",
      "Requirement already satisfied: webcolors>=24.6.0 in /Users/jarred.luzada/.asdf/installs/python/3.10.0/lib/python3.10/site-packages (from jsonschema[format-nongpl]>=4.18.0->jupyter-events>=0.11.0->jupyter-server<3,>=2.4.0->notebook) (24.11.1)\n",
      "Requirement already satisfied: ipykernel>=6.5.0 in /Users/jarred.luzada/.local/lib/python3.10/site-packages (from jupyterlab<4.5,>=4.4.0rc0->notebook) (6.29.5)\n",
      "Requirement already satisfied: jupyter-lsp>=2.0.0 in /Users/jarred.luzada/.asdf/installs/python/3.10.0/lib/python3.10/site-packages (from jupyterlab<4.5,>=4.4.0rc0->notebook) (2.2.5)\n",
      "Requirement already satisfied: setuptools>=41.1.0 in /Users/jarred.luzada/.asdf/installs/python/3.10.0/lib/python3.10/site-packages (from jupyterlab<4.5,>=4.4.0rc0->notebook) (57.4.0)\n",
      "Requirement already satisfied: async-lru>=1.0.0 in /Users/jarred.luzada/.asdf/installs/python/3.10.0/lib/python3.10/site-packages (from jupyterlab<4.5,>=4.4.0rc0->notebook) (2.0.5)\n",
      "Requirement already satisfied: tomli>=1.2.2 in /Users/jarred.luzada/.asdf/installs/python/3.10.0/lib/python3.10/site-packages (from jupyterlab<4.5,>=4.4.0rc0->notebook) (2.2.1)\n",
      "Requirement already satisfied: httpx>=0.25.0 in /Users/jarred.luzada/.asdf/installs/python/3.10.0/lib/python3.10/site-packages (from jupyterlab<4.5,>=4.4.0rc0->notebook) (0.27.0)\n",
      "Requirement already satisfied: certifi in /Users/jarred.luzada/.asdf/installs/python/3.10.0/lib/python3.10/site-packages (from httpx>=0.25.0->jupyterlab<4.5,>=4.4.0rc0->notebook) (2024.6.2)\n",
      "Requirement already satisfied: httpcore==1.* in /Users/jarred.luzada/.asdf/installs/python/3.10.0/lib/python3.10/site-packages (from httpx>=0.25.0->jupyterlab<4.5,>=4.4.0rc0->notebook) (1.0.5)\n",
      "Requirement already satisfied: h11<0.15,>=0.13 in /Users/jarred.luzada/.asdf/installs/python/3.10.0/lib/python3.10/site-packages (from httpcore==1.*->httpx>=0.25.0->jupyterlab<4.5,>=4.4.0rc0->notebook) (0.14.0)\n",
      "Requirement already satisfied: psutil in /Users/jarred.luzada/.asdf/installs/python/3.10.0/lib/python3.10/site-packages (from ipykernel>=6.5.0->jupyterlab<4.5,>=4.4.0rc0->notebook) (6.1.1)\n",
      "Requirement already satisfied: comm>=0.1.1 in /Users/jarred.luzada/.local/lib/python3.10/site-packages (from ipykernel>=6.5.0->jupyterlab<4.5,>=4.4.0rc0->notebook) (0.2.2)\n",
      "Requirement already satisfied: matplotlib-inline>=0.1 in /Users/jarred.luzada/.local/lib/python3.10/site-packages (from ipykernel>=6.5.0->jupyterlab<4.5,>=4.4.0rc0->notebook) (0.1.7)\n",
      "Requirement already satisfied: nest-asyncio in /Users/jarred.luzada/.local/lib/python3.10/site-packages (from ipykernel>=6.5.0->jupyterlab<4.5,>=4.4.0rc0->notebook) (1.6.0)\n",
      "Requirement already satisfied: debugpy>=1.6.5 in /Users/jarred.luzada/.local/lib/python3.10/site-packages (from ipykernel>=6.5.0->jupyterlab<4.5,>=4.4.0rc0->notebook) (1.8.14)\n",
      "Requirement already satisfied: ipython>=7.23.1 in /Users/jarred.luzada/.local/lib/python3.10/site-packages (from ipykernel>=6.5.0->jupyterlab<4.5,>=4.4.0rc0->notebook) (8.36.0)\n",
      "Requirement already satisfied: appnope in /Users/jarred.luzada/.local/lib/python3.10/site-packages (from ipykernel>=6.5.0->jupyterlab<4.5,>=4.4.0rc0->notebook) (0.1.4)\n",
      "Requirement already satisfied: jedi>=0.16 in /Users/jarred.luzada/.local/lib/python3.10/site-packages (from ipython>=7.23.1->ipykernel>=6.5.0->jupyterlab<4.5,>=4.4.0rc0->notebook) (0.19.2)\n",
      "Requirement already satisfied: stack_data in /Users/jarred.luzada/.local/lib/python3.10/site-packages (from ipython>=7.23.1->ipykernel>=6.5.0->jupyterlab<4.5,>=4.4.0rc0->notebook) (0.6.3)\n",
      "Requirement already satisfied: prompt_toolkit<3.1.0,>=3.0.41 in /Users/jarred.luzada/.local/lib/python3.10/site-packages (from ipython>=7.23.1->ipykernel>=6.5.0->jupyterlab<4.5,>=4.4.0rc0->notebook) (3.0.51)\n",
      "Requirement already satisfied: pygments>=2.4.0 in /Users/jarred.luzada/.asdf/installs/python/3.10.0/lib/python3.10/site-packages (from ipython>=7.23.1->ipykernel>=6.5.0->jupyterlab<4.5,>=4.4.0rc0->notebook) (2.19.1)\n",
      "Requirement already satisfied: decorator in /Users/jarred.luzada/.asdf/installs/python/3.10.0/lib/python3.10/site-packages (from ipython>=7.23.1->ipykernel>=6.5.0->jupyterlab<4.5,>=4.4.0rc0->notebook) (5.1.1)\n",
      "Requirement already satisfied: pexpect>4.3 in /Users/jarred.luzada/.local/lib/python3.10/site-packages (from ipython>=7.23.1->ipykernel>=6.5.0->jupyterlab<4.5,>=4.4.0rc0->notebook) (4.9.0)\n",
      "Requirement already satisfied: parso<0.9.0,>=0.8.4 in /Users/jarred.luzada/.local/lib/python3.10/site-packages (from jedi>=0.16->ipython>=7.23.1->ipykernel>=6.5.0->jupyterlab<4.5,>=4.4.0rc0->notebook) (0.8.4)\n",
      "Requirement already satisfied: babel>=2.10 in /Users/jarred.luzada/.asdf/installs/python/3.10.0/lib/python3.10/site-packages (from jupyterlab-server<3,>=2.27.1->notebook) (2.17.0)\n",
      "Requirement already satisfied: requests>=2.31 in /Users/jarred.luzada/.asdf/installs/python/3.10.0/lib/python3.10/site-packages (from jupyterlab-server<3,>=2.27.1->notebook) (2.32.3)\n",
      "Requirement already satisfied: json5>=0.9.0 in /Users/jarred.luzada/.asdf/installs/python/3.10.0/lib/python3.10/site-packages (from jupyterlab-server<3,>=2.27.1->notebook) (0.12.0)\n",
      "Requirement already satisfied: pandocfilters>=1.4.1 in /Users/jarred.luzada/.asdf/installs/python/3.10.0/lib/python3.10/site-packages (from nbconvert>=6.4.4->jupyter-server<3,>=2.4.0->notebook) (1.5.1)\n",
      "Requirement already satisfied: nbclient>=0.5.0 in /Users/jarred.luzada/.asdf/installs/python/3.10.0/lib/python3.10/site-packages (from nbconvert>=6.4.4->jupyter-server<3,>=2.4.0->notebook) (0.10.2)\n",
      "Requirement already satisfied: jupyterlab-pygments in /Users/jarred.luzada/.asdf/installs/python/3.10.0/lib/python3.10/site-packages (from nbconvert>=6.4.4->jupyter-server<3,>=2.4.0->notebook) (0.3.0)\n",
      "Requirement already satisfied: defusedxml in /Users/jarred.luzada/.asdf/installs/python/3.10.0/lib/python3.10/site-packages (from nbconvert>=6.4.4->jupyter-server<3,>=2.4.0->notebook) (0.7.1)\n",
      "Requirement already satisfied: bleach[css]!=5.0.0 in /Users/jarred.luzada/.asdf/installs/python/3.10.0/lib/python3.10/site-packages (from nbconvert>=6.4.4->jupyter-server<3,>=2.4.0->notebook) (6.2.0)\n",
      "Requirement already satisfied: beautifulsoup4 in /Users/jarred.luzada/.asdf/installs/python/3.10.0/lib/python3.10/site-packages (from nbconvert>=6.4.4->jupyter-server<3,>=2.4.0->notebook) (4.13.3)\n",
      "Requirement already satisfied: mistune<4,>=2.0.3 in /Users/jarred.luzada/.asdf/installs/python/3.10.0/lib/python3.10/site-packages (from nbconvert>=6.4.4->jupyter-server<3,>=2.4.0->notebook) (3.1.3)\n",
      "Requirement already satisfied: webencodings in /Users/jarred.luzada/.asdf/installs/python/3.10.0/lib/python3.10/site-packages (from bleach[css]!=5.0.0->nbconvert>=6.4.4->jupyter-server<3,>=2.4.0->notebook) (0.5.1)\n",
      "Requirement already satisfied: tinycss2<1.5,>=1.1.0 in /Users/jarred.luzada/.asdf/installs/python/3.10.0/lib/python3.10/site-packages (from bleach[css]!=5.0.0->nbconvert>=6.4.4->jupyter-server<3,>=2.4.0->notebook) (1.4.0)\n",
      "Requirement already satisfied: fastjsonschema>=2.15 in /Users/jarred.luzada/.asdf/installs/python/3.10.0/lib/python3.10/site-packages (from nbformat>=5.3.0->jupyter-server<3,>=2.4.0->notebook) (2.21.1)\n",
      "Requirement already satisfied: ptyprocess>=0.5 in /Users/jarred.luzada/.local/lib/python3.10/site-packages (from pexpect>4.3->ipython>=7.23.1->ipykernel>=6.5.0->jupyterlab<4.5,>=4.4.0rc0->notebook) (0.7.0)\n",
      "Requirement already satisfied: wcwidth in /Users/jarred.luzada/.local/lib/python3.10/site-packages (from prompt_toolkit<3.1.0,>=3.0.41->ipython>=7.23.1->ipykernel>=6.5.0->jupyterlab<4.5,>=4.4.0rc0->notebook) (0.2.13)\n",
      "Requirement already satisfied: six>=1.5 in /Users/jarred.luzada/.asdf/installs/python/3.10.0/lib/python3.10/site-packages (from python-dateutil>=2.8.2->jupyter-client>=7.4.4->jupyter-server<3,>=2.4.0->notebook) (1.17.0)\n",
      "Requirement already satisfied: urllib3<3,>=1.21.1 in /Users/jarred.luzada/.asdf/installs/python/3.10.0/lib/python3.10/site-packages (from requests>=2.31->jupyterlab-server<3,>=2.27.1->notebook) (2.2.2)\n",
      "Requirement already satisfied: charset-normalizer<4,>=2 in /Users/jarred.luzada/.asdf/installs/python/3.10.0/lib/python3.10/site-packages (from requests>=2.31->jupyterlab-server<3,>=2.27.1->notebook) (3.3.2)\n",
      "Requirement already satisfied: cffi>=1.0.1 in /Users/jarred.luzada/.asdf/installs/python/3.10.0/lib/python3.10/site-packages (from argon2-cffi-bindings->argon2-cffi>=21.1->jupyter-server<3,>=2.4.0->notebook) (1.17.1)\n",
      "Requirement already satisfied: pycparser in /Users/jarred.luzada/.asdf/installs/python/3.10.0/lib/python3.10/site-packages (from cffi>=1.0.1->argon2-cffi-bindings->argon2-cffi>=21.1->jupyter-server<3,>=2.4.0->notebook) (2.22)\n",
      "Requirement already satisfied: soupsieve>1.2 in /Users/jarred.luzada/.asdf/installs/python/3.10.0/lib/python3.10/site-packages (from beautifulsoup4->nbconvert>=6.4.4->jupyter-server<3,>=2.4.0->notebook) (2.6)\n",
      "Requirement already satisfied: arrow>=0.15.0 in /Users/jarred.luzada/.asdf/installs/python/3.10.0/lib/python3.10/site-packages (from isoduration->jsonschema[format-nongpl]>=4.18.0->jupyter-events>=0.11.0->jupyter-server<3,>=2.4.0->notebook) (1.3.0)\n",
      "Requirement already satisfied: types-python-dateutil>=2.8.10 in /Users/jarred.luzada/.asdf/installs/python/3.10.0/lib/python3.10/site-packages (from arrow>=0.15.0->isoduration->jsonschema[format-nongpl]>=4.18.0->jupyter-events>=0.11.0->jupyter-server<3,>=2.4.0->notebook) (2.9.0.20241206)\n",
      "Requirement already satisfied: asttokens>=2.1.0 in /Users/jarred.luzada/.local/lib/python3.10/site-packages (from stack_data->ipython>=7.23.1->ipykernel>=6.5.0->jupyterlab<4.5,>=4.4.0rc0->notebook) (3.0.0)\n",
      "Requirement already satisfied: pure-eval in /Users/jarred.luzada/.local/lib/python3.10/site-packages (from stack_data->ipython>=7.23.1->ipykernel>=6.5.0->jupyterlab<4.5,>=4.4.0rc0->notebook) (0.2.3)\n",
      "Requirement already satisfied: executing>=1.2.0 in /Users/jarred.luzada/.local/lib/python3.10/site-packages (from stack_data->ipython>=7.23.1->ipykernel>=6.5.0->jupyterlab<4.5,>=4.4.0rc0->notebook) (2.2.0)\n",
      "\u001b[33mWARNING: You are using pip version 21.2.3; however, version 25.1 is available.\n",
      "You should consider upgrading via the '/Users/jarred.luzada/.asdf/installs/python/3.10.0/bin/python3.10 -m pip install --upgrade pip' command.\u001b[0m\n",
      "Requirement already satisfied: jupysql in /Users/jarred.luzada/.asdf/installs/python/3.10.0/lib/python3.10/site-packages (0.11.1)\n",
      "Requirement already satisfied: pandas in /Users/jarred.luzada/.asdf/installs/python/3.10.0/lib/python3.10/site-packages (2.2.2)\n",
      "Requirement already satisfied: matplotlib in /Users/jarred.luzada/.asdf/installs/python/3.10.0/lib/python3.10/site-packages (3.9.0)\n",
      "Requirement already satisfied: duckdb-engine in /Users/jarred.luzada/.asdf/installs/python/3.10.0/lib/python3.10/site-packages (0.17.0)\n",
      "Requirement already satisfied: sqlglot>=11.3.7 in /Users/jarred.luzada/.asdf/installs/python/3.10.0/lib/python3.10/site-packages (from jupysql) (26.16.2)\n",
      "Requirement already satisfied: ipython-genutils>=0.1.0 in /Users/jarred.luzada/.asdf/installs/python/3.10.0/lib/python3.10/site-packages (from jupysql) (0.2.0)\n",
      "Requirement already satisfied: jupysql-plugin>=0.4.2 in /Users/jarred.luzada/.asdf/installs/python/3.10.0/lib/python3.10/site-packages (from jupysql) (0.4.5)\n",
      "Requirement already satisfied: ploomber-core>=0.2.7 in /Users/jarred.luzada/.asdf/installs/python/3.10.0/lib/python3.10/site-packages (from jupysql) (0.2.26)\n",
      "Requirement already satisfied: sqlalchemy in /Users/jarred.luzada/.asdf/installs/python/3.10.0/lib/python3.10/site-packages (from jupysql) (2.0.40)\n",
      "Requirement already satisfied: jinja2 in /Users/jarred.luzada/.asdf/installs/python/3.10.0/lib/python3.10/site-packages (from jupysql) (3.1.4)\n",
      "Requirement already satisfied: sqlparse in /Users/jarred.luzada/.asdf/installs/python/3.10.0/lib/python3.10/site-packages (from jupysql) (0.5.3)\n",
      "Requirement already satisfied: prettytable>=3.12.0 in /Users/jarred.luzada/.asdf/installs/python/3.10.0/lib/python3.10/site-packages (from jupysql) (3.16.0)\n",
      "Requirement already satisfied: pytz>=2020.1 in /Users/jarred.luzada/.asdf/installs/python/3.10.0/lib/python3.10/site-packages (from pandas) (2024.1)\n",
      "Requirement already satisfied: python-dateutil>=2.8.2 in /Users/jarred.luzada/.asdf/installs/python/3.10.0/lib/python3.10/site-packages (from pandas) (2.9.0.post0)\n",
      "Requirement already satisfied: numpy>=1.22.4 in /Users/jarred.luzada/.asdf/installs/python/3.10.0/lib/python3.10/site-packages (from pandas) (1.26.4)\n",
      "Requirement already satisfied: tzdata>=2022.7 in /Users/jarred.luzada/.asdf/installs/python/3.10.0/lib/python3.10/site-packages (from pandas) (2024.1)\n",
      "Requirement already satisfied: kiwisolver>=1.3.1 in /Users/jarred.luzada/.asdf/installs/python/3.10.0/lib/python3.10/site-packages (from matplotlib) (1.4.5)\n",
      "Requirement already satisfied: cycler>=0.10 in /Users/jarred.luzada/.asdf/installs/python/3.10.0/lib/python3.10/site-packages (from matplotlib) (0.12.1)\n",
      "Requirement already satisfied: fonttools>=4.22.0 in /Users/jarred.luzada/.asdf/installs/python/3.10.0/lib/python3.10/site-packages (from matplotlib) (4.53.0)\n",
      "Requirement already satisfied: pillow>=8 in /Users/jarred.luzada/.asdf/installs/python/3.10.0/lib/python3.10/site-packages (from matplotlib) (10.3.0)\n",
      "Requirement already satisfied: contourpy>=1.0.1 in /Users/jarred.luzada/.asdf/installs/python/3.10.0/lib/python3.10/site-packages (from matplotlib) (1.2.1)\n",
      "Requirement already satisfied: pyparsing>=2.3.1 in /Users/jarred.luzada/.asdf/installs/python/3.10.0/lib/python3.10/site-packages (from matplotlib) (3.1.2)\n",
      "Requirement already satisfied: packaging>=20.0 in /Users/jarred.luzada/.asdf/installs/python/3.10.0/lib/python3.10/site-packages (from matplotlib) (24.2)\n",
      "Requirement already satisfied: duckdb>=0.5.0 in /Users/jarred.luzada/.asdf/installs/python/3.10.0/lib/python3.10/site-packages (from duckdb-engine) (1.2.2)\n",
      "Requirement already satisfied: pyyaml in /Users/jarred.luzada/.asdf/installs/python/3.10.0/lib/python3.10/site-packages (from ploomber-core>=0.2.7->jupysql) (6.0.1)\n",
      "Requirement already satisfied: posthog in /Users/jarred.luzada/.asdf/installs/python/3.10.0/lib/python3.10/site-packages (from ploomber-core>=0.2.7->jupysql) (4.0.0)\n",
      "Requirement already satisfied: wcwidth in /Users/jarred.luzada/.local/lib/python3.10/site-packages (from prettytable>=3.12.0->jupysql) (0.2.13)\n",
      "Requirement already satisfied: six>=1.5 in /Users/jarred.luzada/.asdf/installs/python/3.10.0/lib/python3.10/site-packages (from python-dateutil>=2.8.2->pandas) (1.17.0)\n",
      "Requirement already satisfied: typing-extensions>=4.6.0 in /Users/jarred.luzada/.asdf/installs/python/3.10.0/lib/python3.10/site-packages (from sqlalchemy->jupysql) (4.12.2)\n",
      "Requirement already satisfied: MarkupSafe>=2.0 in /Users/jarred.luzada/.asdf/installs/python/3.10.0/lib/python3.10/site-packages (from jinja2->jupysql) (2.1.5)\n",
      "Requirement already satisfied: monotonic>=1.5 in /Users/jarred.luzada/.asdf/installs/python/3.10.0/lib/python3.10/site-packages (from posthog->ploomber-core>=0.2.7->jupysql) (1.6)\n",
      "Requirement already satisfied: requests<3.0,>=2.7 in /Users/jarred.luzada/.asdf/installs/python/3.10.0/lib/python3.10/site-packages (from posthog->ploomber-core>=0.2.7->jupysql) (2.32.3)\n",
      "Requirement already satisfied: backoff>=1.10.0 in /Users/jarred.luzada/.asdf/installs/python/3.10.0/lib/python3.10/site-packages (from posthog->ploomber-core>=0.2.7->jupysql) (2.2.1)\n",
      "Requirement already satisfied: distro>=1.5.0 in /Users/jarred.luzada/.asdf/installs/python/3.10.0/lib/python3.10/site-packages (from posthog->ploomber-core>=0.2.7->jupysql) (1.9.0)\n",
      "Requirement already satisfied: charset-normalizer<4,>=2 in /Users/jarred.luzada/.asdf/installs/python/3.10.0/lib/python3.10/site-packages (from requests<3.0,>=2.7->posthog->ploomber-core>=0.2.7->jupysql) (3.3.2)\n",
      "Requirement already satisfied: idna<4,>=2.5 in /Users/jarred.luzada/.asdf/installs/python/3.10.0/lib/python3.10/site-packages (from requests<3.0,>=2.7->posthog->ploomber-core>=0.2.7->jupysql) (3.7)\n",
      "Requirement already satisfied: urllib3<3,>=1.21.1 in /Users/jarred.luzada/.asdf/installs/python/3.10.0/lib/python3.10/site-packages (from requests<3.0,>=2.7->posthog->ploomber-core>=0.2.7->jupysql) (2.2.2)\n",
      "Requirement already satisfied: certifi>=2017.4.17 in /Users/jarred.luzada/.asdf/installs/python/3.10.0/lib/python3.10/site-packages (from requests<3.0,>=2.7->posthog->ploomber-core>=0.2.7->jupysql) (2024.6.2)\n",
      "\u001b[33mWARNING: You are using pip version 21.2.3; however, version 25.1 is available.\n",
      "You should consider upgrading via the '/Users/jarred.luzada/.asdf/installs/python/3.10.0/bin/python3.10 -m pip install --upgrade pip' command.\u001b[0m\n"
     ]
    }
   ],
   "source": [
    "!pip install duckdb\n",
    "!pip install notebook\n",
    "!pip install jupysql pandas matplotlib duckdb-engine"
   ]
  },
  {
   "cell_type": "code",
   "execution_count": 15,
   "id": "2519eb08",
   "metadata": {},
   "outputs": [],
   "source": [
    "import os\n",
    "osm_dataset = \"cemetery\"\n",
    "input_path = f\"./data/geojson/{osm_dataset}.geojson\"\n",
    "input_filename = os.path.basename(input_path)"
   ]
  },
  {
   "cell_type": "code",
   "execution_count": 16,
   "id": "7b1432f8",
   "metadata": {},
   "outputs": [
    {
     "name": "stdout",
     "output_type": "stream",
     "text": [
      "The sql extension is already loaded. To reload it, use:\n",
      "  %reload_ext sql\n"
     ]
    }
   ],
   "source": [
    "import duckdb\n",
    "from sqlalchemy.engine import create_engine\n",
    "\n",
    "%load_ext sql\n",
    "conn = create_engine('duckdb:///data/local.duckdb')\n",
    "%sql conn --alias duckdb\n",
    "%config SqlMagic.named_parameters=\"enabled\" "
   ]
  },
  {
   "cell_type": "code",
   "execution_count": 17,
   "id": "459f7cd3",
   "metadata": {},
   "outputs": [
    {
     "data": {
      "text/html": [
       "<span style=\"None\">Running query in &#x27;duckdb&#x27;</span>"
      ],
      "text/plain": [
       "Running query in 'duckdb'"
      ]
     },
     "metadata": {},
     "output_type": "display_data"
    },
    {
     "data": {
      "text/html": [
       "<table>\n",
       "    <thead>\n",
       "        <tr>\n",
       "            <th>Success</th>\n",
       "        </tr>\n",
       "    </thead>\n",
       "    <tbody>\n",
       "    </tbody>\n",
       "</table>"
      ],
      "text/plain": [
       "+---------+\n",
       "| Success |\n",
       "+---------+\n",
       "+---------+"
      ]
     },
     "execution_count": 17,
     "metadata": {},
     "output_type": "execute_result"
    }
   ],
   "source": [
    "%%sql\n",
    "INSTALL psql FROM community;\n",
    "INSTALL spatial;\n",
    "LOAD spatial;\n",
    "LOAD psql;\n"
   ]
  },
  {
   "cell_type": "code",
   "execution_count": 18,
   "id": "47fd79bc",
   "metadata": {},
   "outputs": [
    {
     "data": {
      "text/html": [
       "<span style=\"None\">Running query in &#x27;duckdb&#x27;</span>"
      ],
      "text/plain": [
       "Running query in 'duckdb'"
      ]
     },
     "metadata": {},
     "output_type": "display_data"
    },
    {
     "data": {
      "application/vnd.jupyter.widget-view+json": {
       "model_id": "d350e4bc947a4d6e9c2892480b00ab8e",
       "version_major": 2,
       "version_minor": 0
      },
      "text/plain": [
       "FloatProgress(value=0.0, layout=Layout(width='auto'), style=ProgressStyle(bar_color='black'))"
      ]
     },
     "metadata": {},
     "output_type": "display_data"
    },
    {
     "data": {
      "text/html": [
       "<table>\n",
       "    <thead>\n",
       "        <tr>\n",
       "            <th>Count</th>\n",
       "        </tr>\n",
       "    </thead>\n",
       "    <tbody>\n",
       "    </tbody>\n",
       "</table>"
      ],
      "text/plain": [
       "+-------+\n",
       "| Count |\n",
       "+-------+\n",
       "+-------+"
      ]
     },
     "execution_count": 18,
     "metadata": {},
     "output_type": "execute_result"
    }
   ],
   "source": [
    "%%sql\n",
    "CREATE OR REPLACE TABLE point_data AS\n",
    "SELECT *\n",
    "FROM ST_Read(\"{{input_path}}\")"
   ]
  },
  {
   "cell_type": "code",
   "execution_count": 19,
   "id": "01c3ffcc",
   "metadata": {},
   "outputs": [
    {
     "data": {
      "text/plain": [
       "<duckdb.duckdb.DuckDBPyConnection at 0x127b6c7b0>"
      ]
     },
     "execution_count": 19,
     "metadata": {},
     "output_type": "execute_result"
    }
   ],
   "source": [
    "\n",
    "import random\n",
    "import string\n",
    "\n",
    "try:\n",
    "    conn.raw_connection().remove_function('random_string')\n",
    "except:\n",
    "    pass\n",
    "\n",
    "# Define the Python function to generate a random string of length 'n'\n",
    "def random_string(n: int) -> str:\n",
    "    return ''.join(random.choices(string.ascii_letters + string.digits, k=n))\n",
    "\n",
    "# Register the function with DuckDB\n",
    "\n",
    "conn.raw_connection().create_function('random_string', random_string, side_effects=True)"
   ]
  },
  {
   "cell_type": "code",
   "execution_count": 20,
   "id": "26a691b6",
   "metadata": {},
   "outputs": [
    {
     "data": {
      "text/html": [
       "<span style=\"None\">Running query in &#x27;duckdb&#x27;</span>"
      ],
      "text/plain": [
       "Running query in 'duckdb'"
      ]
     },
     "metadata": {},
     "output_type": "display_data"
    },
    {
     "data": {
      "text/html": [
       "<table>\n",
       "    <thead>\n",
       "        <tr>\n",
       "            <th>random_string</th>\n",
       "        </tr>\n",
       "    </thead>\n",
       "    <tbody>\n",
       "        <tr>\n",
       "            <td>tBHRD1FixH</td>\n",
       "        </tr>\n",
       "    </tbody>\n",
       "</table>"
      ],
      "text/plain": [
       "+---------------+\n",
       "| random_string |\n",
       "+---------------+\n",
       "|   tBHRD1FixH  |\n",
       "+---------------+"
      ]
     },
     "execution_count": 20,
     "metadata": {},
     "output_type": "execute_result"
    }
   ],
   "source": [
    "%sql SELECT random_string(10) AS random_string;"
   ]
  },
  {
   "cell_type": "code",
   "execution_count": 21,
   "id": "8577e55a",
   "metadata": {},
   "outputs": [
    {
     "data": {
      "text/html": [
       "<span style=\"None\">Running query in &#x27;duckdb&#x27;</span>"
      ],
      "text/plain": [
       "Running query in 'duckdb'"
      ]
     },
     "metadata": {},
     "output_type": "display_data"
    },
    {
     "data": {
      "application/vnd.jupyter.widget-view+json": {
       "model_id": "8edbef4c0498478b955446bc6cd7808c",
       "version_major": 2,
       "version_minor": 0
      },
      "text/plain": [
       "FloatProgress(value=0.0, layout=Layout(width='auto'), style=ProgressStyle(bar_color='black'))"
      ]
     },
     "metadata": {},
     "output_type": "display_data"
    },
    {
     "data": {
      "text/html": [
       "<table>\n",
       "    <thead>\n",
       "        <tr>\n",
       "            <th>Count</th>\n",
       "        </tr>\n",
       "    </thead>\n",
       "    <tbody>\n",
       "    </tbody>\n",
       "</table>"
      ],
      "text/plain": [
       "+-------+\n",
       "| Count |\n",
       "+-------+\n",
       "+-------+"
      ]
     },
     "execution_count": 21,
     "metadata": {},
     "output_type": "execute_result"
    }
   ],
   "source": [
    "\n",
    "%%sql\n",
    "CREATE OR REPLACE TABLE point_data_centroid AS\n",
    "WITH centroid AS (\n",
    "    FROM point_data\n",
    "    SELECT\n",
    "        rowid,\n",
    "        centroid: geom.ST_Centroid(),\n",
    "    ORDER BY hash(rowid + 43) DESC\n",
    ")\n",
    "FROM centroid\n",
    "SELECT\n",
    "    id: ROW_NUMBER() OVER (ORDER BY centroid),\n",
    "    location: 'point(\"' || centroid.ST_X() || ',' || centroid.ST_Y() || '\")',\n",
    "    description: random_string(250)\n",
    "ORDER BY hash(rowid + 43)"
   ]
  },
  {
   "cell_type": "code",
   "execution_count": 22,
   "id": "a040abbc",
   "metadata": {},
   "outputs": [
    {
     "data": {
      "text/html": [
       "<span style=\"None\">Running query in &#x27;duckdb&#x27;</span>"
      ],
      "text/plain": [
       "Running query in 'duckdb'"
      ]
     },
     "metadata": {},
     "output_type": "display_data"
    },
    {
     "data": {
      "text/html": [
       "<table>\n",
       "    <thead>\n",
       "        <tr>\n",
       "            <th>id</th>\n",
       "            <th>location</th>\n",
       "            <th>description</th>\n",
       "        </tr>\n",
       "    </thead>\n",
       "    <tbody>\n",
       "        <tr>\n",
       "            <td>117886</td>\n",
       "            <td>point(\"-85.6466748899667,39.28365177477235\")</td>\n",
       "            <td>t3uwaQZtslUR99gZ12P9G2rhWw1mBN61cruEeQZVHFXXAzsgEfGhjlbPWaeuQxb6cmvHCpkNpiBJs6rHddHYGHlYzA29wHp82NbgJYaEu1YCKI4bVEjS9CsPDxXwEuhw8hTqtJythUT2wku97P6oTax3AOgA6O2zA2uWBh1BY8NQVamQfQ40lcWpmTwjiTGoHyEH65K67UMkn7vqq83Smo7zdzB4xNB48eD7jMI05sVhCB3doI1jHdKU7c</td>\n",
       "        </tr>\n",
       "        <tr>\n",
       "            <td>123815</td>\n",
       "            <td>point(\"139.0385562473188,36.42874679055316\")</td>\n",
       "            <td>mSEBLha9A404SKDOQIxDByU6bUMXFR0qVoD6XihzncrBqTYr8GnIPAZCKPnBGyJ5kf9PoYXY27C6Pq8fCNh5MNZHg3iMxDl1inoGpezd7nWwbZvul2MxMT7xFppMgH7botjOBunyfzjV6E7pDDddI1fhc9KdI7HVTSCQc7rXihnmtPmIQPccOCJqJ70MsKus4plKxB9RdU1t3P3cdHWszMrYtbeviINJ2cuoffaNRNStKsABThSueH11EU</td>\n",
       "        </tr>\n",
       "        <tr>\n",
       "            <td>24588</td>\n",
       "            <td>point(\"99.10831835077646,11.923422147551403\")</td>\n",
       "            <td>fd8i0BWy8Or4D7AdqAHS03I63NRaYxO2yO3LsseaI7TrnbF404CKmJCvna45iAXLwR6FyRdZHKsmpD86gnhjewc79OuOh5lAicN0Pbc0sfTCxOWAxhC3wXAKOwwUhsmMsUSqfm7wYt8c74uVoiJaoLVBWQvpZHpKtaypWS0xc1NPiKEeTlHOL2b3yhBaosMIXBeV8SHJXLUNpfecX8dGJ2Srd1qf4FbP3RBoaFhBVWcdOeb7nXD6zfrmGB</td>\n",
       "        </tr>\n",
       "        <tr>\n",
       "            <td>398352</td>\n",
       "            <td>point(\"37.69955308014503,54.3793027489593\")</td>\n",
       "            <td>fSbMhZ6u9qaHxRTMyu3BMAaIymU2niUOG0mCuVfmCQ8RwLkLe58F8Z9HhJw65NNZvujBdm5By15uatYIfLLECl3WWzpthiNQuBSDKivf4IplBD9nF4DOUntxHsoMqGkW9nHh0eyQdIGRiZwE8XgPukwKpwXa4t8wnU4faSVBblhKLtJnNnLqao33mSEqrZzqjmJ0Fo7bXEpABpT9jq1oVt1rOws5pwT84f6DtO05i1RPdrEMnUsx5uBUiQ</td>\n",
       "        </tr>\n",
       "        <tr>\n",
       "            <td>80284</td>\n",
       "            <td>point(\"-8.084735554647613,5.9921804183259475\")</td>\n",
       "            <td>uw9fkvXbWRUQTNfbi9QRFoeaSBagpR8b6hCopSP4zChCTefOFMVZfdFbA55YjHnjvegwbp5mlvn4aEKsbMe2vzbGLNDbXXBgMWlZFJZbd4rADJr6SOzFszh3JSWuxmXuBTU0JA8W4uDoxCzDbEgmfYEzfFpMiGFdLxx9SZ1kK43Mz1vaR3KEN8s4AlXOBUcUulTtFZ6FQm6M97suJCyu6lWEDzdc8DJPeZGR6zD2gCbZfTVIAL7YJdzzd4</td>\n",
       "        </tr>\n",
       "        <tr>\n",
       "            <td>113274</td>\n",
       "            <td>point(\"139.44185915948967,35.90150919549181\")</td>\n",
       "            <td>AjRTbjtigCQziXJ9V27qdrjvEKLIgzH5L8mYmDwbunOOY0XQPXQdC7UsuEGuYOSOXLCUHjLYaHXjoF9P7V8VaviBXuQJQ9HMKCEjweSzOZ1pELSmyF8EniKXyCPocGZvMd8msPhA5zzYNEtmfZpM7B62V8xxHMhGCWVGHeXIUi6zHgtFAbonQjDhjvueVrboEpQrVOdSHsIbT73j6cjvf1r5tzy6NGG5IRYZQae8UjBDz7M3SmLF4YjwNN</td>\n",
       "        </tr>\n",
       "        <tr>\n",
       "            <td>91013</td>\n",
       "            <td>point(\"36.06921455300512,50.51046800739962\")</td>\n",
       "            <td>BI5SwHelLRfsUk0rnmK8YvBGnqJYcRcWDFOXOO91ZGIx0M0iFdpffIQtcHaJN5YW5ZTUnWoyoniKS9AfTjLKIIzAC4NfHqtGAzyfJTerXF2NuT98oIh0o8UuGl7WAuhWnZdDrDllqEuuoayK12kaiOYCJuFsIsCWAdrYzwBtLCVlmKd60PIujpq4pxv82iR5p6HZUBc0yjgpSbnAjKg7mMdT0Mgz68RKohGUachbIlIseSVxQ1FIGFpgHY</td>\n",
       "        </tr>\n",
       "        <tr>\n",
       "            <td>238267</td>\n",
       "            <td>point(\"-117.28437550489467,34.114246342027826\")</td>\n",
       "            <td>YFKgEASo7s1YWzG0ZHnj5132KgMabYiXWXMH9fg0sEJg74NnZgO6HlNlfblWAlerauKwbZVZK2ggK9gOjRgilFW93oNcBvoeFDqkvSrP0qNVKe6Vxs6BIGN0YniB0cI7ZbdvOU6Xxvggc8yfg8SwenyQU0ipIp71HD3uuq4BqQj7WIYMeHpDTK5iBd1rAF5p9mVagWomd24YlAgW80VpK68peyMUuQVeN66ZPbiC2AnWiIwTZfmdUNVaGY</td>\n",
       "        </tr>\n",
       "        <tr>\n",
       "            <td>130264</td>\n",
       "            <td>point(\"-83.69704215677237,41.71782106521608\")</td>\n",
       "            <td>zeDEIKaQBWAktg2WlogthPamICSVZiju4AUPL9IOXoXr0A6hczI18V4ohMomFvsEbnXwvDLf2uz0wzuV9JL3Ini8G0BfRjCIYBub5OPLuu49Xe33r0ru3lysEqPXb3hC2Js9vPmKIEId8D3G5N0bSg6UOtFRGjd8Wk4WRmQUa7O08iVnnqvx1lx49iZRMaMyhS3psWimZLpsSH3EvHfy3egZbNVEIIPUbfnuGGR5Seu5c2wHjzaG48p0Il</td>\n",
       "        </tr>\n",
       "        <tr>\n",
       "            <td>13305</td>\n",
       "            <td>point(\"-70.88601036685225,18.564127708683035\")</td>\n",
       "            <td>91RliTSGgMWbosZT55YvJHhAgdEAsF1pxffKH7QJxqWDQUWW0Pewox4yYg7T6DmzPnOJ7jV9VdKws03UGnqTZwTlGBlJrj1tPeWXEeV9A99REuBshgzBZ6Y69lDKwTgzU6ZgHywkncVtXIos8d611k4z0af9yFEE7iS2C6cThnTmoURmS72b2M0rmIgL7lKPvPSQGmxbXz6KGSeGGTakPNN7oQIDtqYypkaMivcSCLmI5KQCSw71zJVmGO</td>\n",
       "        </tr>\n",
       "    </tbody>\n",
       "</table>\n",
       "<span style=\"font-style:italic;text-align:center;\">Truncated to <a href=\"https://jupysql.ploomber.io/en/latest/api/configuration.html#displaylimit\">displaylimit</a> of 10.</span>"
      ],
      "text/plain": [
       "+--------+-------------------------------------------------+------------------------------------------------------------------------------------------------------------------------------------------------------------------------------------------------------------------------------------------------------------+\n",
       "|   id   |                     location                    |                                                                                                                        description                                                                                                                         |\n",
       "+--------+-------------------------------------------------+------------------------------------------------------------------------------------------------------------------------------------------------------------------------------------------------------------------------------------------------------------+\n",
       "| 117886 |   point(\"-85.6466748899667,39.28365177477235\")  | t3uwaQZtslUR99gZ12P9G2rhWw1mBN61cruEeQZVHFXXAzsgEfGhjlbPWaeuQxb6cmvHCpkNpiBJs6rHddHYGHlYzA29wHp82NbgJYaEu1YCKI4bVEjS9CsPDxXwEuhw8hTqtJythUT2wku97P6oTax3AOgA6O2zA2uWBh1BY8NQVamQfQ40lcWpmTwjiTGoHyEH65K67UMkn7vqq83Smo7zdzB4xNB48eD7jMI05sVhCB3doI1jHdKU7c |\n",
       "| 123815 |   point(\"139.0385562473188,36.42874679055316\")  | mSEBLha9A404SKDOQIxDByU6bUMXFR0qVoD6XihzncrBqTYr8GnIPAZCKPnBGyJ5kf9PoYXY27C6Pq8fCNh5MNZHg3iMxDl1inoGpezd7nWwbZvul2MxMT7xFppMgH7botjOBunyfzjV6E7pDDddI1fhc9KdI7HVTSCQc7rXihnmtPmIQPccOCJqJ70MsKus4plKxB9RdU1t3P3cdHWszMrYtbeviINJ2cuoffaNRNStKsABThSueH11EU |\n",
       "| 24588  |  point(\"99.10831835077646,11.923422147551403\")  | fd8i0BWy8Or4D7AdqAHS03I63NRaYxO2yO3LsseaI7TrnbF404CKmJCvna45iAXLwR6FyRdZHKsmpD86gnhjewc79OuOh5lAicN0Pbc0sfTCxOWAxhC3wXAKOwwUhsmMsUSqfm7wYt8c74uVoiJaoLVBWQvpZHpKtaypWS0xc1NPiKEeTlHOL2b3yhBaosMIXBeV8SHJXLUNpfecX8dGJ2Srd1qf4FbP3RBoaFhBVWcdOeb7nXD6zfrmGB |\n",
       "| 398352 |   point(\"37.69955308014503,54.3793027489593\")   | fSbMhZ6u9qaHxRTMyu3BMAaIymU2niUOG0mCuVfmCQ8RwLkLe58F8Z9HhJw65NNZvujBdm5By15uatYIfLLECl3WWzpthiNQuBSDKivf4IplBD9nF4DOUntxHsoMqGkW9nHh0eyQdIGRiZwE8XgPukwKpwXa4t8wnU4faSVBblhKLtJnNnLqao33mSEqrZzqjmJ0Fo7bXEpABpT9jq1oVt1rOws5pwT84f6DtO05i1RPdrEMnUsx5uBUiQ |\n",
       "| 80284  |  point(\"-8.084735554647613,5.9921804183259475\") | uw9fkvXbWRUQTNfbi9QRFoeaSBagpR8b6hCopSP4zChCTefOFMVZfdFbA55YjHnjvegwbp5mlvn4aEKsbMe2vzbGLNDbXXBgMWlZFJZbd4rADJr6SOzFszh3JSWuxmXuBTU0JA8W4uDoxCzDbEgmfYEzfFpMiGFdLxx9SZ1kK43Mz1vaR3KEN8s4AlXOBUcUulTtFZ6FQm6M97suJCyu6lWEDzdc8DJPeZGR6zD2gCbZfTVIAL7YJdzzd4 |\n",
       "| 113274 |  point(\"139.44185915948967,35.90150919549181\")  | AjRTbjtigCQziXJ9V27qdrjvEKLIgzH5L8mYmDwbunOOY0XQPXQdC7UsuEGuYOSOXLCUHjLYaHXjoF9P7V8VaviBXuQJQ9HMKCEjweSzOZ1pELSmyF8EniKXyCPocGZvMd8msPhA5zzYNEtmfZpM7B62V8xxHMhGCWVGHeXIUi6zHgtFAbonQjDhjvueVrboEpQrVOdSHsIbT73j6cjvf1r5tzy6NGG5IRYZQae8UjBDz7M3SmLF4YjwNN |\n",
       "| 91013  |   point(\"36.06921455300512,50.51046800739962\")  | BI5SwHelLRfsUk0rnmK8YvBGnqJYcRcWDFOXOO91ZGIx0M0iFdpffIQtcHaJN5YW5ZTUnWoyoniKS9AfTjLKIIzAC4NfHqtGAzyfJTerXF2NuT98oIh0o8UuGl7WAuhWnZdDrDllqEuuoayK12kaiOYCJuFsIsCWAdrYzwBtLCVlmKd60PIujpq4pxv82iR5p6HZUBc0yjgpSbnAjKg7mMdT0Mgz68RKohGUachbIlIseSVxQ1FIGFpgHY |\n",
       "| 238267 | point(\"-117.28437550489467,34.114246342027826\") | YFKgEASo7s1YWzG0ZHnj5132KgMabYiXWXMH9fg0sEJg74NnZgO6HlNlfblWAlerauKwbZVZK2ggK9gOjRgilFW93oNcBvoeFDqkvSrP0qNVKe6Vxs6BIGN0YniB0cI7ZbdvOU6Xxvggc8yfg8SwenyQU0ipIp71HD3uuq4BqQj7WIYMeHpDTK5iBd1rAF5p9mVagWomd24YlAgW80VpK68peyMUuQVeN66ZPbiC2AnWiIwTZfmdUNVaGY |\n",
       "| 130264 |  point(\"-83.69704215677237,41.71782106521608\")  | zeDEIKaQBWAktg2WlogthPamICSVZiju4AUPL9IOXoXr0A6hczI18V4ohMomFvsEbnXwvDLf2uz0wzuV9JL3Ini8G0BfRjCIYBub5OPLuu49Xe33r0ru3lysEqPXb3hC2Js9vPmKIEId8D3G5N0bSg6UOtFRGjd8Wk4WRmQUa7O08iVnnqvx1lx49iZRMaMyhS3psWimZLpsSH3EvHfy3egZbNVEIIPUbfnuGGR5Seu5c2wHjzaG48p0Il |\n",
       "| 13305  |  point(\"-70.88601036685225,18.564127708683035\") | 91RliTSGgMWbosZT55YvJHhAgdEAsF1pxffKH7QJxqWDQUWW0Pewox4yYg7T6DmzPnOJ7jV9VdKws03UGnqTZwTlGBlJrj1tPeWXEeV9A99REuBshgzBZ6Y69lDKwTgzU6ZgHywkncVtXIos8d611k4z0af9yFEE7iS2C6cThnTmoURmS72b2M0rmIgL7lKPvPSQGmxbXz6KGSeGGTakPNN7oQIDtqYypkaMivcSCLmI5KQCSw71zJVmGO |\n",
       "+--------+-------------------------------------------------+------------------------------------------------------------------------------------------------------------------------------------------------------------------------------------------------------------------------------------------------------------+\n",
       "Truncated to displaylimit of 10."
      ]
     },
     "execution_count": 22,
     "metadata": {},
     "output_type": "execute_result"
    }
   ],
   "source": [
    "%sql SELECT * FROM point_data_centroid"
   ]
  },
  {
   "cell_type": "code",
   "execution_count": 23,
   "id": "cd60fc50",
   "metadata": {},
   "outputs": [
    {
     "data": {
      "text/html": [
       "<span style=\"None\">Running query in &#x27;duckdb&#x27;</span>"
      ],
      "text/plain": [
       "Running query in 'duckdb'"
      ]
     },
     "metadata": {},
     "output_type": "display_data"
    },
    {
     "data": {
      "text/html": [
       "<table>\n",
       "    <thead>\n",
       "        <tr>\n",
       "            <th>count_star()</th>\n",
       "        </tr>\n",
       "    </thead>\n",
       "    <tbody>\n",
       "        <tr>\n",
       "            <td>402325</td>\n",
       "        </tr>\n",
       "    </tbody>\n",
       "</table>"
      ],
      "text/plain": [
       "+--------------+\n",
       "| count_star() |\n",
       "+--------------+\n",
       "|    402325    |\n",
       "+--------------+"
      ]
     },
     "execution_count": 23,
     "metadata": {},
     "output_type": "execute_result"
    }
   ],
   "source": [
    "%%sql\n",
    "SELECT COUNT(*) FROM point_data_centroid as data;"
   ]
  },
  {
   "cell_type": "code",
   "execution_count": 24,
   "id": "717a2dad",
   "metadata": {},
   "outputs": [
    {
     "data": {
      "text/html": [
       "<span style=\"None\">Running query in &#x27;duckdb&#x27;</span>"
      ],
      "text/plain": [
       "Running query in 'duckdb'"
      ]
     },
     "metadata": {},
     "output_type": "display_data"
    },
    {
     "data": {
      "text/html": [
       "<table>\n",
       "    <thead>\n",
       "        <tr>\n",
       "            <th>column_name</th>\n",
       "            <th>column_type</th>\n",
       "            <th>min</th>\n",
       "            <th>max</th>\n",
       "            <th>approx_unique</th>\n",
       "            <th>avg</th>\n",
       "            <th>std</th>\n",
       "            <th>q25</th>\n",
       "            <th>q50</th>\n",
       "            <th>q75</th>\n",
       "            <th>count</th>\n",
       "            <th>null_percentage</th>\n",
       "        </tr>\n",
       "    </thead>\n",
       "    <tbody>\n",
       "        <tr>\n",
       "            <td>id</td>\n",
       "            <td>BIGINT</td>\n",
       "            <td>1</td>\n",
       "            <td>402325</td>\n",
       "            <td>377825</td>\n",
       "            <td>201163.0</td>\n",
       "            <td>116141.36786333608</td>\n",
       "            <td>100625</td>\n",
       "            <td>201065</td>\n",
       "            <td>301677</td>\n",
       "            <td>402325</td>\n",
       "            <td>0.00</td>\n",
       "        </tr>\n",
       "        <tr>\n",
       "            <td>location</td>\n",
       "            <td>VARCHAR</td>\n",
       "            <td>point(\"-0.00022686332641463965,44.553858467915205\")</td>\n",
       "            <td>point(\"99.99367990063318,9.730698042662416\")</td>\n",
       "            <td>327363</td>\n",
       "            <td>None</td>\n",
       "            <td>None</td>\n",
       "            <td>None</td>\n",
       "            <td>None</td>\n",
       "            <td>None</td>\n",
       "            <td>402325</td>\n",
       "            <td>0.00</td>\n",
       "        </tr>\n",
       "        <tr>\n",
       "            <td>description</td>\n",
       "            <td>VARCHAR</td>\n",
       "            <td>000G0Y1LdishZz3EWQLRvJCZNrsekMRMn6nGq30xpNh0zBazfnSRAHRCNwFVm8A6GKTlk6pYKNUsK5FxCJt4Qwzx2DbtmJEaKLIPcyWXxBOTes66AvAkmsxacVflruJGBium2bVQ9XQfCdaloA6CDKjURBme1InbFWfxeRX0d01WI3BY0UwM9HSZToEp06fdGJqEh6nzHdPskI0rD2OFvUtEC1Ofxorr721pFtc68yI1yURoBGmNkkv1Db</td>\n",
       "            <td>zzz4Ed6tRtFE4wU3LUyqXbD0xEssMul4Y3etRh3Vjn9Ko7s6BuJ2aIw7OFGm0s6lwyb63gBNu9cvRIlOIGnDwLgkp4Ppxet10eYJlZTz0vtJdDS52ewJadEnBmFSHv3E7tbQIfwh9X3pfw6FReiOLnMcuCmLh0xbmAUrwgHRRWrbX1EeIBsag8gBgvtuGzn3uCc2ldF3QZbtzIhD8YJgIenrDsTD6MpFFMJPcPSkinGwc336TJ1KULuVIO</td>\n",
       "            <td>408918</td>\n",
       "            <td>None</td>\n",
       "            <td>None</td>\n",
       "            <td>None</td>\n",
       "            <td>None</td>\n",
       "            <td>None</td>\n",
       "            <td>402325</td>\n",
       "            <td>0.00</td>\n",
       "        </tr>\n",
       "    </tbody>\n",
       "</table>"
      ],
      "text/plain": [
       "+-------------+-------------+------------------------------------------------------------------------------------------------------------------------------------------------------------------------------------------------------------------------------------------------------------+------------------------------------------------------------------------------------------------------------------------------------------------------------------------------------------------------------------------------------------------------------+---------------+----------+--------------------+--------+--------+--------+--------+-----------------+\n",
       "| column_name | column_type |                                                                                                                            min                                                                                                                             |                                                                                                                            max                                                                                                                             | approx_unique |   avg    |        std         |  q25   |  q50   |  q75   | count  | null_percentage |\n",
       "+-------------+-------------+------------------------------------------------------------------------------------------------------------------------------------------------------------------------------------------------------------------------------------------------------------+------------------------------------------------------------------------------------------------------------------------------------------------------------------------------------------------------------------------------------------------------------+---------------+----------+--------------------+--------+--------+--------+--------+-----------------+\n",
       "|      id     |    BIGINT   |                                                                                                                             1                                                                                                                              |                                                                                                                           402325                                                                                                                           |     377825    | 201163.0 | 116141.36786333608 | 100625 | 201065 | 301677 | 402325 |       0.00      |\n",
       "|   location  |   VARCHAR   |                                                                                                    point(\"-0.00022686332641463965,44.553858467915205\")                                                                                                     |                                                                                                        point(\"99.99367990063318,9.730698042662416\")                                                                                                        |     327363    |   None   |        None        |  None  |  None  |  None  | 402325 |       0.00      |\n",
       "| description |   VARCHAR   | 000G0Y1LdishZz3EWQLRvJCZNrsekMRMn6nGq30xpNh0zBazfnSRAHRCNwFVm8A6GKTlk6pYKNUsK5FxCJt4Qwzx2DbtmJEaKLIPcyWXxBOTes66AvAkmsxacVflruJGBium2bVQ9XQfCdaloA6CDKjURBme1InbFWfxeRX0d01WI3BY0UwM9HSZToEp06fdGJqEh6nzHdPskI0rD2OFvUtEC1Ofxorr721pFtc68yI1yURoBGmNkkv1Db | zzz4Ed6tRtFE4wU3LUyqXbD0xEssMul4Y3etRh3Vjn9Ko7s6BuJ2aIw7OFGm0s6lwyb63gBNu9cvRIlOIGnDwLgkp4Ppxet10eYJlZTz0vtJdDS52ewJadEnBmFSHv3E7tbQIfwh9X3pfw6FReiOLnMcuCmLh0xbmAUrwgHRRWrbX1EeIBsag8gBgvtuGzn3uCc2ldF3QZbtzIhD8YJgIenrDsTD6MpFFMJPcPSkinGwc336TJ1KULuVIO |     408918    |   None   |        None        |  None  |  None  |  None  | 402325 |       0.00      |\n",
       "+-------------+-------------+------------------------------------------------------------------------------------------------------------------------------------------------------------------------------------------------------------------------------------------------------------+------------------------------------------------------------------------------------------------------------------------------------------------------------------------------------------------------------------------------------------------------------+---------------+----------+--------------------+--------+--------+--------+--------+-----------------+"
      ]
     },
     "execution_count": 24,
     "metadata": {},
     "output_type": "execute_result"
    }
   ],
   "source": [
    "%%sql\n",
    "SUMMARIZE point_data_centroid"
   ]
  },
  {
   "cell_type": "code",
   "execution_count": 25,
   "id": "7433f461",
   "metadata": {},
   "outputs": [
    {
     "name": "stdout",
     "output_type": "stream",
     "text": [
      "Exporting to cemetery.json\n",
      "Exporting to ./data/json/cemetery.json\n"
     ]
    },
    {
     "data": {
      "text/html": [
       "<span style=\"None\">Running query in &#x27;duckdb&#x27;</span>"
      ],
      "text/plain": [
       "Running query in 'duckdb'"
      ]
     },
     "metadata": {},
     "output_type": "display_data"
    },
    {
     "data": {
      "text/html": [
       "<table>\n",
       "    <thead>\n",
       "        <tr>\n",
       "            <th>Count</th>\n",
       "        </tr>\n",
       "    </thead>\n",
       "    <tbody>\n",
       "    </tbody>\n",
       "</table>"
      ],
      "text/plain": [
       "+-------+\n",
       "| Count |\n",
       "+-------+\n",
       "+-------+"
      ]
     },
     "execution_count": 25,
     "metadata": {},
     "output_type": "execute_result"
    }
   ],
   "source": [
    "export_filename = input_filename.replace(\".geojson\", \".json\")\n",
    "export_path = \"./data/json/\" + export_filename\n",
    "\n",
    "os.makedirs(os.path.dirname(export_path), exist_ok=True)\n",
    "\n",
    "print(f\"Exporting to {export_filename}\")\n",
    "print(f\"Exporting to {export_path}\")\n",
    "\n",
    "%sql COPY (SELECT * FROM point_data_centroid) TO '{{export_path}}' (FORMAT JSON);"
   ]
  },
  {
   "cell_type": "code",
   "execution_count": null,
   "id": "275a0379",
   "metadata": {},
   "outputs": [
    {
     "ename": "FileNotFoundError",
     "evalue": "[Errno 2] No such file or directory: './data/adm/cemetery.adm'",
     "output_type": "error",
     "traceback": [
      "\u001b[0;31m---------------------------------------------------------------------------\u001b[0m",
      "\u001b[0;31mFileNotFoundError\u001b[0m                         Traceback (most recent call last)",
      "Cell \u001b[0;32mIn[27], line 3\u001b[0m\n\u001b[1;32m      1\u001b[0m \u001b[38;5;66;03m# replace \"point(\\\"<valueX>,<valueY>\\\")\" with point(\"139.6499560172321,35.57251104983658\")\u001b[39;00m\n\u001b[1;32m      2\u001b[0m new_export_path \u001b[38;5;241m=\u001b[39m export_path\u001b[38;5;241m.\u001b[39mreplace(\u001b[38;5;124m\"\u001b[39m\u001b[38;5;124mjson\u001b[39m\u001b[38;5;124m\"\u001b[39m, \u001b[38;5;124m\"\u001b[39m\u001b[38;5;124madm\u001b[39m\u001b[38;5;124m\"\u001b[39m)\n\u001b[0;32m----> 3\u001b[0m \u001b[38;5;28;01mwith\u001b[39;00m \u001b[38;5;28;43mopen\u001b[39;49m\u001b[43m(\u001b[49m\u001b[43mnew_export_path\u001b[49m\u001b[43m,\u001b[49m\u001b[43m \u001b[49m\u001b[38;5;124;43m\"\u001b[39;49m\u001b[38;5;124;43mw\u001b[39;49m\u001b[38;5;124;43m\"\u001b[39;49m\u001b[43m)\u001b[49m \u001b[38;5;28;01mas\u001b[39;00m f:\n\u001b[1;32m      4\u001b[0m     \u001b[38;5;28;01mfor\u001b[39;00m row \u001b[38;5;129;01min\u001b[39;00m \u001b[38;5;28mopen\u001b[39m(export_path, \u001b[38;5;124m\"\u001b[39m\u001b[38;5;124mr\u001b[39m\u001b[38;5;124m\"\u001b[39m)\u001b[38;5;241m.\u001b[39mreadlines():\n\u001b[1;32m      5\u001b[0m         new_row \u001b[38;5;241m=\u001b[39m row\u001b[38;5;241m.\u001b[39mreplace(\u001b[38;5;124m'\u001b[39m\u001b[38;5;124mlocation\u001b[39m\u001b[38;5;124m\"\u001b[39m\u001b[38;5;124m:\u001b[39m\u001b[38;5;124m\"\u001b[39m\u001b[38;5;124mpoint(\u001b[39m\u001b[38;5;130;01m\\\\\u001b[39;00m\u001b[38;5;124m\"\u001b[39m\u001b[38;5;124m'\u001b[39m, \u001b[38;5;124m'\u001b[39m\u001b[38;5;124mlocation\u001b[39m\u001b[38;5;124m\"\u001b[39m\u001b[38;5;124m:point(\u001b[39m\u001b[38;5;124m\"\u001b[39m\u001b[38;5;124m'\u001b[39m)\u001b[38;5;241m.\u001b[39mreplace(\u001b[38;5;124m'\u001b[39m\u001b[38;5;130;01m\\\\\u001b[39;00m\u001b[38;5;124m\"\u001b[39m\u001b[38;5;124m)\u001b[39m\u001b[38;5;124m\"\u001b[39m\u001b[38;5;124m,\u001b[39m\u001b[38;5;124m\"\u001b[39m\u001b[38;5;124mdescription\u001b[39m\u001b[38;5;124m\"\u001b[39m\u001b[38;5;124m'\u001b[39m, \u001b[38;5;124m'\u001b[39m\u001b[38;5;124m\"\u001b[39m\u001b[38;5;124m),\u001b[39m\u001b[38;5;124m\"\u001b[39m\u001b[38;5;124mdescription\u001b[39m\u001b[38;5;124m\"\u001b[39m\u001b[38;5;124m'\u001b[39m)\n",
      "File \u001b[0;32m~/.local/lib/python3.10/site-packages/IPython/core/interactiveshell.py:324\u001b[0m, in \u001b[0;36m_modified_open\u001b[0;34m(file, *args, **kwargs)\u001b[0m\n\u001b[1;32m    317\u001b[0m \u001b[38;5;28;01mif\u001b[39;00m file \u001b[38;5;129;01min\u001b[39;00m {\u001b[38;5;241m0\u001b[39m, \u001b[38;5;241m1\u001b[39m, \u001b[38;5;241m2\u001b[39m}:\n\u001b[1;32m    318\u001b[0m     \u001b[38;5;28;01mraise\u001b[39;00m \u001b[38;5;167;01mValueError\u001b[39;00m(\n\u001b[1;32m    319\u001b[0m         \u001b[38;5;124mf\u001b[39m\u001b[38;5;124m\"\u001b[39m\u001b[38;5;124mIPython won\u001b[39m\u001b[38;5;124m'\u001b[39m\u001b[38;5;124mt let you open fd=\u001b[39m\u001b[38;5;132;01m{\u001b[39;00mfile\u001b[38;5;132;01m}\u001b[39;00m\u001b[38;5;124m by default \u001b[39m\u001b[38;5;124m\"\u001b[39m\n\u001b[1;32m    320\u001b[0m         \u001b[38;5;124m\"\u001b[39m\u001b[38;5;124mas it is likely to crash IPython. If you know what you are doing, \u001b[39m\u001b[38;5;124m\"\u001b[39m\n\u001b[1;32m    321\u001b[0m         \u001b[38;5;124m\"\u001b[39m\u001b[38;5;124myou can use builtins\u001b[39m\u001b[38;5;124m'\u001b[39m\u001b[38;5;124m open.\u001b[39m\u001b[38;5;124m\"\u001b[39m\n\u001b[1;32m    322\u001b[0m     )\n\u001b[0;32m--> 324\u001b[0m \u001b[38;5;28;01mreturn\u001b[39;00m \u001b[43mio_open\u001b[49m\u001b[43m(\u001b[49m\u001b[43mfile\u001b[49m\u001b[43m,\u001b[49m\u001b[43m \u001b[49m\u001b[38;5;241;43m*\u001b[39;49m\u001b[43margs\u001b[49m\u001b[43m,\u001b[49m\u001b[43m \u001b[49m\u001b[38;5;241;43m*\u001b[39;49m\u001b[38;5;241;43m*\u001b[39;49m\u001b[43mkwargs\u001b[49m\u001b[43m)\u001b[49m\n",
      "\u001b[0;31mFileNotFoundError\u001b[0m: [Errno 2] No such file or directory: './data/adm/cemetery.adm'"
     ]
    }
   ],
   "source": [
    "# replace \"point(\\\"<valueX>,<valueY>\\\")\" with point(\"139.649956017232o1,35.57251104983658\")\n",
    "new_export_path = export_path.replace(\"json\", \"adm\")\n",
    "os.makedirs(os.path.dirname(new_export_path), exist_ok=True)\n",
    "with open(new_export_path, \"w\") as f:\n",
    "    for row in open(export_path, \"r\").readlines():\n",
    "        new_row = row.replace('location\":\"point(\\\\\"', 'location\":point(\"').replace('\\\\\")\",\"description\"', '\"),\"description\"')\n",
    "        f.write(new_row)"
   ]
  }
 ],
 "metadata": {
  "kernelspec": {
   "display_name": "Python 3",
   "language": "python",
   "name": "python3"
  },
  "language_info": {
   "codemirror_mode": {
    "name": "ipython",
    "version": 3
   },
   "file_extension": ".py",
   "mimetype": "text/x-python",
   "name": "python",
   "nbconvert_exporter": "python",
   "pygments_lexer": "ipython3",
   "version": "3.10.0"
  }
 },
 "nbformat": 4,
 "nbformat_minor": 5
}
