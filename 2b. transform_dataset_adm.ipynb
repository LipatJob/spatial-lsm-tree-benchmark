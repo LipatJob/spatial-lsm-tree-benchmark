{
 "cells": [
  {
   "cell_type": "code",
   "execution_count": 6,
   "id": "4492f9c9",
   "metadata": {},
   "outputs": [
    {
     "name": "stdout",
     "output_type": "stream",
     "text": [
      "Requirement already satisfied: duckdb in ./venv/lib/python3.13/site-packages (1.2.2)\n",
      "\n",
      "\u001b[1m[\u001b[0m\u001b[34;49mnotice\u001b[0m\u001b[1;39;49m]\u001b[0m\u001b[39;49m A new release of pip is available: \u001b[0m\u001b[31;49m25.0.1\u001b[0m\u001b[39;49m -> \u001b[0m\u001b[32;49m25.1\u001b[0m\n",
      "\u001b[1m[\u001b[0m\u001b[34;49mnotice\u001b[0m\u001b[1;39;49m]\u001b[0m\u001b[39;49m To update, run: \u001b[0m\u001b[32;49mpip install --upgrade pip\u001b[0m\n",
      "Requirement already satisfied: notebook in ./venv/lib/python3.13/site-packages (7.4.1)\n",
      "Requirement already satisfied: jupyter-server<3,>=2.4.0 in ./venv/lib/python3.13/site-packages (from notebook) (2.15.0)\n",
      "Requirement already satisfied: jupyterlab-server<3,>=2.27.1 in ./venv/lib/python3.13/site-packages (from notebook) (2.27.3)\n",
      "Requirement already satisfied: jupyterlab<4.5,>=4.4.0rc0 in ./venv/lib/python3.13/site-packages (from notebook) (4.4.1)\n",
      "Requirement already satisfied: notebook-shim<0.3,>=0.2 in ./venv/lib/python3.13/site-packages (from notebook) (0.2.4)\n",
      "Requirement already satisfied: tornado>=6.2.0 in ./venv/lib/python3.13/site-packages (from notebook) (6.4.2)\n",
      "Requirement already satisfied: anyio>=3.1.0 in ./venv/lib/python3.13/site-packages (from jupyter-server<3,>=2.4.0->notebook) (4.9.0)\n",
      "Requirement already satisfied: argon2-cffi>=21.1 in ./venv/lib/python3.13/site-packages (from jupyter-server<3,>=2.4.0->notebook) (23.1.0)\n",
      "Requirement already satisfied: jinja2>=3.0.3 in ./venv/lib/python3.13/site-packages (from jupyter-server<3,>=2.4.0->notebook) (3.1.6)\n",
      "Requirement already satisfied: jupyter-client>=7.4.4 in ./venv/lib/python3.13/site-packages (from jupyter-server<3,>=2.4.0->notebook) (8.6.3)\n",
      "Requirement already satisfied: jupyter-core!=5.0.*,>=4.12 in ./venv/lib/python3.13/site-packages (from jupyter-server<3,>=2.4.0->notebook) (5.7.2)\n",
      "Requirement already satisfied: jupyter-events>=0.11.0 in ./venv/lib/python3.13/site-packages (from jupyter-server<3,>=2.4.0->notebook) (0.12.0)\n",
      "Requirement already satisfied: jupyter-server-terminals>=0.4.4 in ./venv/lib/python3.13/site-packages (from jupyter-server<3,>=2.4.0->notebook) (0.5.3)\n",
      "Requirement already satisfied: nbconvert>=6.4.4 in ./venv/lib/python3.13/site-packages (from jupyter-server<3,>=2.4.0->notebook) (7.16.6)\n",
      "Requirement already satisfied: nbformat>=5.3.0 in ./venv/lib/python3.13/site-packages (from jupyter-server<3,>=2.4.0->notebook) (5.10.4)\n",
      "Requirement already satisfied: overrides>=5.0 in ./venv/lib/python3.13/site-packages (from jupyter-server<3,>=2.4.0->notebook) (7.7.0)\n",
      "Requirement already satisfied: packaging>=22.0 in ./venv/lib/python3.13/site-packages (from jupyter-server<3,>=2.4.0->notebook) (25.0)\n",
      "Requirement already satisfied: prometheus-client>=0.9 in ./venv/lib/python3.13/site-packages (from jupyter-server<3,>=2.4.0->notebook) (0.21.1)\n",
      "Requirement already satisfied: pyzmq>=24 in ./venv/lib/python3.13/site-packages (from jupyter-server<3,>=2.4.0->notebook) (26.4.0)\n",
      "Requirement already satisfied: send2trash>=1.8.2 in ./venv/lib/python3.13/site-packages (from jupyter-server<3,>=2.4.0->notebook) (1.8.3)\n",
      "Requirement already satisfied: terminado>=0.8.3 in ./venv/lib/python3.13/site-packages (from jupyter-server<3,>=2.4.0->notebook) (0.18.1)\n",
      "Requirement already satisfied: traitlets>=5.6.0 in ./venv/lib/python3.13/site-packages (from jupyter-server<3,>=2.4.0->notebook) (5.14.3)\n",
      "Requirement already satisfied: websocket-client>=1.7 in ./venv/lib/python3.13/site-packages (from jupyter-server<3,>=2.4.0->notebook) (1.8.0)\n",
      "Requirement already satisfied: async-lru>=1.0.0 in ./venv/lib/python3.13/site-packages (from jupyterlab<4.5,>=4.4.0rc0->notebook) (2.0.5)\n",
      "Requirement already satisfied: httpx>=0.25.0 in ./venv/lib/python3.13/site-packages (from jupyterlab<4.5,>=4.4.0rc0->notebook) (0.28.1)\n",
      "Requirement already satisfied: ipykernel>=6.5.0 in ./venv/lib/python3.13/site-packages (from jupyterlab<4.5,>=4.4.0rc0->notebook) (6.29.5)\n",
      "Requirement already satisfied: jupyter-lsp>=2.0.0 in ./venv/lib/python3.13/site-packages (from jupyterlab<4.5,>=4.4.0rc0->notebook) (2.2.5)\n",
      "Requirement already satisfied: setuptools>=41.1.0 in ./venv/lib/python3.13/site-packages (from jupyterlab<4.5,>=4.4.0rc0->notebook) (79.0.1)\n",
      "Requirement already satisfied: babel>=2.10 in ./venv/lib/python3.13/site-packages (from jupyterlab-server<3,>=2.27.1->notebook) (2.17.0)\n",
      "Requirement already satisfied: json5>=0.9.0 in ./venv/lib/python3.13/site-packages (from jupyterlab-server<3,>=2.27.1->notebook) (0.12.0)\n",
      "Requirement already satisfied: jsonschema>=4.18.0 in ./venv/lib/python3.13/site-packages (from jupyterlab-server<3,>=2.27.1->notebook) (4.23.0)\n",
      "Requirement already satisfied: requests>=2.31 in ./venv/lib/python3.13/site-packages (from jupyterlab-server<3,>=2.27.1->notebook) (2.32.3)\n",
      "Requirement already satisfied: idna>=2.8 in ./venv/lib/python3.13/site-packages (from anyio>=3.1.0->jupyter-server<3,>=2.4.0->notebook) (3.10)\n",
      "Requirement already satisfied: sniffio>=1.1 in ./venv/lib/python3.13/site-packages (from anyio>=3.1.0->jupyter-server<3,>=2.4.0->notebook) (1.3.1)\n",
      "Requirement already satisfied: argon2-cffi-bindings in ./venv/lib/python3.13/site-packages (from argon2-cffi>=21.1->jupyter-server<3,>=2.4.0->notebook) (21.2.0)\n",
      "Requirement already satisfied: certifi in ./venv/lib/python3.13/site-packages (from httpx>=0.25.0->jupyterlab<4.5,>=4.4.0rc0->notebook) (2025.4.26)\n",
      "Requirement already satisfied: httpcore==1.* in ./venv/lib/python3.13/site-packages (from httpx>=0.25.0->jupyterlab<4.5,>=4.4.0rc0->notebook) (1.0.9)\n",
      "Requirement already satisfied: h11>=0.16 in ./venv/lib/python3.13/site-packages (from httpcore==1.*->httpx>=0.25.0->jupyterlab<4.5,>=4.4.0rc0->notebook) (0.16.0)\n",
      "Requirement already satisfied: appnope in ./venv/lib/python3.13/site-packages (from ipykernel>=6.5.0->jupyterlab<4.5,>=4.4.0rc0->notebook) (0.1.4)\n",
      "Requirement already satisfied: comm>=0.1.1 in ./venv/lib/python3.13/site-packages (from ipykernel>=6.5.0->jupyterlab<4.5,>=4.4.0rc0->notebook) (0.2.2)\n",
      "Requirement already satisfied: debugpy>=1.6.5 in ./venv/lib/python3.13/site-packages (from ipykernel>=6.5.0->jupyterlab<4.5,>=4.4.0rc0->notebook) (1.8.14)\n",
      "Requirement already satisfied: ipython>=7.23.1 in ./venv/lib/python3.13/site-packages (from ipykernel>=6.5.0->jupyterlab<4.5,>=4.4.0rc0->notebook) (9.2.0)\n",
      "Requirement already satisfied: matplotlib-inline>=0.1 in ./venv/lib/python3.13/site-packages (from ipykernel>=6.5.0->jupyterlab<4.5,>=4.4.0rc0->notebook) (0.1.7)\n",
      "Requirement already satisfied: nest-asyncio in ./venv/lib/python3.13/site-packages (from ipykernel>=6.5.0->jupyterlab<4.5,>=4.4.0rc0->notebook) (1.6.0)\n",
      "Requirement already satisfied: psutil in ./venv/lib/python3.13/site-packages (from ipykernel>=6.5.0->jupyterlab<4.5,>=4.4.0rc0->notebook) (7.0.0)\n",
      "Requirement already satisfied: MarkupSafe>=2.0 in ./venv/lib/python3.13/site-packages (from jinja2>=3.0.3->jupyter-server<3,>=2.4.0->notebook) (3.0.2)\n",
      "Requirement already satisfied: attrs>=22.2.0 in ./venv/lib/python3.13/site-packages (from jsonschema>=4.18.0->jupyterlab-server<3,>=2.27.1->notebook) (25.3.0)\n",
      "Requirement already satisfied: jsonschema-specifications>=2023.03.6 in ./venv/lib/python3.13/site-packages (from jsonschema>=4.18.0->jupyterlab-server<3,>=2.27.1->notebook) (2025.4.1)\n",
      "Requirement already satisfied: referencing>=0.28.4 in ./venv/lib/python3.13/site-packages (from jsonschema>=4.18.0->jupyterlab-server<3,>=2.27.1->notebook) (0.36.2)\n",
      "Requirement already satisfied: rpds-py>=0.7.1 in ./venv/lib/python3.13/site-packages (from jsonschema>=4.18.0->jupyterlab-server<3,>=2.27.1->notebook) (0.24.0)\n",
      "Requirement already satisfied: python-dateutil>=2.8.2 in ./venv/lib/python3.13/site-packages (from jupyter-client>=7.4.4->jupyter-server<3,>=2.4.0->notebook) (2.9.0.post0)\n",
      "Requirement already satisfied: platformdirs>=2.5 in ./venv/lib/python3.13/site-packages (from jupyter-core!=5.0.*,>=4.12->jupyter-server<3,>=2.4.0->notebook) (4.3.7)\n",
      "Requirement already satisfied: python-json-logger>=2.0.4 in ./venv/lib/python3.13/site-packages (from jupyter-events>=0.11.0->jupyter-server<3,>=2.4.0->notebook) (3.3.0)\n",
      "Requirement already satisfied: pyyaml>=5.3 in ./venv/lib/python3.13/site-packages (from jupyter-events>=0.11.0->jupyter-server<3,>=2.4.0->notebook) (6.0.2)\n",
      "Requirement already satisfied: rfc3339-validator in ./venv/lib/python3.13/site-packages (from jupyter-events>=0.11.0->jupyter-server<3,>=2.4.0->notebook) (0.1.4)\n",
      "Requirement already satisfied: rfc3986-validator>=0.1.1 in ./venv/lib/python3.13/site-packages (from jupyter-events>=0.11.0->jupyter-server<3,>=2.4.0->notebook) (0.1.1)\n",
      "Requirement already satisfied: beautifulsoup4 in ./venv/lib/python3.13/site-packages (from nbconvert>=6.4.4->jupyter-server<3,>=2.4.0->notebook) (4.13.4)\n",
      "Requirement already satisfied: bleach!=5.0.0 in ./venv/lib/python3.13/site-packages (from bleach[css]!=5.0.0->nbconvert>=6.4.4->jupyter-server<3,>=2.4.0->notebook) (6.2.0)\n",
      "Requirement already satisfied: defusedxml in ./venv/lib/python3.13/site-packages (from nbconvert>=6.4.4->jupyter-server<3,>=2.4.0->notebook) (0.7.1)\n",
      "Requirement already satisfied: jupyterlab-pygments in ./venv/lib/python3.13/site-packages (from nbconvert>=6.4.4->jupyter-server<3,>=2.4.0->notebook) (0.3.0)\n",
      "Requirement already satisfied: mistune<4,>=2.0.3 in ./venv/lib/python3.13/site-packages (from nbconvert>=6.4.4->jupyter-server<3,>=2.4.0->notebook) (3.1.3)\n",
      "Requirement already satisfied: nbclient>=0.5.0 in ./venv/lib/python3.13/site-packages (from nbconvert>=6.4.4->jupyter-server<3,>=2.4.0->notebook) (0.10.2)\n",
      "Requirement already satisfied: pandocfilters>=1.4.1 in ./venv/lib/python3.13/site-packages (from nbconvert>=6.4.4->jupyter-server<3,>=2.4.0->notebook) (1.5.1)\n",
      "Requirement already satisfied: pygments>=2.4.1 in ./venv/lib/python3.13/site-packages (from nbconvert>=6.4.4->jupyter-server<3,>=2.4.0->notebook) (2.19.1)\n",
      "Requirement already satisfied: fastjsonschema>=2.15 in ./venv/lib/python3.13/site-packages (from nbformat>=5.3.0->jupyter-server<3,>=2.4.0->notebook) (2.21.1)\n",
      "Requirement already satisfied: charset-normalizer<4,>=2 in ./venv/lib/python3.13/site-packages (from requests>=2.31->jupyterlab-server<3,>=2.27.1->notebook) (3.4.1)\n",
      "Requirement already satisfied: urllib3<3,>=1.21.1 in ./venv/lib/python3.13/site-packages (from requests>=2.31->jupyterlab-server<3,>=2.27.1->notebook) (2.4.0)\n",
      "Requirement already satisfied: ptyprocess in ./venv/lib/python3.13/site-packages (from terminado>=0.8.3->jupyter-server<3,>=2.4.0->notebook) (0.7.0)\n",
      "Requirement already satisfied: webencodings in ./venv/lib/python3.13/site-packages (from bleach!=5.0.0->bleach[css]!=5.0.0->nbconvert>=6.4.4->jupyter-server<3,>=2.4.0->notebook) (0.5.1)\n",
      "Requirement already satisfied: tinycss2<1.5,>=1.1.0 in ./venv/lib/python3.13/site-packages (from bleach[css]!=5.0.0->nbconvert>=6.4.4->jupyter-server<3,>=2.4.0->notebook) (1.4.0)\n",
      "Requirement already satisfied: decorator in ./venv/lib/python3.13/site-packages (from ipython>=7.23.1->ipykernel>=6.5.0->jupyterlab<4.5,>=4.4.0rc0->notebook) (5.2.1)\n",
      "Requirement already satisfied: ipython-pygments-lexers in ./venv/lib/python3.13/site-packages (from ipython>=7.23.1->ipykernel>=6.5.0->jupyterlab<4.5,>=4.4.0rc0->notebook) (1.1.1)\n",
      "Requirement already satisfied: jedi>=0.16 in ./venv/lib/python3.13/site-packages (from ipython>=7.23.1->ipykernel>=6.5.0->jupyterlab<4.5,>=4.4.0rc0->notebook) (0.19.2)\n",
      "Requirement already satisfied: pexpect>4.3 in ./venv/lib/python3.13/site-packages (from ipython>=7.23.1->ipykernel>=6.5.0->jupyterlab<4.5,>=4.4.0rc0->notebook) (4.9.0)\n",
      "Requirement already satisfied: prompt_toolkit<3.1.0,>=3.0.41 in ./venv/lib/python3.13/site-packages (from ipython>=7.23.1->ipykernel>=6.5.0->jupyterlab<4.5,>=4.4.0rc0->notebook) (3.0.51)\n",
      "Requirement already satisfied: stack_data in ./venv/lib/python3.13/site-packages (from ipython>=7.23.1->ipykernel>=6.5.0->jupyterlab<4.5,>=4.4.0rc0->notebook) (0.6.3)\n",
      "Requirement already satisfied: fqdn in ./venv/lib/python3.13/site-packages (from jsonschema[format-nongpl]>=4.18.0->jupyter-events>=0.11.0->jupyter-server<3,>=2.4.0->notebook) (1.5.1)\n",
      "Requirement already satisfied: isoduration in ./venv/lib/python3.13/site-packages (from jsonschema[format-nongpl]>=4.18.0->jupyter-events>=0.11.0->jupyter-server<3,>=2.4.0->notebook) (20.11.0)\n",
      "Requirement already satisfied: jsonpointer>1.13 in ./venv/lib/python3.13/site-packages (from jsonschema[format-nongpl]>=4.18.0->jupyter-events>=0.11.0->jupyter-server<3,>=2.4.0->notebook) (3.0.0)\n",
      "Requirement already satisfied: uri-template in ./venv/lib/python3.13/site-packages (from jsonschema[format-nongpl]>=4.18.0->jupyter-events>=0.11.0->jupyter-server<3,>=2.4.0->notebook) (1.3.0)\n",
      "Requirement already satisfied: webcolors>=24.6.0 in ./venv/lib/python3.13/site-packages (from jsonschema[format-nongpl]>=4.18.0->jupyter-events>=0.11.0->jupyter-server<3,>=2.4.0->notebook) (24.11.1)\n",
      "Requirement already satisfied: six>=1.5 in ./venv/lib/python3.13/site-packages (from python-dateutil>=2.8.2->jupyter-client>=7.4.4->jupyter-server<3,>=2.4.0->notebook) (1.17.0)\n",
      "Requirement already satisfied: cffi>=1.0.1 in ./venv/lib/python3.13/site-packages (from argon2-cffi-bindings->argon2-cffi>=21.1->jupyter-server<3,>=2.4.0->notebook) (1.17.1)\n",
      "Requirement already satisfied: soupsieve>1.2 in ./venv/lib/python3.13/site-packages (from beautifulsoup4->nbconvert>=6.4.4->jupyter-server<3,>=2.4.0->notebook) (2.7)\n",
      "Requirement already satisfied: typing-extensions>=4.0.0 in ./venv/lib/python3.13/site-packages (from beautifulsoup4->nbconvert>=6.4.4->jupyter-server<3,>=2.4.0->notebook) (4.13.2)\n",
      "Requirement already satisfied: pycparser in ./venv/lib/python3.13/site-packages (from cffi>=1.0.1->argon2-cffi-bindings->argon2-cffi>=21.1->jupyter-server<3,>=2.4.0->notebook) (2.22)\n",
      "Requirement already satisfied: parso<0.9.0,>=0.8.4 in ./venv/lib/python3.13/site-packages (from jedi>=0.16->ipython>=7.23.1->ipykernel>=6.5.0->jupyterlab<4.5,>=4.4.0rc0->notebook) (0.8.4)\n",
      "Requirement already satisfied: wcwidth in ./venv/lib/python3.13/site-packages (from prompt_toolkit<3.1.0,>=3.0.41->ipython>=7.23.1->ipykernel>=6.5.0->jupyterlab<4.5,>=4.4.0rc0->notebook) (0.2.13)\n",
      "Requirement already satisfied: arrow>=0.15.0 in ./venv/lib/python3.13/site-packages (from isoduration->jsonschema[format-nongpl]>=4.18.0->jupyter-events>=0.11.0->jupyter-server<3,>=2.4.0->notebook) (1.3.0)\n",
      "Requirement already satisfied: executing>=1.2.0 in ./venv/lib/python3.13/site-packages (from stack_data->ipython>=7.23.1->ipykernel>=6.5.0->jupyterlab<4.5,>=4.4.0rc0->notebook) (2.2.0)\n",
      "Requirement already satisfied: asttokens>=2.1.0 in ./venv/lib/python3.13/site-packages (from stack_data->ipython>=7.23.1->ipykernel>=6.5.0->jupyterlab<4.5,>=4.4.0rc0->notebook) (3.0.0)\n",
      "Requirement already satisfied: pure-eval in ./venv/lib/python3.13/site-packages (from stack_data->ipython>=7.23.1->ipykernel>=6.5.0->jupyterlab<4.5,>=4.4.0rc0->notebook) (0.2.3)\n",
      "Requirement already satisfied: types-python-dateutil>=2.8.10 in ./venv/lib/python3.13/site-packages (from arrow>=0.15.0->isoduration->jsonschema[format-nongpl]>=4.18.0->jupyter-events>=0.11.0->jupyter-server<3,>=2.4.0->notebook) (2.9.0.20241206)\n",
      "\n",
      "\u001b[1m[\u001b[0m\u001b[34;49mnotice\u001b[0m\u001b[1;39;49m]\u001b[0m\u001b[39;49m A new release of pip is available: \u001b[0m\u001b[31;49m25.0.1\u001b[0m\u001b[39;49m -> \u001b[0m\u001b[32;49m25.1\u001b[0m\n",
      "\u001b[1m[\u001b[0m\u001b[34;49mnotice\u001b[0m\u001b[1;39;49m]\u001b[0m\u001b[39;49m To update, run: \u001b[0m\u001b[32;49mpip install --upgrade pip\u001b[0m\n",
      "Requirement already satisfied: jupysql in ./venv/lib/python3.13/site-packages (0.11.1)\n",
      "Requirement already satisfied: pandas in ./venv/lib/python3.13/site-packages (2.2.3)\n",
      "Requirement already satisfied: matplotlib in ./venv/lib/python3.13/site-packages (3.10.1)\n",
      "Requirement already satisfied: duckdb-engine in ./venv/lib/python3.13/site-packages (0.17.0)\n",
      "Requirement already satisfied: prettytable>=3.12.0 in ./venv/lib/python3.13/site-packages (from jupysql) (3.16.0)\n",
      "Requirement already satisfied: sqlalchemy in ./venv/lib/python3.13/site-packages (from jupysql) (2.0.40)\n",
      "Requirement already satisfied: sqlparse in ./venv/lib/python3.13/site-packages (from jupysql) (0.5.3)\n",
      "Requirement already satisfied: ipython-genutils>=0.1.0 in ./venv/lib/python3.13/site-packages (from jupysql) (0.2.0)\n",
      "Requirement already satisfied: jinja2 in ./venv/lib/python3.13/site-packages (from jupysql) (3.1.6)\n",
      "Requirement already satisfied: sqlglot>=11.3.7 in ./venv/lib/python3.13/site-packages (from jupysql) (26.16.2)\n",
      "Requirement already satisfied: jupysql-plugin>=0.4.2 in ./venv/lib/python3.13/site-packages (from jupysql) (0.4.5)\n",
      "Requirement already satisfied: ploomber-core>=0.2.7 in ./venv/lib/python3.13/site-packages (from jupysql) (0.2.26)\n",
      "Requirement already satisfied: numpy>=1.26.0 in ./venv/lib/python3.13/site-packages (from pandas) (2.2.5)\n",
      "Requirement already satisfied: python-dateutil>=2.8.2 in ./venv/lib/python3.13/site-packages (from pandas) (2.9.0.post0)\n",
      "Requirement already satisfied: pytz>=2020.1 in ./venv/lib/python3.13/site-packages (from pandas) (2025.2)\n",
      "Requirement already satisfied: tzdata>=2022.7 in ./venv/lib/python3.13/site-packages (from pandas) (2025.2)\n",
      "Requirement already satisfied: contourpy>=1.0.1 in ./venv/lib/python3.13/site-packages (from matplotlib) (1.3.2)\n",
      "Requirement already satisfied: cycler>=0.10 in ./venv/lib/python3.13/site-packages (from matplotlib) (0.12.1)\n",
      "Requirement already satisfied: fonttools>=4.22.0 in ./venv/lib/python3.13/site-packages (from matplotlib) (4.57.0)\n",
      "Requirement already satisfied: kiwisolver>=1.3.1 in ./venv/lib/python3.13/site-packages (from matplotlib) (1.4.8)\n",
      "Requirement already satisfied: packaging>=20.0 in ./venv/lib/python3.13/site-packages (from matplotlib) (25.0)\n",
      "Requirement already satisfied: pillow>=8 in ./venv/lib/python3.13/site-packages (from matplotlib) (11.2.1)\n",
      "Requirement already satisfied: pyparsing>=2.3.1 in ./venv/lib/python3.13/site-packages (from matplotlib) (3.2.3)\n",
      "Requirement already satisfied: duckdb>=0.5.0 in ./venv/lib/python3.13/site-packages (from duckdb-engine) (1.2.2)\n",
      "Requirement already satisfied: pyyaml in ./venv/lib/python3.13/site-packages (from ploomber-core>=0.2.7->jupysql) (6.0.2)\n",
      "Requirement already satisfied: posthog in ./venv/lib/python3.13/site-packages (from ploomber-core>=0.2.7->jupysql) (4.0.0)\n",
      "Requirement already satisfied: wcwidth in ./venv/lib/python3.13/site-packages (from prettytable>=3.12.0->jupysql) (0.2.13)\n",
      "Requirement already satisfied: six>=1.5 in ./venv/lib/python3.13/site-packages (from python-dateutil>=2.8.2->pandas) (1.17.0)\n",
      "Requirement already satisfied: typing-extensions>=4.6.0 in ./venv/lib/python3.13/site-packages (from sqlalchemy->jupysql) (4.13.2)\n",
      "Requirement already satisfied: MarkupSafe>=2.0 in ./venv/lib/python3.13/site-packages (from jinja2->jupysql) (3.0.2)\n",
      "Requirement already satisfied: requests<3.0,>=2.7 in ./venv/lib/python3.13/site-packages (from posthog->ploomber-core>=0.2.7->jupysql) (2.32.3)\n",
      "Requirement already satisfied: monotonic>=1.5 in ./venv/lib/python3.13/site-packages (from posthog->ploomber-core>=0.2.7->jupysql) (1.6)\n",
      "Requirement already satisfied: backoff>=1.10.0 in ./venv/lib/python3.13/site-packages (from posthog->ploomber-core>=0.2.7->jupysql) (2.2.1)\n",
      "Requirement already satisfied: distro>=1.5.0 in ./venv/lib/python3.13/site-packages (from posthog->ploomber-core>=0.2.7->jupysql) (1.9.0)\n",
      "Requirement already satisfied: charset-normalizer<4,>=2 in ./venv/lib/python3.13/site-packages (from requests<3.0,>=2.7->posthog->ploomber-core>=0.2.7->jupysql) (3.4.1)\n",
      "Requirement already satisfied: idna<4,>=2.5 in ./venv/lib/python3.13/site-packages (from requests<3.0,>=2.7->posthog->ploomber-core>=0.2.7->jupysql) (3.10)\n",
      "Requirement already satisfied: urllib3<3,>=1.21.1 in ./venv/lib/python3.13/site-packages (from requests<3.0,>=2.7->posthog->ploomber-core>=0.2.7->jupysql) (2.4.0)\n",
      "Requirement already satisfied: certifi>=2017.4.17 in ./venv/lib/python3.13/site-packages (from requests<3.0,>=2.7->posthog->ploomber-core>=0.2.7->jupysql) (2025.4.26)\n",
      "\n",
      "\u001b[1m[\u001b[0m\u001b[34;49mnotice\u001b[0m\u001b[1;39;49m]\u001b[0m\u001b[39;49m A new release of pip is available: \u001b[0m\u001b[31;49m25.0.1\u001b[0m\u001b[39;49m -> \u001b[0m\u001b[32;49m25.1\u001b[0m\n",
      "\u001b[1m[\u001b[0m\u001b[34;49mnotice\u001b[0m\u001b[1;39;49m]\u001b[0m\u001b[39;49m To update, run: \u001b[0m\u001b[32;49mpip install --upgrade pip\u001b[0m\n"
     ]
    }
   ],
   "source": [
    "!pip install duckdb\n",
    "!pip install notebook\n",
    "!pip install jupysql pandas matplotlib duckdb-engine"
   ]
  },
  {
   "cell_type": "code",
   "execution_count": 9,
   "id": "2519eb08",
   "metadata": {},
   "outputs": [],
   "source": [
    "import os\n",
    "osm_dataset = \"cemetery\"\n",
    "input_path = f\"./data/geojson/{osm_dataset}.geojson\"\n",
    "input_filename = os.path.basename(input_path)"
   ]
  },
  {
   "cell_type": "code",
   "execution_count": 10,
   "id": "7b1432f8",
   "metadata": {},
   "outputs": [
    {
     "name": "stdout",
     "output_type": "stream",
     "text": [
      "The sql extension is already loaded. To reload it, use:\n",
      "  %reload_ext sql\n"
     ]
    }
   ],
   "source": [
    "import duckdb\n",
    "from sqlalchemy.engine import create_engine\n",
    "\n",
    "%load_ext sql\n",
    "conn = create_engine('duckdb:///data/local.duckdb')\n",
    "%sql conn --alias duckdb\n",
    "%config SqlMagic.named_parameters=\"enabled\" "
   ]
  },
  {
   "cell_type": "code",
   "execution_count": 11,
   "id": "459f7cd3",
   "metadata": {},
   "outputs": [
    {
     "data": {
      "text/html": [
       "<span style=\"None\">Running query in &#x27;duckdb&#x27;</span>"
      ],
      "text/plain": [
       "Running query in 'duckdb'"
      ]
     },
     "metadata": {},
     "output_type": "display_data"
    },
    {
     "data": {
      "text/html": [
       "<table>\n",
       "    <thead>\n",
       "        <tr>\n",
       "            <th>Success</th>\n",
       "        </tr>\n",
       "    </thead>\n",
       "    <tbody>\n",
       "    </tbody>\n",
       "</table>"
      ],
      "text/plain": [
       "+---------+\n",
       "| Success |\n",
       "+---------+\n",
       "+---------+"
      ]
     },
     "execution_count": 11,
     "metadata": {},
     "output_type": "execute_result"
    }
   ],
   "source": [
    "%%sql\n",
    "INSTALL psql FROM community;\n",
    "INSTALL spatial;\n",
    "LOAD spatial;\n",
    "LOAD psql;\n"
   ]
  },
  {
   "cell_type": "code",
   "execution_count": 12,
   "id": "47fd79bc",
   "metadata": {},
   "outputs": [
    {
     "data": {
      "text/html": [
       "<span style=\"None\">Running query in &#x27;duckdb&#x27;</span>"
      ],
      "text/plain": [
       "Running query in 'duckdb'"
      ]
     },
     "metadata": {},
     "output_type": "display_data"
    },
    {
     "data": {
      "application/vnd.jupyter.widget-view+json": {
       "model_id": "de8430ce9e3a46a69899d3a9e998cfad",
       "version_major": 2,
       "version_minor": 0
      },
      "text/plain": [
       "FloatProgress(value=0.0, layout=Layout(width='auto'), style=ProgressStyle(bar_color='black'))"
      ]
     },
     "metadata": {},
     "output_type": "display_data"
    },
    {
     "data": {
      "text/html": [
       "<table>\n",
       "    <thead>\n",
       "        <tr>\n",
       "            <th>Count</th>\n",
       "        </tr>\n",
       "    </thead>\n",
       "    <tbody>\n",
       "    </tbody>\n",
       "</table>"
      ],
      "text/plain": [
       "+-------+\n",
       "| Count |\n",
       "+-------+\n",
       "+-------+"
      ]
     },
     "execution_count": 12,
     "metadata": {},
     "output_type": "execute_result"
    }
   ],
   "source": [
    "%%sql\n",
    "CREATE OR REPLACE TABLE point_data AS\n",
    "SELECT *\n",
    "FROM ST_Read(\"{{input_path}}\")"
   ]
  },
  {
   "cell_type": "code",
   "execution_count": 13,
   "id": "01c3ffcc",
   "metadata": {},
   "outputs": [
    {
     "data": {
      "text/plain": [
       "<duckdb.duckdb.DuckDBPyConnection at 0x10dd3b6b0>"
      ]
     },
     "execution_count": 13,
     "metadata": {},
     "output_type": "execute_result"
    }
   ],
   "source": [
    "\n",
    "import random\n",
    "import string\n",
    "\n",
    "try:\n",
    "    conn.raw_connection().remove_function('random_string')\n",
    "except:\n",
    "    pass\n",
    "\n",
    "# Define the Python function to generate a random string of length 'n'\n",
    "def random_string(n: int) -> str:\n",
    "    return ''.join(random.choices(string.ascii_letters + string.digits, k=n))\n",
    "\n",
    "# Register the function with DuckDB\n",
    "\n",
    "conn.raw_connection().create_function('random_string', random_string, side_effects=True)"
   ]
  },
  {
   "cell_type": "code",
   "execution_count": 14,
   "id": "26a691b6",
   "metadata": {},
   "outputs": [
    {
     "data": {
      "text/html": [
       "<span style=\"None\">Running query in &#x27;duckdb&#x27;</span>"
      ],
      "text/plain": [
       "Running query in 'duckdb'"
      ]
     },
     "metadata": {},
     "output_type": "display_data"
    },
    {
     "data": {
      "text/html": [
       "<table>\n",
       "    <thead>\n",
       "        <tr>\n",
       "            <th>random_string</th>\n",
       "        </tr>\n",
       "    </thead>\n",
       "    <tbody>\n",
       "        <tr>\n",
       "            <td>sIVqnfUp64</td>\n",
       "        </tr>\n",
       "    </tbody>\n",
       "</table>"
      ],
      "text/plain": [
       "+---------------+\n",
       "| random_string |\n",
       "+---------------+\n",
       "|   sIVqnfUp64  |\n",
       "+---------------+"
      ]
     },
     "execution_count": 14,
     "metadata": {},
     "output_type": "execute_result"
    }
   ],
   "source": [
    "%sql SELECT random_string(10) AS random_string;"
   ]
  },
  {
   "cell_type": "code",
   "execution_count": 17,
   "id": "8577e55a",
   "metadata": {},
   "outputs": [
    {
     "data": {
      "text/html": [
       "<span style=\"None\">Running query in &#x27;duckdb&#x27;</span>"
      ],
      "text/plain": [
       "Running query in 'duckdb'"
      ]
     },
     "metadata": {},
     "output_type": "display_data"
    },
    {
     "data": {
      "application/vnd.jupyter.widget-view+json": {
       "model_id": "b19a8189020b4e01a5958b53933c1f95",
       "version_major": 2,
       "version_minor": 0
      },
      "text/plain": [
       "FloatProgress(value=0.0, layout=Layout(width='auto'), style=ProgressStyle(bar_color='black'))"
      ]
     },
     "metadata": {},
     "output_type": "display_data"
    },
    {
     "data": {
      "text/html": [
       "<table>\n",
       "    <thead>\n",
       "        <tr>\n",
       "            <th>Count</th>\n",
       "        </tr>\n",
       "    </thead>\n",
       "    <tbody>\n",
       "    </tbody>\n",
       "</table>"
      ],
      "text/plain": [
       "+-------+\n",
       "| Count |\n",
       "+-------+\n",
       "+-------+"
      ]
     },
     "execution_count": 17,
     "metadata": {},
     "output_type": "execute_result"
    }
   ],
   "source": [
    "\n",
    "%%sql\n",
    "CREATE OR REPLACE TABLE point_data_centroid AS\n",
    "WITH centroid AS (\n",
    "    FROM point_data\n",
    "    SELECT\n",
    "        rowid,\n",
    "        centroid: geom.ST_Centroid(),\n",
    "    ORDER BY hash(rowid + 43) DESC\n",
    ")\n",
    "FROM centroid\n",
    "SELECT\n",
    "    id: ROW_NUMBER() OVER (ORDER BY centroid),\n",
    "    location: 'point(\"' || centroid.ST_X() || ',' || centroid.ST_Y() || '\")',\n",
    "    description: random_string(250)\n",
    "ORDER BY hash(rowid + 43)"
   ]
  },
  {
   "cell_type": "code",
   "execution_count": 18,
   "id": "a040abbc",
   "metadata": {},
   "outputs": [
    {
     "data": {
      "text/html": [
       "<span style=\"None\">Running query in &#x27;duckdb&#x27;</span>"
      ],
      "text/plain": [
       "Running query in 'duckdb'"
      ]
     },
     "metadata": {},
     "output_type": "display_data"
    },
    {
     "data": {
      "text/html": [
       "<table>\n",
       "    <thead>\n",
       "        <tr>\n",
       "            <th>id</th>\n",
       "            <th>location</th>\n",
       "            <th>description</th>\n",
       "        </tr>\n",
       "    </thead>\n",
       "    <tbody>\n",
       "        <tr>\n",
       "            <td>117886</td>\n",
       "            <td>point(\"-85.6466748899667,39.28365177477235\")</td>\n",
       "            <td>uRLfaxtVNZhy5wa1C5KXXJ3IAlv0guNMfk1j0Kq76H2ARJd0FLfZr4H7AxjP25BlypqQI2vWeH3eqmuEbZQopM6J1MPorCei8EINftETubyzIrMCHqiFUlM0hEwNevQYS9G6ivpuhNgkbyTYvXQl8DmHbxqKZlRVwC5xWrY0a6DZmQn0CH690d7rQPtPxR2QLKeIudLa49O6aFtXVyLLTEh9zkOn0qDmkHQ4RLZa0JSxJSdYUvqLTuWK9k</td>\n",
       "        </tr>\n",
       "        <tr>\n",
       "            <td>123815</td>\n",
       "            <td>point(\"139.0385562473188,36.42874679055316\")</td>\n",
       "            <td>f7zwXwx3YOCefwNsJy1o40aRznbyzWd2deJ9cVSE7YhdY6s3MRot0b3deDMs3DPjn164p742cxYNn1yoedNcKg7irrRHPLOO8nefXcXlzHbGaE5DBxVLOe6onxDHICUarbPOHn7T0vjl0oXggqTGmZeRdEEr2cGaBKSHmtBRhDNfWUveLKYLPaKPlZEpJ49L74zPb1NANGsfn7N2W6IPvcBu4W2m3W5F9LpZlzzERFkrHXFLBuhI5ORGu5</td>\n",
       "        </tr>\n",
       "        <tr>\n",
       "            <td>24588</td>\n",
       "            <td>point(\"99.10831835077646,11.923422147551403\")</td>\n",
       "            <td>qcNNOg0w9qSmL4PwQZb9hKkfIwaxwaxVFwSOjzjQhCwYED2m1q4RRmrZBtMgxQcUt5KEMiECtnhaFCXMhMOlxDlTf4Ve0a9GD9v6w04q0a5AeNUbPRp2kXAqqSMmlkFNlQ31P7EyP5scX6nADt44HN5KlGVojE7PLBxSDJCVtrmtp3mWZH0DnFB6srdS2GHJJ1R0vmvvJ2whRnZMb5hEUwpwrd7kyPse1RCSO8ntGcpgjzOBcK12oMEeGu</td>\n",
       "        </tr>\n",
       "        <tr>\n",
       "            <td>398352</td>\n",
       "            <td>point(\"37.69955308014503,54.3793027489593\")</td>\n",
       "            <td>YYDDWmDnVKlgyVWm8YAxFXknFl8om4EOcF7L9r7xL7aqQy4M3YCZeQz3VWHa2FtD12cibUEI5HpFNgtdRjwZdQ8fs7f2f4DvLTO4rl7ZNtwE6cTXdM39QrNx9a9NBZWmOjCWpoVDdQ2QoB4aTTATw2ZFuQjglsirYaNeugScwrphPlGLVnZPacnDnRE2JSaa0WvhCz1ClhGr5CJoseMu2F43P6GjNb6rsBDX3KmChP46XREH15JB5T1T0P</td>\n",
       "        </tr>\n",
       "        <tr>\n",
       "            <td>80284</td>\n",
       "            <td>point(\"-8.084735554647613,5.9921804183259475\")</td>\n",
       "            <td>PIfl2tL5OEAIqH4Ap2MzT1rxTkT9yPYt5kmCiYmvCnQHYCsTU7Er7iFn1fszzFShKEcv3KMYZ1qvrDpOzcRfc5Mc2mOQOSNp5veS6wFz6JP32rcsy2JXfGC92jc025CWoRtdhCSS8VnTI8Pb4C1hqdyZiWEdSE9lSzpkJY5bbvaJWlasKEXmNxqmJtMqfkA8sW8WidmJjzwemnj89doVnTmOSFeMVMDvBmpRwLiFQF37pEfmCi4Hppg1bg</td>\n",
       "        </tr>\n",
       "        <tr>\n",
       "            <td>113274</td>\n",
       "            <td>point(\"139.44185915948967,35.90150919549181\")</td>\n",
       "            <td>jnTG2Bvn9cgmg6UDqQW6DpFn0DmpT6lssqQP3VAK3Fickbguxo1NgoEItCZzYizYaLO4A8SO2JFEPwmvgdnDLRcc0z41Rvso12KmczYoCmWiHvGFqsRCZLKdFqnM7qsbtEzBtAyyP61Jq0ccaVboU1xS9RoEciU7VNrKQBfU3gpkBCnixqkoHRY1wdKO7xjZYszrAasoY2PwfxTEKP3reOXRZVjZOLaFcge7IMoyrJYreVzxeaHSmWCLE4</td>\n",
       "        </tr>\n",
       "        <tr>\n",
       "            <td>91013</td>\n",
       "            <td>point(\"36.06921455300512,50.51046800739962\")</td>\n",
       "            <td>DABe2K9IQOfzAz3lzY1aEoZtLyXzvdh5qv8icrGldSf9gHBwxUoiaAaRVJkLJnLv6iW2y3Rjmex3DwgjiRAhgd9M8E7qH0XD4gITIhukQUbXqOhYk1Smmp95Ex17XVFOiViNw5TjU0tSwNdDTcxuTeuHAY7kWN3We6yrVKr2EHaabJ7VmflOdItxuFw1t55qSwVikJCKOzzvmCChSWIJdqmjifUrSt7OoStqp6fEWnhYZWk2QS37z0tljX</td>\n",
       "        </tr>\n",
       "        <tr>\n",
       "            <td>238267</td>\n",
       "            <td>point(\"-117.28437550489467,34.114246342027826\")</td>\n",
       "            <td>OfTcO3pVaKFeBjy8h1hIEA5iaeQvd4zgRh7c2Wwo3rqC2FtMvwgfFIRq86zS2KpbDF25rihm4DKdiL5SOOQTBUY35BnVSg4c0q5UELYfUWB2W5dmA3IjKrhBcBxEcPmG3bj3mw3XVM3uZZc4Kea1k57vT0FAoerbyjDcCPRe1FmwN75kaq4geQfLpWmup0jDayfuK5niuw0Bo9wo3puV9cZEdSGfHxEypZvSfol8s9nnEM1qUUQ0KSct1y</td>\n",
       "        </tr>\n",
       "        <tr>\n",
       "            <td>130264</td>\n",
       "            <td>point(\"-83.69704215677237,41.71782106521608\")</td>\n",
       "            <td>lyfEHeBG5vQUjQe8Vv7ZlezGU7SIiHnfQ1y6N8lyWrbL0R8eNoFQPn9FqPYKAqQhxUxeMhahK7WofTEdYZWd5CkHuanqzXIe97gUV1nypcxnbrwBo3YLMfUlgXKOVV5tHJGkvh4cvNyEk7oopo5f34J4idw9dUfmvspNOIuaQBKYpZ5BogdQb8BN7wbyuHalOo8jy7YsSY8gR6yoOAv04RbAA9jwaFT2m8CCmHJ7oaoIerGI73h4X41HVi</td>\n",
       "        </tr>\n",
       "        <tr>\n",
       "            <td>13305</td>\n",
       "            <td>point(\"-70.88601036685225,18.564127708683035\")</td>\n",
       "            <td>I6qwsDmxagtQcVKULuxvS9fqncYSi8je42gEzldrEojvpOWsh391TtBLKD3PSmEaG4cjRfnj6GauQ6qa06lka4TSCncO6xzpmY86ORDJ2ghjiBgi0N9zD2b0RxJ0jmmQlgpmjlZEs4PVc3mRqBXv2gFK7IoeyCX1Yvsi7rfldrl1hcvWpcBX7DVUgACmGEkF6PTgrxAPMhvIPKGh9H88jtnvpoqNP2zcEIPu2nNLRChMQVqSPz3O5Q8TI2</td>\n",
       "        </tr>\n",
       "    </tbody>\n",
       "</table>\n",
       "<span style=\"font-style:italic;text-align:center;\">Truncated to <a href=\"https://jupysql.ploomber.io/en/latest/api/configuration.html#displaylimit\">displaylimit</a> of 10.</span>"
      ],
      "text/plain": [
       "+--------+-------------------------------------------------+------------------------------------------------------------------------------------------------------------------------------------------------------------------------------------------------------------------------------------------------------------+\n",
       "|   id   |                     location                    |                                                                                                                        description                                                                                                                         |\n",
       "+--------+-------------------------------------------------+------------------------------------------------------------------------------------------------------------------------------------------------------------------------------------------------------------------------------------------------------------+\n",
       "| 117886 |   point(\"-85.6466748899667,39.28365177477235\")  | uRLfaxtVNZhy5wa1C5KXXJ3IAlv0guNMfk1j0Kq76H2ARJd0FLfZr4H7AxjP25BlypqQI2vWeH3eqmuEbZQopM6J1MPorCei8EINftETubyzIrMCHqiFUlM0hEwNevQYS9G6ivpuhNgkbyTYvXQl8DmHbxqKZlRVwC5xWrY0a6DZmQn0CH690d7rQPtPxR2QLKeIudLa49O6aFtXVyLLTEh9zkOn0qDmkHQ4RLZa0JSxJSdYUvqLTuWK9k |\n",
       "| 123815 |   point(\"139.0385562473188,36.42874679055316\")  | f7zwXwx3YOCefwNsJy1o40aRznbyzWd2deJ9cVSE7YhdY6s3MRot0b3deDMs3DPjn164p742cxYNn1yoedNcKg7irrRHPLOO8nefXcXlzHbGaE5DBxVLOe6onxDHICUarbPOHn7T0vjl0oXggqTGmZeRdEEr2cGaBKSHmtBRhDNfWUveLKYLPaKPlZEpJ49L74zPb1NANGsfn7N2W6IPvcBu4W2m3W5F9LpZlzzERFkrHXFLBuhI5ORGu5 |\n",
       "| 24588  |  point(\"99.10831835077646,11.923422147551403\")  | qcNNOg0w9qSmL4PwQZb9hKkfIwaxwaxVFwSOjzjQhCwYED2m1q4RRmrZBtMgxQcUt5KEMiECtnhaFCXMhMOlxDlTf4Ve0a9GD9v6w04q0a5AeNUbPRp2kXAqqSMmlkFNlQ31P7EyP5scX6nADt44HN5KlGVojE7PLBxSDJCVtrmtp3mWZH0DnFB6srdS2GHJJ1R0vmvvJ2whRnZMb5hEUwpwrd7kyPse1RCSO8ntGcpgjzOBcK12oMEeGu |\n",
       "| 398352 |   point(\"37.69955308014503,54.3793027489593\")   | YYDDWmDnVKlgyVWm8YAxFXknFl8om4EOcF7L9r7xL7aqQy4M3YCZeQz3VWHa2FtD12cibUEI5HpFNgtdRjwZdQ8fs7f2f4DvLTO4rl7ZNtwE6cTXdM39QrNx9a9NBZWmOjCWpoVDdQ2QoB4aTTATw2ZFuQjglsirYaNeugScwrphPlGLVnZPacnDnRE2JSaa0WvhCz1ClhGr5CJoseMu2F43P6GjNb6rsBDX3KmChP46XREH15JB5T1T0P |\n",
       "| 80284  |  point(\"-8.084735554647613,5.9921804183259475\") | PIfl2tL5OEAIqH4Ap2MzT1rxTkT9yPYt5kmCiYmvCnQHYCsTU7Er7iFn1fszzFShKEcv3KMYZ1qvrDpOzcRfc5Mc2mOQOSNp5veS6wFz6JP32rcsy2JXfGC92jc025CWoRtdhCSS8VnTI8Pb4C1hqdyZiWEdSE9lSzpkJY5bbvaJWlasKEXmNxqmJtMqfkA8sW8WidmJjzwemnj89doVnTmOSFeMVMDvBmpRwLiFQF37pEfmCi4Hppg1bg |\n",
       "| 113274 |  point(\"139.44185915948967,35.90150919549181\")  | jnTG2Bvn9cgmg6UDqQW6DpFn0DmpT6lssqQP3VAK3Fickbguxo1NgoEItCZzYizYaLO4A8SO2JFEPwmvgdnDLRcc0z41Rvso12KmczYoCmWiHvGFqsRCZLKdFqnM7qsbtEzBtAyyP61Jq0ccaVboU1xS9RoEciU7VNrKQBfU3gpkBCnixqkoHRY1wdKO7xjZYszrAasoY2PwfxTEKP3reOXRZVjZOLaFcge7IMoyrJYreVzxeaHSmWCLE4 |\n",
       "| 91013  |   point(\"36.06921455300512,50.51046800739962\")  | DABe2K9IQOfzAz3lzY1aEoZtLyXzvdh5qv8icrGldSf9gHBwxUoiaAaRVJkLJnLv6iW2y3Rjmex3DwgjiRAhgd9M8E7qH0XD4gITIhukQUbXqOhYk1Smmp95Ex17XVFOiViNw5TjU0tSwNdDTcxuTeuHAY7kWN3We6yrVKr2EHaabJ7VmflOdItxuFw1t55qSwVikJCKOzzvmCChSWIJdqmjifUrSt7OoStqp6fEWnhYZWk2QS37z0tljX |\n",
       "| 238267 | point(\"-117.28437550489467,34.114246342027826\") | OfTcO3pVaKFeBjy8h1hIEA5iaeQvd4zgRh7c2Wwo3rqC2FtMvwgfFIRq86zS2KpbDF25rihm4DKdiL5SOOQTBUY35BnVSg4c0q5UELYfUWB2W5dmA3IjKrhBcBxEcPmG3bj3mw3XVM3uZZc4Kea1k57vT0FAoerbyjDcCPRe1FmwN75kaq4geQfLpWmup0jDayfuK5niuw0Bo9wo3puV9cZEdSGfHxEypZvSfol8s9nnEM1qUUQ0KSct1y |\n",
       "| 130264 |  point(\"-83.69704215677237,41.71782106521608\")  | lyfEHeBG5vQUjQe8Vv7ZlezGU7SIiHnfQ1y6N8lyWrbL0R8eNoFQPn9FqPYKAqQhxUxeMhahK7WofTEdYZWd5CkHuanqzXIe97gUV1nypcxnbrwBo3YLMfUlgXKOVV5tHJGkvh4cvNyEk7oopo5f34J4idw9dUfmvspNOIuaQBKYpZ5BogdQb8BN7wbyuHalOo8jy7YsSY8gR6yoOAv04RbAA9jwaFT2m8CCmHJ7oaoIerGI73h4X41HVi |\n",
       "| 13305  |  point(\"-70.88601036685225,18.564127708683035\") | I6qwsDmxagtQcVKULuxvS9fqncYSi8je42gEzldrEojvpOWsh391TtBLKD3PSmEaG4cjRfnj6GauQ6qa06lka4TSCncO6xzpmY86ORDJ2ghjiBgi0N9zD2b0RxJ0jmmQlgpmjlZEs4PVc3mRqBXv2gFK7IoeyCX1Yvsi7rfldrl1hcvWpcBX7DVUgACmGEkF6PTgrxAPMhvIPKGh9H88jtnvpoqNP2zcEIPu2nNLRChMQVqSPz3O5Q8TI2 |\n",
       "+--------+-------------------------------------------------+------------------------------------------------------------------------------------------------------------------------------------------------------------------------------------------------------------------------------------------------------------+\n",
       "Truncated to displaylimit of 10."
      ]
     },
     "execution_count": 18,
     "metadata": {},
     "output_type": "execute_result"
    }
   ],
   "source": [
    "%sql SELECT * FROM point_data_centroid"
   ]
  },
  {
   "cell_type": "code",
   "execution_count": 19,
   "id": "cd60fc50",
   "metadata": {},
   "outputs": [
    {
     "data": {
      "text/html": [
       "<span style=\"None\">Running query in &#x27;duckdb&#x27;</span>"
      ],
      "text/plain": [
       "Running query in 'duckdb'"
      ]
     },
     "metadata": {},
     "output_type": "display_data"
    },
    {
     "data": {
      "text/html": [
       "<table>\n",
       "    <thead>\n",
       "        <tr>\n",
       "            <th>count_star()</th>\n",
       "        </tr>\n",
       "    </thead>\n",
       "    <tbody>\n",
       "        <tr>\n",
       "            <td>402325</td>\n",
       "        </tr>\n",
       "    </tbody>\n",
       "</table>"
      ],
      "text/plain": [
       "+--------------+\n",
       "| count_star() |\n",
       "+--------------+\n",
       "|    402325    |\n",
       "+--------------+"
      ]
     },
     "execution_count": 19,
     "metadata": {},
     "output_type": "execute_result"
    }
   ],
   "source": [
    "%%sql\n",
    "SELECT COUNT(*) FROM point_data_centroid as data;"
   ]
  },
  {
   "cell_type": "code",
   "execution_count": 20,
   "id": "717a2dad",
   "metadata": {},
   "outputs": [
    {
     "data": {
      "text/html": [
       "<span style=\"None\">Running query in &#x27;duckdb&#x27;</span>"
      ],
      "text/plain": [
       "Running query in 'duckdb'"
      ]
     },
     "metadata": {},
     "output_type": "display_data"
    },
    {
     "data": {
      "text/html": [
       "<table>\n",
       "    <thead>\n",
       "        <tr>\n",
       "            <th>column_name</th>\n",
       "            <th>column_type</th>\n",
       "            <th>min</th>\n",
       "            <th>max</th>\n",
       "            <th>approx_unique</th>\n",
       "            <th>avg</th>\n",
       "            <th>std</th>\n",
       "            <th>q25</th>\n",
       "            <th>q50</th>\n",
       "            <th>q75</th>\n",
       "            <th>count</th>\n",
       "            <th>null_percentage</th>\n",
       "        </tr>\n",
       "    </thead>\n",
       "    <tbody>\n",
       "        <tr>\n",
       "            <td>id</td>\n",
       "            <td>BIGINT</td>\n",
       "            <td>1</td>\n",
       "            <td>402325</td>\n",
       "            <td>377825</td>\n",
       "            <td>201163.0</td>\n",
       "            <td>116141.36786333578</td>\n",
       "            <td>100825</td>\n",
       "            <td>201153</td>\n",
       "            <td>301840</td>\n",
       "            <td>402325</td>\n",
       "            <td>0.00</td>\n",
       "        </tr>\n",
       "        <tr>\n",
       "            <td>location</td>\n",
       "            <td>VARCHAR</td>\n",
       "            <td>point(\"-0.00022686332641463965,44.553858467915205\")</td>\n",
       "            <td>point(\"99.99367990063318,9.730698042662416\")</td>\n",
       "            <td>327363</td>\n",
       "            <td>None</td>\n",
       "            <td>None</td>\n",
       "            <td>None</td>\n",
       "            <td>None</td>\n",
       "            <td>None</td>\n",
       "            <td>402325</td>\n",
       "            <td>0.00</td>\n",
       "        </tr>\n",
       "        <tr>\n",
       "            <td>description</td>\n",
       "            <td>VARCHAR</td>\n",
       "            <td>0006Lph3A7Vu5c61AVwif7tinSPLGwKSha4dcZ9pT9gA2uxxd1Otuiia4r5Nfw4xMlC4SxEZIkU03MSWFiRNoSjbSiAQbMq0GzSAtrniUS1WObfqmJUuqXdu7G0aCc3cQfpiCGh28935vntmuAfV0lltjMlaviVPp9UH2RGMJGWnk4RnVxM1nA7j0l39Paoz5i2PrmGlWLtqc9clXKQrUcDcBPOcswJMM2gS994pifqesbmz33niFaKvEa</td>\n",
       "            <td>zzxiklsHLTZYEZfHkGDhm4hhJQQNh8o44aKXhK6W6zWmriVELVya6KAFvFyDDmOVoh9dBaaV8euSfzGkFTfJtRFpZPa0kMEuG35vzNRx561BjroZUKZ20z9gftdCyga3GML20IKRsxwgDzkDzwMgBzIMO12qRUwSIXchhfJG7DwB4lsJupiIHn6CSVOIDV4bCYvd1tZMjaOmw76QuUNavsryBbOoLhWzNcTmF6nNfcXieSpemwXa7L6pob</td>\n",
       "            <td>420489</td>\n",
       "            <td>None</td>\n",
       "            <td>None</td>\n",
       "            <td>None</td>\n",
       "            <td>None</td>\n",
       "            <td>None</td>\n",
       "            <td>402325</td>\n",
       "            <td>0.00</td>\n",
       "        </tr>\n",
       "    </tbody>\n",
       "</table>"
      ],
      "text/plain": [
       "+-------------+-------------+------------------------------------------------------------------------------------------------------------------------------------------------------------------------------------------------------------------------------------------------------------+------------------------------------------------------------------------------------------------------------------------------------------------------------------------------------------------------------------------------------------------------------+---------------+----------+--------------------+--------+--------+--------+--------+-----------------+\n",
       "| column_name | column_type |                                                                                                                            min                                                                                                                             |                                                                                                                            max                                                                                                                             | approx_unique |   avg    |        std         |  q25   |  q50   |  q75   | count  | null_percentage |\n",
       "+-------------+-------------+------------------------------------------------------------------------------------------------------------------------------------------------------------------------------------------------------------------------------------------------------------+------------------------------------------------------------------------------------------------------------------------------------------------------------------------------------------------------------------------------------------------------------+---------------+----------+--------------------+--------+--------+--------+--------+-----------------+\n",
       "|      id     |    BIGINT   |                                                                                                                             1                                                                                                                              |                                                                                                                           402325                                                                                                                           |     377825    | 201163.0 | 116141.36786333578 | 100825 | 201153 | 301840 | 402325 |       0.00      |\n",
       "|   location  |   VARCHAR   |                                                                                                    point(\"-0.00022686332641463965,44.553858467915205\")                                                                                                     |                                                                                                        point(\"99.99367990063318,9.730698042662416\")                                                                                                        |     327363    |   None   |        None        |  None  |  None  |  None  | 402325 |       0.00      |\n",
       "| description |   VARCHAR   | 0006Lph3A7Vu5c61AVwif7tinSPLGwKSha4dcZ9pT9gA2uxxd1Otuiia4r5Nfw4xMlC4SxEZIkU03MSWFiRNoSjbSiAQbMq0GzSAtrniUS1WObfqmJUuqXdu7G0aCc3cQfpiCGh28935vntmuAfV0lltjMlaviVPp9UH2RGMJGWnk4RnVxM1nA7j0l39Paoz5i2PrmGlWLtqc9clXKQrUcDcBPOcswJMM2gS994pifqesbmz33niFaKvEa | zzxiklsHLTZYEZfHkGDhm4hhJQQNh8o44aKXhK6W6zWmriVELVya6KAFvFyDDmOVoh9dBaaV8euSfzGkFTfJtRFpZPa0kMEuG35vzNRx561BjroZUKZ20z9gftdCyga3GML20IKRsxwgDzkDzwMgBzIMO12qRUwSIXchhfJG7DwB4lsJupiIHn6CSVOIDV4bCYvd1tZMjaOmw76QuUNavsryBbOoLhWzNcTmF6nNfcXieSpemwXa7L6pob |     420489    |   None   |        None        |  None  |  None  |  None  | 402325 |       0.00      |\n",
       "+-------------+-------------+------------------------------------------------------------------------------------------------------------------------------------------------------------------------------------------------------------------------------------------------------------+------------------------------------------------------------------------------------------------------------------------------------------------------------------------------------------------------------------------------------------------------------+---------------+----------+--------------------+--------+--------+--------+--------+-----------------+"
      ]
     },
     "execution_count": 20,
     "metadata": {},
     "output_type": "execute_result"
    }
   ],
   "source": [
    "%%sql\n",
    "SUMMARIZE point_data_centroid"
   ]
  },
  {
   "cell_type": "code",
   "execution_count": 24,
   "id": "7433f461",
   "metadata": {},
   "outputs": [
    {
     "name": "stdout",
     "output_type": "stream",
     "text": [
      "Exporting to cemetery.json\n",
      "Exporting to ./data/json/cemetery.json\n"
     ]
    },
    {
     "data": {
      "text/html": [
       "<span style=\"None\">Running query in &#x27;duckdb&#x27;</span>"
      ],
      "text/plain": [
       "Running query in 'duckdb'"
      ]
     },
     "metadata": {},
     "output_type": "display_data"
    },
    {
     "data": {
      "text/html": [
       "<table>\n",
       "    <thead>\n",
       "        <tr>\n",
       "            <th>Count</th>\n",
       "        </tr>\n",
       "    </thead>\n",
       "    <tbody>\n",
       "    </tbody>\n",
       "</table>"
      ],
      "text/plain": [
       "+-------+\n",
       "| Count |\n",
       "+-------+\n",
       "+-------+"
      ]
     },
     "execution_count": 24,
     "metadata": {},
     "output_type": "execute_result"
    }
   ],
   "source": [
    "export_filename = input_filename.replace(\".geojson\", \".json\")\n",
    "export_path = \"./data/json/\" + export_filename\n",
    "\n",
    "os.makedirs(os.path.dirname(export_path), exist_ok=True)\n",
    "\n",
    "print(f\"Exporting to {export_filename}\")\n",
    "print(f\"Exporting to {export_path}\")\n",
    "\n",
    "%sql COPY (SELECT * FROM point_data_centroid) TO '{{export_path}}' (FORMAT JSON);"
   ]
  },
  {
   "cell_type": "code",
   "execution_count": 25,
   "id": "275a0379",
   "metadata": {},
   "outputs": [],
   "source": [
    "# replace \"point(\\\"<valueX>,<valueY>\\\")\" with point(\"139.6499560172321,35.57251104983658\")\n",
    "new_export_path = export_path.replace(\"json\", \"adm\")\n",
    "with open(new_export_path, \"w\") as f:\n",
    "    for row in open(export_path, \"r\").readlines():\n",
    "        new_row = row.replace('location\":\"point(\\\\\"', 'location\":point(\"').replace('\\\\\")\",\"description\"', '\"),\"description\"')\n",
    "        f.write(new_row)"
   ]
  }
 ],
 "metadata": {
  "kernelspec": {
   "display_name": "venv",
   "language": "python",
   "name": "python3"
  },
  "language_info": {
   "codemirror_mode": {
    "name": "ipython",
    "version": 3
   },
   "file_extension": ".py",
   "mimetype": "text/x-python",
   "name": "python",
   "nbconvert_exporter": "python",
   "pygments_lexer": "ipython3",
   "version": "3.13.3"
  }
 },
 "nbformat": 4,
 "nbformat_minor": 5
}
