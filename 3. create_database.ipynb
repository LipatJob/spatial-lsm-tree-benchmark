{
 "cells": [
  {
   "cell_type": "code",
   "execution_count": null,
   "id": "ec5ec80f",
   "metadata": {},
   "outputs": [],
   "source": [
    "dbHost = \"http://localhost:19002\"\n"
   ]
  },
  {
   "cell_type": "code",
   "execution_count": null,
   "id": "c77185fa",
   "metadata": {},
   "outputs": [
    {
     "name": "stdout",
     "output_type": "stream",
     "text": [
      "{\n",
      "\t\"requestID\": \"6c689ba4-34ea-44c7-b81b-ce355b37edca\",\n",
      "\t\"plans\":{},\n",
      "\t\"status\": \"success\",\n",
      "\t\"metrics\": {\n",
      "\t\t\"elapsedTime\": \"914.553333ms\",\n",
      "\t\t\"executionTime\": \"746.195042ms\",\n",
      "\t\t\"compileTime\": \"0ns\",\n",
      "\t\t\"queueWaitTime\": \"0ns\",\n",
      "\t\t\"resultCount\": 0,\n",
      "\t\t\"resultSize\": 0,\n",
      "\t\t\"processedObjects\": 0,\n",
      "\t\t\"bufferCacheHitRatio\": \"0.00%\",\n",
      "\t\t\"bufferCachePageReadCount\": 0\n",
      "\t}\n",
      "}\n",
      "\n"
     ]
    }
   ],
   "source": [
    "import requests;\n"
   ]
  }
 ],
 "metadata": {
  "kernelspec": {
   "display_name": "venv",
   "language": "python",
   "name": "python3"
  },
  "language_info": {
   "codemirror_mode": {
    "name": "ipython",
    "version": 3
   },
   "file_extension": ".py",
   "mimetype": "text/x-python",
   "name": "python",
   "nbconvert_exporter": "python",
   "pygments_lexer": "ipython3",
   "version": "3.13.3"
  }
 },
 "nbformat": 4,
 "nbformat_minor": 5
}
