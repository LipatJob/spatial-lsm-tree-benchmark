{
 "cells": [
  {
   "cell_type": "code",
   "execution_count": null,
   "id": "5f4ad456",
   "metadata": {},
   "outputs": [],
   "source": [
    "dataverse = \"LocationDb\"\n",
    "table_name = \"Locations_RTree_Constant\""
   ]
  },
  {
   "cell_type": "code",
   "execution_count": null,
   "id": "f5c30edd",
   "metadata": {},
   "outputs": [],
   "source": [
    "import requests\n",
    "\n",
    "dbHost = \"http://localhost:19002\"\n",
    "adm_path = \"/opt/asterixdb/datasets/adm/sports.adm\"\n",
    "\n",
    "load_command = f\"\"\"\n",
    "USE LocationDb; \n",
    "LOAD DATASET Locations_RTree_Constant USING localfs\n",
    "    ((\"path\"=\"127.0.0.1:///{adm_path}\"),(\"format\"=\"adm\"));\n",
    "\"\"\"\n",
    "response = requests.post(f\"{dbHost}/query/service\", data={'statement': load_command})\n",
    "print(response.text)"
   ]
  },
  {
   "cell_type": "code",
   "execution_count": null,
   "id": "81db8129",
   "metadata": {},
   "outputs": [],
   "source": [
    "count_command = f\"\"\"\n",
    "USE {dataverse};\n",
    "SELECT COUNT(*) FROM {table_name};\n",
    "\"\"\"\n",
    "response = requests.post(f\"{dbHost}/query/service\", data={'statement': count_command})\n",
    "print(response.json()[\"results\"])"
   ]
  },
  {
   "cell_type": "code",
   "execution_count": null,
   "id": "acb2b250",
   "metadata": {},
   "outputs": [],
   "source": [
    "csv_path = \"./data/csv/sports.csv\"\n",
    "query_count = 100_000\n",
    "\n",
    "with open(csv_path, 'r') as f:\n",
    "    f.readline()\n",
    "    for index, line in enumerate(f):\n",
    "        if index >= query_count:\n",
    "            break\n",
    "        line = line.strip()\n",
    "        if not line:\n",
    "            continue\n",
    "        line_parts = line.split(\",\")\n",
    "        point = (line_parts[1], line_parts[2])\n",
    "        points_to_query.append(point)\n",
    "\n"
   ]
  },
  {
   "cell_type": "code",
   "execution_count": null,
   "id": "35a6da80",
   "metadata": {},
   "outputs": [],
   "source": [
    "import random\n",
    "from utils import point, rectangle, create_offset_rectangle\n",
    "query_benchmark_plan_path = f\"commands/benchmark_query_plan_{dataverse}_{table_name}_{query_count}.sql\"\n",
    "\n",
    "with open(query_benchmark_plan_path, 'w') as f:\n",
    "    for _ in range(query_count):\n",
    "        x, y = random.uniform(-700, 700), random.uniform(-700, 700)\n",
    "        offset_factor = 2\n",
    "        offset_x, offset_y = random.uniform(1, offset_factor), random.uniform(1, offset_factor)\n",
    "        start_x, start_y, end_x, end_y = (x-offset_x, y-offset_y, x+offset_x, y+offset_y)\n",
    "        query = f\"SELECT * FROM {table_name} WHERE spatial_intersect(location, create_rectangle(create_point({start_x},{start_y}), create_point({end_x},{end_y})));\"\n",
    "        f.write(query + \"\\n\") "
   ]
  },
  {
   "cell_type": "code",
   "execution_count": null,
   "id": "2546332f",
   "metadata": {},
   "outputs": [],
   "source": [
    "from utils import Logger\n",
    "\n",
    "logs_filename_parts = [table_name, query_count]\n",
    "logger = Logger(logs_filename_parts, True)\n",
    "with open(query_benchmark_plan_path, 'r') as f:\n",
    "    lines = f.readlines()\n",
    "    for line in lines:\n",
    "        line = line.strip()\n",
    "        if not line:\n",
    "            continue\n",
    "        response = requests.post(f\"{dbHost}/query/service\", data={'statement': line, 'dataverse': dataverse,})\n",
    "        json_response = response.json()\n",
    "        if response.status_code != 200:\n",
    "            logger.error({\n",
    "                \"status\": json_response.get(\"status\"),\n",
    "                \"http.status\": response.status_code,\n",
    "                \"metrics\": json_response.get(\"metrics\"),\n",
    "                \"error\": json_response.get(\"errors\"),\n",
    "            })\n",
    "        else:\n",
    "            logger.log({\n",
    "                \"status\": json_response.get(\"status\"),\n",
    "                \"http.status\": response.status_code,\n",
    "                \"result_count\": len(json_response.get(\"results\", [])) if json_response.get(\"results\") else None,\n",
    "                \"metrics\": json_response.get(\"metrics\"),\n",
    "            })"
   ]
  }
 ],
 "metadata": {
  "kernelspec": {
   "display_name": "venv",
   "language": "python",
   "name": "python3"
  },
  "language_info": {
   "codemirror_mode": {
    "name": "ipython",
    "version": 3
   },
   "file_extension": ".py",
   "mimetype": "text/x-python",
   "name": "python",
   "nbconvert_exporter": "python",
   "pygments_lexer": "ipython3",
   "version": "3.13.3"
  }
 },
 "nbformat": 4,
 "nbformat_minor": 5
}
